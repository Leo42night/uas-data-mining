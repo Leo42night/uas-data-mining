{
 "cells": [
  {
   "cell_type": "code",
   "execution_count": 1,
   "id": "954a09d3",
   "metadata": {},
   "outputs": [],
   "source": [
    "# Load Library\n",
    "import pandas as pd\n",
    "import numpy as np\n",
    "import matplotlib.pyplot as plt\n",
    "import seaborn as sns\n",
    "\n",
    "# Geo Map\n",
    "from geopy.geocoders import Nominatim\n",
    "from geopy.extra.rate_limiter import RateLimiter\n",
    "import plotly.express as px\n",
    "\n",
    "df_salesv2 = pd.read_csv('csv/fact_sales_v2.csv', sep=';', encoding='utf-8') # digunakan pada: geomap model asosiasi"
   ]
  },
  {
   "cell_type": "code",
   "execution_count": 7,
   "id": "8595cb79",
   "metadata": {},
   "outputs": [
    {
     "data": {
      "text/html": [
       "<div>\n",
       "<style scoped>\n",
       "    .dataframe tbody tr th:only-of-type {\n",
       "        vertical-align: middle;\n",
       "    }\n",
       "\n",
       "    .dataframe tbody tr th {\n",
       "        vertical-align: top;\n",
       "    }\n",
       "\n",
       "    .dataframe thead th {\n",
       "        text-align: right;\n",
       "    }\n",
       "</style>\n",
       "<table border=\"1\" class=\"dataframe\">\n",
       "  <thead>\n",
       "    <tr style=\"text-align: right;\">\n",
       "      <th></th>\n",
       "      <th>order_id</th>\n",
       "      <th>order_date</th>\n",
       "      <th>product_id</th>\n",
       "      <th>order_item_name</th>\n",
       "      <th>total_sales</th>\n",
       "      <th>order_item_type</th>\n",
       "      <th>product_qty</th>\n",
       "      <th>product_net_revenue</th>\n",
       "      <th>customer_id</th>\n",
       "      <th>first_name</th>\n",
       "      <th>last_name</th>\n",
       "      <th>email</th>\n",
       "      <th>city</th>\n",
       "      <th>state</th>\n",
       "    </tr>\n",
       "  </thead>\n",
       "  <tbody>\n",
       "    <tr>\n",
       "      <th>0</th>\n",
       "      <td>1181</td>\n",
       "      <td>2025-05-10 08:17:14</td>\n",
       "      <td>1010</td>\n",
       "      <td>Hosofshopaholic - Darel Skirt</td>\n",
       "      <td>7</td>\n",
       "      <td>line_item</td>\n",
       "      <td>1</td>\n",
       "      <td>160000</td>\n",
       "      <td>110</td>\n",
       "      <td>Claresta</td>\n",
       "      <td>Alway</td>\n",
       "      <td>calway1z@wix.com</td>\n",
       "      <td>Tapanuli Tengah</td>\n",
       "      <td>SU</td>\n",
       "    </tr>\n",
       "    <tr>\n",
       "      <th>1</th>\n",
       "      <td>1180</td>\n",
       "      <td>2025-05-10 08:13:52</td>\n",
       "      <td>986</td>\n",
       "      <td>ECINOS - Philia Oversized Linen Shirt</td>\n",
       "      <td>2</td>\n",
       "      <td>line_item</td>\n",
       "      <td>1</td>\n",
       "      <td>269000</td>\n",
       "      <td>109</td>\n",
       "      <td>Blythe</td>\n",
       "      <td>Aspinal</td>\n",
       "      <td>baspinal1y@fc2.com</td>\n",
       "      <td>Indragiri Hilir</td>\n",
       "      <td>RI</td>\n",
       "    </tr>\n",
       "    <tr>\n",
       "      <th>2</th>\n",
       "      <td>1179</td>\n",
       "      <td>2025-05-10 08:10:36</td>\n",
       "      <td>883</td>\n",
       "      <td>Voal Motif Printing Sublim Segiempat Premium</td>\n",
       "      <td>3</td>\n",
       "      <td>line_item</td>\n",
       "      <td>1</td>\n",
       "      <td>31000</td>\n",
       "      <td>108</td>\n",
       "      <td>Alix</td>\n",
       "      <td>Kirkup</td>\n",
       "      <td>akirkup1x@parallels.com</td>\n",
       "      <td>Makassar</td>\n",
       "      <td>SS</td>\n",
       "    </tr>\n",
       "    <tr>\n",
       "      <th>3</th>\n",
       "      <td>1178</td>\n",
       "      <td>2025-05-10 08:08:08</td>\n",
       "      <td>856</td>\n",
       "      <td>URBAN&amp;CO BASIC Sandal Wanita Sendal Teplek Cas...</td>\n",
       "      <td>3</td>\n",
       "      <td>line_item</td>\n",
       "      <td>1</td>\n",
       "      <td>151900</td>\n",
       "      <td>107</td>\n",
       "      <td>Morgana</td>\n",
       "      <td>Randal</td>\n",
       "      <td>mrandal1w@latimes.com</td>\n",
       "      <td>Palembang</td>\n",
       "      <td>SS</td>\n",
       "    </tr>\n",
       "    <tr>\n",
       "      <th>4</th>\n",
       "      <td>1177</td>\n",
       "      <td>2025-05-10 08:01:50</td>\n",
       "      <td>860</td>\n",
       "      <td>SHOEBALI Heels 021-218</td>\n",
       "      <td>4</td>\n",
       "      <td>line_item</td>\n",
       "      <td>1</td>\n",
       "      <td>215000</td>\n",
       "      <td>106</td>\n",
       "      <td>Harcourt</td>\n",
       "      <td>Clayson</td>\n",
       "      <td>hclayson1v@yahoo.com</td>\n",
       "      <td>Denpasar</td>\n",
       "      <td>BA</td>\n",
       "    </tr>\n",
       "  </tbody>\n",
       "</table>\n",
       "</div>"
      ],
      "text/plain": [
       "   order_id           order_date  product_id  \\\n",
       "0      1181  2025-05-10 08:17:14        1010   \n",
       "1      1180  2025-05-10 08:13:52         986   \n",
       "2      1179  2025-05-10 08:10:36         883   \n",
       "3      1178  2025-05-10 08:08:08         856   \n",
       "4      1177  2025-05-10 08:01:50         860   \n",
       "\n",
       "                                     order_item_name total_sales  \\\n",
       "0                      Hosofshopaholic - Darel Skirt           7   \n",
       "1              ECINOS - Philia Oversized Linen Shirt           2   \n",
       "2       Voal Motif Printing Sublim Segiempat Premium           3   \n",
       "3  URBAN&CO BASIC Sandal Wanita Sendal Teplek Cas...           3   \n",
       "4                             SHOEBALI Heels 021-218           4   \n",
       "\n",
       "  order_item_type  product_qty  product_net_revenue  customer_id first_name  \\\n",
       "0       line_item            1               160000          110   Claresta   \n",
       "1       line_item            1               269000          109     Blythe   \n",
       "2       line_item            1                31000          108       Alix   \n",
       "3       line_item            1               151900          107    Morgana   \n",
       "4       line_item            1               215000          106   Harcourt   \n",
       "\n",
       "  last_name                    email             city state  \n",
       "0     Alway         calway1z@wix.com  Tapanuli Tengah    SU  \n",
       "1   Aspinal       baspinal1y@fc2.com  Indragiri Hilir    RI  \n",
       "2    Kirkup  akirkup1x@parallels.com         Makassar    SS  \n",
       "3    Randal    mrandal1w@latimes.com        Palembang    SS  \n",
       "4   Clayson     hclayson1v@yahoo.com         Denpasar    BA  "
      ]
     },
     "metadata": {},
     "output_type": "display_data"
    },
    {
     "data": {
      "text/html": [
       "<div>\n",
       "<style scoped>\n",
       "    .dataframe tbody tr th:only-of-type {\n",
       "        vertical-align: middle;\n",
       "    }\n",
       "\n",
       "    .dataframe tbody tr th {\n",
       "        vertical-align: top;\n",
       "    }\n",
       "\n",
       "    .dataframe thead th {\n",
       "        text-align: right;\n",
       "    }\n",
       "</style>\n",
       "<table border=\"1\" class=\"dataframe\">\n",
       "  <thead>\n",
       "    <tr style=\"text-align: right;\">\n",
       "      <th></th>\n",
       "      <th>order_id</th>\n",
       "      <th>order_date</th>\n",
       "      <th>product_id</th>\n",
       "      <th>order_item_name</th>\n",
       "      <th>total_sales</th>\n",
       "      <th>order_item_type</th>\n",
       "      <th>product_qty</th>\n",
       "      <th>product_net_revenue</th>\n",
       "      <th>customer_id</th>\n",
       "      <th>first_name</th>\n",
       "      <th>last_name</th>\n",
       "      <th>email</th>\n",
       "      <th>city</th>\n",
       "      <th>state</th>\n",
       "    </tr>\n",
       "  </thead>\n",
       "  <tbody>\n",
       "    <tr>\n",
       "      <th>0</th>\n",
       "      <td>1181</td>\n",
       "      <td>2025-05-10 08:17:14</td>\n",
       "      <td>1010</td>\n",
       "      <td>Hosofshopaholic - Darel Skirt</td>\n",
       "      <td>7</td>\n",
       "      <td>line_item</td>\n",
       "      <td>1</td>\n",
       "      <td>160000</td>\n",
       "      <td>110</td>\n",
       "      <td>Claresta</td>\n",
       "      <td>Alway</td>\n",
       "      <td>calway1z@wix.com</td>\n",
       "      <td>Tapanuli Tengah</td>\n",
       "      <td>SU</td>\n",
       "    </tr>\n",
       "    <tr>\n",
       "      <th>1</th>\n",
       "      <td>1180</td>\n",
       "      <td>2025-05-10 08:13:52</td>\n",
       "      <td>986</td>\n",
       "      <td>ECINOS - Philia Oversized Linen Shirt</td>\n",
       "      <td>2</td>\n",
       "      <td>line_item</td>\n",
       "      <td>1</td>\n",
       "      <td>269000</td>\n",
       "      <td>109</td>\n",
       "      <td>Blythe</td>\n",
       "      <td>Aspinal</td>\n",
       "      <td>baspinal1y@fc2.com</td>\n",
       "      <td>Indragiri Hilir</td>\n",
       "      <td>RI</td>\n",
       "    </tr>\n",
       "    <tr>\n",
       "      <th>2</th>\n",
       "      <td>1179</td>\n",
       "      <td>2025-05-10 08:10:36</td>\n",
       "      <td>883</td>\n",
       "      <td>Voal Motif Printing Sublim Segiempat Premium</td>\n",
       "      <td>3</td>\n",
       "      <td>line_item</td>\n",
       "      <td>1</td>\n",
       "      <td>31000</td>\n",
       "      <td>108</td>\n",
       "      <td>Alix</td>\n",
       "      <td>Kirkup</td>\n",
       "      <td>akirkup1x@parallels.com</td>\n",
       "      <td>Makassar</td>\n",
       "      <td>SS</td>\n",
       "    </tr>\n",
       "    <tr>\n",
       "      <th>3</th>\n",
       "      <td>1178</td>\n",
       "      <td>2025-05-10 08:08:08</td>\n",
       "      <td>856</td>\n",
       "      <td>URBAN&amp;CO BASIC Sandal Wanita Sendal Teplek Cas...</td>\n",
       "      <td>3</td>\n",
       "      <td>line_item</td>\n",
       "      <td>1</td>\n",
       "      <td>151900</td>\n",
       "      <td>107</td>\n",
       "      <td>Morgana</td>\n",
       "      <td>Randal</td>\n",
       "      <td>mrandal1w@latimes.com</td>\n",
       "      <td>Palembang</td>\n",
       "      <td>SS</td>\n",
       "    </tr>\n",
       "    <tr>\n",
       "      <th>4</th>\n",
       "      <td>1177</td>\n",
       "      <td>2025-05-10 08:01:50</td>\n",
       "      <td>860</td>\n",
       "      <td>SHOEBALI Heels 021-218</td>\n",
       "      <td>4</td>\n",
       "      <td>line_item</td>\n",
       "      <td>1</td>\n",
       "      <td>215000</td>\n",
       "      <td>106</td>\n",
       "      <td>Harcourt</td>\n",
       "      <td>Clayson</td>\n",
       "      <td>hclayson1v@yahoo.com</td>\n",
       "      <td>Denpasar</td>\n",
       "      <td>BA</td>\n",
       "    </tr>\n",
       "  </tbody>\n",
       "</table>\n",
       "</div>"
      ],
      "text/plain": [
       "   order_id           order_date  product_id  \\\n",
       "0      1181  2025-05-10 08:17:14        1010   \n",
       "1      1180  2025-05-10 08:13:52         986   \n",
       "2      1179  2025-05-10 08:10:36         883   \n",
       "3      1178  2025-05-10 08:08:08         856   \n",
       "4      1177  2025-05-10 08:01:50         860   \n",
       "\n",
       "                                     order_item_name total_sales  \\\n",
       "0                      Hosofshopaholic - Darel Skirt           7   \n",
       "1              ECINOS - Philia Oversized Linen Shirt           2   \n",
       "2       Voal Motif Printing Sublim Segiempat Premium           3   \n",
       "3  URBAN&CO BASIC Sandal Wanita Sendal Teplek Cas...           3   \n",
       "4                             SHOEBALI Heels 021-218           4   \n",
       "\n",
       "  order_item_type  product_qty  product_net_revenue  customer_id first_name  \\\n",
       "0       line_item            1               160000          110   Claresta   \n",
       "1       line_item            1               269000          109     Blythe   \n",
       "2       line_item            1                31000          108       Alix   \n",
       "3       line_item            1               151900          107    Morgana   \n",
       "4       line_item            1               215000          106   Harcourt   \n",
       "\n",
       "  last_name                    email             city state  \n",
       "0     Alway         calway1z@wix.com  Tapanuli Tengah    SU  \n",
       "1   Aspinal       baspinal1y@fc2.com  Indragiri Hilir    RI  \n",
       "2    Kirkup  akirkup1x@parallels.com         Makassar    SS  \n",
       "3    Randal    mrandal1w@latimes.com        Palembang    SS  \n",
       "4   Clayson     hclayson1v@yahoo.com         Denpasar    BA  "
      ]
     },
     "metadata": {},
     "output_type": "display_data"
    },
    {
     "data": {
      "text/html": [
       "<div>\n",
       "<style scoped>\n",
       "    .dataframe tbody tr th:only-of-type {\n",
       "        vertical-align: middle;\n",
       "    }\n",
       "\n",
       "    .dataframe tbody tr th {\n",
       "        vertical-align: top;\n",
       "    }\n",
       "\n",
       "    .dataframe thead th {\n",
       "        text-align: right;\n",
       "    }\n",
       "</style>\n",
       "<table border=\"1\" class=\"dataframe\">\n",
       "  <thead>\n",
       "    <tr style=\"text-align: right;\">\n",
       "      <th></th>\n",
       "      <th>city</th>\n",
       "      <th>transaction_count</th>\n",
       "    </tr>\n",
       "  </thead>\n",
       "  <tbody>\n",
       "    <tr>\n",
       "      <th>0</th>\n",
       "      <td>Pontianak</td>\n",
       "      <td>58</td>\n",
       "    </tr>\n",
       "    <tr>\n",
       "      <th>1</th>\n",
       "      <td>Medan</td>\n",
       "      <td>5</td>\n",
       "    </tr>\n",
       "    <tr>\n",
       "      <th>2</th>\n",
       "      <td>Yogyakarta</td>\n",
       "      <td>5</td>\n",
       "    </tr>\n",
       "    <tr>\n",
       "      <th>3</th>\n",
       "      <td>Bandung</td>\n",
       "      <td>5</td>\n",
       "    </tr>\n",
       "    <tr>\n",
       "      <th>4</th>\n",
       "      <td>Jakarta</td>\n",
       "      <td>4</td>\n",
       "    </tr>\n",
       "  </tbody>\n",
       "</table>\n",
       "</div>"
      ],
      "text/plain": [
       "         city  transaction_count\n",
       "0   Pontianak                 58\n",
       "1       Medan                  5\n",
       "2  Yogyakarta                  5\n",
       "3     Bandung                  5\n",
       "4     Jakarta                  4"
      ]
     },
     "metadata": {},
     "output_type": "display_data"
    },
    {
     "data": {
      "text/html": [
       "<div>\n",
       "<style scoped>\n",
       "    .dataframe tbody tr th:only-of-type {\n",
       "        vertical-align: middle;\n",
       "    }\n",
       "\n",
       "    .dataframe tbody tr th {\n",
       "        vertical-align: top;\n",
       "    }\n",
       "\n",
       "    .dataframe thead th {\n",
       "        text-align: right;\n",
       "    }\n",
       "</style>\n",
       "<table border=\"1\" class=\"dataframe\">\n",
       "  <thead>\n",
       "    <tr style=\"text-align: right;\">\n",
       "      <th></th>\n",
       "      <th>city</th>\n",
       "      <th>most_bought_product</th>\n",
       "      <th>count</th>\n",
       "    </tr>\n",
       "  </thead>\n",
       "  <tbody>\n",
       "    <tr>\n",
       "      <th>0</th>\n",
       "      <td>Bandung</td>\n",
       "      <td>Breakside Polo Shirt Gavriel - Darkgrey Polo S...</td>\n",
       "      <td>1</td>\n",
       "    </tr>\n",
       "    <tr>\n",
       "      <th>8</th>\n",
       "      <td>Banjarmasin</td>\n",
       "      <td>Baju Kaos Roblox anak Laki-laki cowok</td>\n",
       "      <td>1</td>\n",
       "    </tr>\n",
       "    <tr>\n",
       "      <th>15</th>\n",
       "      <td>Bekasi</td>\n",
       "      <td>Compass Velocity Black</td>\n",
       "      <td>1</td>\n",
       "    </tr>\n",
       "    <tr>\n",
       "      <th>17</th>\n",
       "      <td>Denpasar</td>\n",
       "      <td>Jam Tangan Pria Kulit</td>\n",
       "      <td>1</td>\n",
       "    </tr>\n",
       "    <tr>\n",
       "      <th>19</th>\n",
       "      <td>Depok</td>\n",
       "      <td>Atasan Knit Wanita</td>\n",
       "      <td>1</td>\n",
       "    </tr>\n",
       "  </tbody>\n",
       "</table>\n",
       "</div>"
      ],
      "text/plain": [
       "           city                                most_bought_product  count\n",
       "0       Bandung  Breakside Polo Shirt Gavriel - Darkgrey Polo S...      1\n",
       "8   Banjarmasin              Baju Kaos Roblox anak Laki-laki cowok      1\n",
       "15       Bekasi                             Compass Velocity Black      1\n",
       "17     Denpasar                              Jam Tangan Pria Kulit      1\n",
       "19        Depok                                 Atasan Knit Wanita      1"
      ]
     },
     "metadata": {},
     "output_type": "display_data"
    }
   ],
   "source": [
    "df_geocode = df_salesv2.copy(deep=True) # ☠️ Load 32 detik\n",
    "display(df_geocode.head())\n",
    "\n",
    "df_geocode['city'] = df_geocode['city'].str.replace(r'^(Kota|Kabupaten)\\s+', '', case=False, regex=True).str.strip()\n",
    "df_geocode = df_geocode[df_geocode['city'].notnull() & (df_geocode['city'] != '')]\n",
    "display(df_geocode.head())\n",
    "\n",
    "unique_orders = df_geocode[['order_id', 'city']].drop_duplicates()\n",
    "city_transaction_counts = unique_orders['city'].value_counts().reset_index()\n",
    "city_transaction_counts.columns = ['city', 'transaction_count']\n",
    "display(city_transaction_counts.head())\n",
    "\n",
    "most_bought_items = (\n",
    "    df_geocode.groupby(['city', 'order_item_name'])\n",
    "    .size()\n",
    "    .reset_index(name='count')\n",
    "    .sort_values(['city', 'count'], ascending=[True, False])\n",
    "    .drop_duplicates('city')\n",
    "    .rename(columns={'order_item_name': 'most_bought_product'})\n",
    ")\n",
    "\n",
    "display(most_bought_items.head())"
   ]
  },
  {
   "cell_type": "code",
   "execution_count": 8,
   "id": "025845ae",
   "metadata": {},
   "outputs": [
    {
     "data": {
      "text/html": [
       "<div>\n",
       "<style scoped>\n",
       "    .dataframe tbody tr th:only-of-type {\n",
       "        vertical-align: middle;\n",
       "    }\n",
       "\n",
       "    .dataframe tbody tr th {\n",
       "        vertical-align: top;\n",
       "    }\n",
       "\n",
       "    .dataframe thead th {\n",
       "        text-align: right;\n",
       "    }\n",
       "</style>\n",
       "<table border=\"1\" class=\"dataframe\">\n",
       "  <thead>\n",
       "    <tr style=\"text-align: right;\">\n",
       "      <th></th>\n",
       "      <th>city</th>\n",
       "      <th>transaction_count</th>\n",
       "      <th>most_bought_product</th>\n",
       "    </tr>\n",
       "  </thead>\n",
       "  <tbody>\n",
       "    <tr>\n",
       "      <th>0</th>\n",
       "      <td>Pontianak</td>\n",
       "      <td>58</td>\n",
       "      <td>AMOENE [MADE] Long Strap Dress Navy</td>\n",
       "    </tr>\n",
       "    <tr>\n",
       "      <th>1</th>\n",
       "      <td>Medan</td>\n",
       "      <td>5</td>\n",
       "      <td>Jam Tangan Wanita JT 8151</td>\n",
       "    </tr>\n",
       "    <tr>\n",
       "      <th>2</th>\n",
       "      <td>Yogyakarta</td>\n",
       "      <td>5</td>\n",
       "      <td>Arabian Voile (Hijab Voal) | MINIMSLM</td>\n",
       "    </tr>\n",
       "    <tr>\n",
       "      <th>3</th>\n",
       "      <td>Bandung</td>\n",
       "      <td>5</td>\n",
       "      <td>Breakside Polo Shirt Gavriel - Darkgrey Polo S...</td>\n",
       "    </tr>\n",
       "    <tr>\n",
       "      <th>4</th>\n",
       "      <td>Jakarta</td>\n",
       "      <td>4</td>\n",
       "      <td>Baju Kaos Roblox anak Laki-laki cowok</td>\n",
       "    </tr>\n",
       "  </tbody>\n",
       "</table>\n",
       "</div>"
      ],
      "text/plain": [
       "         city  transaction_count  \\\n",
       "0   Pontianak                 58   \n",
       "1       Medan                  5   \n",
       "2  Yogyakarta                  5   \n",
       "3     Bandung                  5   \n",
       "4     Jakarta                  4   \n",
       "\n",
       "                                 most_bought_product  \n",
       "0                AMOENE [MADE] Long Strap Dress Navy  \n",
       "1                          Jam Tangan Wanita JT 8151  \n",
       "2              Arabian Voile (Hijab Voal) | MINIMSLM  \n",
       "3  Breakside Polo Shirt Gavriel - Darkgrey Polo S...  \n",
       "4              Baju Kaos Roblox anak Laki-laki cowok  "
      ]
     },
     "execution_count": 8,
     "metadata": {},
     "output_type": "execute_result"
    }
   ],
   "source": [
    "city_sales = pd.merge(city_transaction_counts, most_bought_items[['city', 'most_bought_product']], on='city', how='left')\n",
    "city_sales.head()"
   ]
  },
  {
   "cell_type": "code",
   "execution_count": 10,
   "id": "1d239791",
   "metadata": {},
   "outputs": [
    {
     "data": {
      "text/html": [
       "<div>\n",
       "<style scoped>\n",
       "    .dataframe tbody tr th:only-of-type {\n",
       "        vertical-align: middle;\n",
       "    }\n",
       "\n",
       "    .dataframe tbody tr th {\n",
       "        vertical-align: top;\n",
       "    }\n",
       "\n",
       "    .dataframe thead th {\n",
       "        text-align: right;\n",
       "    }\n",
       "</style>\n",
       "<table border=\"1\" class=\"dataframe\">\n",
       "  <thead>\n",
       "    <tr style=\"text-align: right;\">\n",
       "      <th></th>\n",
       "      <th>city</th>\n",
       "      <th>transaction_count</th>\n",
       "      <th>most_bought_product</th>\n",
       "      <th>location</th>\n",
       "      <th>latitude</th>\n",
       "      <th>longitude</th>\n",
       "    </tr>\n",
       "  </thead>\n",
       "  <tbody>\n",
       "    <tr>\n",
       "      <th>0</th>\n",
       "      <td>Pontianak</td>\n",
       "      <td>58</td>\n",
       "      <td>AMOENE [MADE] Long Strap Dress Navy</td>\n",
       "      <td>(Pontianak, Kalimantan Barat, Kalimantan, Indo...</td>\n",
       "      <td>-0.022690</td>\n",
       "      <td>109.344749</td>\n",
       "    </tr>\n",
       "    <tr>\n",
       "      <th>1</th>\n",
       "      <td>Medan</td>\n",
       "      <td>5</td>\n",
       "      <td>Jam Tangan Wanita JT 8151</td>\n",
       "      <td>(Kota Medan ᯔᯩᯑᯉ᯲, Sumatera Utara, Sumatera, I...</td>\n",
       "      <td>3.589665</td>\n",
       "      <td>98.673826</td>\n",
       "    </tr>\n",
       "    <tr>\n",
       "      <th>2</th>\n",
       "      <td>Yogyakarta</td>\n",
       "      <td>5</td>\n",
       "      <td>Arabian Voile (Hijab Voal) | MINIMSLM</td>\n",
       "      <td>(Kota Yogyakarta, Daerah Istimewa Yogyakarta, ...</td>\n",
       "      <td>-7.801265</td>\n",
       "      <td>110.364686</td>\n",
       "    </tr>\n",
       "    <tr>\n",
       "      <th>3</th>\n",
       "      <td>Bandung</td>\n",
       "      <td>5</td>\n",
       "      <td>Breakside Polo Shirt Gavriel - Darkgrey Polo S...</td>\n",
       "      <td>(Kota Bandung, Jawa Barat, Jawa, Indonesia, (-...</td>\n",
       "      <td>-6.921553</td>\n",
       "      <td>107.611021</td>\n",
       "    </tr>\n",
       "    <tr>\n",
       "      <th>4</th>\n",
       "      <td>Jakarta</td>\n",
       "      <td>4</td>\n",
       "      <td>Baju Kaos Roblox anak Laki-laki cowok</td>\n",
       "      <td>(Daerah Khusus ibukota Jakarta, Jawa, Indonesi...</td>\n",
       "      <td>-6.175405</td>\n",
       "      <td>106.827168</td>\n",
       "    </tr>\n",
       "  </tbody>\n",
       "</table>\n",
       "</div>"
      ],
      "text/plain": [
       "         city  transaction_count  \\\n",
       "0   Pontianak                 58   \n",
       "1       Medan                  5   \n",
       "2  Yogyakarta                  5   \n",
       "3     Bandung                  5   \n",
       "4     Jakarta                  4   \n",
       "\n",
       "                                 most_bought_product  \\\n",
       "0                AMOENE [MADE] Long Strap Dress Navy   \n",
       "1                          Jam Tangan Wanita JT 8151   \n",
       "2              Arabian Voile (Hijab Voal) | MINIMSLM   \n",
       "3  Breakside Polo Shirt Gavriel - Darkgrey Polo S...   \n",
       "4              Baju Kaos Roblox anak Laki-laki cowok   \n",
       "\n",
       "                                            location  latitude   longitude  \n",
       "0  (Pontianak, Kalimantan Barat, Kalimantan, Indo... -0.022690  109.344749  \n",
       "1  (Kota Medan ᯔᯩᯑᯉ᯲, Sumatera Utara, Sumatera, I...  3.589665   98.673826  \n",
       "2  (Kota Yogyakarta, Daerah Istimewa Yogyakarta, ... -7.801265  110.364686  \n",
       "3  (Kota Bandung, Jawa Barat, Jawa, Indonesia, (-... -6.921553  107.611021  \n",
       "4  (Daerah Khusus ibukota Jakarta, Jawa, Indonesi... -6.175405  106.827168  "
      ]
     },
     "execution_count": 10,
     "metadata": {},
     "output_type": "execute_result"
    }
   ],
   "source": [
    "geolocator = Nominatim(user_agent=\"myApp\", timeout=10)\n",
    "geocode = RateLimiter(geolocator.geocode, min_delay_seconds=1)\n",
    "\n",
    "def safe_geocode(city):\n",
    "    try:\n",
    "        return geocode(f\"{city}, Indonesia\")\n",
    "    except:\n",
    "        return None\n",
    "\n",
    "city_sales['location'] = city_sales['city'].apply(safe_geocode)\n",
    "city_sales['latitude'] = city_sales['location'].apply(lambda loc: loc.latitude if loc else None)\n",
    "city_sales['longitude'] = city_sales['location'].apply(lambda loc: loc.longitude if loc else None)\n",
    "\n",
    "# Hapus baris tanpa koordinat\n",
    "city_sales = city_sales.dropna(subset=['latitude', 'longitude'])\n",
    "city_sales.head()"
   ]
  },
  {
   "cell_type": "code",
   "execution_count": 13,
   "id": "ca420a77",
   "metadata": {},
   "outputs": [],
   "source": [
    "# city_sales.to_csv('city_sales.csv', index=False)\n",
    "# df = pd.read_csv('city_sales.csv')\n",
    "# df"
   ]
  },
  {
   "cell_type": "code",
   "execution_count": 3,
   "id": "cc4fa989",
   "metadata": {},
   "outputs": [
    {
     "data": {
      "application/vnd.plotly.v1+json": {
       "config": {
        "plotlyServerURL": "https://plot.ly"
       },
       "data": [
        {
         "customdata": [
          [
           58,
           "AMOENE [MADE] Long Strap Dress Navy",
           -0.0226903,
           109.3447488
          ],
          [
           5,
           "Jam Tangan Wanita JT 8151",
           3.5896654,
           98.6738261
          ],
          [
           5,
           "Arabian Voile (Hijab Voal) | MINIMSLM",
           -7.8012646,
           110.3646857
          ],
          [
           5,
           "Breakside Polo Shirt Gavriel - Darkgrey Polo Shirt Pria",
           -6.9215529,
           107.6110212
          ],
          [
           4,
           "Baju Kaos Roblox anak Laki-laki cowok",
           -6.1754049,
           106.827168
          ],
          [
           3,
           "AMOENE [MADE] Long Strap Dress Navy",
           0.9069861,
           108.9889657
          ],
          [
           3,
           "CHARLOTTE 01 28 MM",
           -7.9771308,
           112.6340265
          ],
          [
           2,
           "Geoff Kids - Ethan Kids Black Gum",
           -7.4770747,
           110.2182164
          ],
          [
           2,
           "Jam Tangan Pria Kulit",
           -8.6524973,
           115.2191175
          ],
          [
           2,
           "Voal Motif Printing Sublim Segiempat Premium",
           -5.1342962,
           119.4124282
          ],
          [
           2,
           "Atasan Knit Wanita",
           -6.2838694,
           106.8048297
          ],
          [
           2,
           "Point One NINDY Khaki Tunik Dress",
           0.3440181,
           109.1019761
          ],
          [
           2,
           "Compass Velocity Black",
           -6.2349858,
           106.9945444
          ],
          [
           2,
           "Baju Kaos Roblox anak Laki-laki cowok",
           -3.3187496,
           114.5925828
          ],
          [
           1,
           "Jam Tangan Anak Original Mason 7026 Digital Strap Rubber",
           -7.5692489,
           110.828448
          ],
          [
           1,
           "Hosofshopaholic - Darel Skirt",
           1.8231285,
           98.2797677
          ],
          [
           1,
           "Lafiye Skiv Rou Scarf",
           -10.1632209,
           123.6017755
          ],
          [
           1,
           "URBAN&CO BASIC Sandal Wanita Sendal Teplek Casual - Demi",
           -2.9888243,
           104.7568507
          ],
          [
           1,
           "ECINOS - Philia Oversized Linen Shirt",
           -0.270885,
           103.3284566
          ],
          [
           1,
           "Celana Pendek Anak Polos fashion Santai",
           -6.3227016,
           106.7085737
          ],
          [
           1,
           "Lafiye Skiv Rou Scarf",
           1.4900578,
           124.8408708
          ],
          [
           1,
           "Atasan Knit Wanita",
           -6.40719,
           106.8158371
          ],
          [
           1,
           "This Is April Rok Midi Crochet Wanita",
           -6.9903988,
           110.4229104
          ],
          [
           1,
           "Oversize tshirt Wanita",
           -6.18234,
           106.8428715
          ],
          [
           1,
           "Structured Ball Cap Cream",
           -7.2462836,
           112.7377674
          ],
          [
           1,
           "Baju Atasan Lengan Pendek Wanita",
           -6.161569,
           106.7438905
          ],
          [
           1,
           "Hosofshopaholic - Darel Skirt",
           0.1927001,
           111.5598118
          ]
         ],
         "geo": "geo",
         "hovertemplate": "<b>%{hovertext}</b><br><br>transaction_count=%{customdata[0]}<br>most_bought_product=%{customdata[1]}<extra></extra>",
         "hovertext": [
          "Pontianak",
          "Medan",
          "Yogyakarta",
          "Bandung",
          "Jakarta",
          "Singkawang",
          "Malang",
          "Magelang",
          "Denpasar",
          "Makassar",
          "Jakarta Selatan",
          "Mempawah",
          "Bekasi",
          "Banjarmasin",
          "Solo",
          "Tapanuli Tengah",
          "Kupang",
          "Palembang",
          "Indragiri Hilir",
          "Tangerang Selatan",
          "Manado",
          "Depok",
          "Semarang",
          "Jakarta Pusat",
          "Surabaya",
          "Jakarta Barat",
          "Sintang"
         ],
         "lat": {
          "bdata": "Mee+QSA8l799qUR+orcMQCTFEbV+NB/AxiI8kKuvG8CMO5RXnbMYwJemrbYHBu0/Q6j3+ZToH8D9/ihFhugdwOR0SCAUTiHAhuhr8YSJFMAwV/WoriIZwAjaLn5kBNY/+xgYHqDwGMCX5xyXzIwKwMoiAy/pRh7AE30+yogr/T8hDJewkVMkwLbr77Yc6QfAg4b+CS5W0b+ud8lJckoZwDVlAtlG1/c/cAhVavagGcCX/V8aK/YbwLQCQ1a3uhjAIiqexDH8HMCQMAxYcqUYwIvMt5llqsg/",
          "dtype": "f8"
         },
         "legendgroup": "",
         "lon": {
          "bdata": "dVVFXRBWW0A9rIH3H6tYQGi0sAJXl1tAacqp+BrnWkAOEw1S8LRaQGiXyjZLP1tACJPi45MoXEDbXOtB941bQM0eaAUGzlxArrw/OWXaXUBeFm5UgrNaQFCew8aGRltA4BqOnaa/WkAEi2jg7KVcQPGbwkoFtVtAiX7ItueRWEAuAmN9g+ZeQBod6z1wMFpA8cnUbgXVWUCRE4FFWa1aQFSKwtPQNV9AQ9fPrDa0WkDaSMj2EJtbQMDOTZvxtVpAhMPBlDcvXECHU+bmm69aQI463/TT41tA",
          "dtype": "f8"
         },
         "marker": {
          "color": "red",
          "size": {
           "bdata": "OgUFBQQDAwICAgICAgIBAQEBAQEBAQEBAQEB",
           "dtype": "i1"
          },
          "sizemode": "area",
          "sizeref": 0.145,
          "symbol": "circle"
         },
         "mode": "markers",
         "name": "",
         "showlegend": false,
         "type": "scattergeo"
        }
       ],
       "layout": {
        "geo": {
         "center": {},
         "countrycolor": "Black",
         "domain": {
          "x": [
           0,
           1
          ],
          "y": [
           0,
           1
          ]
         },
         "lataxis": {
          "range": [
           -11,
           6
          ]
         },
         "lonaxis": {
          "range": [
           95,
           141
          ]
         },
         "projection": {
          "type": "mercator"
         },
         "showcountries": true,
         "visible": true
        },
        "legend": {
         "itemsizing": "constant",
         "title": {
          "text": "Jumlah Transaksi"
         },
         "tracegroupgap": 0
        },
        "margin": {
         "b": 0,
         "l": 0,
         "r": 0,
         "t": 30
        },
        "template": {
         "data": {
          "bar": [
           {
            "error_x": {
             "color": "#2a3f5f"
            },
            "error_y": {
             "color": "#2a3f5f"
            },
            "marker": {
             "line": {
              "color": "#E5ECF6",
              "width": 0.5
             },
             "pattern": {
              "fillmode": "overlay",
              "size": 10,
              "solidity": 0.2
             }
            },
            "type": "bar"
           }
          ],
          "barpolar": [
           {
            "marker": {
             "line": {
              "color": "#E5ECF6",
              "width": 0.5
             },
             "pattern": {
              "fillmode": "overlay",
              "size": 10,
              "solidity": 0.2
             }
            },
            "type": "barpolar"
           }
          ],
          "carpet": [
           {
            "aaxis": {
             "endlinecolor": "#2a3f5f",
             "gridcolor": "white",
             "linecolor": "white",
             "minorgridcolor": "white",
             "startlinecolor": "#2a3f5f"
            },
            "baxis": {
             "endlinecolor": "#2a3f5f",
             "gridcolor": "white",
             "linecolor": "white",
             "minorgridcolor": "white",
             "startlinecolor": "#2a3f5f"
            },
            "type": "carpet"
           }
          ],
          "choropleth": [
           {
            "colorbar": {
             "outlinewidth": 0,
             "ticks": ""
            },
            "type": "choropleth"
           }
          ],
          "contour": [
           {
            "colorbar": {
             "outlinewidth": 0,
             "ticks": ""
            },
            "colorscale": [
             [
              0,
              "#0d0887"
             ],
             [
              0.1111111111111111,
              "#46039f"
             ],
             [
              0.2222222222222222,
              "#7201a8"
             ],
             [
              0.3333333333333333,
              "#9c179e"
             ],
             [
              0.4444444444444444,
              "#bd3786"
             ],
             [
              0.5555555555555556,
              "#d8576b"
             ],
             [
              0.6666666666666666,
              "#ed7953"
             ],
             [
              0.7777777777777778,
              "#fb9f3a"
             ],
             [
              0.8888888888888888,
              "#fdca26"
             ],
             [
              1,
              "#f0f921"
             ]
            ],
            "type": "contour"
           }
          ],
          "contourcarpet": [
           {
            "colorbar": {
             "outlinewidth": 0,
             "ticks": ""
            },
            "type": "contourcarpet"
           }
          ],
          "heatmap": [
           {
            "colorbar": {
             "outlinewidth": 0,
             "ticks": ""
            },
            "colorscale": [
             [
              0,
              "#0d0887"
             ],
             [
              0.1111111111111111,
              "#46039f"
             ],
             [
              0.2222222222222222,
              "#7201a8"
             ],
             [
              0.3333333333333333,
              "#9c179e"
             ],
             [
              0.4444444444444444,
              "#bd3786"
             ],
             [
              0.5555555555555556,
              "#d8576b"
             ],
             [
              0.6666666666666666,
              "#ed7953"
             ],
             [
              0.7777777777777778,
              "#fb9f3a"
             ],
             [
              0.8888888888888888,
              "#fdca26"
             ],
             [
              1,
              "#f0f921"
             ]
            ],
            "type": "heatmap"
           }
          ],
          "histogram": [
           {
            "marker": {
             "pattern": {
              "fillmode": "overlay",
              "size": 10,
              "solidity": 0.2
             }
            },
            "type": "histogram"
           }
          ],
          "histogram2d": [
           {
            "colorbar": {
             "outlinewidth": 0,
             "ticks": ""
            },
            "colorscale": [
             [
              0,
              "#0d0887"
             ],
             [
              0.1111111111111111,
              "#46039f"
             ],
             [
              0.2222222222222222,
              "#7201a8"
             ],
             [
              0.3333333333333333,
              "#9c179e"
             ],
             [
              0.4444444444444444,
              "#bd3786"
             ],
             [
              0.5555555555555556,
              "#d8576b"
             ],
             [
              0.6666666666666666,
              "#ed7953"
             ],
             [
              0.7777777777777778,
              "#fb9f3a"
             ],
             [
              0.8888888888888888,
              "#fdca26"
             ],
             [
              1,
              "#f0f921"
             ]
            ],
            "type": "histogram2d"
           }
          ],
          "histogram2dcontour": [
           {
            "colorbar": {
             "outlinewidth": 0,
             "ticks": ""
            },
            "colorscale": [
             [
              0,
              "#0d0887"
             ],
             [
              0.1111111111111111,
              "#46039f"
             ],
             [
              0.2222222222222222,
              "#7201a8"
             ],
             [
              0.3333333333333333,
              "#9c179e"
             ],
             [
              0.4444444444444444,
              "#bd3786"
             ],
             [
              0.5555555555555556,
              "#d8576b"
             ],
             [
              0.6666666666666666,
              "#ed7953"
             ],
             [
              0.7777777777777778,
              "#fb9f3a"
             ],
             [
              0.8888888888888888,
              "#fdca26"
             ],
             [
              1,
              "#f0f921"
             ]
            ],
            "type": "histogram2dcontour"
           }
          ],
          "mesh3d": [
           {
            "colorbar": {
             "outlinewidth": 0,
             "ticks": ""
            },
            "type": "mesh3d"
           }
          ],
          "parcoords": [
           {
            "line": {
             "colorbar": {
              "outlinewidth": 0,
              "ticks": ""
             }
            },
            "type": "parcoords"
           }
          ],
          "pie": [
           {
            "automargin": true,
            "type": "pie"
           }
          ],
          "scatter": [
           {
            "fillpattern": {
             "fillmode": "overlay",
             "size": 10,
             "solidity": 0.2
            },
            "type": "scatter"
           }
          ],
          "scatter3d": [
           {
            "line": {
             "colorbar": {
              "outlinewidth": 0,
              "ticks": ""
             }
            },
            "marker": {
             "colorbar": {
              "outlinewidth": 0,
              "ticks": ""
             }
            },
            "type": "scatter3d"
           }
          ],
          "scattercarpet": [
           {
            "marker": {
             "colorbar": {
              "outlinewidth": 0,
              "ticks": ""
             }
            },
            "type": "scattercarpet"
           }
          ],
          "scattergeo": [
           {
            "marker": {
             "colorbar": {
              "outlinewidth": 0,
              "ticks": ""
             }
            },
            "type": "scattergeo"
           }
          ],
          "scattergl": [
           {
            "marker": {
             "colorbar": {
              "outlinewidth": 0,
              "ticks": ""
             }
            },
            "type": "scattergl"
           }
          ],
          "scattermap": [
           {
            "marker": {
             "colorbar": {
              "outlinewidth": 0,
              "ticks": ""
             }
            },
            "type": "scattermap"
           }
          ],
          "scattermapbox": [
           {
            "marker": {
             "colorbar": {
              "outlinewidth": 0,
              "ticks": ""
             }
            },
            "type": "scattermapbox"
           }
          ],
          "scatterpolar": [
           {
            "marker": {
             "colorbar": {
              "outlinewidth": 0,
              "ticks": ""
             }
            },
            "type": "scatterpolar"
           }
          ],
          "scatterpolargl": [
           {
            "marker": {
             "colorbar": {
              "outlinewidth": 0,
              "ticks": ""
             }
            },
            "type": "scatterpolargl"
           }
          ],
          "scatterternary": [
           {
            "marker": {
             "colorbar": {
              "outlinewidth": 0,
              "ticks": ""
             }
            },
            "type": "scatterternary"
           }
          ],
          "surface": [
           {
            "colorbar": {
             "outlinewidth": 0,
             "ticks": ""
            },
            "colorscale": [
             [
              0,
              "#0d0887"
             ],
             [
              0.1111111111111111,
              "#46039f"
             ],
             [
              0.2222222222222222,
              "#7201a8"
             ],
             [
              0.3333333333333333,
              "#9c179e"
             ],
             [
              0.4444444444444444,
              "#bd3786"
             ],
             [
              0.5555555555555556,
              "#d8576b"
             ],
             [
              0.6666666666666666,
              "#ed7953"
             ],
             [
              0.7777777777777778,
              "#fb9f3a"
             ],
             [
              0.8888888888888888,
              "#fdca26"
             ],
             [
              1,
              "#f0f921"
             ]
            ],
            "type": "surface"
           }
          ],
          "table": [
           {
            "cells": {
             "fill": {
              "color": "#EBF0F8"
             },
             "line": {
              "color": "white"
             }
            },
            "header": {
             "fill": {
              "color": "#C8D4E3"
             },
             "line": {
              "color": "white"
             }
            },
            "type": "table"
           }
          ]
         },
         "layout": {
          "annotationdefaults": {
           "arrowcolor": "#2a3f5f",
           "arrowhead": 0,
           "arrowwidth": 1
          },
          "autotypenumbers": "strict",
          "coloraxis": {
           "colorbar": {
            "outlinewidth": 0,
            "ticks": ""
           }
          },
          "colorscale": {
           "diverging": [
            [
             0,
             "#8e0152"
            ],
            [
             0.1,
             "#c51b7d"
            ],
            [
             0.2,
             "#de77ae"
            ],
            [
             0.3,
             "#f1b6da"
            ],
            [
             0.4,
             "#fde0ef"
            ],
            [
             0.5,
             "#f7f7f7"
            ],
            [
             0.6,
             "#e6f5d0"
            ],
            [
             0.7,
             "#b8e186"
            ],
            [
             0.8,
             "#7fbc41"
            ],
            [
             0.9,
             "#4d9221"
            ],
            [
             1,
             "#276419"
            ]
           ],
           "sequential": [
            [
             0,
             "#0d0887"
            ],
            [
             0.1111111111111111,
             "#46039f"
            ],
            [
             0.2222222222222222,
             "#7201a8"
            ],
            [
             0.3333333333333333,
             "#9c179e"
            ],
            [
             0.4444444444444444,
             "#bd3786"
            ],
            [
             0.5555555555555556,
             "#d8576b"
            ],
            [
             0.6666666666666666,
             "#ed7953"
            ],
            [
             0.7777777777777778,
             "#fb9f3a"
            ],
            [
             0.8888888888888888,
             "#fdca26"
            ],
            [
             1,
             "#f0f921"
            ]
           ],
           "sequentialminus": [
            [
             0,
             "#0d0887"
            ],
            [
             0.1111111111111111,
             "#46039f"
            ],
            [
             0.2222222222222222,
             "#7201a8"
            ],
            [
             0.3333333333333333,
             "#9c179e"
            ],
            [
             0.4444444444444444,
             "#bd3786"
            ],
            [
             0.5555555555555556,
             "#d8576b"
            ],
            [
             0.6666666666666666,
             "#ed7953"
            ],
            [
             0.7777777777777778,
             "#fb9f3a"
            ],
            [
             0.8888888888888888,
             "#fdca26"
            ],
            [
             1,
             "#f0f921"
            ]
           ]
          },
          "colorway": [
           "#636efa",
           "#EF553B",
           "#00cc96",
           "#ab63fa",
           "#FFA15A",
           "#19d3f3",
           "#FF6692",
           "#B6E880",
           "#FF97FF",
           "#FECB52"
          ],
          "font": {
           "color": "#2a3f5f"
          },
          "geo": {
           "bgcolor": "white",
           "lakecolor": "white",
           "landcolor": "#E5ECF6",
           "showlakes": true,
           "showland": true,
           "subunitcolor": "white"
          },
          "hoverlabel": {
           "align": "left"
          },
          "hovermode": "closest",
          "mapbox": {
           "style": "light"
          },
          "paper_bgcolor": "white",
          "plot_bgcolor": "#E5ECF6",
          "polar": {
           "angularaxis": {
            "gridcolor": "white",
            "linecolor": "white",
            "ticks": ""
           },
           "bgcolor": "#E5ECF6",
           "radialaxis": {
            "gridcolor": "white",
            "linecolor": "white",
            "ticks": ""
           }
          },
          "scene": {
           "xaxis": {
            "backgroundcolor": "#E5ECF6",
            "gridcolor": "white",
            "gridwidth": 2,
            "linecolor": "white",
            "showbackground": true,
            "ticks": "",
            "zerolinecolor": "white"
           },
           "yaxis": {
            "backgroundcolor": "#E5ECF6",
            "gridcolor": "white",
            "gridwidth": 2,
            "linecolor": "white",
            "showbackground": true,
            "ticks": "",
            "zerolinecolor": "white"
           },
           "zaxis": {
            "backgroundcolor": "#E5ECF6",
            "gridcolor": "white",
            "gridwidth": 2,
            "linecolor": "white",
            "showbackground": true,
            "ticks": "",
            "zerolinecolor": "white"
           }
          },
          "shapedefaults": {
           "line": {
            "color": "#2a3f5f"
           }
          },
          "ternary": {
           "aaxis": {
            "gridcolor": "white",
            "linecolor": "white",
            "ticks": ""
           },
           "baxis": {
            "gridcolor": "white",
            "linecolor": "white",
            "ticks": ""
           },
           "bgcolor": "#E5ECF6",
           "caxis": {
            "gridcolor": "white",
            "linecolor": "white",
            "ticks": ""
           }
          },
          "title": {
           "x": 0.05
          },
          "xaxis": {
           "automargin": true,
           "gridcolor": "white",
           "linecolor": "white",
           "ticks": "",
           "title": {
            "standoff": 15
           },
           "zerolinecolor": "white",
           "zerolinewidth": 2
          },
          "yaxis": {
           "automargin": true,
           "gridcolor": "white",
           "linecolor": "white",
           "ticks": "",
           "title": {
            "standoff": 15
           },
           "zerolinecolor": "white",
           "zerolinewidth": 2
          }
         }
        },
        "title": {
         "text": "Sebaran Transaksi per Kota"
        }
       }
      }
     },
     "metadata": {},
     "output_type": "display_data"
    }
   ],
   "source": [
    "# === PLOT ===\n",
    "fig = px.scatter_geo(\n",
    "    city_sales,\n",
    "    lat='latitude',\n",
    "    lon='longitude',\n",
    "    size='transaction_count',\n",
    "    color_discrete_sequence=['red'],  # Titik warna merah\n",
    "    hover_name='city',\n",
    "    hover_data={\n",
    "        'transaction_count': True,\n",
    "        'most_bought_product': True,\n",
    "        'latitude': False,\n",
    "        'longitude': False\n",
    "    },\n",
    "    title='Sebaran Transaksi per Kota',\n",
    "    projection='mercator'\n",
    ")\n",
    "\n",
    "fig.update_geos(\n",
    "    visible=True,\n",
    "    lataxis_range=[-11, 6],\n",
    "    lonaxis_range=[95, 141],\n",
    "    showcountries=True,\n",
    "    countrycolor=\"Black\"\n",
    ")\n",
    "\n",
    "fig.update_layout(\n",
    "    margin={\"r\": 0, \"t\": 30, \"l\": 0, \"b\": 0},\n",
    "    legend_title_text='Jumlah Transaksi'\n",
    ")\n",
    "\n",
    "fig.show()"
   ]
  }
 ],
 "metadata": {
  "kernelspec": {
   "display_name": "mlp_env",
   "language": "python",
   "name": "python3"
  },
  "language_info": {
   "codemirror_mode": {
    "name": "ipython",
    "version": 3
   },
   "file_extension": ".py",
   "mimetype": "text/x-python",
   "name": "python",
   "nbconvert_exporter": "python",
   "pygments_lexer": "ipython3",
   "version": "3.12.9"
  }
 },
 "nbformat": 4,
 "nbformat_minor": 5
}
