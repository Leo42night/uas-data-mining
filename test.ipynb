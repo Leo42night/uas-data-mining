{
 "cells": [
  {
   "cell_type": "markdown",
   "id": "140d7e11",
   "metadata": {},
   "source": [
    "```sql\n",
    "SELECT order_item_id, order_id, product_id, customer_id, date_created, product_net_revenue FROM wpkr_wc_order_product_lookup; -- order product\n",
    "```"
   ]
  },
  {
   "cell_type": "code",
   "execution_count": 45,
   "id": "217c84bf",
   "metadata": {},
   "outputs": [
    {
     "data": {
      "text/html": [
       "<div>\n",
       "<style scoped>\n",
       "    .dataframe tbody tr th:only-of-type {\n",
       "        vertical-align: middle;\n",
       "    }\n",
       "\n",
       "    .dataframe tbody tr th {\n",
       "        vertical-align: top;\n",
       "    }\n",
       "\n",
       "    .dataframe thead th {\n",
       "        text-align: right;\n",
       "    }\n",
       "</style>\n",
       "<table border=\"1\" class=\"dataframe\">\n",
       "  <thead>\n",
       "    <tr style=\"text-align: right;\">\n",
       "      <th></th>\n",
       "      <th>id</th>\n",
       "      <th>order_id</th>\n",
       "      <th>meta_key</th>\n",
       "      <th>meta_value</th>\n",
       "    </tr>\n",
       "  </thead>\n",
       "  <tbody>\n",
       "    <tr>\n",
       "      <th>0</th>\n",
       "      <td>79</td>\n",
       "      <td>1036</td>\n",
       "      <td>is_vat_exempt</td>\n",
       "      <td>no</td>\n",
       "    </tr>\n",
       "    <tr>\n",
       "      <th>1</th>\n",
       "      <td>80</td>\n",
       "      <td>1036</td>\n",
       "      <td>_billing_address_index</td>\n",
       "      <td>Marlene mgreallyo@quantcast.com  Kota Pontiana...</td>\n",
       "    </tr>\n",
       "    <tr>\n",
       "      <th>2</th>\n",
       "      <td>81</td>\n",
       "      <td>1036</td>\n",
       "      <td>_shipping_address_index</td>\n",
       "      <td>Marlene mgreallyo@quantcast.com  Kota Pontiana...</td>\n",
       "    </tr>\n",
       "    <tr>\n",
       "      <th>3</th>\n",
       "      <td>82</td>\n",
       "      <td>1036</td>\n",
       "      <td>_wc_order_attribution_source_type</td>\n",
       "      <td>typein</td>\n",
       "    </tr>\n",
       "    <tr>\n",
       "      <th>4</th>\n",
       "      <td>83</td>\n",
       "      <td>1036</td>\n",
       "      <td>_wc_order_attribution_utm_source</td>\n",
       "      <td>(direct)</td>\n",
       "    </tr>\n",
       "    <tr>\n",
       "      <th>5</th>\n",
       "      <td>84</td>\n",
       "      <td>1036</td>\n",
       "      <td>_wc_order_attribution_session_entry</td>\n",
       "      <td>https://datamininguntan.my.id/</td>\n",
       "    </tr>\n",
       "    <tr>\n",
       "      <th>6</th>\n",
       "      <td>85</td>\n",
       "      <td>1036</td>\n",
       "      <td>_wc_order_attribution_session_start_time</td>\n",
       "      <td>2025-05-08 22:32:14</td>\n",
       "    </tr>\n",
       "    <tr>\n",
       "      <th>7</th>\n",
       "      <td>86</td>\n",
       "      <td>1036</td>\n",
       "      <td>_wc_order_attribution_session_pages</td>\n",
       "      <td>9</td>\n",
       "    </tr>\n",
       "    <tr>\n",
       "      <th>8</th>\n",
       "      <td>87</td>\n",
       "      <td>1036</td>\n",
       "      <td>_wc_order_attribution_session_count</td>\n",
       "      <td>1</td>\n",
       "    </tr>\n",
       "    <tr>\n",
       "      <th>9</th>\n",
       "      <td>88</td>\n",
       "      <td>1036</td>\n",
       "      <td>_wc_order_attribution_user_agent</td>\n",
       "      <td>Mozilla/5.0 (Windows NT 10.0; Win64; x64) Appl...</td>\n",
       "    </tr>\n",
       "  </tbody>\n",
       "</table>\n",
       "</div>"
      ],
      "text/plain": [
       "   id  order_id                                  meta_key  \\\n",
       "0  79      1036                             is_vat_exempt   \n",
       "1  80      1036                    _billing_address_index   \n",
       "2  81      1036                   _shipping_address_index   \n",
       "3  82      1036         _wc_order_attribution_source_type   \n",
       "4  83      1036          _wc_order_attribution_utm_source   \n",
       "5  84      1036       _wc_order_attribution_session_entry   \n",
       "6  85      1036  _wc_order_attribution_session_start_time   \n",
       "7  86      1036       _wc_order_attribution_session_pages   \n",
       "8  87      1036       _wc_order_attribution_session_count   \n",
       "9  88      1036          _wc_order_attribution_user_agent   \n",
       "\n",
       "                                          meta_value  \n",
       "0                                                 no  \n",
       "1  Marlene mgreallyo@quantcast.com  Kota Pontiana...  \n",
       "2  Marlene mgreallyo@quantcast.com  Kota Pontiana...  \n",
       "3                                             typein  \n",
       "4                                           (direct)  \n",
       "5                     https://datamininguntan.my.id/  \n",
       "6                                2025-05-08 22:32:14  \n",
       "7                                                  9  \n",
       "8                                                  1  \n",
       "9  Mozilla/5.0 (Windows NT 10.0; Win64; x64) Appl...  "
      ]
     },
     "metadata": {},
     "output_type": "display_data"
    },
    {
     "name": "stdout",
     "output_type": "stream",
     "text": [
      "DF: 1302 rows x 4 columns\n",
      "<class 'pandas.core.frame.DataFrame'>\n",
      "RangeIndex: 1302 entries, 0 to 1301\n",
      "Data columns (total 4 columns):\n",
      " #   Column      Non-Null Count  Dtype \n",
      "---  ------      --------------  ----- \n",
      " 0   id          1302 non-null   int64 \n",
      " 1   order_id    1302 non-null   int64 \n",
      " 2   meta_key    1302 non-null   object\n",
      " 3   meta_value  1302 non-null   object\n",
      "dtypes: int64(2), object(2)\n",
      "memory usage: 40.8+ KB\n"
     ]
    },
    {
     "data": {
      "text/plain": [
       "None"
      ]
     },
     "metadata": {},
     "output_type": "display_data"
    },
    {
     "name": "stdout",
     "output_type": "stream",
     "text": [
      "0\n",
      "id            0\n",
      "order_id      0\n",
      "meta_key      0\n",
      "meta_value    0\n",
      "dtype: int64\n"
     ]
    }
   ],
   "source": [
    "import pandas as pd\n",
    "\n",
    "df = pd.read_csv(\"csv/order_meta.csv\", sep=\";\")\n",
    "display(df.head(10))\n",
    "print(f\"DF: {df.shape[0]} rows x {df.shape[1]} columns\")\n",
    "display(df.info())\n",
    "print(df.duplicated().sum())\n",
    "print(df.isna().sum())"
   ]
  },
  {
   "cell_type": "code",
   "execution_count": 42,
   "id": "51fd3e63",
   "metadata": {},
   "outputs": [
    {
     "name": "stdout",
     "output_type": "stream",
     "text": [
      "Len product_id: 100\n",
      "product_id: [322, 447, 481, 527, 536, 543, 565, 569, 580, 586, 590, 594, 602, 609, 613, 619, 632, 638, 646, 652, 659, 667, 673, 678, 682, 688, 694, 698, 702, 706, 713, 717, 721, 726, 730, 734, 738, 741, 746, 750, 754, 762, 767, 770, 773, 778, 786, 790, 793, 797, 805, 809, 812, 817, 821, 825, 829, 833, 850, 856, 860, 867, 871, 875, 879, 883, 887, 891, 895, 899, 903, 907, 911, 915, 922, 929, 933, 938, 942, 946, 951, 954, 958, 962, 966, 971, 975, 978, 983, 986, 990, 994, 998, 1002, 1006, 1010, 1015, 1019, 1020, 1064]\n",
      "\n",
      "Len sku: 2\n",
      "sku: ['woo-single', nan]\n",
      "\n",
      "Len virtual: 2\n",
      "virtual: [1, 0]\n",
      "\n",
      "Len downloadable: 2\n",
      "downloadable: [1, 0]\n",
      "\n",
      "Len min_price: 88\n",
      "min_price: ['19000,0000', '40000,0000', '299000,0000', '20580,0000', '30500,0000', '499900,0000', '62700,0000', '48000,0000', '55000,0000', '52000,0000', '129000,0000', '149000,0000', '137750,0000', '160000,0000', '121000,0000', '185017,0000', '89995,0000', '89940,0000', '794000,0000', '200000,0000', '50000,0000', '89000,0000', '168000,0000', '649000,0000', '145000,0000', '499000,0000', '779000,0000', '800000,0000', '1150000,0000', '780000,0000', '179000,0000', '197901,0000', '1889000,0000', '749000,0000', '790000,0000', '202000,0000', '84314,0000', '258000,0000', '127800,0000', '80000,0000', '29300,0000', '79800,0000', '110000,0000', '536000,0000', '59999,0000', '325000,0000', '399000,0000', '408500,0000', '229000,0000', '194500,0000', '99000,0000', '119000,0000', '65000,0000', '46652,0000', '155000,0000', '225000,0000', '304000,0000', '151900,0000', '215000,0000', '93400,0000', '279800,0000', '31000,0000', '69000,0000', '169000,0000', '276000,0000', '240000,0000', '175000,0000', '250000,0000', '86900,0000', '449000,0000', '115000,0000', '209000,0000', '139000,0000', '89775,0000', '84200,0000', '86601,0000', '116000,0000', '165500,0000', '57100,0000', '159000,0000', '44900,0000', '269000,0000', '164000,0000', '350000,0000', '379000,0000', '550000,0000', '329000,0000', '75325,0000']\n",
      "\n",
      "Len max_price: 88\n",
      "max_price: ['19000,0000', '40000,0000', '299000,0000', '20580,0000', '30500,0000', '499900,0000', '62700,0000', '48000,0000', '55000,0000', '52000,0000', '129000,0000', '149000,0000', '137750,0000', '160000,0000', '121000,0000', '185017,0000', '89995,0000', '89940,0000', '794000,0000', '200000,0000', '50000,0000', '89000,0000', '168000,0000', '649000,0000', '145000,0000', '499000,0000', '779000,0000', '800000,0000', '1150000,0000', '780000,0000', '179000,0000', '197901,0000', '1889000,0000', '749000,0000', '790000,0000', '202000,0000', '84314,0000', '258000,0000', '127800,0000', '80000,0000', '29300,0000', '79800,0000', '110000,0000', '536000,0000', '59999,0000', '325000,0000', '399000,0000', '408500,0000', '229000,0000', '194500,0000', '99000,0000', '119000,0000', '65000,0000', '46652,0000', '155000,0000', '225000,0000', '304000,0000', '151900,0000', '215000,0000', '93400,0000', '279800,0000', '31000,0000', '69000,0000', '169000,0000', '276000,0000', '240000,0000', '175000,0000', '250000,0000', '86900,0000', '449000,0000', '115000,0000', '209000,0000', '139000,0000', '89775,0000', '84200,0000', '86601,0000', '116000,0000', '165500,0000', '57100,0000', '159000,0000', '44900,0000', '269000,0000', '164000,0000', '350000,0000', '379000,0000', '550000,0000', '329000,0000', '75325,0000']\n",
      "\n",
      "Len onsale: 2\n",
      "onsale: [1, 0]\n",
      "\n",
      "Len stock_quantity: 1\n",
      "stock_quantity: ['\\\\0']\n",
      "\n",
      "Len stock_status: 1\n",
      "stock_status: ['instock']\n",
      "\n",
      "Len rating_count: 1\n",
      "rating_count: [0]\n",
      "\n",
      "Len average_rating: 1\n",
      "average_rating: ['0,00']\n",
      "\n",
      "Len total_sales: 12\n",
      "total_sales: [1, 3, 2, 10, 0, 4, 5, 9, 6, 8, 7, 25]\n",
      "\n",
      "Len tax_status: 1\n",
      "tax_status: ['taxable']\n",
      "\n"
     ]
    }
   ],
   "source": [
    "cols = [col for col in df.columns if df[col].nunique() > 0]\n",
    "for col in cols:\n",
    "    print(f\"Len {col}: {len(df[col].unique().tolist())}\") # unique values\n",
    "    print(f\"{col}: {df[col].unique().tolist()}\\n\")"
   ]
  },
  {
   "cell_type": "code",
   "execution_count": null,
   "id": "8f42ab63",
   "metadata": {},
   "outputs": [
    {
     "name": "stdout",
     "output_type": "stream",
     "text": [
      "Chart berhasil disimpan ke 'bubble_cloud_chart_top5.png'\n"
     ]
    },
    {
     "data": {
      "application/vnd.plotly.v1+json": {
       "config": {
        "plotlyServerURL": "https://plot.ly"
       },
       "data": [
        {
         "hoverinfo": "text",
         "hovertext": [
          "Atasan Knit Wanita<br>Total Sales: 80",
          "DUSHI Jonah flat - Sandal wanita teplek<br>Total Sales: 75",
          "AMOENE [MADE] Long Strap Dress Navy<br>Total Sales: 56",
          "This Is April Atasan Kemeja Lengan Panjang<br>Total Sales: 56",
          "Celana Cargo Pendek Anak Laki-Laki Bahan Dusky Crinkle/Parasut<br>Total Sales: 45"
         ],
         "marker": {
          "color": {
           "bdata": "UEs4OC0=",
           "dtype": "i1"
          },
          "colorscale": [
           [
            0,
            "#440154"
           ],
           [
            0.1111111111111111,
            "#482878"
           ],
           [
            0.2222222222222222,
            "#3e4989"
           ],
           [
            0.3333333333333333,
            "#31688e"
           ],
           [
            0.4444444444444444,
            "#26828e"
           ],
           [
            0.5555555555555556,
            "#1f9e89"
           ],
           [
            0.6666666666666666,
            "#35b779"
           ],
           [
            0.7777777777777778,
            "#6ece58"
           ],
           [
            0.8888888888888888,
            "#b5de2b"
           ],
           [
            1,
            "#fde725"
           ]
          ],
          "line": {
           "color": "DarkSlateGrey",
           "width": 2
          },
          "opacity": 0.7,
          "showscale": true,
          "size": {
           "bdata": "AAAAAACAYUAAAAAAALhgQAAAAAAAgFtAAAAAAACAW0AAAAAAABBYQA==",
           "dtype": "f8"
          },
          "sizemode": "diameter"
         },
         "mode": "markers+text",
         "text": [
          "Atasan Knit Wanita<br><b>80</b>",
          "DUSHI Jonah flat - Sandal wanita teplek<br><b>75</b>",
          "AMOENE [MADE] Long Strap Dress Navy<br><b>56</b>",
          "This Is April Atasan Kemeja Lengan Panjang<br><b>56</b>",
          "Celana Cargo Pendek Anak Laki-Laki Bahan Dusky Crinkle/Parasut<br><b>45</b>"
         ],
         "textposition": "middle center",
         "type": "scatter",
         "x": [
          -0.14943468953412403,
          0.7806808888271141,
          -0.44776964880332176,
          -0.9851287589745311,
          0.801652208484863
         ],
         "y": [
          0.9557774427776483,
          -0.6069043910388772,
          -1,
          0.18887273398885188,
          0.462254214272377
         ]
        }
       ],
       "layout": {
        "height": 600,
        "margin": {
         "b": 20,
         "l": 20,
         "r": 20,
         "t": 60
        },
        "plot_bgcolor": "white",
        "template": {
         "data": {
          "bar": [
           {
            "error_x": {
             "color": "#2a3f5f"
            },
            "error_y": {
             "color": "#2a3f5f"
            },
            "marker": {
             "line": {
              "color": "#E5ECF6",
              "width": 0.5
             },
             "pattern": {
              "fillmode": "overlay",
              "size": 10,
              "solidity": 0.2
             }
            },
            "type": "bar"
           }
          ],
          "barpolar": [
           {
            "marker": {
             "line": {
              "color": "#E5ECF6",
              "width": 0.5
             },
             "pattern": {
              "fillmode": "overlay",
              "size": 10,
              "solidity": 0.2
             }
            },
            "type": "barpolar"
           }
          ],
          "carpet": [
           {
            "aaxis": {
             "endlinecolor": "#2a3f5f",
             "gridcolor": "white",
             "linecolor": "white",
             "minorgridcolor": "white",
             "startlinecolor": "#2a3f5f"
            },
            "baxis": {
             "endlinecolor": "#2a3f5f",
             "gridcolor": "white",
             "linecolor": "white",
             "minorgridcolor": "white",
             "startlinecolor": "#2a3f5f"
            },
            "type": "carpet"
           }
          ],
          "choropleth": [
           {
            "colorbar": {
             "outlinewidth": 0,
             "ticks": ""
            },
            "type": "choropleth"
           }
          ],
          "contour": [
           {
            "colorbar": {
             "outlinewidth": 0,
             "ticks": ""
            },
            "colorscale": [
             [
              0,
              "#0d0887"
             ],
             [
              0.1111111111111111,
              "#46039f"
             ],
             [
              0.2222222222222222,
              "#7201a8"
             ],
             [
              0.3333333333333333,
              "#9c179e"
             ],
             [
              0.4444444444444444,
              "#bd3786"
             ],
             [
              0.5555555555555556,
              "#d8576b"
             ],
             [
              0.6666666666666666,
              "#ed7953"
             ],
             [
              0.7777777777777778,
              "#fb9f3a"
             ],
             [
              0.8888888888888888,
              "#fdca26"
             ],
             [
              1,
              "#f0f921"
             ]
            ],
            "type": "contour"
           }
          ],
          "contourcarpet": [
           {
            "colorbar": {
             "outlinewidth": 0,
             "ticks": ""
            },
            "type": "contourcarpet"
           }
          ],
          "heatmap": [
           {
            "colorbar": {
             "outlinewidth": 0,
             "ticks": ""
            },
            "colorscale": [
             [
              0,
              "#0d0887"
             ],
             [
              0.1111111111111111,
              "#46039f"
             ],
             [
              0.2222222222222222,
              "#7201a8"
             ],
             [
              0.3333333333333333,
              "#9c179e"
             ],
             [
              0.4444444444444444,
              "#bd3786"
             ],
             [
              0.5555555555555556,
              "#d8576b"
             ],
             [
              0.6666666666666666,
              "#ed7953"
             ],
             [
              0.7777777777777778,
              "#fb9f3a"
             ],
             [
              0.8888888888888888,
              "#fdca26"
             ],
             [
              1,
              "#f0f921"
             ]
            ],
            "type": "heatmap"
           }
          ],
          "histogram": [
           {
            "marker": {
             "pattern": {
              "fillmode": "overlay",
              "size": 10,
              "solidity": 0.2
             }
            },
            "type": "histogram"
           }
          ],
          "histogram2d": [
           {
            "colorbar": {
             "outlinewidth": 0,
             "ticks": ""
            },
            "colorscale": [
             [
              0,
              "#0d0887"
             ],
             [
              0.1111111111111111,
              "#46039f"
             ],
             [
              0.2222222222222222,
              "#7201a8"
             ],
             [
              0.3333333333333333,
              "#9c179e"
             ],
             [
              0.4444444444444444,
              "#bd3786"
             ],
             [
              0.5555555555555556,
              "#d8576b"
             ],
             [
              0.6666666666666666,
              "#ed7953"
             ],
             [
              0.7777777777777778,
              "#fb9f3a"
             ],
             [
              0.8888888888888888,
              "#fdca26"
             ],
             [
              1,
              "#f0f921"
             ]
            ],
            "type": "histogram2d"
           }
          ],
          "histogram2dcontour": [
           {
            "colorbar": {
             "outlinewidth": 0,
             "ticks": ""
            },
            "colorscale": [
             [
              0,
              "#0d0887"
             ],
             [
              0.1111111111111111,
              "#46039f"
             ],
             [
              0.2222222222222222,
              "#7201a8"
             ],
             [
              0.3333333333333333,
              "#9c179e"
             ],
             [
              0.4444444444444444,
              "#bd3786"
             ],
             [
              0.5555555555555556,
              "#d8576b"
             ],
             [
              0.6666666666666666,
              "#ed7953"
             ],
             [
              0.7777777777777778,
              "#fb9f3a"
             ],
             [
              0.8888888888888888,
              "#fdca26"
             ],
             [
              1,
              "#f0f921"
             ]
            ],
            "type": "histogram2dcontour"
           }
          ],
          "mesh3d": [
           {
            "colorbar": {
             "outlinewidth": 0,
             "ticks": ""
            },
            "type": "mesh3d"
           }
          ],
          "parcoords": [
           {
            "line": {
             "colorbar": {
              "outlinewidth": 0,
              "ticks": ""
             }
            },
            "type": "parcoords"
           }
          ],
          "pie": [
           {
            "automargin": true,
            "type": "pie"
           }
          ],
          "scatter": [
           {
            "fillpattern": {
             "fillmode": "overlay",
             "size": 10,
             "solidity": 0.2
            },
            "type": "scatter"
           }
          ],
          "scatter3d": [
           {
            "line": {
             "colorbar": {
              "outlinewidth": 0,
              "ticks": ""
             }
            },
            "marker": {
             "colorbar": {
              "outlinewidth": 0,
              "ticks": ""
             }
            },
            "type": "scatter3d"
           }
          ],
          "scattercarpet": [
           {
            "marker": {
             "colorbar": {
              "outlinewidth": 0,
              "ticks": ""
             }
            },
            "type": "scattercarpet"
           }
          ],
          "scattergeo": [
           {
            "marker": {
             "colorbar": {
              "outlinewidth": 0,
              "ticks": ""
             }
            },
            "type": "scattergeo"
           }
          ],
          "scattergl": [
           {
            "marker": {
             "colorbar": {
              "outlinewidth": 0,
              "ticks": ""
             }
            },
            "type": "scattergl"
           }
          ],
          "scattermap": [
           {
            "marker": {
             "colorbar": {
              "outlinewidth": 0,
              "ticks": ""
             }
            },
            "type": "scattermap"
           }
          ],
          "scattermapbox": [
           {
            "marker": {
             "colorbar": {
              "outlinewidth": 0,
              "ticks": ""
             }
            },
            "type": "scattermapbox"
           }
          ],
          "scatterpolar": [
           {
            "marker": {
             "colorbar": {
              "outlinewidth": 0,
              "ticks": ""
             }
            },
            "type": "scatterpolar"
           }
          ],
          "scatterpolargl": [
           {
            "marker": {
             "colorbar": {
              "outlinewidth": 0,
              "ticks": ""
             }
            },
            "type": "scatterpolargl"
           }
          ],
          "scatterternary": [
           {
            "marker": {
             "colorbar": {
              "outlinewidth": 0,
              "ticks": ""
             }
            },
            "type": "scatterternary"
           }
          ],
          "surface": [
           {
            "colorbar": {
             "outlinewidth": 0,
             "ticks": ""
            },
            "colorscale": [
             [
              0,
              "#0d0887"
             ],
             [
              0.1111111111111111,
              "#46039f"
             ],
             [
              0.2222222222222222,
              "#7201a8"
             ],
             [
              0.3333333333333333,
              "#9c179e"
             ],
             [
              0.4444444444444444,
              "#bd3786"
             ],
             [
              0.5555555555555556,
              "#d8576b"
             ],
             [
              0.6666666666666666,
              "#ed7953"
             ],
             [
              0.7777777777777778,
              "#fb9f3a"
             ],
             [
              0.8888888888888888,
              "#fdca26"
             ],
             [
              1,
              "#f0f921"
             ]
            ],
            "type": "surface"
           }
          ],
          "table": [
           {
            "cells": {
             "fill": {
              "color": "#EBF0F8"
             },
             "line": {
              "color": "white"
             }
            },
            "header": {
             "fill": {
              "color": "#C8D4E3"
             },
             "line": {
              "color": "white"
             }
            },
            "type": "table"
           }
          ]
         },
         "layout": {
          "annotationdefaults": {
           "arrowcolor": "#2a3f5f",
           "arrowhead": 0,
           "arrowwidth": 1
          },
          "autotypenumbers": "strict",
          "coloraxis": {
           "colorbar": {
            "outlinewidth": 0,
            "ticks": ""
           }
          },
          "colorscale": {
           "diverging": [
            [
             0,
             "#8e0152"
            ],
            [
             0.1,
             "#c51b7d"
            ],
            [
             0.2,
             "#de77ae"
            ],
            [
             0.3,
             "#f1b6da"
            ],
            [
             0.4,
             "#fde0ef"
            ],
            [
             0.5,
             "#f7f7f7"
            ],
            [
             0.6,
             "#e6f5d0"
            ],
            [
             0.7,
             "#b8e186"
            ],
            [
             0.8,
             "#7fbc41"
            ],
            [
             0.9,
             "#4d9221"
            ],
            [
             1,
             "#276419"
            ]
           ],
           "sequential": [
            [
             0,
             "#0d0887"
            ],
            [
             0.1111111111111111,
             "#46039f"
            ],
            [
             0.2222222222222222,
             "#7201a8"
            ],
            [
             0.3333333333333333,
             "#9c179e"
            ],
            [
             0.4444444444444444,
             "#bd3786"
            ],
            [
             0.5555555555555556,
             "#d8576b"
            ],
            [
             0.6666666666666666,
             "#ed7953"
            ],
            [
             0.7777777777777778,
             "#fb9f3a"
            ],
            [
             0.8888888888888888,
             "#fdca26"
            ],
            [
             1,
             "#f0f921"
            ]
           ],
           "sequentialminus": [
            [
             0,
             "#0d0887"
            ],
            [
             0.1111111111111111,
             "#46039f"
            ],
            [
             0.2222222222222222,
             "#7201a8"
            ],
            [
             0.3333333333333333,
             "#9c179e"
            ],
            [
             0.4444444444444444,
             "#bd3786"
            ],
            [
             0.5555555555555556,
             "#d8576b"
            ],
            [
             0.6666666666666666,
             "#ed7953"
            ],
            [
             0.7777777777777778,
             "#fb9f3a"
            ],
            [
             0.8888888888888888,
             "#fdca26"
            ],
            [
             1,
             "#f0f921"
            ]
           ]
          },
          "colorway": [
           "#636efa",
           "#EF553B",
           "#00cc96",
           "#ab63fa",
           "#FFA15A",
           "#19d3f3",
           "#FF6692",
           "#B6E880",
           "#FF97FF",
           "#FECB52"
          ],
          "font": {
           "color": "#2a3f5f"
          },
          "geo": {
           "bgcolor": "white",
           "lakecolor": "white",
           "landcolor": "#E5ECF6",
           "showlakes": true,
           "showland": true,
           "subunitcolor": "white"
          },
          "hoverlabel": {
           "align": "left"
          },
          "hovermode": "closest",
          "mapbox": {
           "style": "light"
          },
          "paper_bgcolor": "white",
          "plot_bgcolor": "#E5ECF6",
          "polar": {
           "angularaxis": {
            "gridcolor": "white",
            "linecolor": "white",
            "ticks": ""
           },
           "bgcolor": "#E5ECF6",
           "radialaxis": {
            "gridcolor": "white",
            "linecolor": "white",
            "ticks": ""
           }
          },
          "scene": {
           "xaxis": {
            "backgroundcolor": "#E5ECF6",
            "gridcolor": "white",
            "gridwidth": 2,
            "linecolor": "white",
            "showbackground": true,
            "ticks": "",
            "zerolinecolor": "white"
           },
           "yaxis": {
            "backgroundcolor": "#E5ECF6",
            "gridcolor": "white",
            "gridwidth": 2,
            "linecolor": "white",
            "showbackground": true,
            "ticks": "",
            "zerolinecolor": "white"
           },
           "zaxis": {
            "backgroundcolor": "#E5ECF6",
            "gridcolor": "white",
            "gridwidth": 2,
            "linecolor": "white",
            "showbackground": true,
            "ticks": "",
            "zerolinecolor": "white"
           }
          },
          "shapedefaults": {
           "line": {
            "color": "#2a3f5f"
           }
          },
          "ternary": {
           "aaxis": {
            "gridcolor": "white",
            "linecolor": "white",
            "ticks": ""
           },
           "baxis": {
            "gridcolor": "white",
            "linecolor": "white",
            "ticks": ""
           },
           "bgcolor": "#E5ECF6",
           "caxis": {
            "gridcolor": "white",
            "linecolor": "white",
            "ticks": ""
           }
          },
          "title": {
           "x": 0.05
          },
          "xaxis": {
           "automargin": true,
           "gridcolor": "white",
           "linecolor": "white",
           "ticks": "",
           "title": {
            "standoff": 15
           },
           "zerolinecolor": "white",
           "zerolinewidth": 2
          },
          "yaxis": {
           "automargin": true,
           "gridcolor": "white",
           "linecolor": "white",
           "ticks": "",
           "title": {
            "standoff": 15
           },
           "zerolinecolor": "white",
           "zerolinewidth": 2
          }
         }
        },
        "title": {
         "text": "Bubble Cloud Chart: Top 5 Produk by Total Penjualan"
        },
        "width": 800,
        "xaxis": {
         "showgrid": false,
         "showticklabels": false,
         "zeroline": false
        },
        "yaxis": {
         "showgrid": false,
         "showticklabels": false,
         "zeroline": false
        }
       }
      }
     },
     "metadata": {},
     "output_type": "display_data"
    }
   ],
   "source": [
    "import pandas as pd\n",
    "import plotly.graph_objects as go\n",
    "import networkx as nx\n",
    "\n",
    "# Load dan preprocess data\n",
    "df_sales = pd.read_csv('csv/fact_sales_v2.csv', sep=';')\n",
    "if df_sales['total_sales'].dtype == object:\n",
    "    df_sales['total_sales'] = (\n",
    "        df_sales['total_sales']\n",
    "        .str.replace('.', '', regex=False)\n",
    "        .str.replace(',', '.', regex=False)\n",
    "        .astype(float)\n",
    ")\n",
    "dag_sales = df_sales.groupby('product_id', as_index=False)['total_sales'].sum()\n",
    "\n",
    "df_order_product = pd.read_csv('csv/order_product.csv', sep=';')\n",
    "df_merge1 = dag_sales.merge(\n",
    "    df_order_product[['order_item_id', 'product_id']],\n",
    "    on='product_id', how='left'\n",
    ")\n",
    "\n",
    "df_items = pd.read_csv('csv/order_items.csv', sep=';')\n",
    "df_merge2 = df_merge1.merge(\n",
    "    df_items[['order_item_id', 'order_item_name']].drop_duplicates('order_item_id'),\n",
    "    on='order_item_id', how='left'\n",
    ")\n",
    "\n",
    "df_final = df_merge2[['product_id', 'order_item_name', 'total_sales']].copy()\n",
    "df_final.columns = ['id', 'order_item_name', 'total_sales']\n",
    "df_final = df_final.drop_duplicates(subset=['id'], keep='first')\n",
    "\n",
    "# Ambil 5 produk teratas\n",
    "df_top5 = df_final.sort_values('total_sales', ascending=False).head(5)\n",
    "\n",
    "# Scaling ukuran bubble\n",
    "sizes = (df_top5['total_sales'] / df_top5['total_sales'].max()) * 100 + 40  \n",
    "\n",
    "# Buat graph kosong dan layout spring (bubble cloud)\n",
    "G = nx.Graph()\n",
    "for i in range(len(df_top5)):\n",
    "    G.add_node(i)\n",
    "\n",
    "pos = nx.spring_layout(G, k=0.5, seed=42)  # posisi node dengan spring layout\n",
    "\n",
    "x_pos = [pos[i][0] for i in range(len(df_top5))]\n",
    "y_pos = [pos[i][1] for i in range(len(df_top5))]\n",
    "\n",
    "# Buat figure Plotly\n",
    "fig = go.Figure()\n",
    "\n",
    "fig.add_trace(go.Scatter(\n",
    "    x=x_pos,\n",
    "    y=y_pos,\n",
    "    mode='markers+text',\n",
    "    text=[f\"{name}<br><b>{int(total):,}</b>\" for name, total in zip(df_top5['order_item_name'], df_top5['total_sales'])],\n",
    "    textposition='middle center',\n",
    "    marker=dict(\n",
    "        size=sizes,\n",
    "        color=df_top5['total_sales'],\n",
    "        colorscale='Viridis',\n",
    "        showscale=True,\n",
    "        line=dict(width=2, color='DarkSlateGrey'),\n",
    "        sizemode='diameter',\n",
    "        opacity=0.7,\n",
    "    ),\n",
    "    hoverinfo='text',\n",
    "    hovertext=[f\"{name}<br>Total Sales: {total:,.0f}\" for name, total in zip(df_top5['order_item_name'], df_top5['total_sales'])]\n",
    "))\n",
    "\n",
    "fig.update_layout(\n",
    "    title=\"Bubble Cloud Chart: Top 5 Produk by Total Penjualan\",\n",
    "    xaxis=dict(showgrid=False, zeroline=False, showticklabels=False),\n",
    "    yaxis=dict(showgrid=False, zeroline=False, showticklabels=False),\n",
    "    plot_bgcolor='white',\n",
    "    height=600,\n",
    "    width=800,\n",
    "    margin=dict(l=20, r=20, t=60, b=20)\n",
    ")\n",
    "\n",
    "# Simpan ke PNG \n",
    "output_path = 'bubble_cloud_chart.png'\n",
    "fig.write_image(output_path, scale=2)\n",
    "\n",
    "print(f\"Chart berhasil disimpan ke '{output_path}'\")\n",
    "\n",
    "fig.show()"
   ]
  }
 ],
 "metadata": {
  "kernelspec": {
   "display_name": "base",
   "language": "python",
   "name": "python3"
  },
  "language_info": {
   "codemirror_mode": {
    "name": "ipython",
    "version": 3
   },
   "file_extension": ".py",
   "mimetype": "text/x-python",
   "name": "python",
   "nbconvert_exporter": "python",
   "pygments_lexer": "ipython3",
   "version": "3.12.7"
  }
 },
 "nbformat": 4,
 "nbformat_minor": 5
}
