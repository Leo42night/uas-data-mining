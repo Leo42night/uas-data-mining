{
 "cells": [
  {
   "cell_type": "markdown",
   "id": "b382594e",
   "metadata": {},
   "source": [
    "# Laporan UAS Data Mining - Simulasi Mining Data Online Service (metode CRIPS-DM)"
   ]
  },
  {
   "cell_type": "markdown",
   "id": "189f1ad3",
   "metadata": {},
   "source": [
    "<img src=\"https://raw.githubusercontent.com/Leo42night/Leo42night/main/img/logo_shopmining.png\" width=\"20%\" style=\"float:right; margin-left:10px;\">\n",
    "\n",
    "> Proses dimulai dengan memesan layanan hosting online dan memasang template website e-commerce. Setelah itu, tim menyiapkan dataset produk yang akan digunakan dalam proses pembelian. Selanjutnya, sembilan anggota tim melakukan simulasi sebagai pembeli untuk mengisi data transaksi. Para member menggunakan beberapa akun guna menciptakan variasi data yang lebih luas."
   ]
  },
  {
   "cell_type": "markdown",
   "id": "8b34ea43",
   "metadata": {},
   "source": [
    "Skema ERD Database Sumber Sebagai berikut:\n",
    "<br/><img src=\"images/skema_erd_database.png\" alt=\"Skema ERD\" width=\"100%\" height=\"auto\">"
   ]
  },
  {
   "cell_type": "markdown",
   "id": "313d6e10",
   "metadata": {},
   "source": [
    "# Library & Utilities"
   ]
  },
  {
   "cell_type": "code",
   "execution_count": 3,
   "id": "aee2881e",
   "metadata": {},
   "outputs": [],
   "source": [
    "# Load Library\n",
    "import pandas as pd\n",
    "import numpy as np\n",
    "import matplotlib.pyplot as plt\n",
    "import seaborn as sns\n",
    "import math\n",
    "\n",
    "# Bubble chart\n",
    "import plotly.graph_objects as go\n",
    "import networkx as nx\n",
    "\n",
    "# Geo Map\n",
    "from geopy.geocoders import Nominatim\n",
    "from geopy.extra.rate_limiter import RateLimiter\n",
    "import plotly.express as px\n",
    "\n",
    "# Export filter\n",
    "import json\n",
    "\n",
    "# Model Asosiasi\n",
    "from mlxtend.frequent_patterns import apriori, association_rules\n",
    "from mlxtend.preprocessing import TransactionEncoder \n",
    "\n",
    "# Functions\n",
    "\n",
    "def unique_values(df: pd.DataFrame):\n",
    "    \"\"\"\n",
    "    Menampilkan jumlah dan daftar nilai unik untuk setiap kolom kategorikal dalam DataFrame.\n",
    "\n",
    "    Args:\n",
    "        df (pd.DataFrame): DataFrame yang akan dianalisis.\n",
    "\n",
    "    Returns:\n",
    "        None: Hanya menampilkan hasil analisis.\n",
    "    \"\"\"\n",
    "\n",
    "    # Pilih hanya kolom non-numerik (categorical/object)\n",
    "    categorical_cols = df.select_dtypes(exclude=['int64', 'float64']).columns\n",
    "    \n",
    "    if not categorical_cols.any():\n",
    "        print(\"✅ Tidak ada kolom kategorikal dalam DataFrame.\")\n",
    "        return\n",
    "\n",
    "    print(\"=\"*40)\n",
    "    print(\"🔍 ANALISIS NILAI UNIK PADA KOLOM KATEGORIKAL\")\n",
    "    print(\"=\"*40)\n",
    "\n",
    "    for col in categorical_cols:\n",
    "        unique_vals = df[col].unique().tolist()\n",
    "        unique_count = len(unique_vals)\n",
    "\n",
    "        print(f\"\\n📌 Kolom: {col}\")\n",
    "        print(f\"🔢 Jumlah Nilai Unik: {unique_count}\")\n",
    "        print(f\"🗂 Daftar Nilai Unik: {unique_vals}\")\n",
    "\n",
    "    print(\"\\n✅ Analisis selesai! 🚀\")\n",
    "    \n",
    "      \n",
    "def eda(df: pd.DataFrame, row=5):\n",
    "    \"\"\"\n",
    "    Fungsi untuk melakukan eksplorasi data secara cepat dan komprehensif.\n",
    "\n",
    "    Args:\n",
    "        df (pd.DataFrame): DataFrame yang akan dianalisis.\n",
    "        row (int, optional): Jumlah baris yang akan ditampilkan dari data awal. Default 5.\n",
    "    \n",
    "    Returns:\n",
    "        None: Menampilkan informasi dan statistik langsung tanpa mengembalikan nilai.\n",
    "    \"\"\"\n",
    "\n",
    "    print(\"=\"*40)\n",
    "    print(f\"📊 DataFrame Shape: {df.shape[0]} rows x {df.shape[1]} columns\")\n",
    "    print(\"=\"*40)\n",
    "\n",
    "    # Menampilkan informasi umum dataset\n",
    "    print(\"\\n🔎 Informasi Data:\")\n",
    "    print(\"-\" * 20)\n",
    "    df.info()\n",
    "\n",
    "    # Menampilkan beberapa baris awal\n",
    "    print(\"\\n📝 Sample Data:\")\n",
    "    print(\"-\" * 20)\n",
    "    display(df.head(row))\n",
    "\n",
    "    # Statistik deskriptif untuk kolom numerik\n",
    "    print(\"\\n📈 Statistik Deskriptif:\")\n",
    "    print(\"-\" * 20)\n",
    "    display(df.describe().T)  # Transpose agar lebih mudah dibaca\n",
    "\n",
    "    # Mengecek jumlah duplikasi\n",
    "    duplicate_count = df.duplicated().sum()\n",
    "    print(f\"\\n⚠️ Jumlah Duplikasi: {duplicate_count}\")\n",
    "\n",
    "    # Mengecek jumlah missing values\n",
    "    missing_values = df.isna().sum()\n",
    "    missing_info = missing_values[missing_values > 0]  # Hanya tampilkan yang memiliki missing value\n",
    "\n",
    "    print(\"\\n❌ Missing Values:\")\n",
    "    print(\"-\" * 20)\n",
    "    if not missing_info.empty:\n",
    "        display(missing_info)\n",
    "    else:\n",
    "        print(\"✅ Tidak ada missing values!\")\n",
    "\n",
    "    print(\"\\n✅ EDA selesai! 🚀\")\n",
    "\n",
    "\n",
    "def distribution_n_outliers(df: pd.DataFrame, selected_cols=None):\n",
    "    \"\"\"\n",
    "    Menampilkan histogram dan boxplot dari kolom numerik untuk analisis distribusi & outlier.\n",
    "    Juga menghitung jumlah dan persentase outlier, serta matriks korelasi antar variabel numerik.\n",
    "    \n",
    "    Args:\n",
    "        df (pd.DataFrame): DataFrame yang akan dianalisis.\n",
    "        selected_cols (list, optional): Daftar kolom numerik yang ingin dianalisis. \n",
    "                                        Jika None, akan otomatis memilih semua kolom numerik.\n",
    "    \"\"\"\n",
    "\n",
    "    # Pilih hanya kolom numerik\n",
    "    numeric_cols = df.select_dtypes(include=['float64', 'int64']).columns\n",
    "    selected_cols = selected_cols if selected_cols else numeric_cols\n",
    "\n",
    "    # --- VISUALISASI DISTRIBUSI & OUTLIER ---\n",
    "    fig, axes = plt.subplots(2, len(selected_cols), figsize=(5 * len(selected_cols), 10))\n",
    "\n",
    "    for i, col in enumerate(selected_cols):\n",
    "        # Histogram (Distribusi Data)\n",
    "        sns.histplot(df[col], bins=30, kde=True, ax=axes[0, i])\n",
    "        axes[0, i].set_title(f\"Distribusi {col}\")\n",
    "\n",
    "        # Boxplot (Outliers)\n",
    "        sns.boxplot(y=df[col], ax=axes[1, i], flierprops={\"marker\": \"o\", \"markerfacecolor\": \"red\", \"markersize\": 7})\n",
    "        axes[1, i].set_title(f\"Boxplot {col}\")\n",
    "\n",
    "    plt.tight_layout()\n",
    "    plt.show()\n",
    "\n",
    "    # --- PERHITUNGAN OUTLIER ---\n",
    "    Q1 = df[selected_cols].quantile(0.25)\n",
    "    Q3 = df[selected_cols].quantile(0.75)\n",
    "    IQR = Q3 - Q1\n",
    "\n",
    "    # Menentukan batas outlier\n",
    "    lower_bound = Q1 - 1.5 * IQR\n",
    "    upper_bound = Q3 + 1.5 * IQR\n",
    "\n",
    "    # Menghitung jumlah & persentase outlier\n",
    "    outlier_counts = ((df[selected_cols] < lower_bound) | (df[selected_cols] > upper_bound)).sum()\n",
    "    outlier_percentage = (outlier_counts / len(df)) * 100\n",
    "\n",
    "    # Menampilkan hasil\n",
    "    outlier_info = pd.DataFrame({'Jumlah Outlier': outlier_counts, 'Persentase Outlier (%)': outlier_percentage})\n",
    "    print(\"\\n--- ANALISIS OUTLIER ---\")\n",
    "    print(outlier_info)\n",
    "\n",
    "    # --- MATRISK KORELASI ---\n",
    "    correlation_matrix = df[selected_cols].corr()\n",
    "    plt.figure(figsize=(10, 8))\n",
    "    sns.heatmap(correlation_matrix, annot=True, cmap=\"coolwarm\", fmt=\".2f\", linewidths=0.5)\n",
    "    plt.title(\"Matriks Korelasi Antar Variabel\")\n",
    "    plt.show()\n",
    "    "
   ]
  },
  {
   "cell_type": "markdown",
   "id": "9fb1a919",
   "metadata": {},
   "source": [
    "# Business Understanding"
   ]
  },
  {
   "cell_type": "markdown",
   "id": "db3cd056",
   "metadata": {},
   "source": [
    "Menjawab Pertanyaan-Pertanyaan Berikut:\n",
    "- Total Pelanggan? Total terjadinya Transaksi? Total Nilai Uang seluruh Transaksi?\n",
    "- Pelanggan Yang paling banyak melakukan Transaksi?\n",
    "- Pepbelian Produk Terbanyak? Pembelian Termahal?\n",
    "- Distribusi Pembelian Tiap Daerah (bar chart)? Trend Pembelian Tiap Daerah? Barang apa yang paling sering dibeli di tiap daerah? \n",
    "- Pembelian dari tiap ip address?"
   ]
  },
  {
   "cell_type": "markdown",
   "id": "85a65df7",
   "metadata": {},
   "source": [
    "# Data Understanding"
   ]
  },
  {
   "cell_type": "markdown",
   "id": "f8ac3481",
   "metadata": {},
   "source": [
    "## Load Dataset"
   ]
  },
  {
   "cell_type": "markdown",
   "id": "91b5e3ed",
   "metadata": {},
   "source": [
    "### Load Fact_Sales_v1 (df_salesv1)"
   ]
  },
  {
   "cell_type": "markdown",
   "id": "d5967edd",
   "metadata": {},
   "source": [
    "Menggunakan **fact_sales_v1.csv** yang merincikan detail sampai jumlah qty untuk masing-masing produk pada tiap transaksi. Query penggabungan Tabel sebagai berikut:\n",
    "```sql\n",
    "SELECT \n",
    "    o.id AS order_id,\n",
    "    o.date_created_gmt as order_date,\n",
    "    o.ip_address,\n",
    "    o.total_amount,\n",
    "    c.customer_id,\n",
    "    c.first_name,\n",
    "    c.last_name,\n",
    "    c.email,\n",
    "    c.country,\n",
    "    c.city,\n",
    "    c.state,\n",
    "    oi.order_item_name,\n",
    "    oi.order_item_type,\n",
    "    op.product_qty\n",
    "FROM wpkr_wc_orders o\n",
    "INNER JOIN wpkr_wc_customer_lookup c ON o.customer_id = c.customer_id\n",
    "INNER JOIN wpkr_woocommerce_order_items oi ON o.id = oi.order_id\n",
    "LEFT JOIN wpkr_wc_order_product_lookup op ON o.id = op.order_id;\n",
    "```"
   ]
  },
  {
   "cell_type": "code",
   "execution_count": 7,
   "id": "4971b281",
   "metadata": {},
   "outputs": [],
   "source": [
    "df_salesv1 = pd.read_csv('csv/fact_sales_v1.csv', sep=';')"
   ]
  },
  {
   "cell_type": "markdown",
   "id": "afa3698b",
   "metadata": {},
   "source": [
    "**Insight:**\n",
    "- `country` tidak diperlukan karena data tunggal"
   ]
  },
  {
   "cell_type": "markdown",
   "id": "a267b822",
   "metadata": {},
   "source": [
    "### Load Fact_Sales_v2 (df_salesv2)"
   ]
  },
  {
   "cell_type": "markdown",
   "id": "f4e32931",
   "metadata": {},
   "source": [
    "Menggunakan **fact_sales_v2.csv** yang memiliki detail produk dari tiap transaksi (walau tidak merincikan qty masing-masing produk). Query-nya sebagai berikut:\n",
    "```sql\n",
    "SELECT\n",
    "    o.id AS order_id,\n",
    "    o.date_created_gmt AS order_date,\n",
    "    op.product_id,\n",
    "    oi.order_item_name,\n",
    "    p.total_sales,\n",
    "\t oi.order_item_type,\n",
    "    op.product_qty,\n",
    "    op.product_net_revenue,\n",
    "    c.customer_id,\n",
    "    c.first_name,\n",
    "    c.last_name,\n",
    "    c.email,\n",
    "    c.city,\n",
    "    c.state\n",
    "\n",
    "FROM wpkr_wc_order_product_lookup op\n",
    "\n",
    "-- Join ke orders\n",
    "JOIN wpkr_wc_orders o ON o.id = op.order_id\n",
    "\n",
    "-- Join ke item name\n",
    "JOIN wpkr_woocommerce_order_items oi ON oi.order_id = o.id\n",
    "    AND oi.order_item_id = op.order_item_id\n",
    "\n",
    "-- Join ke customer\n",
    "JOIN wpkr_wc_customer_lookup c ON c.customer_id = op.customer_id\n",
    "\n",
    "-- Join ke product meta\n",
    "LEFT JOIN wpkr_wc_product_meta_lookup p ON p.product_id = op.product_id\n",
    "\n",
    "-- Produk tanpa shipping\n",
    "WHERE oi.order_item_type = 'line_item'\n",
    "\n",
    "ORDER BY o.date_created_gmt DESC;\n",
    "\n",
    "```"
   ]
  },
  {
   "cell_type": "code",
   "execution_count": 8,
   "id": "3fba841a",
   "metadata": {},
   "outputs": [],
   "source": [
    "df_salesv2 = pd.read_csv('csv/fact_sales_v2.csv', sep=';', encoding='utf-8') # digunakan pada: geomap model asosiasi"
   ]
  },
  {
   "cell_type": "markdown",
   "id": "485c8c19",
   "metadata": {},
   "source": [
    "### Load orders"
   ]
  },
  {
   "cell_type": "code",
   "execution_count": 9,
   "id": "2b228e6b",
   "metadata": {},
   "outputs": [],
   "source": [
    "orders = pd.read_csv('csv/orders.csv', sep=';')"
   ]
  },
  {
   "cell_type": "markdown",
   "id": "8cdefd2e",
   "metadata": {},
   "source": [
    "### Load order_meta"
   ]
  },
  {
   "cell_type": "code",
   "execution_count": 10,
   "id": "25a4d31b",
   "metadata": {},
   "outputs": [],
   "source": [
    "order_meta = pd.read_csv(\"csv/order_meta.csv\", sep=\";\")"
   ]
  },
  {
   "cell_type": "markdown",
   "id": "765b351a",
   "metadata": {},
   "source": [
    "### Load order_items"
   ]
  },
  {
   "cell_type": "code",
   "execution_count": 11,
   "id": "551c91ad",
   "metadata": {},
   "outputs": [],
   "source": [
    "order_items = pd.read_csv('csv/order_items.csv', sep=';')"
   ]
  },
  {
   "cell_type": "markdown",
   "id": "771d9a1f",
   "metadata": {},
   "source": [
    "## Eksplorasi Data Awal"
   ]
  },
  {
   "cell_type": "markdown",
   "id": "5900c6f3",
   "metadata": {},
   "source": [
    "### Fact Sales V1 (df_salesv1)"
   ]
  },
  {
   "cell_type": "code",
   "execution_count": 12,
   "id": "9402c1d2",
   "metadata": {},
   "outputs": [
    {
     "name": "stdout",
     "output_type": "stream",
     "text": [
      "========================================\n",
      "📊 DataFrame Shape: 752 rows x 14 columns\n",
      "========================================\n",
      "\n",
      "🔎 Informasi Data:\n",
      "--------------------\n",
      "<class 'pandas.core.frame.DataFrame'>\n",
      "RangeIndex: 752 entries, 0 to 751\n",
      "Data columns (total 14 columns):\n",
      " #   Column           Non-Null Count  Dtype \n",
      "---  ------           --------------  ----- \n",
      " 0   order_id         752 non-null    int64 \n",
      " 1   order_date       752 non-null    object\n",
      " 2   ip_address       752 non-null    object\n",
      " 3   total_amount     752 non-null    object\n",
      " 4   customer_id      752 non-null    int64 \n",
      " 5   first_name       752 non-null    object\n",
      " 6   last_name        752 non-null    object\n",
      " 7   email            752 non-null    object\n",
      " 8   country          752 non-null    object\n",
      " 9   city             752 non-null    object\n",
      " 10  state            752 non-null    object\n",
      " 11  order_item_name  752 non-null    object\n",
      " 12  order_item_type  752 non-null    object\n",
      " 13  product_qty      752 non-null    int64 \n",
      "dtypes: int64(3), object(11)\n",
      "memory usage: 82.4+ KB\n",
      "\n",
      "📝 Sample Data:\n",
      "--------------------\n"
     ]
    },
    {
     "data": {
      "text/html": [
       "<div>\n",
       "<style scoped>\n",
       "    .dataframe tbody tr th:only-of-type {\n",
       "        vertical-align: middle;\n",
       "    }\n",
       "\n",
       "    .dataframe tbody tr th {\n",
       "        vertical-align: top;\n",
       "    }\n",
       "\n",
       "    .dataframe thead th {\n",
       "        text-align: right;\n",
       "    }\n",
       "</style>\n",
       "<table border=\"1\" class=\"dataframe\">\n",
       "  <thead>\n",
       "    <tr style=\"text-align: right;\">\n",
       "      <th></th>\n",
       "      <th>order_id</th>\n",
       "      <th>order_date</th>\n",
       "      <th>ip_address</th>\n",
       "      <th>total_amount</th>\n",
       "      <th>customer_id</th>\n",
       "      <th>first_name</th>\n",
       "      <th>last_name</th>\n",
       "      <th>email</th>\n",
       "      <th>country</th>\n",
       "      <th>city</th>\n",
       "      <th>state</th>\n",
       "      <th>order_item_name</th>\n",
       "      <th>order_item_type</th>\n",
       "      <th>product_qty</th>\n",
       "    </tr>\n",
       "  </thead>\n",
       "  <tbody>\n",
       "    <tr>\n",
       "      <th>0</th>\n",
       "      <td>1036</td>\n",
       "      <td>2025-05-08 22:36:36</td>\n",
       "      <td>118.99.118.196</td>\n",
       "      <td>62700,00000000</td>\n",
       "      <td>62</td>\n",
       "      <td>Vaclav</td>\n",
       "      <td>Wedge</td>\n",
       "      <td>vwedge1s@typepad.com</td>\n",
       "      <td>ID</td>\n",
       "      <td>Malang</td>\n",
       "      <td>JI</td>\n",
       "      <td>Atasan Basic Wanita</td>\n",
       "      <td>line_item</td>\n",
       "      <td>1</td>\n",
       "    </tr>\n",
       "    <tr>\n",
       "      <th>1</th>\n",
       "      <td>1036</td>\n",
       "      <td>2025-05-08 22:36:36</td>\n",
       "      <td>118.99.118.196</td>\n",
       "      <td>62700,00000000</td>\n",
       "      <td>62</td>\n",
       "      <td>Vaclav</td>\n",
       "      <td>Wedge</td>\n",
       "      <td>vwedge1s@typepad.com</td>\n",
       "      <td>ID</td>\n",
       "      <td>Malang</td>\n",
       "      <td>JI</td>\n",
       "      <td>Free shipping</td>\n",
       "      <td>shipping</td>\n",
       "      <td>1</td>\n",
       "    </tr>\n",
       "    <tr>\n",
       "      <th>2</th>\n",
       "      <td>1037</td>\n",
       "      <td>2025-05-08 22:53:26</td>\n",
       "      <td>118.99.118.196</td>\n",
       "      <td>329000,00000000</td>\n",
       "      <td>63</td>\n",
       "      <td>Ysabel</td>\n",
       "      <td>Grimster</td>\n",
       "      <td>ygrimster1h@timesonline.co.uk</td>\n",
       "      <td>ID</td>\n",
       "      <td>Samarinda</td>\n",
       "      <td>KI</td>\n",
       "      <td>This Is April Atasan Kemeja Lengan Panjang</td>\n",
       "      <td>line_item</td>\n",
       "      <td>1</td>\n",
       "    </tr>\n",
       "    <tr>\n",
       "      <th>3</th>\n",
       "      <td>1037</td>\n",
       "      <td>2025-05-08 22:53:26</td>\n",
       "      <td>118.99.118.196</td>\n",
       "      <td>329000,00000000</td>\n",
       "      <td>63</td>\n",
       "      <td>Ysabel</td>\n",
       "      <td>Grimster</td>\n",
       "      <td>ygrimster1h@timesonline.co.uk</td>\n",
       "      <td>ID</td>\n",
       "      <td>Samarinda</td>\n",
       "      <td>KI</td>\n",
       "      <td>Free shipping</td>\n",
       "      <td>shipping</td>\n",
       "      <td>1</td>\n",
       "    </tr>\n",
       "    <tr>\n",
       "      <th>4</th>\n",
       "      <td>1038</td>\n",
       "      <td>2025-05-08 22:56:25</td>\n",
       "      <td>118.99.118.196</td>\n",
       "      <td>550000,00000000</td>\n",
       "      <td>64</td>\n",
       "      <td>Olive</td>\n",
       "      <td>O'Logan</td>\n",
       "      <td>oologanc@imgur.com</td>\n",
       "      <td>ID</td>\n",
       "      <td>Kota Pontianak</td>\n",
       "      <td>KB</td>\n",
       "      <td>AMOENE [MADE] Long Strap Dress Navy</td>\n",
       "      <td>line_item</td>\n",
       "      <td>1</td>\n",
       "    </tr>\n",
       "  </tbody>\n",
       "</table>\n",
       "</div>"
      ],
      "text/plain": [
       "   order_id           order_date      ip_address     total_amount  \\\n",
       "0      1036  2025-05-08 22:36:36  118.99.118.196   62700,00000000   \n",
       "1      1036  2025-05-08 22:36:36  118.99.118.196   62700,00000000   \n",
       "2      1037  2025-05-08 22:53:26  118.99.118.196  329000,00000000   \n",
       "3      1037  2025-05-08 22:53:26  118.99.118.196  329000,00000000   \n",
       "4      1038  2025-05-08 22:56:25  118.99.118.196  550000,00000000   \n",
       "\n",
       "   customer_id first_name last_name                          email country  \\\n",
       "0           62     Vaclav     Wedge           vwedge1s@typepad.com      ID   \n",
       "1           62     Vaclav     Wedge           vwedge1s@typepad.com      ID   \n",
       "2           63     Ysabel  Grimster  ygrimster1h@timesonline.co.uk      ID   \n",
       "3           63     Ysabel  Grimster  ygrimster1h@timesonline.co.uk      ID   \n",
       "4           64      Olive   O'Logan             oologanc@imgur.com      ID   \n",
       "\n",
       "             city state                             order_item_name  \\\n",
       "0          Malang    JI                         Atasan Basic Wanita   \n",
       "1          Malang    JI                               Free shipping   \n",
       "2       Samarinda    KI  This Is April Atasan Kemeja Lengan Panjang   \n",
       "3       Samarinda    KI                               Free shipping   \n",
       "4  Kota Pontianak    KB         AMOENE [MADE] Long Strap Dress Navy   \n",
       "\n",
       "  order_item_type  product_qty  \n",
       "0       line_item            1  \n",
       "1        shipping            1  \n",
       "2       line_item            1  \n",
       "3        shipping            1  \n",
       "4       line_item            1  "
      ]
     },
     "metadata": {},
     "output_type": "display_data"
    },
    {
     "name": "stdout",
     "output_type": "stream",
     "text": [
      "\n",
      "📈 Statistik Deskriptif:\n",
      "--------------------\n"
     ]
    },
    {
     "data": {
      "text/html": [
       "<div>\n",
       "<style scoped>\n",
       "    .dataframe tbody tr th:only-of-type {\n",
       "        vertical-align: middle;\n",
       "    }\n",
       "\n",
       "    .dataframe tbody tr th {\n",
       "        vertical-align: top;\n",
       "    }\n",
       "\n",
       "    .dataframe thead th {\n",
       "        text-align: right;\n",
       "    }\n",
       "</style>\n",
       "<table border=\"1\" class=\"dataframe\">\n",
       "  <thead>\n",
       "    <tr style=\"text-align: right;\">\n",
       "      <th></th>\n",
       "      <th>count</th>\n",
       "      <th>mean</th>\n",
       "      <th>std</th>\n",
       "      <th>min</th>\n",
       "      <th>25%</th>\n",
       "      <th>50%</th>\n",
       "      <th>75%</th>\n",
       "      <th>max</th>\n",
       "    </tr>\n",
       "  </thead>\n",
       "  <tbody>\n",
       "    <tr>\n",
       "      <th>order_id</th>\n",
       "      <td>752.0</td>\n",
       "      <td>1118.744681</td>\n",
       "      <td>34.162823</td>\n",
       "      <td>1036.0</td>\n",
       "      <td>1103.00</td>\n",
       "      <td>1109.0</td>\n",
       "      <td>1153.0</td>\n",
       "      <td>1181.0</td>\n",
       "    </tr>\n",
       "    <tr>\n",
       "      <th>customer_id</th>\n",
       "      <td>752.0</td>\n",
       "      <td>68.856383</td>\n",
       "      <td>28.753706</td>\n",
       "      <td>14.0</td>\n",
       "      <td>50.75</td>\n",
       "      <td>60.0</td>\n",
       "      <td>100.0</td>\n",
       "      <td>109.0</td>\n",
       "    </tr>\n",
       "    <tr>\n",
       "      <th>product_qty</th>\n",
       "      <td>752.0</td>\n",
       "      <td>1.018617</td>\n",
       "      <td>0.153691</td>\n",
       "      <td>1.0</td>\n",
       "      <td>1.00</td>\n",
       "      <td>1.0</td>\n",
       "      <td>1.0</td>\n",
       "      <td>3.0</td>\n",
       "    </tr>\n",
       "  </tbody>\n",
       "</table>\n",
       "</div>"
      ],
      "text/plain": [
       "             count         mean        std     min      25%     50%     75%  \\\n",
       "order_id     752.0  1118.744681  34.162823  1036.0  1103.00  1109.0  1153.0   \n",
       "customer_id  752.0    68.856383  28.753706    14.0    50.75    60.0   100.0   \n",
       "product_qty  752.0     1.018617   0.153691     1.0     1.00     1.0     1.0   \n",
       "\n",
       "                max  \n",
       "order_id     1181.0  \n",
       "customer_id   109.0  \n",
       "product_qty     3.0  "
      ]
     },
     "metadata": {},
     "output_type": "display_data"
    },
    {
     "name": "stdout",
     "output_type": "stream",
     "text": [
      "\n",
      "⚠️ Jumlah Duplikasi: 438\n",
      "\n",
      "❌ Missing Values:\n",
      "--------------------\n",
      "✅ Tidak ada missing values!\n",
      "\n",
      "✅ EDA selesai! 🚀\n",
      "========================================\n",
      "🔍 ANALISIS NILAI UNIK PADA KOLOM KATEGORIKAL\n",
      "========================================\n",
      "\n",
      "📌 Kolom: order_date\n",
      "🔢 Jumlah Nilai Unik: 110\n",
      "🗂 Daftar Nilai Unik: ['2025-05-08 22:36:36', '2025-05-08 22:53:26', '2025-05-08 22:56:25', '2025-05-08 22:59:51', '2025-05-08 23:02:06', '2025-05-08 23:10:21', '2025-05-08 23:12:14', '2025-05-08 23:19:30', '2025-05-08 23:23:15', '2025-05-08 23:25:58', '2025-05-08 23:28:35', '2025-05-08 23:30:49', '2025-05-09 14:08:55', '2025-05-09 14:14:17', '2025-05-09 14:17:37', '2025-05-09 14:20:17', '2025-05-09 14:23:08', '2025-05-09 14:26:15', '2025-05-09 14:28:54', '2025-05-09 14:31:28', '2025-05-09 14:34:08', '2025-05-09 14:36:31', '2025-05-09 14:39:27', '2025-05-09 14:41:49', '2025-05-09 15:25:46', '2025-05-09 15:34:35', '2025-05-09 15:37:30', '2025-05-09 15:39:17', '2025-05-09 15:41:10', '2025-05-09 15:42:53', '2025-05-09 15:44:29', '2025-05-09 15:46:05', '2025-05-09 15:48:01', '2025-05-09 15:49:50', '2025-05-09 15:51:23', '2025-05-09 15:53:50', '2025-05-09 16:31:12', '2025-05-09 16:34:01', '2025-05-09 16:38:41', '2025-05-09 16:48:14', '2025-05-09 16:50:32', '2025-05-09 16:53:57', '2025-05-09 16:55:54', '2025-05-09 16:59:00', '2025-05-09 17:00:25', '2025-05-09 17:01:14', '2025-05-09 17:02:46', '2025-05-09 17:04:14', '2025-05-09 17:28:14', '2025-05-09 17:33:43', '2025-05-09 17:38:08', '2025-05-09 17:42:15', '2025-05-10 04:02:09', '2025-05-10 04:13:21', '2025-05-10 04:15:20', '2025-05-10 04:17:23', '2025-05-10 04:19:47', '2025-05-10 04:21:20', '2025-05-10 04:23:03', '2025-05-10 04:26:25', '2025-05-10 04:34:28', '2025-05-10 04:42:13', '2025-05-10 04:44:00', '2025-05-10 05:59:01', '2025-05-10 06:01:07', '2025-05-10 06:03:14', '2025-05-10 06:04:51', '2025-05-10 06:06:21', '2025-05-10 06:06:27', '2025-05-10 06:08:56', '2025-05-10 06:11:13', '2025-05-10 06:11:41', '2025-05-10 06:14:01', '2025-05-10 06:14:06', '2025-05-10 06:16:13', '2025-05-10 06:18:13', '2025-05-10 06:18:40', '2025-05-10 06:21:33', '2025-05-10 06:21:58', '2025-05-10 06:23:31', '2025-05-10 06:27:14', '2025-05-10 06:28:58', '2025-05-10 06:29:50', '2025-05-10 06:31:48', '2025-05-10 06:32:18', '2025-05-10 06:34:45', '2025-05-10 06:34:46', '2025-05-10 06:35:39', '2025-05-10 06:36:37', '2025-05-10 06:36:48', '2025-05-10 06:38:55', '2025-05-10 06:40:57', '2025-05-10 06:43:32', '2025-05-10 06:45:01', '2025-05-10 07:10:30', '2025-05-10 07:12:41', '2025-05-10 07:13:51', '2025-05-10 07:15:40', '2025-05-10 07:17:02', '2025-05-10 07:18:16', '2025-05-10 07:19:43', '2025-05-10 07:20:38', '2025-05-10 07:50:35', '2025-05-10 07:54:18', '2025-05-10 07:56:18', '2025-05-10 08:01:50', '2025-05-10 08:08:08', '2025-05-10 08:10:36', '2025-05-10 08:13:52', '2025-05-10 08:17:14']\n",
      "\n",
      "📌 Kolom: ip_address\n",
      "🔢 Jumlah Nilai Unik: 9\n",
      "🗂 Daftar Nilai Unik: ['118.99.118.196', '114.10.137.72', '118.99.64.211', '180.242.232.29', '103.3.221.19', '103.154.110.177', '180.243.107.39', '180.242.235.124', '180.248.184.92']\n",
      "\n",
      "📌 Kolom: total_amount\n",
      "🔢 Jumlah Nilai Unik: 86\n",
      "🗂 Daftar Nilai Unik: ['62700,00000000', '329000,00000000', '550000,00000000', '159000,00000000', '160000,00000000', '44900,00000000', '379000,00000000', '52000,00000000', '86601,00000000', '57100,00000000', '139000,00000000', '137750,00000000', '129000,00000000', '121000,00000000', '164000,00000000', '55000,00000000', '151900,00000000', '20580,00000000', '780000,00000000', '1150000,00000000', '30500,00000000', '149000,00000000', '700000,00000000', '499000,00000000', '473000,00000000', '449000,00000000', '179000,00000000', '749000,00000000', '381000,00000000', '779000,00000000', '408114,00000000', '75325,00000000', '169000,00000000', '119000,00000000', '209000,00000000', '729019,00000000', '650400,00000000', '870019,00000000', '857300,00000000', '657526,00000000', '910800,00000000', '1455314,00000000', '399314,00000000', '1313701,00000000', '1622300,00000000', '1789901,00000000', '200019,00000000', '1141000,00000000', '301900,00000000', '751000,00000000', '186800,00000000', '126900,00000000', '99000,00000000', '665000,00000000', '1889000,00000000', '195000,00000000', '663500,00000000', '58600,00000000', '839999,00000000', '250000,00000000', '341704,00000000', '84314,00000000', '59999,00000000', '623000,00000000', '299000,00000000', '325000,00000000', '472800,00000000', '69000,00000000', '346977,00000000', '948000,00000000', '1494500,00000000', '276000,00000000', '572400,00000000', '339019,00000000', '979000,00000000', '555500,00000000', '452314,00000000', '2064000,00000000', '634000,00000000', '569000,00000000', '84300,00000000', '93400,00000000', '115000,00000000', '215000,00000000', '31000,00000000', '269000,00000000']\n",
      "\n",
      "📌 Kolom: first_name\n",
      "🔢 Jumlah Nilai Unik: 94\n",
      "🗂 Daftar Nilai Unik: ['Vaclav', 'Ysabel', 'Olive', 'Joanie', 'Klarrisa', 'Corrina', 'Rodge', 'Ronny', 'Isis', 'Rita', 'Maisie', 'Norah', 'Swen', 'Jessy', 'Nady', 'Werner', 'Rollins', 'Nada', 'Hinda', 'Omero', 'Keefe', 'Ruthi', 'Valery', 'Noreen', 'Fairlie', 'Ambrosius', 'Dimitry', 'Eberto', 'Angelique', 'Lenna', 'Estelle', 'Susann', 'Tobiah', 'Abagael', 'Kelcey', 'Beryl', 'Roma', 'Liza', 'Giuseppe', 'Lorens', 'Dinnie', 'Aliza', 'Catherin', 'Rawley', 'Alixx', 'Caryl', 'Mindy', 'Elijah', 'Dephine', 'Ker', 'Debora', 'Benton', 'Danyelle', 'Marlene', 'Alexandros', 'Rozanna', 'Hebert', 'Kala', 'Adamo', 'Hettie', 'Tommi', 'Ward', 'Gabie', 'Jacquie', 'Carita', 'Libbey', 'Clarette', 'Bethina', 'Thekla', 'Zelda', 'Simone', 'Berkeley', 'Clarey', 'Malva', 'Catarina', 'Harcourt', 'Dacie', 'Alix', 'Giana', 'Muffin', 'Morgana', 'Jasmine', 'Jacquelynn', 'Blythe', 'Lawey', 'Jaqcuelin', 'Amelina', 'Tracee', 'Tully', 'Yolanda', 'Budi', 'Effie', 'Leupold', 'Clyde']\n",
      "\n",
      "📌 Kolom: last_name\n",
      "🔢 Jumlah Nilai Unik: 94\n",
      "🗂 Daftar Nilai Unik: ['Wedge', 'Grimster', \"O'Logan\", 'Mannie', 'Calender', 'Clubb', 'Winram', 'Plews', 'Griss', 'Crownshaw', 'Gobolos', 'Armfield', 'Wittman', 'De Bell', 'Veel', 'Buchanan', 'Pascho', 'Baudassi', 'Kemston', 'Bockh', 'Dymott', 'Hulse', 'Bohills', 'Dealey', 'Preshaw', 'Beall', 'Fasset', 'Nern', 'Brosius', 'Seagrove', 'Pieroni', 'Langtry', 'Loyd', 'Cockin', 'Ziehms', 'Beckinsale', 'Langfat', 'Gambell', 'Gerard', 'McIlvoray', 'Tambling', 'Aguilar', 'Cothey', 'Engelbrecht', 'Billet', 'Zanini', 'Ollier', 'Da Costa', 'Arntzen', \"O'Geaney\", 'Carthy', 'Farrance', 'Brideaux', 'Greally', 'Korneichik', 'Leng', 'Swanborrow', 'Ixer', 'Allibon', 'Bowkett', 'Andrioli', 'Dat', 'Dyka', 'Cellier', 'Eastmead', 'Windus', 'Siddaley', 'Muston', 'Sherrock', 'Attarge', 'Stormes', 'Arnholdt', 'Badwick', 'Anger', 'Kingsnod', 'Clayson', 'Leeman', 'Kirkup', 'Pesterfield', 'Endean', 'Randal', 'Abrahamson', 'Propper', 'Aspinal', 'Avivah', 'Klaff', 'Pavluk', 'Ashwood', 'Guiraud', 'Ewenson', 'Ari', 'Guillain', 'Djekovic', 'Licas']\n",
      "\n",
      "📌 Kolom: email\n",
      "🔢 Jumlah Nilai Unik: 94\n",
      "🗂 Daftar Nilai Unik: ['vwedge1s@typepad.com', 'ygrimster1h@timesonline.co.uk', 'oologanc@imgur.com', 'jmanniee@google.com.au', 'kcalenderf@shinystat.com', 'cclubbh@marketwatch.com', 'rwinrami@cnn.com', 'rplewsj@paypal.com', 'igrissk@addtoany.com', 'rcrownshawl@cnet.com', 'mgobolosm@who.int', 'narmfieldn@cyberchimps.com', 'swittman24@aol.com', 'jdebellu@nationalgeographic.com', 'nveelx@123-reg.co.uk', 'wbuchanan0@reference.com', 'rpascho5@jigsy.com', 'nbaudassi6@virginia.edu', 'hkemston8@deviantart.com', 'obockha@msn.com', 'kdymottb@chicagotribune.com', 'rhulse2c@typepad.com', 'vbohills2g@amazon.com', 'ndealey2i@odnoklassniki.ru', 'fpreshawg@china.com.cn', 'abeall25@mtv.com', 'dfassety@unicef.org', 'enernp@weibo.com', 'abrosiust@sun.com', 'lseagrovev@usa.gov', 'epieroniw@blogs.com', 'slangtryz@indiegogo.com', 'tloyd10@sogou.com', 'acockin1@noaa.gov', 'kziehms3@msn.com', 'bbeckinsale4@vinaora.com', 'rlangfatq@istockphoto.com', 'lgambell26@nih.gov', 'ggerards@instagram.com', 'lmcilvoray7@eepurl.com', 'dtambling9@over-blog.com', 'aaguilar2d@vkontakte.ru', 'ccothey2f@smugmug.com', 'rengelbrecht2h@drupal.org', 'abillett5@newsvine.com', 'czanini2j@berkeley.edu', 'mollier2l@sitemeter.com', 'edacosta2n@acquirethisname.com', 'darntzen7@weibo.com', 'kogeaney1k@guardian.co.uk', 'dcarthy1l@gmpg.org', 'krostron1m@ocn.ne.jp', 'dbrideaux27@mit.edu', 'mgreallyo@quantcast.com', 'akorneichikr@quantcast.com', 'rleng2@accuweather.com', 'hswanborrow2e@weather.com', 'kixer1o@senate.gov', 'aallibon2k@bing.com', 'hbowkett2m@gravatar.com', 'tandrioli1p@google.es', 'wdat1q@home.pl', 'gdyka1r@columbia.edu', 'jcellier16@twitpic.com', 'ceastmead17@ft.com', 'lwindus18@aboutads.info', 'csiddaley19@sitemeter.com', 'bmuston2o@altervista.org', 'tsherrock1a@friendfeed.com', 'zattarge2p@hostgator.com', 'sstormes1b@linkedin.com', 'barnholdt1t@un.org', 'cbadwick2q@ox.ac.uk', 'manger1u@blog.com', 'ckingsnod2r@cnet.com', 'hclayson1v@yahoo.com', 'dleeman0@hatena.ne.jp', 'akirkup1x@parallels.com', 'gpesterfield1@prlog.org', 'mendean2@w3.org', 'mrandal1w@latimes.com', 'jabrahamson3@ehow.com', 'jpropper4@wunderground.com', 'baspinal1y@fc2.com', 'alawey1f@columbia.edu', 'jklaff6@phpbb.com', 'apavluk1j@posterous.com', 'tashwood1i@cafepress.com', 'tguiraud11@dropbox.com', 'yewenson12@yahoo.co.jp', 'budiari@gmail.com', 'eguillain13@utexas.edu', 'ldjekovic14@digg.com', 'clicas15@hostgator.com']\n",
      "\n",
      "📌 Kolom: country\n",
      "🔢 Jumlah Nilai Unik: 1\n",
      "🗂 Daftar Nilai Unik: ['ID']\n",
      "\n",
      "📌 Kolom: city\n",
      "🔢 Jumlah Nilai Unik: 31\n",
      "🗂 Daftar Nilai Unik: ['Malang', 'Samarinda', 'Kota Pontianak', 'Surabaya', 'Pontianak', 'Jakarta Barat', 'Jakarta Selatan', 'Bandung', 'Medan', 'Kota Jakarta', 'Singkawang', 'Kota Mempawah', 'Kota Singkawang', 'Yogyakarta', 'Semarang', 'Kabupaten Sintang', 'Denpasar', 'Manado', 'Palangkaraya', 'Depok', 'Banjarmasin', 'Bekasi', 'Solo', 'Magelang', 'Kupang', 'Makassar', 'Palembang', 'Indragiri Hilir', 'Balikpapan', 'Gorontalo', 'Jakarta']\n",
      "\n",
      "📌 Kolom: state\n",
      "🔢 Jumlah Nilai Unik: 16\n",
      "🗂 Daftar Nilai Unik: ['JI', 'KI', 'KB', 'JB', 'JK', 'SU', 'YO', 'JT', 'BA', 'SA', 'KT', 'KS', 'NT', 'SS', 'RI', 'GO']\n",
      "\n",
      "📌 Kolom: order_item_name\n",
      "🔢 Jumlah Nilai Unik: 82\n",
      "🗂 Daftar Nilai Unik: ['Atasan Basic Wanita', 'Free shipping', 'This Is April Atasan Kemeja Lengan Panjang', 'AMOENE [MADE] Long Strap Dress Navy', 'Point One NINDY Khaki Tunik Dress', 'Hosofshopaholic - Darel Skirt', 'ORO PANTS', 'This Is April Rok Midi Crochet Wanita', 'Baju Atasan Lengan Pendek Wanita', 'Celana korduroi pinggang tinggi', 'Celana Kulot Uniqllo Pants', 'Celana Panjang Highwaist Wanita', 'Jaket Baseball Fleece Big Size', 'Jaket Jeans Wanita', 'Jaket Wanita Parasut Kekinian Zipper Anti Air Angin Windbreaker Motor Waterproof Windproof', 'MOSSDOOM Tas Wanita Kattie Bag Slingbag', 'Atasan Knit Wanita', 'URBAN&CO BASIC Sandal Wanita Sendal Teplek Casual - Demi', 'Oversize tshirt Wanita', 'Compass Velocity Black', 'Structured Ball Cap Cream', 'Lafiye Skiv Rou Scarf', 'Wispie Money Magnet Fitted Shirt', 'Celana Pendek Anak Polos fashion Santai', 'Zipper Hoodie Dewasa Polos', 'BAGSMART Travel Toiletry Bag', 'LOOKBOUTIQUESTORE - Glyn Lace Shirt', 'Kaos Wanita Oversize', 'Zerotwentytwo T-Shirt Danane Raquat White | Kaos Pria Parodi Plesetan Lucu', 'Breakside Polo Shirt Gavriel - Darkgrey Polo Shirt Pria', 'Jam Tangan Wanita Casio General LTP-V007L-7B1 Tank Silver Dial Black Leather Band', 'AGE FREE Tya Bag Mini Sling Bag', 'Jam Tangan Pria Kulit', 'Sweater Hoodie Pria Oldskull Misty', 'Sweater New Suls', 'Onitsuka original mexico 66 ultimate 81 ex cream grey yellow', 'Baju Kemeja Hawaiian Pantai Anak Unisex', 'MaruKids - Dexter Shirt', 'Varsity Hoodie Kupluk BEAR X Anak', 'Baju Kaos Roblox anak Laki-laki cowok', 'Celana Cargo Pendek Anak Laki-Laki Bahan Dusky Crinkle/Parasut', 'DUSHI Jonah flat - Sandal wanita teplek', 'Arabian Voile (Hijab Voal) | MINIMSLM', 'CHARLOTTE 01 28 MM', 'Bikini', 'Tunik Aruna-Seri Ice', 'WiZi Anti UV Sport Jacket', 'Sepatu wanita sneakers', 'Setelan Jas Dan Celana Pria Formal', 'SHOEBALI Heels 021-218', 'Single Shirt', 'Sora Plaid Blazer Lengan Panjang / Blazer Casual Wanita', 'Kebaya Encim A-Line Bordir', 'Kaos anak distro bahan katun premium', 'Moly Bag TGIF', 'ECINOS - Philia Oversized Linen Shirt', 'Workout Stretwear x Scribbles Tshirt Oversize Basic Dreamer pakaian pria dan wanita', 'Wide High Jeans', 'Midi Dress Tropical Flowers', 'MIISOO Tas Sekolah Laksana School Bag/Tas Sekolah Anak', 'Sepatu Sneakers Wanita', 'Celana import polos pinggang tali serut pinkdose', 'Tas Ransel Laptop', 'Tas Ransel Pria', 'Tas Sekolah Tas Anak Tk Paud Cartoon Excavator', 'Long Strap Dress', 'Jas Blazer Wisuda Pria Formal Polos Warna Hitam Navy', 'Vintage Casual Premium Zipper', 'HEELSADDICT Mini Amber Laser Cut Sling Bag', 'Jam Tangan Wanita JT 8151', 'Jam Tangan Pria Analog', 'Jam Tangan Anak Original Mason 7026 Digital Strap Rubber', 'Dress Anak Perempuan Princess', 'Dress Bunny Anak', 'Sepatu Anak Laki Laki Perempuan Sneakers Kids', 'Jaket Puffer Polos Anak Laki laki dan Perempuan', 'Geoff Kids - Ethan Kids Black Gum', 'Lozy Hijab - Polly Cotton Square', 'Gaun Pesta Anak Perempuan Premium Dress', 'Voal Motif Printing Sublim Segiempat Premium', 'Modern', 'Kahla Gamis Premium Dress Wanita - Teman Serumpun - Edisi Kamboja']\n",
      "\n",
      "📌 Kolom: order_item_type\n",
      "🔢 Jumlah Nilai Unik: 2\n",
      "🗂 Daftar Nilai Unik: ['line_item', 'shipping']\n",
      "\n",
      "✅ Analisis selesai! 🚀\n"
     ]
    }
   ],
   "source": [
    "# fact_sales_v1\n",
    "eda(df_salesv1) \n",
    "unique_values(df_salesv1)"
   ]
  },
  {
   "cell_type": "markdown",
   "id": "b1b94d14",
   "metadata": {},
   "source": [
    "**Insight:**\n",
    "- 766 Baris & 14 Kolom\n",
    "- 452 Duplikasi Data: Wajar karena jika produk dipesan 2 qty, maka akan ada 2 baris yang sama.\n",
    "- TIdak ada Null Value\n",
    "- total_amount perlu preprocessing, hapus angka di belakang tanda koma & ubah ke numerik\n",
    "- order_item_type “shipping” tidak diperlukan karena akan membuat perhitungan duplikat dan data pengiriman produk sendiri sudah cukup.\n",
    "- tabel order dipecah sampai detail pada pembelian 1 qty, pada suatu produk, pada suatu order."
   ]
  },
  {
   "cell_type": "markdown",
   "id": "f6e5cec0",
   "metadata": {},
   "source": [
    "### Fact Sales V2 (df_salesv2)"
   ]
  },
  {
   "cell_type": "code",
   "execution_count": 13,
   "id": "3d3b7c8b",
   "metadata": {},
   "outputs": [
    {
     "name": "stdout",
     "output_type": "stream",
     "text": [
      "========================================\n",
      "📊 DataFrame Shape: 197 rows x 14 columns\n",
      "========================================\n",
      "\n",
      "🔎 Informasi Data:\n",
      "--------------------\n",
      "<class 'pandas.core.frame.DataFrame'>\n",
      "RangeIndex: 197 entries, 0 to 196\n",
      "Data columns (total 14 columns):\n",
      " #   Column               Non-Null Count  Dtype \n",
      "---  ------               --------------  ----- \n",
      " 0   order_id             197 non-null    int64 \n",
      " 1   order_date           197 non-null    object\n",
      " 2   product_id           197 non-null    int64 \n",
      " 3   order_item_name      197 non-null    object\n",
      " 4   total_sales          197 non-null    object\n",
      " 5   order_item_type      197 non-null    object\n",
      " 6   product_qty          197 non-null    int64 \n",
      " 7   product_net_revenue  197 non-null    int64 \n",
      " 8   customer_id          197 non-null    int64 \n",
      " 9   first_name           197 non-null    object\n",
      " 10  last_name            197 non-null    object\n",
      " 11  email                197 non-null    object\n",
      " 12  city                 197 non-null    object\n",
      " 13  state                197 non-null    object\n",
      "dtypes: int64(5), object(9)\n",
      "memory usage: 21.7+ KB\n",
      "\n",
      "📝 Sample Data:\n",
      "--------------------\n"
     ]
    },
    {
     "data": {
      "text/html": [
       "<div>\n",
       "<style scoped>\n",
       "    .dataframe tbody tr th:only-of-type {\n",
       "        vertical-align: middle;\n",
       "    }\n",
       "\n",
       "    .dataframe tbody tr th {\n",
       "        vertical-align: top;\n",
       "    }\n",
       "\n",
       "    .dataframe thead th {\n",
       "        text-align: right;\n",
       "    }\n",
       "</style>\n",
       "<table border=\"1\" class=\"dataframe\">\n",
       "  <thead>\n",
       "    <tr style=\"text-align: right;\">\n",
       "      <th></th>\n",
       "      <th>order_id</th>\n",
       "      <th>order_date</th>\n",
       "      <th>product_id</th>\n",
       "      <th>order_item_name</th>\n",
       "      <th>total_sales</th>\n",
       "      <th>order_item_type</th>\n",
       "      <th>product_qty</th>\n",
       "      <th>product_net_revenue</th>\n",
       "      <th>customer_id</th>\n",
       "      <th>first_name</th>\n",
       "      <th>last_name</th>\n",
       "      <th>email</th>\n",
       "      <th>city</th>\n",
       "      <th>state</th>\n",
       "    </tr>\n",
       "  </thead>\n",
       "  <tbody>\n",
       "    <tr>\n",
       "      <th>0</th>\n",
       "      <td>1181</td>\n",
       "      <td>2025-05-10 08:17:14</td>\n",
       "      <td>1010</td>\n",
       "      <td>Hosofshopaholic - Darel Skirt</td>\n",
       "      <td>7</td>\n",
       "      <td>line_item</td>\n",
       "      <td>1</td>\n",
       "      <td>160000</td>\n",
       "      <td>110</td>\n",
       "      <td>Claresta</td>\n",
       "      <td>Alway</td>\n",
       "      <td>calway1z@wix.com</td>\n",
       "      <td>Tapanuli Tengah</td>\n",
       "      <td>SU</td>\n",
       "    </tr>\n",
       "    <tr>\n",
       "      <th>1</th>\n",
       "      <td>1180</td>\n",
       "      <td>2025-05-10 08:13:52</td>\n",
       "      <td>986</td>\n",
       "      <td>ECINOS - Philia Oversized Linen Shirt</td>\n",
       "      <td>2</td>\n",
       "      <td>line_item</td>\n",
       "      <td>1</td>\n",
       "      <td>269000</td>\n",
       "      <td>109</td>\n",
       "      <td>Blythe</td>\n",
       "      <td>Aspinal</td>\n",
       "      <td>baspinal1y@fc2.com</td>\n",
       "      <td>Indragiri Hilir</td>\n",
       "      <td>RI</td>\n",
       "    </tr>\n",
       "    <tr>\n",
       "      <th>2</th>\n",
       "      <td>1179</td>\n",
       "      <td>2025-05-10 08:10:36</td>\n",
       "      <td>883</td>\n",
       "      <td>Voal Motif Printing Sublim Segiempat Premium</td>\n",
       "      <td>3</td>\n",
       "      <td>line_item</td>\n",
       "      <td>1</td>\n",
       "      <td>31000</td>\n",
       "      <td>108</td>\n",
       "      <td>Alix</td>\n",
       "      <td>Kirkup</td>\n",
       "      <td>akirkup1x@parallels.com</td>\n",
       "      <td>Makassar</td>\n",
       "      <td>SS</td>\n",
       "    </tr>\n",
       "    <tr>\n",
       "      <th>3</th>\n",
       "      <td>1178</td>\n",
       "      <td>2025-05-10 08:08:08</td>\n",
       "      <td>856</td>\n",
       "      <td>URBAN&amp;CO BASIC Sandal Wanita Sendal Teplek Cas...</td>\n",
       "      <td>3</td>\n",
       "      <td>line_item</td>\n",
       "      <td>1</td>\n",
       "      <td>151900</td>\n",
       "      <td>107</td>\n",
       "      <td>Morgana</td>\n",
       "      <td>Randal</td>\n",
       "      <td>mrandal1w@latimes.com</td>\n",
       "      <td>Palembang</td>\n",
       "      <td>SS</td>\n",
       "    </tr>\n",
       "    <tr>\n",
       "      <th>4</th>\n",
       "      <td>1177</td>\n",
       "      <td>2025-05-10 08:01:50</td>\n",
       "      <td>860</td>\n",
       "      <td>SHOEBALI Heels 021-218</td>\n",
       "      <td>4</td>\n",
       "      <td>line_item</td>\n",
       "      <td>1</td>\n",
       "      <td>215000</td>\n",
       "      <td>106</td>\n",
       "      <td>Harcourt</td>\n",
       "      <td>Clayson</td>\n",
       "      <td>hclayson1v@yahoo.com</td>\n",
       "      <td>Denpasar</td>\n",
       "      <td>BA</td>\n",
       "    </tr>\n",
       "  </tbody>\n",
       "</table>\n",
       "</div>"
      ],
      "text/plain": [
       "   order_id           order_date  product_id  \\\n",
       "0      1181  2025-05-10 08:17:14        1010   \n",
       "1      1180  2025-05-10 08:13:52         986   \n",
       "2      1179  2025-05-10 08:10:36         883   \n",
       "3      1178  2025-05-10 08:08:08         856   \n",
       "4      1177  2025-05-10 08:01:50         860   \n",
       "\n",
       "                                     order_item_name total_sales  \\\n",
       "0                      Hosofshopaholic - Darel Skirt           7   \n",
       "1              ECINOS - Philia Oversized Linen Shirt           2   \n",
       "2       Voal Motif Printing Sublim Segiempat Premium           3   \n",
       "3  URBAN&CO BASIC Sandal Wanita Sendal Teplek Cas...           3   \n",
       "4                             SHOEBALI Heels 021-218           4   \n",
       "\n",
       "  order_item_type  product_qty  product_net_revenue  customer_id first_name  \\\n",
       "0       line_item            1               160000          110   Claresta   \n",
       "1       line_item            1               269000          109     Blythe   \n",
       "2       line_item            1                31000          108       Alix   \n",
       "3       line_item            1               151900          107    Morgana   \n",
       "4       line_item            1               215000          106   Harcourt   \n",
       "\n",
       "  last_name                    email             city state  \n",
       "0     Alway         calway1z@wix.com  Tapanuli Tengah    SU  \n",
       "1   Aspinal       baspinal1y@fc2.com  Indragiri Hilir    RI  \n",
       "2    Kirkup  akirkup1x@parallels.com         Makassar    SS  \n",
       "3    Randal    mrandal1w@latimes.com        Palembang    SS  \n",
       "4   Clayson     hclayson1v@yahoo.com         Denpasar    BA  "
      ]
     },
     "metadata": {},
     "output_type": "display_data"
    },
    {
     "name": "stdout",
     "output_type": "stream",
     "text": [
      "\n",
      "📈 Statistik Deskriptif:\n",
      "--------------------\n"
     ]
    },
    {
     "data": {
      "text/html": [
       "<div>\n",
       "<style scoped>\n",
       "    .dataframe tbody tr th:only-of-type {\n",
       "        vertical-align: middle;\n",
       "    }\n",
       "\n",
       "    .dataframe tbody tr th {\n",
       "        vertical-align: top;\n",
       "    }\n",
       "\n",
       "    .dataframe thead th {\n",
       "        text-align: right;\n",
       "    }\n",
       "</style>\n",
       "<table border=\"1\" class=\"dataframe\">\n",
       "  <thead>\n",
       "    <tr style=\"text-align: right;\">\n",
       "      <th></th>\n",
       "      <th>count</th>\n",
       "      <th>mean</th>\n",
       "      <th>std</th>\n",
       "      <th>min</th>\n",
       "      <th>25%</th>\n",
       "      <th>50%</th>\n",
       "      <th>75%</th>\n",
       "      <th>max</th>\n",
       "    </tr>\n",
       "  </thead>\n",
       "  <tbody>\n",
       "    <tr>\n",
       "      <th>order_id</th>\n",
       "      <td>197.0</td>\n",
       "      <td>1116.730964</td>\n",
       "      <td>39.996603</td>\n",
       "      <td>1036.0</td>\n",
       "      <td>1088.0</td>\n",
       "      <td>1109.0</td>\n",
       "      <td>1156.0</td>\n",
       "      <td>1181.0</td>\n",
       "    </tr>\n",
       "    <tr>\n",
       "      <th>product_id</th>\n",
       "      <td>197.0</td>\n",
       "      <td>825.406091</td>\n",
       "      <td>154.256768</td>\n",
       "      <td>316.0</td>\n",
       "      <td>734.0</td>\n",
       "      <td>856.0</td>\n",
       "      <td>958.0</td>\n",
       "      <td>1064.0</td>\n",
       "    </tr>\n",
       "    <tr>\n",
       "      <th>product_qty</th>\n",
       "      <td>197.0</td>\n",
       "      <td>1.030457</td>\n",
       "      <td>0.199710</td>\n",
       "      <td>1.0</td>\n",
       "      <td>1.0</td>\n",
       "      <td>1.0</td>\n",
       "      <td>1.0</td>\n",
       "      <td>3.0</td>\n",
       "    </tr>\n",
       "    <tr>\n",
       "      <th>product_net_revenue</th>\n",
       "      <td>197.0</td>\n",
       "      <td>238925.644670</td>\n",
       "      <td>265601.847634</td>\n",
       "      <td>19.0</td>\n",
       "      <td>84314.0</td>\n",
       "      <td>160000.0</td>\n",
       "      <td>276000.0</td>\n",
       "      <td>1889000.0</td>\n",
       "    </tr>\n",
       "    <tr>\n",
       "      <th>customer_id</th>\n",
       "      <td>197.0</td>\n",
       "      <td>64.385787</td>\n",
       "      <td>24.236366</td>\n",
       "      <td>5.0</td>\n",
       "      <td>52.0</td>\n",
       "      <td>71.0</td>\n",
       "      <td>79.0</td>\n",
       "      <td>110.0</td>\n",
       "    </tr>\n",
       "  </tbody>\n",
       "</table>\n",
       "</div>"
      ],
      "text/plain": [
       "                     count           mean            std     min      25%  \\\n",
       "order_id             197.0    1116.730964      39.996603  1036.0   1088.0   \n",
       "product_id           197.0     825.406091     154.256768   316.0    734.0   \n",
       "product_qty          197.0       1.030457       0.199710     1.0      1.0   \n",
       "product_net_revenue  197.0  238925.644670  265601.847634    19.0  84314.0   \n",
       "customer_id          197.0      64.385787      24.236366     5.0     52.0   \n",
       "\n",
       "                          50%       75%        max  \n",
       "order_id               1109.0    1156.0     1181.0  \n",
       "product_id              856.0     958.0     1064.0  \n",
       "product_qty               1.0       1.0        3.0  \n",
       "product_net_revenue  160000.0  276000.0  1889000.0  \n",
       "customer_id              71.0      79.0      110.0  "
      ]
     },
     "metadata": {},
     "output_type": "display_data"
    },
    {
     "name": "stdout",
     "output_type": "stream",
     "text": [
      "\n",
      "⚠️ Jumlah Duplikasi: 0\n",
      "\n",
      "❌ Missing Values:\n",
      "--------------------\n",
      "✅ Tidak ada missing values!\n",
      "\n",
      "✅ EDA selesai! 🚀\n",
      "========================================\n",
      "🔍 ANALISIS NILAI UNIK PADA KOLOM KATEGORIKAL\n",
      "========================================\n",
      "\n",
      "📌 Kolom: order_date\n",
      "🔢 Jumlah Nilai Unik: 110\n",
      "🗂 Daftar Nilai Unik: ['2025-05-10 08:17:14', '2025-05-10 08:13:52', '2025-05-10 08:10:36', '2025-05-10 08:08:08', '2025-05-10 08:01:50', '2025-05-10 07:56:18', '2025-05-10 07:54:18', '2025-05-10 07:50:35', '2025-05-10 07:20:38', '2025-05-10 07:19:43', '2025-05-10 07:18:16', '2025-05-10 07:17:02', '2025-05-10 07:15:40', '2025-05-10 07:13:51', '2025-05-10 07:12:41', '2025-05-10 07:10:30', '2025-05-10 06:45:01', '2025-05-10 06:43:32', '2025-05-10 06:40:57', '2025-05-10 06:38:55', '2025-05-10 06:36:48', '2025-05-10 06:36:37', '2025-05-10 06:35:39', '2025-05-10 06:34:46', '2025-05-10 06:34:45', '2025-05-10 06:32:18', '2025-05-10 06:31:48', '2025-05-10 06:29:50', '2025-05-10 06:28:58', '2025-05-10 06:27:14', '2025-05-10 06:23:31', '2025-05-10 06:21:58', '2025-05-10 06:21:33', '2025-05-10 06:18:40', '2025-05-10 06:18:13', '2025-05-10 06:16:13', '2025-05-10 06:14:06', '2025-05-10 06:14:01', '2025-05-10 06:11:41', '2025-05-10 06:11:13', '2025-05-10 06:08:56', '2025-05-10 06:06:27', '2025-05-10 06:06:21', '2025-05-10 06:04:51', '2025-05-10 06:03:14', '2025-05-10 06:01:07', '2025-05-10 05:59:01', '2025-05-10 04:44:00', '2025-05-10 04:42:13', '2025-05-10 04:34:28', '2025-05-10 04:26:25', '2025-05-10 04:23:03', '2025-05-10 04:21:20', '2025-05-10 04:19:47', '2025-05-10 04:17:23', '2025-05-10 04:15:20', '2025-05-10 04:13:21', '2025-05-10 04:02:09', '2025-05-09 17:42:15', '2025-05-09 17:38:08', '2025-05-09 17:33:43', '2025-05-09 17:28:14', '2025-05-09 17:04:14', '2025-05-09 17:02:46', '2025-05-09 17:01:14', '2025-05-09 17:00:25', '2025-05-09 16:59:00', '2025-05-09 16:55:54', '2025-05-09 16:53:57', '2025-05-09 16:50:32', '2025-05-09 16:48:14', '2025-05-09 16:38:41', '2025-05-09 16:34:01', '2025-05-09 16:31:12', '2025-05-09 15:53:50', '2025-05-09 15:51:23', '2025-05-09 15:49:50', '2025-05-09 15:48:01', '2025-05-09 15:46:05', '2025-05-09 15:44:29', '2025-05-09 15:42:53', '2025-05-09 15:41:10', '2025-05-09 15:39:17', '2025-05-09 15:37:30', '2025-05-09 15:34:35', '2025-05-09 15:25:46', '2025-05-09 14:41:49', '2025-05-09 14:39:27', '2025-05-09 14:36:31', '2025-05-09 14:34:08', '2025-05-09 14:31:28', '2025-05-09 14:28:54', '2025-05-09 14:26:15', '2025-05-09 14:23:08', '2025-05-09 14:20:17', '2025-05-09 14:17:37', '2025-05-09 14:14:17', '2025-05-09 14:08:55', '2025-05-08 23:30:49', '2025-05-08 23:28:35', '2025-05-08 23:25:58', '2025-05-08 23:23:15', '2025-05-08 23:19:30', '2025-05-08 23:12:14', '2025-05-08 23:10:21', '2025-05-08 23:02:06', '2025-05-08 22:59:51', '2025-05-08 22:56:25', '2025-05-08 22:53:26', '2025-05-08 22:36:36']\n",
      "\n",
      "📌 Kolom: order_item_name\n",
      "🔢 Jumlah Nilai Unik: 79\n",
      "🗂 Daftar Nilai Unik: ['Hosofshopaholic - Darel Skirt', 'ECINOS - Philia Oversized Linen Shirt', 'Voal Motif Printing Sublim Segiempat Premium', 'URBAN&CO BASIC Sandal Wanita Sendal Teplek Casual - Demi', 'SHOEBALI Heels 021-218', 'Lafiye Skiv Rou Scarf', 'Jam Tangan Wanita JT 8151', 'HEELSADDICT Mini Amber Laser Cut Sling Bag', 'Compass Velocity Black', 'Atasan Knit Wanita', 'Baju Kaos Roblox anak Laki-laki cowok', 'Sora Plaid Blazer Lengan Panjang / Blazer Casual Wanita', 'This Is April Atasan Kemeja Lengan Panjang', 'AMOENE [MADE] Long Strap Dress Navy', 'Celana import polos pinggang tali serut pinkdose', 'Jas Blazer Wisuda Pria Formal Polos Warna Hitam Navy', 'Jam Tangan Pria Analog', 'Celana Cargo Pendek Anak Laki-Laki Bahan Dusky Crinkle/Parasut', 'Lozy Hijab - Polly Cotton Square', 'Midi Dress Tropical Flowers', 'Moly Bag TGIF', 'Kaos Wanita Oversize', 'Kebaya Encim A-Line Bordir', 'BAGSMART Travel Toiletry Bag', 'Geoff Kids - Ethan Kids Black Gum', 'Kahla Gamis Premium Dress Wanita - Teman Serumpun - Edisi Kamboja', 'Sepatu wanita sneakers', 'Modern', 'Jaket Jeans Wanita', 'Setelan Jas Dan Celana Pria Formal', 'Arabian Voile (Hijab Voal) | MINIMSLM', 'Tunik Aruna-Seri Ice', 'Structured Ball Cap Cream', 'This Is April Rok Midi Crochet Wanita', 'Dress Bunny Anak', 'DUSHI Jonah flat - Sandal wanita teplek', 'Gaun Pesta Anak Perempuan Premium Dress', 'Tas Sekolah Tas Anak Tk Paud Cartoon Excavator', 'Sepatu Anak Laki Laki Perempuan Sneakers Kids', 'Sepatu Sneakers Wanita', 'Jaket Puffer Polos Anak Laki laki dan Perempuan', 'AGE FREE Tya Bag Mini Sling Bag', 'Jam Tangan Anak Original Mason 7026 Digital Strap Rubber', 'Dress Anak Perempuan Princess', 'Breakside Polo Shirt Gavriel - Darkgrey Polo Shirt Pria', 'Baju Kemeja Hawaiian Pantai Anak Unisex', 'Workout Stretwear x Scribbles Tshirt Oversize Basic Dreamer pakaian pria dan wanita', 'Vintage Casual Premium Zipper', 'Long Strap Dress', 'WiZi Anti UV Sport Jacket', 'Sweater Hoodie Pria Oldskull Misty', 'Tas Ransel Pria', 'Kaos anak distro bahan katun premium', 'LOOKBOUTIQUESTORE - Glyn Lace Shirt', 'Tas Ransel Laptop', 'Sweater New Suls', 'MaruKids - Dexter Shirt', 'MIISOO Tas Sekolah Laksana School Bag/Tas Sekolah Anak', 'Onitsuka original mexico 66 ultimate 81 ex cream grey yellow', 'Zipper Hoodie Dewasa Polos', 'Zerotwentytwo T-Shirt Danane Raquat White | Kaos Pria Parodi Plesetan Lucu', 'Wide High Jeans', 'Celana korduroi pinggang tinggi', 'Celana Kulot Uniqllo Pants', 'Celana Panjang Highwaist Wanita', 'Celana Pendek Anak Polos fashion Santai', 'Wispie Money Magnet Fitted Shirt', 'CHARLOTTE 01 28 MM', 'Varsity Hoodie Kupluk BEAR X Anak', 'Jam Tangan Pria Kulit', 'Jam Tangan Wanita Casio General LTP-V007L-7B1 Tank Silver Dial Black Leather Band', 'Oversize tshirt Wanita', 'MOSSDOOM Tas Wanita Kattie Bag Slingbag', 'Jaket Wanita Parasut Kekinian Zipper Anti Air Angin Windbreaker Motor Waterproof Windproof', 'Jaket Baseball Fleece Big Size', 'Baju Atasan Lengan Pendek Wanita', 'Atasan Basic Wanita', 'ORO PANTS', 'Point One NINDY Khaki Tunik Dress']\n",
      "\n",
      "📌 Kolom: total_sales\n",
      "🔢 Jumlah Nilai Unik: 12\n",
      "🗂 Daftar Nilai Unik: ['7', '2', '3', '4', '5', '10', '6', '8', '9', '1', '\\\\0', '25']\n",
      "\n",
      "📌 Kolom: order_item_type\n",
      "🔢 Jumlah Nilai Unik: 1\n",
      "🗂 Daftar Nilai Unik: ['line_item']\n",
      "\n",
      "📌 Kolom: first_name\n",
      "🔢 Jumlah Nilai Unik: 94\n",
      "🗂 Daftar Nilai Unik: ['Claresta', 'Blythe', 'Alix', 'Morgana', 'Harcourt', 'Malva', 'Berkeley', 'Vaclav', 'Dephine', 'Jaqcuelin', 'Alixx', 'Jacquelynn', 'Jasmine', 'Muffin', 'Giana', 'Dacie', 'Catarina', 'Simone', 'Clarey', 'Thekla', 'Zelda', 'Bethina', 'Clarette', 'Libbey', 'Carita', 'Jacquie', 'Clyde', 'Leupold', 'Effie', 'Yolanda', 'Tully', 'Tobiah', 'Elijah', 'Norah', 'Maisie', 'Rita', 'Isis', 'Ronny', 'Rodge', 'Corrina', 'Fairlie', 'Klarrisa', 'Joanie', 'Olive', 'Gabie', 'Ward', 'Tommi', 'Hettie', 'Mindy', 'Kala', 'Adamo', 'Caryl', 'Noreen', 'Rawley', 'Valery', 'Catherin', 'Hebert', 'Aliza', 'Vere', 'Cornelius', 'Brandise', 'Stillman', 'Danyelle', 'Liza', 'Ambrosius', 'Swen', 'Randi', 'Skelly', 'Natividad', 'Davine', 'Keefe', 'Omero', 'Dinnie', 'Hinda', 'Lorens', 'Nada', 'Rollins', 'Beryl', 'Kelcey', 'Rozanna', 'Abagael', 'Werner', 'Susann', 'Dimitry', 'Nady', 'Estelle', 'Lenna', 'Jessy', 'Angelique', 'Giuseppe', 'Alexandros', 'Roma', 'Eberto', 'Marlene']\n",
      "\n",
      "📌 Kolom: last_name\n",
      "🔢 Jumlah Nilai Unik: 94\n",
      "🗂 Daftar Nilai Unik: ['Alway', 'Aspinal', 'Kirkup', 'Randal', 'Clayson', 'Anger', 'Arnholdt', 'Wedge', 'Arntzen', 'Klaff', 'Billet', 'Propper', 'Abrahamson', 'Endean', 'Pesterfield', 'Leeman', 'Kingsnod', 'Stormes', 'Badwick', 'Sherrock', 'Attarge', 'Muston', 'Siddaley', 'Windus', 'Eastmead', 'Cellier', 'Licas', 'Djekovic', 'Guillain', 'Ewenson', 'Guiraud', 'Loyd', 'Da Costa', 'Armfield', 'Gobolos', 'Crownshaw', 'Griss', 'Plews', 'Winram', 'Clubb', 'Preshaw', 'Calender', 'Mannie', \"O'Logan\", 'Dyka', 'Dat', 'Andrioli', 'Bowkett', 'Ollier', 'Ixer', 'Allibon', 'Zanini', 'Dealey', 'Engelbrecht', 'Bohills', 'Cothey', 'Swanborrow', 'Aguilar', 'Prozescky', 'Urvoy', 'Ochterlony', 'Schapiro', 'Brideaux', 'Gambell', 'Beall', 'Wittman', 'Whatham', 'Gallegos', 'Cloake', 'Grindley', 'Dymott', 'Bockh', 'Tambling', 'Kemston', 'McIlvoray', 'Baudassi', 'Pascho', 'Beckinsale', 'Ziehms', 'Leng', 'Cockin', 'Buchanan', 'Langtry', 'Fasset', 'Veel', 'Pieroni', 'Seagrove', 'De Bell', 'Brosius', 'Gerard', 'Korneichik', 'Langfat', 'Nern', 'Greally']\n",
      "\n",
      "📌 Kolom: email\n",
      "🔢 Jumlah Nilai Unik: 94\n",
      "🗂 Daftar Nilai Unik: ['calway1z@wix.com', 'baspinal1y@fc2.com', 'akirkup1x@parallels.com', 'mrandal1w@latimes.com', 'hclayson1v@yahoo.com', 'manger1u@blog.com', 'barnholdt1t@un.org', 'vwedge1s@typepad.com', 'darntzen7@weibo.com', 'jklaff6@phpbb.com', 'abillett5@newsvine.com', 'jpropper4@wunderground.com', 'jabrahamson3@ehow.com', 'mendean2@w3.org', 'gpesterfield1@prlog.org', 'dleeman0@hatena.ne.jp', 'ckingsnod2r@cnet.com', 'sstormes1b@linkedin.com', 'cbadwick2q@ox.ac.uk', 'tsherrock1a@friendfeed.com', 'zattarge2p@hostgator.com', 'bmuston2o@altervista.org', 'csiddaley19@sitemeter.com', 'lwindus18@aboutads.info', 'ceastmead17@ft.com', 'jcellier16@twitpic.com', 'clicas15@hostgator.com', 'ldjekovic14@digg.com', 'eguillain13@utexas.edu', 'yewenson12@yahoo.co.jp', 'tguiraud11@dropbox.com', 'tloyd10@sogou.com', 'edacosta2n@acquirethisname.com', 'narmfieldn@cyberchimps.com', 'mgobolosm@who.int', 'rcrownshawl@cnet.com', 'igrissk@addtoany.com', 'rplewsj@paypal.com', 'rwinrami@cnn.com', 'cclubbh@marketwatch.com', 'fpreshawg@china.com.cn', 'kcalenderf@shinystat.com', 'jmanniee@google.com.au', 'oologanc@imgur.com', 'gdyka1r@columbia.edu', 'wdat1q@home.pl', 'tandrioli1p@google.es', 'hbowkett2m@gravatar.com', 'mollier2l@sitemeter.com', 'kixer1o@senate.gov', 'aallibon2k@bing.com', 'czanini2j@berkeley.edu', 'ndealey2i@odnoklassniki.ru', 'rengelbrecht2h@drupal.org', 'vbohills2g@amazon.com', 'ccothey2f@smugmug.com', 'hswanborrow2e@weather.com', 'aaguilar2d@vkontakte.ru', 'vprozescky2b@toplist.cz', 'curvoy2a@ezinearticles.com', 'bochterlony29@amazon.com', 'sschapiro28@amazon.com', 'dbrideaux27@mit.edu', 'lgambell26@nih.gov', 'abeall25@mtv.com', 'swittman24@aol.com', 'rwhatham23@ted.com', 'sgallegos22@godaddy.com', 'ncloake21@sakura.ne.jp', 'dgrindley20@usatoday.com', 'kdymottb@chicagotribune.com', 'obockha@msn.com', 'dtambling9@over-blog.com', 'hkemston8@deviantart.com', 'lmcilvoray7@eepurl.com', 'nbaudassi6@virginia.edu', 'rpascho5@jigsy.com', 'bbeckinsale4@vinaora.com', 'kziehms3@msn.com', 'rleng2@accuweather.com', 'acockin1@noaa.gov', 'wbuchanan0@reference.com', 'slangtryz@indiegogo.com', 'dfassety@unicef.org', 'nveelx@123-reg.co.uk', 'epieroniw@blogs.com', 'lseagrovev@usa.gov', 'jdebellu@nationalgeographic.com', 'abrosiust@sun.com', 'ggerards@instagram.com', 'akorneichikr@quantcast.com', 'rlangfatq@istockphoto.com', 'enernp@weibo.com', 'mgreallyo@quantcast.com']\n",
      "\n",
      "📌 Kolom: city\n",
      "🔢 Jumlah Nilai Unik: 30\n",
      "🗂 Daftar Nilai Unik: ['Tapanuli Tengah', 'Indragiri Hilir', 'Makassar', 'Palembang', 'Denpasar', 'Kupang', 'Medan', 'Malang', 'Pontianak', 'Magelang', 'Solo', 'Jakarta', 'Yogyakarta', 'Kota Pontianak', 'Banjarmasin', 'Jakarta Selatan', 'Bekasi', 'Manado', 'Bandung', 'Tangerang Selatan', 'Depok', 'Semarang', 'Surabaya', 'Jakarta Pusat', 'Kota Singkawang', 'Kota Jakarta', 'Jakarta Barat', 'Kota Mempawah', 'Singkawang', 'Kabupaten Sintang']\n",
      "\n",
      "📌 Kolom: state\n",
      "🔢 Jumlah Nilai Unik: 15\n",
      "🗂 Daftar Nilai Unik: ['SU', 'RI', 'SS', 'BA', 'NT', 'JI', 'KB', 'JT', 'JK', 'YO', 'JB', 'KS', 'SA', 'BT', 'SN']\n",
      "\n",
      "✅ Analisis selesai! 🚀\n"
     ]
    }
   ],
   "source": [
    "eda(df_salesv2) # fact_sales_v2\n",
    "unique_values(df_salesv2) "
   ]
  },
  {
   "cell_type": "markdown",
   "id": "1615a1bf",
   "metadata": {},
   "source": [
    "**Insight:**\n",
    "- 197 Baris & 14 Kolom\n",
    "- Tidak ada duplikasi data & tidak ada data null.\n",
    "- total_sales perlu ubah ke numerik.\n",
    "- order_item_type Sudah sesuai (hanya ada line_item).\n",
    "- Data order produk dipecah, tapi hanya sampai 1 tipe produk di mention 1 kali (tanpa duplikat), dan sudah filter untuk hanya menerima line_item."
   ]
  },
  {
   "cell_type": "markdown",
   "id": "f47e025f",
   "metadata": {},
   "source": [
    "# Data Preparation"
   ]
  },
  {
   "cell_type": "markdown",
   "id": "91d84038",
   "metadata": {},
   "source": [
    "kpi"
   ]
  },
  {
   "cell_type": "markdown",
   "id": "ca2a9ca4",
   "metadata": {},
   "source": [
    "## df_salesv1 -> df_spend "
   ]
  },
  {
   "cell_type": "code",
   "execution_count": 14,
   "id": "139bb9b5",
   "metadata": {},
   "outputs": [
    {
     "data": {
      "text/html": [
       "<div>\n",
       "<style scoped>\n",
       "    .dataframe tbody tr th:only-of-type {\n",
       "        vertical-align: middle;\n",
       "    }\n",
       "\n",
       "    .dataframe tbody tr th {\n",
       "        vertical-align: top;\n",
       "    }\n",
       "\n",
       "    .dataframe thead th {\n",
       "        text-align: right;\n",
       "    }\n",
       "</style>\n",
       "<table border=\"1\" class=\"dataframe\">\n",
       "  <thead>\n",
       "    <tr style=\"text-align: right;\">\n",
       "      <th></th>\n",
       "      <th>order_date</th>\n",
       "      <th>ip_address</th>\n",
       "      <th>customer_id</th>\n",
       "      <th>total_amount</th>\n",
       "    </tr>\n",
       "  </thead>\n",
       "  <tbody>\n",
       "    <tr>\n",
       "      <th>0</th>\n",
       "      <td>2025-05-08 22:36:36</td>\n",
       "      <td>118.99.118.196</td>\n",
       "      <td>62</td>\n",
       "      <td>62700</td>\n",
       "    </tr>\n",
       "    <tr>\n",
       "      <th>2</th>\n",
       "      <td>2025-05-08 22:53:26</td>\n",
       "      <td>118.99.118.196</td>\n",
       "      <td>63</td>\n",
       "      <td>329000</td>\n",
       "    </tr>\n",
       "    <tr>\n",
       "      <th>4</th>\n",
       "      <td>2025-05-08 22:56:25</td>\n",
       "      <td>118.99.118.196</td>\n",
       "      <td>64</td>\n",
       "      <td>550000</td>\n",
       "    </tr>\n",
       "    <tr>\n",
       "      <th>6</th>\n",
       "      <td>2025-05-08 22:59:51</td>\n",
       "      <td>118.99.118.196</td>\n",
       "      <td>65</td>\n",
       "      <td>159000</td>\n",
       "    </tr>\n",
       "    <tr>\n",
       "      <th>8</th>\n",
       "      <td>2025-05-08 23:02:06</td>\n",
       "      <td>118.99.118.196</td>\n",
       "      <td>66</td>\n",
       "      <td>160000</td>\n",
       "    </tr>\n",
       "    <tr>\n",
       "      <th>...</th>\n",
       "      <td>...</td>\n",
       "      <td>...</td>\n",
       "      <td>...</td>\n",
       "      <td>...</td>\n",
       "    </tr>\n",
       "    <tr>\n",
       "      <th>742</th>\n",
       "      <td>2025-05-10 08:01:50</td>\n",
       "      <td>180.248.184.92</td>\n",
       "      <td>93</td>\n",
       "      <td>215000</td>\n",
       "    </tr>\n",
       "    <tr>\n",
       "      <th>744</th>\n",
       "      <td>2025-05-10 08:08:08</td>\n",
       "      <td>180.248.184.92</td>\n",
       "      <td>94</td>\n",
       "      <td>151900</td>\n",
       "    </tr>\n",
       "    <tr>\n",
       "      <th>746</th>\n",
       "      <td>2025-05-10 08:10:36</td>\n",
       "      <td>180.248.184.92</td>\n",
       "      <td>95</td>\n",
       "      <td>31000</td>\n",
       "    </tr>\n",
       "    <tr>\n",
       "      <th>748</th>\n",
       "      <td>2025-05-10 08:13:52</td>\n",
       "      <td>180.248.184.92</td>\n",
       "      <td>96</td>\n",
       "      <td>269000</td>\n",
       "    </tr>\n",
       "    <tr>\n",
       "      <th>750</th>\n",
       "      <td>2025-05-10 08:17:14</td>\n",
       "      <td>180.248.184.92</td>\n",
       "      <td>97</td>\n",
       "      <td>160000</td>\n",
       "    </tr>\n",
       "  </tbody>\n",
       "</table>\n",
       "<p>555 rows × 4 columns</p>\n",
       "</div>"
      ],
      "text/plain": [
       "             order_date      ip_address  customer_id  total_amount\n",
       "0   2025-05-08 22:36:36  118.99.118.196           62         62700\n",
       "2   2025-05-08 22:53:26  118.99.118.196           63        329000\n",
       "4   2025-05-08 22:56:25  118.99.118.196           64        550000\n",
       "6   2025-05-08 22:59:51  118.99.118.196           65        159000\n",
       "8   2025-05-08 23:02:06  118.99.118.196           66        160000\n",
       "..                  ...             ...          ...           ...\n",
       "742 2025-05-10 08:01:50  180.248.184.92           93        215000\n",
       "744 2025-05-10 08:08:08  180.248.184.92           94        151900\n",
       "746 2025-05-10 08:10:36  180.248.184.92           95         31000\n",
       "748 2025-05-10 08:13:52  180.248.184.92           96        269000\n",
       "750 2025-05-10 08:17:14  180.248.184.92           97        160000\n",
       "\n",
       "[555 rows x 4 columns]"
      ]
     },
     "metadata": {},
     "output_type": "display_data"
    },
    {
     "data": {
      "text/html": [
       "<div>\n",
       "<style scoped>\n",
       "    .dataframe tbody tr th:only-of-type {\n",
       "        vertical-align: middle;\n",
       "    }\n",
       "\n",
       "    .dataframe tbody tr th {\n",
       "        vertical-align: top;\n",
       "    }\n",
       "\n",
       "    .dataframe thead th {\n",
       "        text-align: right;\n",
       "    }\n",
       "</style>\n",
       "<table border=\"1\" class=\"dataframe\">\n",
       "  <thead>\n",
       "    <tr style=\"text-align: right;\">\n",
       "      <th></th>\n",
       "      <th>customer_id</th>\n",
       "      <th>total_spent</th>\n",
       "    </tr>\n",
       "  </thead>\n",
       "  <tbody>\n",
       "    <tr>\n",
       "      <th>0</th>\n",
       "      <td>14</td>\n",
       "      <td>151900</td>\n",
       "    </tr>\n",
       "    <tr>\n",
       "      <th>1</th>\n",
       "      <td>15</td>\n",
       "      <td>4374114</td>\n",
       "    </tr>\n",
       "    <tr>\n",
       "      <th>2</th>\n",
       "      <td>16</td>\n",
       "      <td>329000</td>\n",
       "    </tr>\n",
       "    <tr>\n",
       "      <th>3</th>\n",
       "      <td>19</td>\n",
       "      <td>10406400</td>\n",
       "    </tr>\n",
       "    <tr>\n",
       "      <th>4</th>\n",
       "      <td>20</td>\n",
       "      <td>499000</td>\n",
       "    </tr>\n",
       "    <tr>\n",
       "      <th>...</th>\n",
       "      <td>...</td>\n",
       "      <td>...</td>\n",
       "    </tr>\n",
       "    <tr>\n",
       "      <th>89</th>\n",
       "      <td>105</td>\n",
       "      <td>19933500</td>\n",
       "    </tr>\n",
       "    <tr>\n",
       "      <th>90</th>\n",
       "      <td>106</td>\n",
       "      <td>3909996</td>\n",
       "    </tr>\n",
       "    <tr>\n",
       "      <th>91</th>\n",
       "      <td>107</td>\n",
       "      <td>5944200</td>\n",
       "    </tr>\n",
       "    <tr>\n",
       "      <th>92</th>\n",
       "      <td>108</td>\n",
       "      <td>5351336</td>\n",
       "    </tr>\n",
       "    <tr>\n",
       "      <th>93</th>\n",
       "      <td>109</td>\n",
       "      <td>5035200</td>\n",
       "    </tr>\n",
       "  </tbody>\n",
       "</table>\n",
       "<p>94 rows × 2 columns</p>\n",
       "</div>"
      ],
      "text/plain": [
       "    customer_id  total_spent\n",
       "0            14       151900\n",
       "1            15      4374114\n",
       "2            16       329000\n",
       "3            19     10406400\n",
       "4            20       499000\n",
       "..          ...          ...\n",
       "89          105     19933500\n",
       "90          106      3909996\n",
       "91          107      5944200\n",
       "92          108      5351336\n",
       "93          109      5035200\n",
       "\n",
       "[94 rows x 2 columns]"
      ]
     },
     "metadata": {},
     "output_type": "display_data"
    },
    {
     "data": {
      "text/html": [
       "<div>\n",
       "<style scoped>\n",
       "    .dataframe tbody tr th:only-of-type {\n",
       "        vertical-align: middle;\n",
       "    }\n",
       "\n",
       "    .dataframe tbody tr th {\n",
       "        vertical-align: top;\n",
       "    }\n",
       "\n",
       "    .dataframe thead th {\n",
       "        text-align: right;\n",
       "    }\n",
       "</style>\n",
       "<table border=\"1\" class=\"dataframe\">\n",
       "  <thead>\n",
       "    <tr style=\"text-align: right;\">\n",
       "      <th></th>\n",
       "      <th>customer_id</th>\n",
       "      <th>total_spent</th>\n",
       "      <th>spend_category</th>\n",
       "    </tr>\n",
       "  </thead>\n",
       "  <tbody>\n",
       "    <tr>\n",
       "      <th>0</th>\n",
       "      <td>14</td>\n",
       "      <td>151900</td>\n",
       "      <td>0k-12880k</td>\n",
       "    </tr>\n",
       "    <tr>\n",
       "      <th>1</th>\n",
       "      <td>15</td>\n",
       "      <td>4374114</td>\n",
       "      <td>0k-12880k</td>\n",
       "    </tr>\n",
       "    <tr>\n",
       "      <th>2</th>\n",
       "      <td>16</td>\n",
       "      <td>329000</td>\n",
       "      <td>0k-12880k</td>\n",
       "    </tr>\n",
       "    <tr>\n",
       "      <th>3</th>\n",
       "      <td>19</td>\n",
       "      <td>10406400</td>\n",
       "      <td>0k-12880k</td>\n",
       "    </tr>\n",
       "    <tr>\n",
       "      <th>4</th>\n",
       "      <td>20</td>\n",
       "      <td>499000</td>\n",
       "      <td>0k-12880k</td>\n",
       "    </tr>\n",
       "    <tr>\n",
       "      <th>...</th>\n",
       "      <td>...</td>\n",
       "      <td>...</td>\n",
       "      <td>...</td>\n",
       "    </tr>\n",
       "    <tr>\n",
       "      <th>89</th>\n",
       "      <td>105</td>\n",
       "      <td>19933500</td>\n",
       "      <td>12880k-25760k</td>\n",
       "    </tr>\n",
       "    <tr>\n",
       "      <th>90</th>\n",
       "      <td>106</td>\n",
       "      <td>3909996</td>\n",
       "      <td>0k-12880k</td>\n",
       "    </tr>\n",
       "    <tr>\n",
       "      <th>91</th>\n",
       "      <td>107</td>\n",
       "      <td>5944200</td>\n",
       "      <td>0k-12880k</td>\n",
       "    </tr>\n",
       "    <tr>\n",
       "      <th>92</th>\n",
       "      <td>108</td>\n",
       "      <td>5351336</td>\n",
       "      <td>0k-12880k</td>\n",
       "    </tr>\n",
       "    <tr>\n",
       "      <th>93</th>\n",
       "      <td>109</td>\n",
       "      <td>5035200</td>\n",
       "      <td>0k-12880k</td>\n",
       "    </tr>\n",
       "  </tbody>\n",
       "</table>\n",
       "<p>94 rows × 3 columns</p>\n",
       "</div>"
      ],
      "text/plain": [
       "    customer_id  total_spent spend_category\n",
       "0            14       151900      0k-12880k\n",
       "1            15      4374114      0k-12880k\n",
       "2            16       329000      0k-12880k\n",
       "3            19     10406400      0k-12880k\n",
       "4            20       499000      0k-12880k\n",
       "..          ...          ...            ...\n",
       "89          105     19933500  12880k-25760k\n",
       "90          106      3909996      0k-12880k\n",
       "91          107      5944200      0k-12880k\n",
       "92          108      5351336      0k-12880k\n",
       "93          109      5035200      0k-12880k\n",
       "\n",
       "[94 rows x 3 columns]"
      ]
     },
     "metadata": {},
     "output_type": "display_data"
    },
    {
     "data": {
      "text/plain": [
       "spend_category\n",
       "0k-12880k        81\n",
       "12880k-25760k     8\n",
       "25760k-38640k     2\n",
       "38640k-51520k     1\n",
       "51520k-64400k     2\n",
       "Name: count, dtype: int64"
      ]
     },
     "execution_count": 14,
     "metadata": {},
     "output_type": "execute_result"
    }
   ],
   "source": [
    "df_spend = df_salesv1.copy() # v1 digunakan untuk visualisasi yang lebih detail\n",
    "\n",
    "# Hapus data shipping\n",
    "df_spend = df_spend[df_spend['order_item_type'] != 'shipping']\n",
    "# Ganti koma jadi titik, ubah ke float\n",
    "df_spend['total_amount'] = df_spend['total_amount'].str.replace(',', '.').astype(float)\n",
    "# Format agar nol di belakang koma hilang, misal: 151900.0 -> 151900\n",
    "df_spend['total_amount'] = df_spend['total_amount'].map(lambda x: int(x) if x.is_integer() else x)\n",
    "# ubah tipe data datetime\n",
    "df_spend['order_date'] = pd.to_datetime(df_spend['order_date'])\n",
    "\n",
    "# ambil data yang dibutuhkan\n",
    "df_spend = df_spend[[\"order_date\", \"ip_address\", \"customer_id\", \"total_amount\"]]\n",
    "display(df_spend) # Digunakan untuk visualisasi Distribusi Customer\n",
    "\n",
    "df_spend = df_spend.groupby([\"customer_id\"])[\"total_amount\"].sum().reset_index()\n",
    "df_spend.columns = [\"customer_id\", \"total_spent\"]\n",
    "display(df_spend)\n",
    "\n",
    "\n",
    "# Input nilai maksimum dan jumlah kategori\n",
    "max_value = math.ceil(df_spend['total_spent'].max() / 100000) * 100000\n",
    "\n",
    "num_categories = 5\n",
    "\n",
    "# Buat rentang nilai secara otomatis\n",
    "bins = np.linspace(0, max_value, num_categories + 1)\n",
    "\n",
    "# Format label agar lebih mudah dibaca\n",
    "labels = [f\"{int(bins[i]/1000)}k-{int(bins[i+1]/1000)}k\" for i in range(len(bins)-1)]\n",
    "\n",
    "df_spend[\"spend_category\"] = pd.cut(df_spend[\"total_spent\"], bins=bins, labels=labels, right=True)\n",
    "display(df_spend)\n",
    "\n",
    "# Hitung jumlah customer di setiap kategori\n",
    "spend_distribution = df_spend[\"spend_category\"].value_counts().sort_index()\n",
    "\n",
    "spend_distribution.head()"
   ]
  },
  {
   "cell_type": "markdown",
   "id": "761b4425",
   "metadata": {},
   "source": [
    "## [df_salesv2, df_salesv1] -> merge_bubble (by Matthew)"
   ]
  },
  {
   "cell_type": "code",
   "execution_count": 15,
   "id": "e8b92c3f",
   "metadata": {},
   "outputs": [
    {
     "data": {
      "text/html": [
       "<div>\n",
       "<style scoped>\n",
       "    .dataframe tbody tr th:only-of-type {\n",
       "        vertical-align: middle;\n",
       "    }\n",
       "\n",
       "    .dataframe tbody tr th {\n",
       "        vertical-align: top;\n",
       "    }\n",
       "\n",
       "    .dataframe thead th {\n",
       "        text-align: right;\n",
       "    }\n",
       "</style>\n",
       "<table border=\"1\" class=\"dataframe\">\n",
       "  <thead>\n",
       "    <tr style=\"text-align: right;\">\n",
       "      <th></th>\n",
       "      <th>order_id</th>\n",
       "      <th>order_date</th>\n",
       "      <th>product_id</th>\n",
       "      <th>order_item_name</th>\n",
       "      <th>total_sales</th>\n",
       "      <th>order_item_type</th>\n",
       "      <th>product_qty</th>\n",
       "      <th>product_net_revenue</th>\n",
       "      <th>customer_id</th>\n",
       "      <th>first_name</th>\n",
       "      <th>last_name</th>\n",
       "      <th>email</th>\n",
       "      <th>city</th>\n",
       "      <th>state</th>\n",
       "    </tr>\n",
       "  </thead>\n",
       "  <tbody>\n",
       "    <tr>\n",
       "      <th>0</th>\n",
       "      <td>1181</td>\n",
       "      <td>2025-05-10 08:17:14</td>\n",
       "      <td>1010</td>\n",
       "      <td>Hosofshopaholic - Darel Skirt</td>\n",
       "      <td>7</td>\n",
       "      <td>line_item</td>\n",
       "      <td>1</td>\n",
       "      <td>160000</td>\n",
       "      <td>110</td>\n",
       "      <td>Claresta</td>\n",
       "      <td>Alway</td>\n",
       "      <td>calway1z@wix.com</td>\n",
       "      <td>Tapanuli Tengah</td>\n",
       "      <td>SU</td>\n",
       "    </tr>\n",
       "    <tr>\n",
       "      <th>1</th>\n",
       "      <td>1180</td>\n",
       "      <td>2025-05-10 08:13:52</td>\n",
       "      <td>986</td>\n",
       "      <td>ECINOS - Philia Oversized Linen Shirt</td>\n",
       "      <td>2</td>\n",
       "      <td>line_item</td>\n",
       "      <td>1</td>\n",
       "      <td>269000</td>\n",
       "      <td>109</td>\n",
       "      <td>Blythe</td>\n",
       "      <td>Aspinal</td>\n",
       "      <td>baspinal1y@fc2.com</td>\n",
       "      <td>Indragiri Hilir</td>\n",
       "      <td>RI</td>\n",
       "    </tr>\n",
       "    <tr>\n",
       "      <th>2</th>\n",
       "      <td>1179</td>\n",
       "      <td>2025-05-10 08:10:36</td>\n",
       "      <td>883</td>\n",
       "      <td>Voal Motif Printing Sublim Segiempat Premium</td>\n",
       "      <td>3</td>\n",
       "      <td>line_item</td>\n",
       "      <td>1</td>\n",
       "      <td>31000</td>\n",
       "      <td>108</td>\n",
       "      <td>Alix</td>\n",
       "      <td>Kirkup</td>\n",
       "      <td>akirkup1x@parallels.com</td>\n",
       "      <td>Makassar</td>\n",
       "      <td>SS</td>\n",
       "    </tr>\n",
       "    <tr>\n",
       "      <th>3</th>\n",
       "      <td>1178</td>\n",
       "      <td>2025-05-10 08:08:08</td>\n",
       "      <td>856</td>\n",
       "      <td>URBAN&amp;CO BASIC Sandal Wanita Sendal Teplek Cas...</td>\n",
       "      <td>3</td>\n",
       "      <td>line_item</td>\n",
       "      <td>1</td>\n",
       "      <td>151900</td>\n",
       "      <td>107</td>\n",
       "      <td>Morgana</td>\n",
       "      <td>Randal</td>\n",
       "      <td>mrandal1w@latimes.com</td>\n",
       "      <td>Palembang</td>\n",
       "      <td>SS</td>\n",
       "    </tr>\n",
       "    <tr>\n",
       "      <th>4</th>\n",
       "      <td>1177</td>\n",
       "      <td>2025-05-10 08:01:50</td>\n",
       "      <td>860</td>\n",
       "      <td>SHOEBALI Heels 021-218</td>\n",
       "      <td>4</td>\n",
       "      <td>line_item</td>\n",
       "      <td>1</td>\n",
       "      <td>215000</td>\n",
       "      <td>106</td>\n",
       "      <td>Harcourt</td>\n",
       "      <td>Clayson</td>\n",
       "      <td>hclayson1v@yahoo.com</td>\n",
       "      <td>Denpasar</td>\n",
       "      <td>BA</td>\n",
       "    </tr>\n",
       "  </tbody>\n",
       "</table>\n",
       "</div>"
      ],
      "text/plain": [
       "   order_id           order_date  product_id  \\\n",
       "0      1181  2025-05-10 08:17:14        1010   \n",
       "1      1180  2025-05-10 08:13:52         986   \n",
       "2      1179  2025-05-10 08:10:36         883   \n",
       "3      1178  2025-05-10 08:08:08         856   \n",
       "4      1177  2025-05-10 08:01:50         860   \n",
       "\n",
       "                                     order_item_name total_sales  \\\n",
       "0                      Hosofshopaholic - Darel Skirt           7   \n",
       "1              ECINOS - Philia Oversized Linen Shirt           2   \n",
       "2       Voal Motif Printing Sublim Segiempat Premium           3   \n",
       "3  URBAN&CO BASIC Sandal Wanita Sendal Teplek Cas...           3   \n",
       "4                             SHOEBALI Heels 021-218           4   \n",
       "\n",
       "  order_item_type  product_qty  product_net_revenue  customer_id first_name  \\\n",
       "0       line_item            1               160000          110   Claresta   \n",
       "1       line_item            1               269000          109     Blythe   \n",
       "2       line_item            1                31000          108       Alix   \n",
       "3       line_item            1               151900          107    Morgana   \n",
       "4       line_item            1               215000          106   Harcourt   \n",
       "\n",
       "  last_name                    email             city state  \n",
       "0     Alway         calway1z@wix.com  Tapanuli Tengah    SU  \n",
       "1   Aspinal       baspinal1y@fc2.com  Indragiri Hilir    RI  \n",
       "2    Kirkup  akirkup1x@parallels.com         Makassar    SS  \n",
       "3    Randal    mrandal1w@latimes.com        Palembang    SS  \n",
       "4   Clayson     hclayson1v@yahoo.com         Denpasar    BA  "
      ]
     },
     "metadata": {},
     "output_type": "display_data"
    },
    {
     "data": {
      "text/html": [
       "<div>\n",
       "<style scoped>\n",
       "    .dataframe tbody tr th:only-of-type {\n",
       "        vertical-align: middle;\n",
       "    }\n",
       "\n",
       "    .dataframe tbody tr th {\n",
       "        vertical-align: top;\n",
       "    }\n",
       "\n",
       "    .dataframe thead th {\n",
       "        text-align: right;\n",
       "    }\n",
       "</style>\n",
       "<table border=\"1\" class=\"dataframe\">\n",
       "  <thead>\n",
       "    <tr style=\"text-align: right;\">\n",
       "      <th></th>\n",
       "      <th>order_id</th>\n",
       "      <th>order_date</th>\n",
       "      <th>product_id</th>\n",
       "      <th>order_item_name</th>\n",
       "      <th>total_sales</th>\n",
       "    </tr>\n",
       "  </thead>\n",
       "  <tbody>\n",
       "    <tr>\n",
       "      <th>196</th>\n",
       "      <td>1036</td>\n",
       "      <td>2025-05-08 22:36:36</td>\n",
       "      <td>565</td>\n",
       "      <td>Atasan Basic Wanita</td>\n",
       "      <td>2.0</td>\n",
       "    </tr>\n",
       "    <tr>\n",
       "      <th>195</th>\n",
       "      <td>1037</td>\n",
       "      <td>2025-05-08 22:53:26</td>\n",
       "      <td>1020</td>\n",
       "      <td>This Is April Atasan Kemeja Lengan Panjang</td>\n",
       "      <td>8.0</td>\n",
       "    </tr>\n",
       "    <tr>\n",
       "      <th>194</th>\n",
       "      <td>1038</td>\n",
       "      <td>2025-05-08 22:56:25</td>\n",
       "      <td>1019</td>\n",
       "      <td>AMOENE [MADE] Long Strap Dress Navy</td>\n",
       "      <td>8.0</td>\n",
       "    </tr>\n",
       "    <tr>\n",
       "      <th>193</th>\n",
       "      <td>1039</td>\n",
       "      <td>2025-05-08 22:59:51</td>\n",
       "      <td>1015</td>\n",
       "      <td>Point One NINDY Khaki Tunik Dress</td>\n",
       "      <td>1.0</td>\n",
       "    </tr>\n",
       "    <tr>\n",
       "      <th>192</th>\n",
       "      <td>1040</td>\n",
       "      <td>2025-05-08 23:02:06</td>\n",
       "      <td>1010</td>\n",
       "      <td>Hosofshopaholic - Darel Skirt</td>\n",
       "      <td>7.0</td>\n",
       "    </tr>\n",
       "  </tbody>\n",
       "</table>\n",
       "</div>"
      ],
      "text/plain": [
       "     order_id           order_date  product_id  \\\n",
       "196      1036  2025-05-08 22:36:36         565   \n",
       "195      1037  2025-05-08 22:53:26        1020   \n",
       "194      1038  2025-05-08 22:56:25        1019   \n",
       "193      1039  2025-05-08 22:59:51        1015   \n",
       "192      1040  2025-05-08 23:02:06        1010   \n",
       "\n",
       "                                order_item_name  total_sales  \n",
       "196                         Atasan Basic Wanita          2.0  \n",
       "195  This Is April Atasan Kemeja Lengan Panjang          8.0  \n",
       "194         AMOENE [MADE] Long Strap Dress Navy          8.0  \n",
       "193           Point One NINDY Khaki Tunik Dress          1.0  \n",
       "192               Hosofshopaholic - Darel Skirt          7.0  "
      ]
     },
     "metadata": {},
     "output_type": "display_data"
    },
    {
     "data": {
      "text/plain": [
       "(197, 5)"
      ]
     },
     "execution_count": 15,
     "metadata": {},
     "output_type": "execute_result"
    }
   ],
   "source": [
    "df_bubbles2 = df_salesv2.copy(deep=True)\n",
    "\n",
    "display(df_bubbles2.head())\n",
    "df_bubbles2 = df_bubbles2[['order_id', 'order_date', 'product_id', 'order_item_name', 'total_sales']].sort_values(by='order_id')\n",
    "df_bubbles2['total_sales'] = df_bubbles2['total_sales'].str.replace('\\\\0','0')\n",
    "if df_bubbles2['total_sales'].dtype == object:\n",
    "    df_bubbles2['total_sales'] = (\n",
    "        df_bubbles2['total_sales']\n",
    "        .str.replace('.', '', regex=False)\n",
    "        .str.replace(',', '.', regex=False)\n",
    "        .astype(float)\n",
    ")\n",
    "display(df_bubbles2.head())\n",
    "df_bubbles2.shape"
   ]
  },
  {
   "cell_type": "code",
   "execution_count": 16,
   "id": "9cf1e20d",
   "metadata": {},
   "outputs": [
    {
     "data": {
      "text/html": [
       "<div>\n",
       "<style scoped>\n",
       "    .dataframe tbody tr th:only-of-type {\n",
       "        vertical-align: middle;\n",
       "    }\n",
       "\n",
       "    .dataframe tbody tr th {\n",
       "        vertical-align: top;\n",
       "    }\n",
       "\n",
       "    .dataframe thead th {\n",
       "        text-align: right;\n",
       "    }\n",
       "</style>\n",
       "<table border=\"1\" class=\"dataframe\">\n",
       "  <thead>\n",
       "    <tr style=\"text-align: right;\">\n",
       "      <th></th>\n",
       "      <th>order_id</th>\n",
       "      <th>order_date</th>\n",
       "      <th>ip_address</th>\n",
       "      <th>total_amount</th>\n",
       "      <th>customer_id</th>\n",
       "      <th>first_name</th>\n",
       "      <th>last_name</th>\n",
       "      <th>email</th>\n",
       "      <th>country</th>\n",
       "      <th>city</th>\n",
       "      <th>state</th>\n",
       "      <th>order_item_name</th>\n",
       "      <th>order_item_type</th>\n",
       "      <th>product_qty</th>\n",
       "    </tr>\n",
       "  </thead>\n",
       "  <tbody>\n",
       "    <tr>\n",
       "      <th>0</th>\n",
       "      <td>1036</td>\n",
       "      <td>2025-05-08 22:36:36</td>\n",
       "      <td>118.99.118.196</td>\n",
       "      <td>62700,00000000</td>\n",
       "      <td>62</td>\n",
       "      <td>Vaclav</td>\n",
       "      <td>Wedge</td>\n",
       "      <td>vwedge1s@typepad.com</td>\n",
       "      <td>ID</td>\n",
       "      <td>Malang</td>\n",
       "      <td>JI</td>\n",
       "      <td>Atasan Basic Wanita</td>\n",
       "      <td>line_item</td>\n",
       "      <td>1</td>\n",
       "    </tr>\n",
       "    <tr>\n",
       "      <th>2</th>\n",
       "      <td>1037</td>\n",
       "      <td>2025-05-08 22:53:26</td>\n",
       "      <td>118.99.118.196</td>\n",
       "      <td>329000,00000000</td>\n",
       "      <td>63</td>\n",
       "      <td>Ysabel</td>\n",
       "      <td>Grimster</td>\n",
       "      <td>ygrimster1h@timesonline.co.uk</td>\n",
       "      <td>ID</td>\n",
       "      <td>Samarinda</td>\n",
       "      <td>KI</td>\n",
       "      <td>This Is April Atasan Kemeja Lengan Panjang</td>\n",
       "      <td>line_item</td>\n",
       "      <td>1</td>\n",
       "    </tr>\n",
       "    <tr>\n",
       "      <th>4</th>\n",
       "      <td>1038</td>\n",
       "      <td>2025-05-08 22:56:25</td>\n",
       "      <td>118.99.118.196</td>\n",
       "      <td>550000,00000000</td>\n",
       "      <td>64</td>\n",
       "      <td>Olive</td>\n",
       "      <td>O'Logan</td>\n",
       "      <td>oologanc@imgur.com</td>\n",
       "      <td>ID</td>\n",
       "      <td>Kota Pontianak</td>\n",
       "      <td>KB</td>\n",
       "      <td>AMOENE [MADE] Long Strap Dress Navy</td>\n",
       "      <td>line_item</td>\n",
       "      <td>1</td>\n",
       "    </tr>\n",
       "    <tr>\n",
       "      <th>6</th>\n",
       "      <td>1039</td>\n",
       "      <td>2025-05-08 22:59:51</td>\n",
       "      <td>118.99.118.196</td>\n",
       "      <td>159000,00000000</td>\n",
       "      <td>65</td>\n",
       "      <td>Joanie</td>\n",
       "      <td>Mannie</td>\n",
       "      <td>jmanniee@google.com.au</td>\n",
       "      <td>ID</td>\n",
       "      <td>Kota Pontianak</td>\n",
       "      <td>KB</td>\n",
       "      <td>Point One NINDY Khaki Tunik Dress</td>\n",
       "      <td>line_item</td>\n",
       "      <td>1</td>\n",
       "    </tr>\n",
       "    <tr>\n",
       "      <th>8</th>\n",
       "      <td>1040</td>\n",
       "      <td>2025-05-08 23:02:06</td>\n",
       "      <td>118.99.118.196</td>\n",
       "      <td>160000,00000000</td>\n",
       "      <td>66</td>\n",
       "      <td>Klarrisa</td>\n",
       "      <td>Calender</td>\n",
       "      <td>kcalenderf@shinystat.com</td>\n",
       "      <td>ID</td>\n",
       "      <td>Kota Pontianak</td>\n",
       "      <td>KB</td>\n",
       "      <td>Hosofshopaholic - Darel Skirt</td>\n",
       "      <td>line_item</td>\n",
       "      <td>1</td>\n",
       "    </tr>\n",
       "  </tbody>\n",
       "</table>\n",
       "</div>"
      ],
      "text/plain": [
       "   order_id           order_date      ip_address     total_amount  \\\n",
       "0      1036  2025-05-08 22:36:36  118.99.118.196   62700,00000000   \n",
       "2      1037  2025-05-08 22:53:26  118.99.118.196  329000,00000000   \n",
       "4      1038  2025-05-08 22:56:25  118.99.118.196  550000,00000000   \n",
       "6      1039  2025-05-08 22:59:51  118.99.118.196  159000,00000000   \n",
       "8      1040  2025-05-08 23:02:06  118.99.118.196  160000,00000000   \n",
       "\n",
       "   customer_id first_name last_name                          email country  \\\n",
       "0           62     Vaclav     Wedge           vwedge1s@typepad.com      ID   \n",
       "2           63     Ysabel  Grimster  ygrimster1h@timesonline.co.uk      ID   \n",
       "4           64      Olive   O'Logan             oologanc@imgur.com      ID   \n",
       "6           65     Joanie    Mannie         jmanniee@google.com.au      ID   \n",
       "8           66   Klarrisa  Calender       kcalenderf@shinystat.com      ID   \n",
       "\n",
       "             city state                             order_item_name  \\\n",
       "0          Malang    JI                         Atasan Basic Wanita   \n",
       "2       Samarinda    KI  This Is April Atasan Kemeja Lengan Panjang   \n",
       "4  Kota Pontianak    KB         AMOENE [MADE] Long Strap Dress Navy   \n",
       "6  Kota Pontianak    KB           Point One NINDY Khaki Tunik Dress   \n",
       "8  Kota Pontianak    KB               Hosofshopaholic - Darel Skirt   \n",
       "\n",
       "  order_item_type  product_qty  \n",
       "0       line_item            1  \n",
       "2       line_item            1  \n",
       "4       line_item            1  \n",
       "6       line_item            1  \n",
       "8       line_item            1  "
      ]
     },
     "metadata": {},
     "output_type": "display_data"
    },
    {
     "data": {
      "text/html": [
       "<div>\n",
       "<style scoped>\n",
       "    .dataframe tbody tr th:only-of-type {\n",
       "        vertical-align: middle;\n",
       "    }\n",
       "\n",
       "    .dataframe tbody tr th {\n",
       "        vertical-align: top;\n",
       "    }\n",
       "\n",
       "    .dataframe thead th {\n",
       "        text-align: right;\n",
       "    }\n",
       "</style>\n",
       "<table border=\"1\" class=\"dataframe\">\n",
       "  <thead>\n",
       "    <tr style=\"text-align: right;\">\n",
       "      <th></th>\n",
       "      <th>order_id</th>\n",
       "      <th>ip_address</th>\n",
       "    </tr>\n",
       "  </thead>\n",
       "  <tbody>\n",
       "    <tr>\n",
       "      <th>0</th>\n",
       "      <td>1036</td>\n",
       "      <td>118.99.118.196</td>\n",
       "    </tr>\n",
       "    <tr>\n",
       "      <th>2</th>\n",
       "      <td>1037</td>\n",
       "      <td>118.99.118.196</td>\n",
       "    </tr>\n",
       "    <tr>\n",
       "      <th>4</th>\n",
       "      <td>1038</td>\n",
       "      <td>118.99.118.196</td>\n",
       "    </tr>\n",
       "    <tr>\n",
       "      <th>6</th>\n",
       "      <td>1039</td>\n",
       "      <td>118.99.118.196</td>\n",
       "    </tr>\n",
       "    <tr>\n",
       "      <th>8</th>\n",
       "      <td>1040</td>\n",
       "      <td>118.99.118.196</td>\n",
       "    </tr>\n",
       "  </tbody>\n",
       "</table>\n",
       "</div>"
      ],
      "text/plain": [
       "   order_id      ip_address\n",
       "0      1036  118.99.118.196\n",
       "2      1037  118.99.118.196\n",
       "4      1038  118.99.118.196\n",
       "6      1039  118.99.118.196\n",
       "8      1040  118.99.118.196"
      ]
     },
     "metadata": {},
     "output_type": "display_data"
    },
    {
     "data": {
      "text/plain": [
       "(555, 2)"
      ]
     },
     "execution_count": 16,
     "metadata": {},
     "output_type": "execute_result"
    }
   ],
   "source": [
    "df_bubbles1 = df_salesv1.copy(deep=True)\n",
    "\n",
    "df_bubbles1 = df_bubbles1[df_bubbles1['order_item_type'] != 'shipping']\n",
    "display(df_bubbles1.head())\n",
    "df_bubbles1 = df_bubbles1[['order_id','ip_address']]\n",
    "display(df_bubbles1.head())\n",
    "df_bubbles1.shape"
   ]
  },
  {
   "cell_type": "code",
   "execution_count": 17,
   "id": "5dbe9e38",
   "metadata": {},
   "outputs": [
    {
     "data": {
      "text/html": [
       "<div>\n",
       "<style scoped>\n",
       "    .dataframe tbody tr th:only-of-type {\n",
       "        vertical-align: middle;\n",
       "    }\n",
       "\n",
       "    .dataframe tbody tr th {\n",
       "        vertical-align: top;\n",
       "    }\n",
       "\n",
       "    .dataframe thead th {\n",
       "        text-align: right;\n",
       "    }\n",
       "</style>\n",
       "<table border=\"1\" class=\"dataframe\">\n",
       "  <thead>\n",
       "    <tr style=\"text-align: right;\">\n",
       "      <th></th>\n",
       "      <th>order_date</th>\n",
       "      <th>order_item_name</th>\n",
       "      <th>total_sales</th>\n",
       "      <th>ip_address</th>\n",
       "    </tr>\n",
       "  </thead>\n",
       "  <tbody>\n",
       "    <tr>\n",
       "      <th>0</th>\n",
       "      <td>2025-05-08</td>\n",
       "      <td>This Is April Atasan Kemeja Lengan Panjang</td>\n",
       "      <td>8.0</td>\n",
       "      <td>118.99.118.196</td>\n",
       "    </tr>\n",
       "    <tr>\n",
       "      <th>1</th>\n",
       "      <td>2025-05-08</td>\n",
       "      <td>AMOENE [MADE] Long Strap Dress Navy</td>\n",
       "      <td>8.0</td>\n",
       "      <td>118.99.118.196</td>\n",
       "    </tr>\n",
       "    <tr>\n",
       "      <th>2</th>\n",
       "      <td>2025-05-08</td>\n",
       "      <td>Hosofshopaholic - Darel Skirt</td>\n",
       "      <td>7.0</td>\n",
       "      <td>118.99.118.196</td>\n",
       "    </tr>\n",
       "    <tr>\n",
       "      <th>3</th>\n",
       "      <td>2025-05-08</td>\n",
       "      <td>This Is April Rok Midi Crochet Wanita</td>\n",
       "      <td>7.0</td>\n",
       "      <td>118.99.118.196</td>\n",
       "    </tr>\n",
       "    <tr>\n",
       "      <th>4</th>\n",
       "      <td>2025-05-08</td>\n",
       "      <td>ORO PANTS</td>\n",
       "      <td>4.0</td>\n",
       "      <td>118.99.118.196</td>\n",
       "    </tr>\n",
       "  </tbody>\n",
       "</table>\n",
       "</div>"
      ],
      "text/plain": [
       "   order_date                             order_item_name  total_sales  \\\n",
       "0  2025-05-08  This Is April Atasan Kemeja Lengan Panjang          8.0   \n",
       "1  2025-05-08         AMOENE [MADE] Long Strap Dress Navy          8.0   \n",
       "2  2025-05-08               Hosofshopaholic - Darel Skirt          7.0   \n",
       "3  2025-05-08       This Is April Rok Midi Crochet Wanita          7.0   \n",
       "4  2025-05-08                                   ORO PANTS          4.0   \n",
       "\n",
       "       ip_address  \n",
       "0  118.99.118.196  \n",
       "1  118.99.118.196  \n",
       "2  118.99.118.196  \n",
       "3  118.99.118.196  \n",
       "4  118.99.118.196  "
      ]
     },
     "metadata": {},
     "output_type": "display_data"
    },
    {
     "name": "stdout",
     "output_type": "stream",
     "text": [
      "<class 'pandas.core.frame.DataFrame'>\n",
      "RangeIndex: 37 entries, 0 to 36\n",
      "Data columns (total 4 columns):\n",
      " #   Column           Non-Null Count  Dtype  \n",
      "---  ------           --------------  -----  \n",
      " 0   order_date       37 non-null     object \n",
      " 1   order_item_name  37 non-null     object \n",
      " 2   total_sales      37 non-null     float64\n",
      " 3   ip_address       37 non-null     object \n",
      "dtypes: float64(1), object(3)\n",
      "memory usage: 1.3+ KB\n"
     ]
    }
   ],
   "source": [
    "merge_bubble = df_bubbles2.merge(df_bubbles1, on='order_id', how='inner').sort_values(by='order_id')\n",
    "merge_bubble = merge_bubble.drop_duplicates(subset=['product_id'], keep='first').drop(columns=['order_id', 'product_id'])\n",
    "# display(merge_bubble.head(50))\n",
    "\n",
    "# Ubah `order_date` menjadi format datetime untuk grouping berdasarkan hari\n",
    "merge_bubble[\"order_date\"] = pd.to_datetime(merge_bubble[\"order_date\"])\n",
    "\n",
    "# Ambil tanggal saja dari `order_date`\n",
    "merge_bubble[\"order_date\"] = merge_bubble[\"order_date\"].dt.date\n",
    "\n",
    "# Ambil **Top 5 total_sales tertinggi berdasarkan tiap hari**\n",
    "top5_per_day = merge_bubble.sort_values(by=[\"order_date\", \"total_sales\"], ascending=[True, False]) \\\n",
    "                 .groupby(\"order_date\").head(5)\n",
    "\n",
    "# Ambil **Top 5 total_sales tertinggi berdasarkan tiap IP address**\n",
    "top5_per_ip = merge_bubble.sort_values(by=[\"ip_address\", \"total_sales\"], ascending=[True, False]) \\\n",
    "                .groupby(\"ip_address\").head(5)\n",
    "\n",
    "# Gabungkan hasilnya jadi satu dataset unik\n",
    "merge_bubble = pd.concat([top5_per_day, top5_per_ip]).drop_duplicates().reset_index(drop=True)\n",
    "display(merge_bubble.head())\n",
    "merge_bubble.info()"
   ]
  },
  {
   "cell_type": "markdown",
   "id": "d704eff4",
   "metadata": {},
   "source": [
    "## [df_salesv1, order_meta] -> df_page (by Hanif)"
   ]
  },
  {
   "cell_type": "code",
   "execution_count": 18,
   "id": "520c3709",
   "metadata": {},
   "outputs": [
    {
     "data": {
      "text/html": [
       "<div>\n",
       "<style scoped>\n",
       "    .dataframe tbody tr th:only-of-type {\n",
       "        vertical-align: middle;\n",
       "    }\n",
       "\n",
       "    .dataframe tbody tr th {\n",
       "        vertical-align: top;\n",
       "    }\n",
       "\n",
       "    .dataframe thead th {\n",
       "        text-align: right;\n",
       "    }\n",
       "</style>\n",
       "<table border=\"1\" class=\"dataframe\">\n",
       "  <thead>\n",
       "    <tr style=\"text-align: right;\">\n",
       "      <th></th>\n",
       "      <th>order_id</th>\n",
       "      <th>order_date</th>\n",
       "      <th>ip_address</th>\n",
       "    </tr>\n",
       "  </thead>\n",
       "  <tbody>\n",
       "    <tr>\n",
       "      <th>0</th>\n",
       "      <td>1036</td>\n",
       "      <td>2025-05-08 22:36:36</td>\n",
       "      <td>118.99.118.196</td>\n",
       "    </tr>\n",
       "    <tr>\n",
       "      <th>2</th>\n",
       "      <td>1037</td>\n",
       "      <td>2025-05-08 22:53:26</td>\n",
       "      <td>118.99.118.196</td>\n",
       "    </tr>\n",
       "    <tr>\n",
       "      <th>4</th>\n",
       "      <td>1038</td>\n",
       "      <td>2025-05-08 22:56:25</td>\n",
       "      <td>118.99.118.196</td>\n",
       "    </tr>\n",
       "    <tr>\n",
       "      <th>6</th>\n",
       "      <td>1039</td>\n",
       "      <td>2025-05-08 22:59:51</td>\n",
       "      <td>118.99.118.196</td>\n",
       "    </tr>\n",
       "    <tr>\n",
       "      <th>8</th>\n",
       "      <td>1040</td>\n",
       "      <td>2025-05-08 23:02:06</td>\n",
       "      <td>118.99.118.196</td>\n",
       "    </tr>\n",
       "  </tbody>\n",
       "</table>\n",
       "</div>"
      ],
      "text/plain": [
       "   order_id           order_date      ip_address\n",
       "0      1036  2025-05-08 22:36:36  118.99.118.196\n",
       "2      1037  2025-05-08 22:53:26  118.99.118.196\n",
       "4      1038  2025-05-08 22:56:25  118.99.118.196\n",
       "6      1039  2025-05-08 22:59:51  118.99.118.196\n",
       "8      1040  2025-05-08 23:02:06  118.99.118.196"
      ]
     },
     "metadata": {},
     "output_type": "display_data"
    },
    {
     "data": {
      "text/plain": [
       "(110, 3)"
      ]
     },
     "execution_count": 18,
     "metadata": {},
     "output_type": "execute_result"
    }
   ],
   "source": [
    "# Tambahkan ip address dan tanggal\n",
    "df_fact = df_salesv1.copy(deep=True)\n",
    "df_fact = df_fact[df_fact['order_item_type'] == 'line_item']\n",
    "df_fact = df_fact[[\"order_id\", \"order_date\", \"ip_address\"]]\n",
    "df_fact = df_fact.drop_duplicates()\n",
    "display(df_fact.head())\n",
    "df_fact.shape"
   ]
  },
  {
   "cell_type": "code",
   "execution_count": 19,
   "id": "bf36f4fa",
   "metadata": {},
   "outputs": [
    {
     "data": {
      "text/html": [
       "<div>\n",
       "<style scoped>\n",
       "    .dataframe tbody tr th:only-of-type {\n",
       "        vertical-align: middle;\n",
       "    }\n",
       "\n",
       "    .dataframe tbody tr th {\n",
       "        vertical-align: top;\n",
       "    }\n",
       "\n",
       "    .dataframe thead th {\n",
       "        text-align: right;\n",
       "    }\n",
       "</style>\n",
       "<table border=\"1\" class=\"dataframe\">\n",
       "  <thead>\n",
       "    <tr style=\"text-align: right;\">\n",
       "      <th></th>\n",
       "      <th>id</th>\n",
       "      <th>order_id</th>\n",
       "      <th>meta_key</th>\n",
       "      <th>meta_value</th>\n",
       "    </tr>\n",
       "  </thead>\n",
       "  <tbody>\n",
       "    <tr>\n",
       "      <th>7</th>\n",
       "      <td>86</td>\n",
       "      <td>1036</td>\n",
       "      <td>_wc_order_attribution_session_pages</td>\n",
       "      <td>9</td>\n",
       "    </tr>\n",
       "    <tr>\n",
       "      <th>18</th>\n",
       "      <td>97</td>\n",
       "      <td>1037</td>\n",
       "      <td>_wc_order_attribution_session_pages</td>\n",
       "      <td>20</td>\n",
       "    </tr>\n",
       "    <tr>\n",
       "      <th>29</th>\n",
       "      <td>108</td>\n",
       "      <td>1038</td>\n",
       "      <td>_wc_order_attribution_session_pages</td>\n",
       "      <td>31</td>\n",
       "    </tr>\n",
       "    <tr>\n",
       "      <th>40</th>\n",
       "      <td>119</td>\n",
       "      <td>1039</td>\n",
       "      <td>_wc_order_attribution_session_pages</td>\n",
       "      <td>40</td>\n",
       "    </tr>\n",
       "    <tr>\n",
       "      <th>51</th>\n",
       "      <td>130</td>\n",
       "      <td>1040</td>\n",
       "      <td>_wc_order_attribution_session_pages</td>\n",
       "      <td>50</td>\n",
       "    </tr>\n",
       "  </tbody>\n",
       "</table>\n",
       "</div>"
      ],
      "text/plain": [
       "     id  order_id                             meta_key meta_value\n",
       "7    86      1036  _wc_order_attribution_session_pages          9\n",
       "18   97      1037  _wc_order_attribution_session_pages         20\n",
       "29  108      1038  _wc_order_attribution_session_pages         31\n",
       "40  119      1039  _wc_order_attribution_session_pages         40\n",
       "51  130      1040  _wc_order_attribution_session_pages         50"
      ]
     },
     "metadata": {},
     "output_type": "display_data"
    },
    {
     "data": {
      "text/plain": [
       "(110, 4)"
      ]
     },
     "execution_count": 19,
     "metadata": {},
     "output_type": "execute_result"
    }
   ],
   "source": [
    "# Filter baris dengan meta_key '_wc_order_attribution_session_pages'\n",
    "page_data = order_meta[order_meta[\"meta_key\"] == \"_wc_order_attribution_session_pages\"]\n",
    "display(page_data.head())\n",
    "page_data.shape"
   ]
  },
  {
   "cell_type": "code",
   "execution_count": 20,
   "id": "bb6d3ed9",
   "metadata": {},
   "outputs": [
    {
     "data": {
      "text/html": [
       "<div>\n",
       "<style scoped>\n",
       "    .dataframe tbody tr th:only-of-type {\n",
       "        vertical-align: middle;\n",
       "    }\n",
       "\n",
       "    .dataframe tbody tr th {\n",
       "        vertical-align: top;\n",
       "    }\n",
       "\n",
       "    .dataframe thead th {\n",
       "        text-align: right;\n",
       "    }\n",
       "</style>\n",
       "<table border=\"1\" class=\"dataframe\">\n",
       "  <thead>\n",
       "    <tr style=\"text-align: right;\">\n",
       "      <th></th>\n",
       "      <th>order_date</th>\n",
       "      <th>ip_address</th>\n",
       "      <th>meta_value</th>\n",
       "    </tr>\n",
       "  </thead>\n",
       "  <tbody>\n",
       "    <tr>\n",
       "      <th>0</th>\n",
       "      <td>2025-05-08 22:36:36</td>\n",
       "      <td>118.99.118.196</td>\n",
       "      <td>9</td>\n",
       "    </tr>\n",
       "    <tr>\n",
       "      <th>1</th>\n",
       "      <td>2025-05-08 22:53:26</td>\n",
       "      <td>118.99.118.196</td>\n",
       "      <td>20</td>\n",
       "    </tr>\n",
       "    <tr>\n",
       "      <th>2</th>\n",
       "      <td>2025-05-08 22:56:25</td>\n",
       "      <td>118.99.118.196</td>\n",
       "      <td>31</td>\n",
       "    </tr>\n",
       "    <tr>\n",
       "      <th>3</th>\n",
       "      <td>2025-05-08 22:59:51</td>\n",
       "      <td>118.99.118.196</td>\n",
       "      <td>40</td>\n",
       "    </tr>\n",
       "    <tr>\n",
       "      <th>4</th>\n",
       "      <td>2025-05-08 23:02:06</td>\n",
       "      <td>118.99.118.196</td>\n",
       "      <td>50</td>\n",
       "    </tr>\n",
       "  </tbody>\n",
       "</table>\n",
       "</div>"
      ],
      "text/plain": [
       "            order_date      ip_address meta_value\n",
       "0  2025-05-08 22:36:36  118.99.118.196          9\n",
       "1  2025-05-08 22:53:26  118.99.118.196         20\n",
       "2  2025-05-08 22:56:25  118.99.118.196         31\n",
       "3  2025-05-08 22:59:51  118.99.118.196         40\n",
       "4  2025-05-08 23:02:06  118.99.118.196         50"
      ]
     },
     "metadata": {},
     "output_type": "display_data"
    },
    {
     "data": {
      "text/plain": [
       "(110, 3)"
      ]
     },
     "execution_count": 20,
     "metadata": {},
     "output_type": "execute_result"
    }
   ],
   "source": [
    "df_page = page_data.merge(df_fact, how=\"left\", on=\"order_id\")[['order_date', 'ip_address', 'meta_value']]\n",
    "display(df_page.head())\n",
    "df_page.shape"
   ]
  },
  {
   "cell_type": "code",
   "execution_count": 21,
   "id": "d3b7575a",
   "metadata": {},
   "outputs": [
    {
     "data": {
      "text/html": [
       "<div>\n",
       "<style scoped>\n",
       "    .dataframe tbody tr th:only-of-type {\n",
       "        vertical-align: middle;\n",
       "    }\n",
       "\n",
       "    .dataframe tbody tr th {\n",
       "        vertical-align: top;\n",
       "    }\n",
       "\n",
       "    .dataframe thead th {\n",
       "        text-align: right;\n",
       "    }\n",
       "</style>\n",
       "<table border=\"1\" class=\"dataframe\">\n",
       "  <thead>\n",
       "    <tr style=\"text-align: right;\">\n",
       "      <th></th>\n",
       "      <th>page</th>\n",
       "      <th>interaction_count</th>\n",
       "    </tr>\n",
       "  </thead>\n",
       "  <tbody>\n",
       "    <tr>\n",
       "      <th>0</th>\n",
       "      <td>79</td>\n",
       "      <td>5</td>\n",
       "    </tr>\n",
       "    <tr>\n",
       "      <th>1</th>\n",
       "      <td>43</td>\n",
       "      <td>4</td>\n",
       "    </tr>\n",
       "    <tr>\n",
       "      <th>2</th>\n",
       "      <td>10</td>\n",
       "      <td>3</td>\n",
       "    </tr>\n",
       "    <tr>\n",
       "      <th>3</th>\n",
       "      <td>25</td>\n",
       "      <td>3</td>\n",
       "    </tr>\n",
       "    <tr>\n",
       "      <th>4</th>\n",
       "      <td>70</td>\n",
       "      <td>3</td>\n",
       "    </tr>\n",
       "  </tbody>\n",
       "</table>\n",
       "</div>"
      ],
      "text/plain": [
       "  page  interaction_count\n",
       "0   79                  5\n",
       "1   43                  4\n",
       "2   10                  3\n",
       "3   25                  3\n",
       "4   70                  3"
      ]
     },
     "metadata": {},
     "output_type": "display_data"
    },
    {
     "data": {
      "text/plain": [
       "(82, 2)"
      ]
     },
     "metadata": {},
     "output_type": "display_data"
    }
   ],
   "source": [
    "# Hitung jumlah interaksi tiap halaman\n",
    "page_counts = page_data[\"meta_value\"].value_counts().reset_index()\n",
    "page_counts.columns = [\"page\", \"interaction_count\"]\n",
    "page_counts.sort_values(\"interaction_count\", ascending=False)\n",
    "display(page_counts.head())\n",
    "display(page_counts.shape)\n",
    "\n",
    "# Ambil 10 page teratas\n",
    "top_pages = page_counts.head(10).copy()\n",
    "\n",
    "# Hitung total interaksi untuk persentase\n",
    "total_interactions = top_pages[\"interaction_count\"].sum()\n",
    "top_pages[\"percentage\"] = (top_pages[\"interaction_count\"] / total_interactions) * 100"
   ]
  },
  {
   "cell_type": "markdown",
   "id": "2f4aa33c",
   "metadata": {},
   "source": [
    "## df_salesv1 -> df_line (by Nashya)"
   ]
  },
  {
   "cell_type": "code",
   "execution_count": 22,
   "id": "01645545",
   "metadata": {},
   "outputs": [
    {
     "data": {
      "text/html": [
       "<div>\n",
       "<style scoped>\n",
       "    .dataframe tbody tr th:only-of-type {\n",
       "        vertical-align: middle;\n",
       "    }\n",
       "\n",
       "    .dataframe tbody tr th {\n",
       "        vertical-align: top;\n",
       "    }\n",
       "\n",
       "    .dataframe thead th {\n",
       "        text-align: right;\n",
       "    }\n",
       "</style>\n",
       "<table border=\"1\" class=\"dataframe\">\n",
       "  <thead>\n",
       "    <tr style=\"text-align: right;\">\n",
       "      <th></th>\n",
       "      <th>order_date</th>\n",
       "      <th>ip_address</th>\n",
       "      <th>jumlah_transaksi</th>\n",
       "    </tr>\n",
       "  </thead>\n",
       "  <tbody>\n",
       "    <tr>\n",
       "      <th>0</th>\n",
       "      <td>2025-05-08 22:00:00</td>\n",
       "      <td>118.99.118.196</td>\n",
       "      <td>4</td>\n",
       "    </tr>\n",
       "    <tr>\n",
       "      <th>1</th>\n",
       "      <td>2025-05-08 23:00:00</td>\n",
       "      <td>118.99.118.196</td>\n",
       "      <td>8</td>\n",
       "    </tr>\n",
       "    <tr>\n",
       "      <th>2</th>\n",
       "      <td>2025-05-09 14:00:00</td>\n",
       "      <td>114.10.137.72</td>\n",
       "      <td>12</td>\n",
       "    </tr>\n",
       "    <tr>\n",
       "      <th>3</th>\n",
       "      <td>2025-05-09 15:00:00</td>\n",
       "      <td>118.99.64.211</td>\n",
       "      <td>12</td>\n",
       "    </tr>\n",
       "    <tr>\n",
       "      <th>4</th>\n",
       "      <td>2025-05-09 16:00:00</td>\n",
       "      <td>180.242.232.29</td>\n",
       "      <td>8</td>\n",
       "    </tr>\n",
       "    <tr>\n",
       "      <th>5</th>\n",
       "      <td>2025-05-09 17:00:00</td>\n",
       "      <td>103.3.221.19</td>\n",
       "      <td>5</td>\n",
       "    </tr>\n",
       "    <tr>\n",
       "      <th>6</th>\n",
       "      <td>2025-05-09 17:00:00</td>\n",
       "      <td>180.242.232.29</td>\n",
       "      <td>3</td>\n",
       "    </tr>\n",
       "    <tr>\n",
       "      <th>7</th>\n",
       "      <td>2025-05-10 04:00:00</td>\n",
       "      <td>103.154.110.177</td>\n",
       "      <td>11</td>\n",
       "    </tr>\n",
       "    <tr>\n",
       "      <th>8</th>\n",
       "      <td>2025-05-10 05:00:00</td>\n",
       "      <td>180.243.107.39</td>\n",
       "      <td>1</td>\n",
       "    </tr>\n",
       "    <tr>\n",
       "      <th>9</th>\n",
       "      <td>2025-05-10 06:00:00</td>\n",
       "      <td>180.242.235.124</td>\n",
       "      <td>12</td>\n",
       "    </tr>\n",
       "    <tr>\n",
       "      <th>10</th>\n",
       "      <td>2025-05-10 06:00:00</td>\n",
       "      <td>180.243.107.39</td>\n",
       "      <td>18</td>\n",
       "    </tr>\n",
       "    <tr>\n",
       "      <th>11</th>\n",
       "      <td>2025-05-10 07:00:00</td>\n",
       "      <td>180.243.107.39</td>\n",
       "      <td>8</td>\n",
       "    </tr>\n",
       "    <tr>\n",
       "      <th>12</th>\n",
       "      <td>2025-05-10 07:00:00</td>\n",
       "      <td>180.248.184.92</td>\n",
       "      <td>3</td>\n",
       "    </tr>\n",
       "    <tr>\n",
       "      <th>13</th>\n",
       "      <td>2025-05-10 08:00:00</td>\n",
       "      <td>180.248.184.92</td>\n",
       "      <td>5</td>\n",
       "    </tr>\n",
       "  </tbody>\n",
       "</table>\n",
       "</div>"
      ],
      "text/plain": [
       "            order_date       ip_address  jumlah_transaksi\n",
       "0  2025-05-08 22:00:00   118.99.118.196                 4\n",
       "1  2025-05-08 23:00:00   118.99.118.196                 8\n",
       "2  2025-05-09 14:00:00    114.10.137.72                12\n",
       "3  2025-05-09 15:00:00    118.99.64.211                12\n",
       "4  2025-05-09 16:00:00   180.242.232.29                 8\n",
       "5  2025-05-09 17:00:00     103.3.221.19                 5\n",
       "6  2025-05-09 17:00:00   180.242.232.29                 3\n",
       "7  2025-05-10 04:00:00  103.154.110.177                11\n",
       "8  2025-05-10 05:00:00   180.243.107.39                 1\n",
       "9  2025-05-10 06:00:00  180.242.235.124                12\n",
       "10 2025-05-10 06:00:00   180.243.107.39                18\n",
       "11 2025-05-10 07:00:00   180.243.107.39                 8\n",
       "12 2025-05-10 07:00:00   180.248.184.92                 3\n",
       "13 2025-05-10 08:00:00   180.248.184.92                 5"
      ]
     },
     "metadata": {},
     "output_type": "display_data"
    },
    {
     "data": {
      "text/plain": [
       "(14, 3)"
      ]
     },
     "execution_count": 22,
     "metadata": {},
     "output_type": "execute_result"
    }
   ],
   "source": [
    "# Membuat salinan dari DataFrame untuk menghindari perubahan pada data asli\n",
    "df_line = df_salesv1.copy(deep=True)  \n",
    "\n",
    "# Menghapus baris yang memiliki 'order_item_type' dengan nilai 'shipping', karena tidak termasuk dalam analisis penjualan produk\n",
    "df_line = df_line[df_line['order_item_type'] != 'shipping']\n",
    "\n",
    "# Mengonversi kolom 'order_date' ke format datetime agar dapat digunakan dalam analisis waktu\n",
    "df_line['order_date'] = pd.to_datetime(df_line['order_date'])\n",
    "\n",
    "# Memilih hanya kolom yang relevan dan menghapus duplikasi untuk memastikan setiap transaksi unik\n",
    "df_line = df_line[['order_date', 'ip_address', 'order_id']].drop_duplicates()\n",
    "\n",
    "# Bulatkan waktu ke jam terdekat\n",
    "df_line['order_date'] = df_line['order_date'].dt.floor('h')\n",
    "\n",
    "# Grouping\n",
    "df_line = df_line.groupby(['order_date', 'ip_address']).size().reset_index(name='jumlah_transaksi')\n",
    "display(df_line.head(14))\n",
    "df_line.shape"
   ]
  },
  {
   "cell_type": "code",
   "execution_count": 23,
   "id": "cbb7b8be",
   "metadata": {},
   "outputs": [
    {
     "data": {
      "text/html": [
       "<div>\n",
       "<style scoped>\n",
       "    .dataframe tbody tr th:only-of-type {\n",
       "        vertical-align: middle;\n",
       "    }\n",
       "\n",
       "    .dataframe tbody tr th {\n",
       "        vertical-align: top;\n",
       "    }\n",
       "\n",
       "    .dataframe thead th {\n",
       "        text-align: right;\n",
       "    }\n",
       "</style>\n",
       "<table border=\"1\" class=\"dataframe\">\n",
       "  <thead>\n",
       "    <tr style=\"text-align: right;\">\n",
       "      <th>ip_address</th>\n",
       "      <th>103.154.110.177</th>\n",
       "      <th>103.3.221.19</th>\n",
       "      <th>114.10.137.72</th>\n",
       "      <th>118.99.118.196</th>\n",
       "      <th>118.99.64.211</th>\n",
       "      <th>180.242.232.29</th>\n",
       "      <th>180.242.235.124</th>\n",
       "      <th>180.243.107.39</th>\n",
       "      <th>180.248.184.92</th>\n",
       "    </tr>\n",
       "    <tr>\n",
       "      <th>order_date</th>\n",
       "      <th></th>\n",
       "      <th></th>\n",
       "      <th></th>\n",
       "      <th></th>\n",
       "      <th></th>\n",
       "      <th></th>\n",
       "      <th></th>\n",
       "      <th></th>\n",
       "      <th></th>\n",
       "    </tr>\n",
       "  </thead>\n",
       "  <tbody>\n",
       "    <tr>\n",
       "      <th>2025-05-08 22:00:00</th>\n",
       "      <td>0.0</td>\n",
       "      <td>0.0</td>\n",
       "      <td>0.0</td>\n",
       "      <td>4.0</td>\n",
       "      <td>0.0</td>\n",
       "      <td>0.0</td>\n",
       "      <td>0.0</td>\n",
       "      <td>0.0</td>\n",
       "      <td>0.0</td>\n",
       "    </tr>\n",
       "    <tr>\n",
       "      <th>2025-05-08 23:00:00</th>\n",
       "      <td>0.0</td>\n",
       "      <td>0.0</td>\n",
       "      <td>0.0</td>\n",
       "      <td>8.0</td>\n",
       "      <td>0.0</td>\n",
       "      <td>0.0</td>\n",
       "      <td>0.0</td>\n",
       "      <td>0.0</td>\n",
       "      <td>0.0</td>\n",
       "    </tr>\n",
       "    <tr>\n",
       "      <th>2025-05-09 14:00:00</th>\n",
       "      <td>0.0</td>\n",
       "      <td>0.0</td>\n",
       "      <td>12.0</td>\n",
       "      <td>0.0</td>\n",
       "      <td>0.0</td>\n",
       "      <td>0.0</td>\n",
       "      <td>0.0</td>\n",
       "      <td>0.0</td>\n",
       "      <td>0.0</td>\n",
       "    </tr>\n",
       "    <tr>\n",
       "      <th>2025-05-09 15:00:00</th>\n",
       "      <td>0.0</td>\n",
       "      <td>0.0</td>\n",
       "      <td>0.0</td>\n",
       "      <td>0.0</td>\n",
       "      <td>12.0</td>\n",
       "      <td>0.0</td>\n",
       "      <td>0.0</td>\n",
       "      <td>0.0</td>\n",
       "      <td>0.0</td>\n",
       "    </tr>\n",
       "    <tr>\n",
       "      <th>2025-05-09 16:00:00</th>\n",
       "      <td>0.0</td>\n",
       "      <td>0.0</td>\n",
       "      <td>0.0</td>\n",
       "      <td>0.0</td>\n",
       "      <td>0.0</td>\n",
       "      <td>8.0</td>\n",
       "      <td>0.0</td>\n",
       "      <td>0.0</td>\n",
       "      <td>0.0</td>\n",
       "    </tr>\n",
       "  </tbody>\n",
       "</table>\n",
       "</div>"
      ],
      "text/plain": [
       "ip_address           103.154.110.177  103.3.221.19  114.10.137.72  \\\n",
       "order_date                                                          \n",
       "2025-05-08 22:00:00              0.0           0.0            0.0   \n",
       "2025-05-08 23:00:00              0.0           0.0            0.0   \n",
       "2025-05-09 14:00:00              0.0           0.0           12.0   \n",
       "2025-05-09 15:00:00              0.0           0.0            0.0   \n",
       "2025-05-09 16:00:00              0.0           0.0            0.0   \n",
       "\n",
       "ip_address           118.99.118.196  118.99.64.211  180.242.232.29  \\\n",
       "order_date                                                           \n",
       "2025-05-08 22:00:00             4.0            0.0             0.0   \n",
       "2025-05-08 23:00:00             8.0            0.0             0.0   \n",
       "2025-05-09 14:00:00             0.0            0.0             0.0   \n",
       "2025-05-09 15:00:00             0.0           12.0             0.0   \n",
       "2025-05-09 16:00:00             0.0            0.0             8.0   \n",
       "\n",
       "ip_address           180.242.235.124  180.243.107.39  180.248.184.92  \n",
       "order_date                                                            \n",
       "2025-05-08 22:00:00              0.0             0.0             0.0  \n",
       "2025-05-08 23:00:00              0.0             0.0             0.0  \n",
       "2025-05-09 14:00:00              0.0             0.0             0.0  \n",
       "2025-05-09 15:00:00              0.0             0.0             0.0  \n",
       "2025-05-09 16:00:00              0.0             0.0             0.0  "
      ]
     },
     "execution_count": 23,
     "metadata": {},
     "output_type": "execute_result"
    }
   ],
   "source": [
    "# Pivot agar IP Address menjadi kolom\n",
    "pivot_df = df_line.pivot(index='order_date', columns='ip_address', values='jumlah_transaksi').fillna(0)\n",
    "pivot_df.head()"
   ]
  },
  {
   "cell_type": "markdown",
   "id": "7c6691bc",
   "metadata": {},
   "source": [
    "## order_items -> df_interact (by Carsen)"
   ]
  },
  {
   "cell_type": "code",
   "execution_count": 24,
   "id": "11c54fbf",
   "metadata": {},
   "outputs": [
    {
     "data": {
      "text/html": [
       "<div>\n",
       "<style scoped>\n",
       "    .dataframe tbody tr th:only-of-type {\n",
       "        vertical-align: middle;\n",
       "    }\n",
       "\n",
       "    .dataframe tbody tr th {\n",
       "        vertical-align: top;\n",
       "    }\n",
       "\n",
       "    .dataframe thead th {\n",
       "        text-align: right;\n",
       "    }\n",
       "</style>\n",
       "<table border=\"1\" class=\"dataframe\">\n",
       "  <thead>\n",
       "    <tr style=\"text-align: right;\">\n",
       "      <th></th>\n",
       "      <th>order_item_id</th>\n",
       "      <th>order_item_name</th>\n",
       "      <th>order_item_type</th>\n",
       "      <th>order_id</th>\n",
       "    </tr>\n",
       "  </thead>\n",
       "  <tbody>\n",
       "    <tr>\n",
       "      <th>0</th>\n",
       "      <td>15</td>\n",
       "      <td>Atasan Basic Wanita</td>\n",
       "      <td>line_item</td>\n",
       "      <td>1036</td>\n",
       "    </tr>\n",
       "    <tr>\n",
       "      <th>1</th>\n",
       "      <td>16</td>\n",
       "      <td>Free shipping</td>\n",
       "      <td>shipping</td>\n",
       "      <td>1036</td>\n",
       "    </tr>\n",
       "    <tr>\n",
       "      <th>2</th>\n",
       "      <td>17</td>\n",
       "      <td>This Is April Atasan Kemeja Lengan Panjang</td>\n",
       "      <td>line_item</td>\n",
       "      <td>1037</td>\n",
       "    </tr>\n",
       "    <tr>\n",
       "      <th>3</th>\n",
       "      <td>18</td>\n",
       "      <td>Free shipping</td>\n",
       "      <td>shipping</td>\n",
       "      <td>1037</td>\n",
       "    </tr>\n",
       "    <tr>\n",
       "      <th>4</th>\n",
       "      <td>19</td>\n",
       "      <td>AMOENE [MADE] Long Strap Dress Navy</td>\n",
       "      <td>line_item</td>\n",
       "      <td>1038</td>\n",
       "    </tr>\n",
       "  </tbody>\n",
       "</table>\n",
       "</div>"
      ],
      "text/plain": [
       "   order_item_id                             order_item_name order_item_type  \\\n",
       "0             15                         Atasan Basic Wanita       line_item   \n",
       "1             16                               Free shipping        shipping   \n",
       "2             17  This Is April Atasan Kemeja Lengan Panjang       line_item   \n",
       "3             18                               Free shipping        shipping   \n",
       "4             19         AMOENE [MADE] Long Strap Dress Navy       line_item   \n",
       "\n",
       "   order_id  \n",
       "0      1036  \n",
       "1      1036  \n",
       "2      1037  \n",
       "3      1037  \n",
       "4      1038  "
      ]
     },
     "metadata": {},
     "output_type": "display_data"
    },
    {
     "data": {
      "text/html": [
       "<div>\n",
       "<style scoped>\n",
       "    .dataframe tbody tr th:only-of-type {\n",
       "        vertical-align: middle;\n",
       "    }\n",
       "\n",
       "    .dataframe tbody tr th {\n",
       "        vertical-align: top;\n",
       "    }\n",
       "\n",
       "    .dataframe thead th {\n",
       "        text-align: right;\n",
       "    }\n",
       "</style>\n",
       "<table border=\"1\" class=\"dataframe\">\n",
       "  <thead>\n",
       "    <tr style=\"text-align: right;\">\n",
       "      <th></th>\n",
       "      <th>product_name</th>\n",
       "      <th>interaction_count</th>\n",
       "    </tr>\n",
       "  </thead>\n",
       "  <tbody>\n",
       "    <tr>\n",
       "      <th>0</th>\n",
       "      <td>Atasan Knit Wanita</td>\n",
       "      <td>8</td>\n",
       "    </tr>\n",
       "    <tr>\n",
       "      <th>1</th>\n",
       "      <td>AMOENE [MADE] Long Strap Dress Navy</td>\n",
       "      <td>7</td>\n",
       "    </tr>\n",
       "    <tr>\n",
       "      <th>2</th>\n",
       "      <td>This Is April Atasan Kemeja Lengan Panjang</td>\n",
       "      <td>7</td>\n",
       "    </tr>\n",
       "    <tr>\n",
       "      <th>3</th>\n",
       "      <td>This Is April Rok Midi Crochet Wanita</td>\n",
       "      <td>5</td>\n",
       "    </tr>\n",
       "    <tr>\n",
       "      <th>4</th>\n",
       "      <td>Hosofshopaholic - Darel Skirt</td>\n",
       "      <td>5</td>\n",
       "    </tr>\n",
       "    <tr>\n",
       "      <th>5</th>\n",
       "      <td>Sora Plaid Blazer Lengan Panjang / Blazer Casu...</td>\n",
       "      <td>5</td>\n",
       "    </tr>\n",
       "    <tr>\n",
       "      <th>6</th>\n",
       "      <td>Midi Dress Tropical Flowers</td>\n",
       "      <td>5</td>\n",
       "    </tr>\n",
       "    <tr>\n",
       "      <th>7</th>\n",
       "      <td>Celana Cargo Pendek Anak Laki-Laki Bahan Dusky...</td>\n",
       "      <td>5</td>\n",
       "    </tr>\n",
       "    <tr>\n",
       "      <th>8</th>\n",
       "      <td>Lafiye Skiv Rou Scarf</td>\n",
       "      <td>4</td>\n",
       "    </tr>\n",
       "    <tr>\n",
       "      <th>9</th>\n",
       "      <td>HEELSADDICT Mini Amber Laser Cut Sling Bag</td>\n",
       "      <td>4</td>\n",
       "    </tr>\n",
       "    <tr>\n",
       "      <th>10</th>\n",
       "      <td>BAGSMART Travel Toiletry Bag</td>\n",
       "      <td>4</td>\n",
       "    </tr>\n",
       "    <tr>\n",
       "      <th>11</th>\n",
       "      <td>SHOEBALI Heels 021-218</td>\n",
       "      <td>4</td>\n",
       "    </tr>\n",
       "    <tr>\n",
       "      <th>12</th>\n",
       "      <td>Celana Pendek Anak Polos fashion Santai</td>\n",
       "      <td>3</td>\n",
       "    </tr>\n",
       "    <tr>\n",
       "      <th>13</th>\n",
       "      <td>URBAN&amp;CO BASIC Sandal Wanita Sendal Teplek Cas...</td>\n",
       "      <td>3</td>\n",
       "    </tr>\n",
       "    <tr>\n",
       "      <th>14</th>\n",
       "      <td>ORO PANTS</td>\n",
       "      <td>3</td>\n",
       "    </tr>\n",
       "    <tr>\n",
       "      <th>15</th>\n",
       "      <td>Arabian Voile (Hijab Voal) | MINIMSLM</td>\n",
       "      <td>3</td>\n",
       "    </tr>\n",
       "    <tr>\n",
       "      <th>16</th>\n",
       "      <td>Setelan Jas Dan Celana Pria Formal</td>\n",
       "      <td>3</td>\n",
       "    </tr>\n",
       "    <tr>\n",
       "      <th>17</th>\n",
       "      <td>Workout Stretwear x Scribbles Tshirt Oversize ...</td>\n",
       "      <td>3</td>\n",
       "    </tr>\n",
       "    <tr>\n",
       "      <th>18</th>\n",
       "      <td>Kebaya Encim A-Line Bordir</td>\n",
       "      <td>3</td>\n",
       "    </tr>\n",
       "    <tr>\n",
       "      <th>19</th>\n",
       "      <td>Moly Bag TGIF</td>\n",
       "      <td>3</td>\n",
       "    </tr>\n",
       "    <tr>\n",
       "      <th>20</th>\n",
       "      <td>Long Strap Dress</td>\n",
       "      <td>3</td>\n",
       "    </tr>\n",
       "    <tr>\n",
       "      <th>21</th>\n",
       "      <td>AGE FREE Tya Bag Mini Sling Bag</td>\n",
       "      <td>3</td>\n",
       "    </tr>\n",
       "    <tr>\n",
       "      <th>22</th>\n",
       "      <td>DUSHI Jonah flat - Sandal wanita teplek</td>\n",
       "      <td>3</td>\n",
       "    </tr>\n",
       "    <tr>\n",
       "      <th>23</th>\n",
       "      <td>Structured Ball Cap Cream</td>\n",
       "      <td>3</td>\n",
       "    </tr>\n",
       "    <tr>\n",
       "      <th>24</th>\n",
       "      <td>Compass Velocity Black</td>\n",
       "      <td>3</td>\n",
       "    </tr>\n",
       "    <tr>\n",
       "      <th>25</th>\n",
       "      <td>Baju Kaos Roblox anak Laki-laki cowok</td>\n",
       "      <td>3</td>\n",
       "    </tr>\n",
       "    <tr>\n",
       "      <th>26</th>\n",
       "      <td>Breakside Polo Shirt Gavriel - Darkgrey Polo S...</td>\n",
       "      <td>3</td>\n",
       "    </tr>\n",
       "    <tr>\n",
       "      <th>27</th>\n",
       "      <td>Sepatu wanita sneakers</td>\n",
       "      <td>3</td>\n",
       "    </tr>\n",
       "    <tr>\n",
       "      <th>28</th>\n",
       "      <td>Tunik Aruna-Seri Ice</td>\n",
       "      <td>3</td>\n",
       "    </tr>\n",
       "    <tr>\n",
       "      <th>29</th>\n",
       "      <td>Baju Atasan Lengan Pendek Wanita</td>\n",
       "      <td>2</td>\n",
       "    </tr>\n",
       "    <tr>\n",
       "      <th>30</th>\n",
       "      <td>Atasan Basic Wanita</td>\n",
       "      <td>2</td>\n",
       "    </tr>\n",
       "    <tr>\n",
       "      <th>31</th>\n",
       "      <td>Celana korduroi pinggang tinggi</td>\n",
       "      <td>2</td>\n",
       "    </tr>\n",
       "    <tr>\n",
       "      <th>32</th>\n",
       "      <td>Jaket Jeans Wanita</td>\n",
       "      <td>2</td>\n",
       "    </tr>\n",
       "    <tr>\n",
       "      <th>33</th>\n",
       "      <td>Lozy Hijab - Polly Cotton Square</td>\n",
       "      <td>2</td>\n",
       "    </tr>\n",
       "    <tr>\n",
       "      <th>34</th>\n",
       "      <td>Geoff Kids - Ethan Kids Black Gum</td>\n",
       "      <td>2</td>\n",
       "    </tr>\n",
       "    <tr>\n",
       "      <th>35</th>\n",
       "      <td>Voal Motif Printing Sublim Segiempat Premium</td>\n",
       "      <td>2</td>\n",
       "    </tr>\n",
       "    <tr>\n",
       "      <th>36</th>\n",
       "      <td>Sepatu Anak Laki Laki Perempuan Sneakers Kids</td>\n",
       "      <td>2</td>\n",
       "    </tr>\n",
       "    <tr>\n",
       "      <th>37</th>\n",
       "      <td>Celana Panjang Highwaist Wanita</td>\n",
       "      <td>2</td>\n",
       "    </tr>\n",
       "    <tr>\n",
       "      <th>38</th>\n",
       "      <td>Celana Kulot Uniqllo Pants</td>\n",
       "      <td>2</td>\n",
       "    </tr>\n",
       "    <tr>\n",
       "      <th>39</th>\n",
       "      <td>Sweater New Suls</td>\n",
       "      <td>2</td>\n",
       "    </tr>\n",
       "    <tr>\n",
       "      <th>40</th>\n",
       "      <td>Zerotwentytwo T-Shirt Danane Raquat White | Ka...</td>\n",
       "      <td>2</td>\n",
       "    </tr>\n",
       "    <tr>\n",
       "      <th>41</th>\n",
       "      <td>WiZi Anti UV Sport Jacket</td>\n",
       "      <td>2</td>\n",
       "    </tr>\n",
       "    <tr>\n",
       "      <th>42</th>\n",
       "      <td>Onitsuka original mexico 66 ultimate 81 ex cre...</td>\n",
       "      <td>2</td>\n",
       "    </tr>\n",
       "    <tr>\n",
       "      <th>43</th>\n",
       "      <td>Baju Kemeja Hawaiian Pantai Anak Unisex</td>\n",
       "      <td>2</td>\n",
       "    </tr>\n",
       "    <tr>\n",
       "      <th>44</th>\n",
       "      <td>Sweater Hoodie Pria Oldskull Misty</td>\n",
       "      <td>2</td>\n",
       "    </tr>\n",
       "    <tr>\n",
       "      <th>45</th>\n",
       "      <td>LOOKBOUTIQUESTORE - Glyn Lace Shirt</td>\n",
       "      <td>2</td>\n",
       "    </tr>\n",
       "    <tr>\n",
       "      <th>46</th>\n",
       "      <td>Kaos Wanita Oversize</td>\n",
       "      <td>2</td>\n",
       "    </tr>\n",
       "    <tr>\n",
       "      <th>47</th>\n",
       "      <td>Zipper Hoodie Dewasa Polos</td>\n",
       "      <td>2</td>\n",
       "    </tr>\n",
       "    <tr>\n",
       "      <th>48</th>\n",
       "      <td>Wispie Money Magnet Fitted Shirt</td>\n",
       "      <td>2</td>\n",
       "    </tr>\n",
       "    <tr>\n",
       "      <th>49</th>\n",
       "      <td>Dress Bunny Anak</td>\n",
       "      <td>2</td>\n",
       "    </tr>\n",
       "  </tbody>\n",
       "</table>\n",
       "</div>"
      ],
      "text/plain": [
       "                                         product_name  interaction_count\n",
       "0                                  Atasan Knit Wanita                  8\n",
       "1                 AMOENE [MADE] Long Strap Dress Navy                  7\n",
       "2          This Is April Atasan Kemeja Lengan Panjang                  7\n",
       "3               This Is April Rok Midi Crochet Wanita                  5\n",
       "4                       Hosofshopaholic - Darel Skirt                  5\n",
       "5   Sora Plaid Blazer Lengan Panjang / Blazer Casu...                  5\n",
       "6                         Midi Dress Tropical Flowers                  5\n",
       "7   Celana Cargo Pendek Anak Laki-Laki Bahan Dusky...                  5\n",
       "8                               Lafiye Skiv Rou Scarf                  4\n",
       "9          HEELSADDICT Mini Amber Laser Cut Sling Bag                  4\n",
       "10                       BAGSMART Travel Toiletry Bag                  4\n",
       "11                             SHOEBALI Heels 021-218                  4\n",
       "12            Celana Pendek Anak Polos fashion Santai                  3\n",
       "13  URBAN&CO BASIC Sandal Wanita Sendal Teplek Cas...                  3\n",
       "14                                          ORO PANTS                  3\n",
       "15              Arabian Voile (Hijab Voal) | MINIMSLM                  3\n",
       "16                 Setelan Jas Dan Celana Pria Formal                  3\n",
       "17  Workout Stretwear x Scribbles Tshirt Oversize ...                  3\n",
       "18                         Kebaya Encim A-Line Bordir                  3\n",
       "19                                      Moly Bag TGIF                  3\n",
       "20                                   Long Strap Dress                  3\n",
       "21                    AGE FREE Tya Bag Mini Sling Bag                  3\n",
       "22            DUSHI Jonah flat - Sandal wanita teplek                  3\n",
       "23                          Structured Ball Cap Cream                  3\n",
       "24                             Compass Velocity Black                  3\n",
       "25              Baju Kaos Roblox anak Laki-laki cowok                  3\n",
       "26  Breakside Polo Shirt Gavriel - Darkgrey Polo S...                  3\n",
       "27                             Sepatu wanita sneakers                  3\n",
       "28                               Tunik Aruna-Seri Ice                  3\n",
       "29                   Baju Atasan Lengan Pendek Wanita                  2\n",
       "30                                Atasan Basic Wanita                  2\n",
       "31                    Celana korduroi pinggang tinggi                  2\n",
       "32                                 Jaket Jeans Wanita                  2\n",
       "33                   Lozy Hijab - Polly Cotton Square                  2\n",
       "34                  Geoff Kids - Ethan Kids Black Gum                  2\n",
       "35       Voal Motif Printing Sublim Segiempat Premium                  2\n",
       "36      Sepatu Anak Laki Laki Perempuan Sneakers Kids                  2\n",
       "37                    Celana Panjang Highwaist Wanita                  2\n",
       "38                         Celana Kulot Uniqllo Pants                  2\n",
       "39                                   Sweater New Suls                  2\n",
       "40  Zerotwentytwo T-Shirt Danane Raquat White | Ka...                  2\n",
       "41                          WiZi Anti UV Sport Jacket                  2\n",
       "42  Onitsuka original mexico 66 ultimate 81 ex cre...                  2\n",
       "43            Baju Kemeja Hawaiian Pantai Anak Unisex                  2\n",
       "44                 Sweater Hoodie Pria Oldskull Misty                  2\n",
       "45                LOOKBOUTIQUESTORE - Glyn Lace Shirt                  2\n",
       "46                               Kaos Wanita Oversize                  2\n",
       "47                         Zipper Hoodie Dewasa Polos                  2\n",
       "48                   Wispie Money Magnet Fitted Shirt                  2\n",
       "49                                   Dress Bunny Anak                  2"
      ]
     },
     "metadata": {},
     "output_type": "display_data"
    }
   ],
   "source": [
    "df_interact = order_items.copy(deep=True)\n",
    "display(df_interact.head())\n",
    "\n",
    "# Filter hanya untuk item produk (bukan shipping, tax, dsb)\n",
    "df_interact = df_interact[df_interact[\"order_item_type\"] == \"line_item\"]\n",
    "\n",
    "# Hitung jumlah interaksi produk\n",
    "df_interact = df_interact[\"order_item_name\"].value_counts().reset_index()\n",
    "df_interact.columns = [\"product_name\", \"interaction_count\"]\n",
    "display(df_interact.head(50))\n",
    "\n",
    "# Ambil 10 produk teratas\n",
    "top_products = df_interact.head(10)"
   ]
  },
  {
   "cell_type": "markdown",
   "id": "23fc1375",
   "metadata": {},
   "source": [
    "## orders -> stacked_chart (by Naila)"
   ]
  },
  {
   "cell_type": "code",
   "execution_count": 25,
   "id": "5411a1f4",
   "metadata": {},
   "outputs": [],
   "source": [
    "stacked_chart = orders.copy(deep=True)\n",
    "stacked_chart = stacked_chart[['ip_address', 'customer_id', 'date_created_gmt']]\n",
    "stacked_chart.columns = ['ip_address', 'customer_id', 'order_date']\n",
    "\n",
    "# Hitung frekuensi order berdasarkan ip_address dan customer_id\n",
    "order_freq = orders.groupby(['ip_address', 'customer_id']).size().unstack(fill_value=0)"
   ]
  },
  {
   "cell_type": "markdown",
   "id": "c3a58b7a",
   "metadata": {},
   "source": [
    "## df_salesv2 -> df_geomap (by Shafa)"
   ]
  },
  {
   "cell_type": "code",
   "execution_count": 26,
   "id": "74e15c9e",
   "metadata": {},
   "outputs": [],
   "source": [
    "df_geocode = df_salesv2.copy(deep=True) # ☠️ Load 32 detik\n",
    "\n",
    "df_geocode['city'] = df_geocode['city'].str.replace(r'^(Kota|Kabupaten)\\s+', '', case=False, regex=True).str.strip()\n",
    "df_geocode = df_geocode[df_geocode['city'].notnull() & (df_geocode['city'] != '')]\n",
    "\n",
    "unique_orders = df_geocode[['order_id', 'city']].drop_duplicates()\n",
    "city_transaction_counts = unique_orders['city'].value_counts().reset_index()\n",
    "city_transaction_counts.columns = ['city', 'transaction_count']\n",
    "\n",
    "most_bought_items = (\n",
    "    df_geocode.groupby(['city', 'order_item_name'])\n",
    "    .size()\n",
    "    .reset_index(name='count')\n",
    "    .sort_values(['city', 'count'], ascending=[True, False])\n",
    "    .drop_duplicates('city')\n",
    "    .rename(columns={'order_item_name': 'most_bought_product'})\n",
    ")\n",
    "\n",
    "city_sales = pd.merge(city_transaction_counts, most_bought_items[['city', 'most_bought_product']], on='city', how='left')\n",
    "geolocator = Nominatim(user_agent=\"myApp\", timeout=10)\n",
    "geocode = RateLimiter(geolocator.geocode, min_delay_seconds=1)\n",
    "\n",
    "def safe_geocode(city):\n",
    "    try:\n",
    "        return geocode(f\"{city}, Indonesia\")\n",
    "    except:\n",
    "        return None\n",
    "\n",
    "city_sales['location'] = city_sales['city'].apply(safe_geocode)\n",
    "city_sales['latitude'] = city_sales['location'].apply(lambda loc: loc.latitude if loc else None)\n",
    "city_sales['longitude'] = city_sales['location'].apply(lambda loc: loc.longitude if loc else None)\n",
    "\n",
    "# Hapus baris tanpa koordinat\n",
    "city_sales = city_sales.dropna(subset=['latitude', 'longitude'])"
   ]
  },
  {
   "cell_type": "markdown",
   "id": "baf1ff9a",
   "metadata": {},
   "source": [
    "## df_salesv2 -> df_asosiasi"
   ]
  },
  {
   "cell_type": "code",
   "execution_count": 27,
   "id": "7e8e5b15",
   "metadata": {},
   "outputs": [
    {
     "data": {
      "text/html": [
       "<div>\n",
       "<style scoped>\n",
       "    .dataframe tbody tr th:only-of-type {\n",
       "        vertical-align: middle;\n",
       "    }\n",
       "\n",
       "    .dataframe tbody tr th {\n",
       "        vertical-align: top;\n",
       "    }\n",
       "\n",
       "    .dataframe thead th {\n",
       "        text-align: right;\n",
       "    }\n",
       "</style>\n",
       "<table border=\"1\" class=\"dataframe\">\n",
       "  <thead>\n",
       "    <tr style=\"text-align: right;\">\n",
       "      <th></th>\n",
       "      <th>order_id</th>\n",
       "      <th>product_id</th>\n",
       "      <th>order_item_name</th>\n",
       "    </tr>\n",
       "  </thead>\n",
       "  <tbody>\n",
       "    <tr>\n",
       "      <th>196</th>\n",
       "      <td>1036</td>\n",
       "      <td>565</td>\n",
       "      <td>Atasan Basic Wanita</td>\n",
       "    </tr>\n",
       "    <tr>\n",
       "      <th>195</th>\n",
       "      <td>1037</td>\n",
       "      <td>1020</td>\n",
       "      <td>This Is April Atasan Kemeja Lengan Panjang</td>\n",
       "    </tr>\n",
       "    <tr>\n",
       "      <th>194</th>\n",
       "      <td>1038</td>\n",
       "      <td>1019</td>\n",
       "      <td>AMOENE [MADE] Long Strap Dress Navy</td>\n",
       "    </tr>\n",
       "    <tr>\n",
       "      <th>193</th>\n",
       "      <td>1039</td>\n",
       "      <td>1015</td>\n",
       "      <td>Point One NINDY Khaki Tunik Dress</td>\n",
       "    </tr>\n",
       "    <tr>\n",
       "      <th>192</th>\n",
       "      <td>1040</td>\n",
       "      <td>1010</td>\n",
       "      <td>Hosofshopaholic - Darel Skirt</td>\n",
       "    </tr>\n",
       "    <tr>\n",
       "      <th>191</th>\n",
       "      <td>1041</td>\n",
       "      <td>983</td>\n",
       "      <td>ORO PANTS</td>\n",
       "    </tr>\n",
       "    <tr>\n",
       "      <th>190</th>\n",
       "      <td>1042</td>\n",
       "      <td>1010</td>\n",
       "      <td>Hosofshopaholic - Darel Skirt</td>\n",
       "    </tr>\n",
       "    <tr>\n",
       "      <th>189</th>\n",
       "      <td>1043</td>\n",
       "      <td>1002</td>\n",
       "      <td>This Is April Rok Midi Crochet Wanita</td>\n",
       "    </tr>\n",
       "    <tr>\n",
       "      <th>188</th>\n",
       "      <td>1044</td>\n",
       "      <td>1002</td>\n",
       "      <td>This Is April Rok Midi Crochet Wanita</td>\n",
       "    </tr>\n",
       "    <tr>\n",
       "      <th>187</th>\n",
       "      <td>1045</td>\n",
       "      <td>586</td>\n",
       "      <td>Baju Atasan Lengan Pendek Wanita</td>\n",
       "    </tr>\n",
       "  </tbody>\n",
       "</table>\n",
       "</div>"
      ],
      "text/plain": [
       "     order_id  product_id                             order_item_name\n",
       "196      1036         565                         Atasan Basic Wanita\n",
       "195      1037        1020  This Is April Atasan Kemeja Lengan Panjang\n",
       "194      1038        1019         AMOENE [MADE] Long Strap Dress Navy\n",
       "193      1039        1015           Point One NINDY Khaki Tunik Dress\n",
       "192      1040        1010               Hosofshopaholic - Darel Skirt\n",
       "191      1041         983                                   ORO PANTS\n",
       "190      1042        1010               Hosofshopaholic - Darel Skirt\n",
       "189      1043        1002       This Is April Rok Midi Crochet Wanita\n",
       "188      1044        1002       This Is April Rok Midi Crochet Wanita\n",
       "187      1045         586            Baju Atasan Lengan Pendek Wanita"
      ]
     },
     "execution_count": 27,
     "metadata": {},
     "output_type": "execute_result"
    }
   ],
   "source": [
    "df_asosiasi = df_salesv2.copy(deep=True)\n",
    "\n",
    "# Drop Kolom\n",
    "df_asosiasi.drop(columns=['order_date', 'order_item_type', 'product_qty', 'total_sales', 'product_net_revenue', 'customer_id', 'first_name', 'last_name', 'email', 'city', 'state'], inplace=True)\n",
    "df_asosiasi.sort_values(by=\"order_id\").head(10)"
   ]
  },
  {
   "cell_type": "markdown",
   "id": "301c35c3",
   "metadata": {},
   "source": [
    "## Setup Filter (untuk Dashboard)"
   ]
  },
  {
   "cell_type": "code",
   "execution_count": 28,
   "id": "0621e9de",
   "metadata": {},
   "outputs": [
    {
     "data": {
      "text/plain": [
       "['103.154.110.177',\n",
       " '103.3.221.19',\n",
       " '114.10.137.72',\n",
       " '118.99.118.196',\n",
       " '118.99.64.211',\n",
       " '180.242.232.29',\n",
       " '180.242.235.124',\n",
       " '180.243.107.39',\n",
       " '180.248.184.92']"
      ]
     },
     "metadata": {},
     "output_type": "display_data"
    },
    {
     "data": {
      "text/plain": [
       "datetime.date(2025, 5, 8)"
      ]
     },
     "metadata": {},
     "output_type": "display_data"
    },
    {
     "data": {
      "text/plain": [
       "datetime.date(2025, 5, 10)"
      ]
     },
     "metadata": {},
     "output_type": "display_data"
    }
   ],
   "source": [
    "df_filter = df_salesv1.copy(deep=True)\n",
    "df_filter['order_date'] = pd.to_datetime(df_filter['order_date'])\n",
    "\n",
    "ip_options = sorted(df_filter['ip_address'].dropna().unique())\n",
    "display(ip_options)\n",
    "# Rentang tanggal\n",
    "min_date = df_filter['order_date'].min().date()\n",
    "max_date = df_filter['order_date'].max().date()\n",
    "display(min_date)\n",
    "display(max_date)"
   ]
  },
  {
   "cell_type": "markdown",
   "id": "20a072de",
   "metadata": {},
   "source": [
    "# Modellling"
   ]
  },
  {
   "cell_type": "markdown",
   "id": "8332008d",
   "metadata": {},
   "source": [
    "## Model Asosiasi\n",
    "Cocok untuk Association Rule Mining jika:\n",
    "- Kolom order_id → digunakan untuk mengelompokkan transaksi.\n",
    "- Kolom order_item_name → berisi produk yang dibeli.\n",
    "- Setiap baris adalah item dalam sebuah transaksi."
   ]
  },
  {
   "cell_type": "code",
   "execution_count": 36,
   "id": "43002577",
   "metadata": {},
   "outputs": [
    {
     "data": {
      "text/plain": [
       "[['Atasan Basic Wanita'],\n",
       " ['This Is April Atasan Kemeja Lengan Panjang'],\n",
       " ['AMOENE [MADE] Long Strap Dress Navy'],\n",
       " ['Point One NINDY Khaki Tunik Dress'],\n",
       " ['Hosofshopaholic - Darel Skirt'],\n",
       " ['ORO PANTS'],\n",
       " ['Hosofshopaholic - Darel Skirt'],\n",
       " ['This Is April Rok Midi Crochet Wanita'],\n",
       " ['This Is April Rok Midi Crochet Wanita'],\n",
       " ['Baju Atasan Lengan Pendek Wanita'],\n",
       " ['ORO PANTS'],\n",
       " ['This Is April Atasan Kemeja Lengan Panjang'],\n",
       " ['AMOENE [MADE] Long Strap Dress Navy'],\n",
       " ['ORO PANTS'],\n",
       " ['Atasan Basic Wanita'],\n",
       " ['Baju Atasan Lengan Pendek Wanita'],\n",
       " ['Celana korduroi pinggang tinggi'],\n",
       " ['Celana Kulot Uniqllo Pants'],\n",
       " ['Celana Panjang Highwaist Wanita'],\n",
       " ['Jaket Baseball Fleece Big Size'],\n",
       " ['Jaket Jeans Wanita'],\n",
       " ['Jaket Wanita Parasut Kekinian Zipper Anti Air Angin Windbreaker Motor Waterproof Windproof'],\n",
       " ['MOSSDOOM Tas Wanita Kattie Bag Slingbag'],\n",
       " ['Atasan Knit Wanita'],\n",
       " ['URBAN&CO BASIC Sandal Wanita Sendal Teplek Casual - Demi'],\n",
       " ['This Is April Atasan Kemeja Lengan Panjang'],\n",
       " ['Oversize tshirt Wanita'],\n",
       " ['Compass Velocity Black'],\n",
       " ['Structured Ball Cap Cream'],\n",
       " ['Lafiye Skiv Rou Scarf'],\n",
       " ['This Is April Rok Midi Crochet Wanita'],\n",
       " ['Atasan Knit Wanita'],\n",
       " ['Wispie Money Magnet Fitted Shirt'],\n",
       " ['Celana Pendek Anak Polos fashion Santai'],\n",
       " ['Zipper Hoodie Dewasa Polos'],\n",
       " ['BAGSMART Travel Toiletry Bag'],\n",
       " ['LOOKBOUTIQUESTORE - Glyn Lace Shirt'],\n",
       " ['Kaos Wanita Oversize',\n",
       "  'Zerotwentytwo T-Shirt Danane Raquat White | Kaos Pria Parodi Plesetan Lucu',\n",
       "  'Breakside Polo Shirt Gavriel - Darkgrey Polo Shirt Pria'],\n",
       " ['Jam Tangan Wanita Casio General LTP-V007L-7B1 Tank Silver Dial Black Leather Band'],\n",
       " ['AGE FREE Tya Bag Mini Sling Bag'],\n",
       " ['Jam Tangan Pria Kulit'],\n",
       " ['Sweater Hoodie Pria Oldskull Misty', 'Sweater New Suls'],\n",
       " ['Onitsuka original mexico 66 ultimate 81 ex cream grey yellow'],\n",
       " ['Baju Kemeja Hawaiian Pantai Anak Unisex',\n",
       "  'MaruKids - Dexter Shirt',\n",
       "  'Varsity Hoodie Kupluk BEAR X Anak',\n",
       "  'Baju Kaos Roblox anak Laki-laki cowok',\n",
       "  'Celana Cargo Pendek Anak Laki-Laki Bahan Dusky Crinkle/Parasut',\n",
       "  'Celana Pendek Anak Polos fashion Santai'],\n",
       " ['DUSHI Jonah flat - Sandal wanita teplek'],\n",
       " ['Lafiye Skiv Rou Scarf'],\n",
       " ['This Is April Atasan Kemeja Lengan Panjang'],\n",
       " ['AMOENE [MADE] Long Strap Dress Navy'],\n",
       " ['Atasan Knit Wanita'],\n",
       " ['Arabian Voile (Hijab Voal) | MINIMSLM'],\n",
       " ['Hosofshopaholic - Darel Skirt'],\n",
       " ['CHARLOTTE 01 28 MM'],\n",
       " ['AGE FREE Tya Bag Mini Sling Bag', 'AMOENE [MADE] Long Strap Dress Navy'],\n",
       " ['URBAN&CO BASIC Sandal Wanita Sendal Teplek Casual - Demi',\n",
       "  'Tunik Aruna-Seri Ice',\n",
       "  'Wispie Money Magnet Fitted Shirt',\n",
       "  'WiZi Anti UV Sport Jacket'],\n",
       " ['Sepatu wanita sneakers',\n",
       "  'Setelan Jas Dan Celana Pria Formal',\n",
       "  'SHOEBALI Heels 021-218',\n",
       "  'Sora Plaid Blazer Lengan Panjang / Blazer Casual Wanita'],\n",
       " ['Kebaya Encim A-Line Bordir',\n",
       "  'Kaos anak distro bahan katun premium',\n",
       "  'Lafiye Skiv Rou Scarf',\n",
       "  'Moly Bag TGIF'],\n",
       " ['Celana korduroi pinggang tinggi',\n",
       "  'Celana Kulot Uniqllo Pants',\n",
       "  'Celana Panjang Highwaist Wanita',\n",
       "  'Celana Pendek Anak Polos fashion Santai',\n",
       "  'ECINOS - Philia Oversized Linen Shirt',\n",
       "  'DUSHI Jonah flat - Sandal wanita teplek'],\n",
       " ['Zipper Hoodie Dewasa Polos',\n",
       "  'Workout Stretwear x Scribbles Tshirt Oversize Basic Dreamer pakaian pria dan wanita',\n",
       "  'Zerotwentytwo T-Shirt Danane Raquat White | Kaos Pria Parodi Plesetan Lucu',\n",
       "  'Wide High Jeans'],\n",
       " ['Celana Cargo Pendek Anak Laki-Laki Bahan Dusky Crinkle/Parasut',\n",
       "  'MaruKids - Dexter Shirt',\n",
       "  'Midi Dress Tropical Flowers',\n",
       "  'MIISOO Tas Sekolah Laksana School Bag/Tas Sekolah Anak',\n",
       "  'Onitsuka original mexico 66 ultimate 81 ex cream grey yellow',\n",
       "  'Sepatu Sneakers Wanita'],\n",
       " ['Celana Cargo Pendek Anak Laki-Laki Bahan Dusky Crinkle/Parasut',\n",
       "  'Celana import polos pinggang tali serut pinkdose',\n",
       "  'Breakside Polo Shirt Gavriel - Darkgrey Polo Shirt Pria'],\n",
       " ['Sepatu wanita sneakers',\n",
       "  'Setelan Jas Dan Celana Pria Formal',\n",
       "  'SHOEBALI Heels 021-218',\n",
       "  'Tas Ransel Laptop',\n",
       "  'Sweater New Suls',\n",
       "  'Tas Ransel Pria',\n",
       "  'Tas Sekolah Tas Anak Tk Paud Cartoon Excavator'],\n",
       " ['Kaos anak distro bahan katun premium',\n",
       "  'Kebaya Encim A-Line Bordir',\n",
       "  'Long Strap Dress',\n",
       "  'LOOKBOUTIQUESTORE - Glyn Lace Shirt',\n",
       "  'Midi Dress Tropical Flowers'],\n",
       " ['Sora Plaid Blazer Lengan Panjang / Blazer Casual Wanita',\n",
       "  'Structured Ball Cap Cream',\n",
       "  'Sweater Hoodie Pria Oldskull Misty',\n",
       "  'Tas Ransel Pria'],\n",
       " ['Atasan Knit Wanita'],\n",
       " ['Atasan Knit Wanita', 'WiZi Anti UV Sport Jacket'],\n",
       " ['AMOENE [MADE] Long Strap Dress Navy',\n",
       "  'Atasan Knit Wanita',\n",
       "  'Long Strap Dress'],\n",
       " ['Jas Blazer Wisuda Pria Formal Polos Warna Hitam Navy',\n",
       "  'Vintage Casual Premium Zipper',\n",
       "  'Workout Stretwear x Scribbles Tshirt Oversize Basic Dreamer pakaian pria dan wanita'],\n",
       " ['Atasan Knit Wanita', 'Long Strap Dress', 'Hosofshopaholic - Darel Skirt'],\n",
       " ['HEELSADDICT Mini Amber Laser Cut Sling Bag'],\n",
       " ['Workout Stretwear x Scribbles Tshirt Oversize Basic Dreamer pakaian pria dan wanita',\n",
       "  'Vintage Casual Premium Zipper'],\n",
       " ['Midi Dress Tropical Flowers'],\n",
       " ['Jam Tangan Wanita JT 8151', 'AMOENE [MADE] Long Strap Dress Navy'],\n",
       " ['Jam Tangan Pria Analog'],\n",
       " ['Baju Kemeja Hawaiian Pantai Anak Unisex'],\n",
       " ['Arabian Voile (Hijab Voal) | MINIMSLM',\n",
       "  'BAGSMART Travel Toiletry Bag',\n",
       "  'Tunik Aruna-Seri Ice'],\n",
       " ['Baju Kaos Roblox anak Laki-laki cowok'],\n",
       " ['Jam Tangan Anak Original Mason 7026 Digital Strap Rubber',\n",
       "  'Compass Velocity Black'],\n",
       " ['Breakside Polo Shirt Gavriel - Darkgrey Polo Shirt Pria'],\n",
       " ['HEELSADDICT Mini Amber Laser Cut Sling Bag',\n",
       "  'Dress Anak Perempuan Princess',\n",
       "  'Dress Bunny Anak'],\n",
       " ['Celana Cargo Pendek Anak Laki-Laki Bahan Dusky Crinkle/Parasut'],\n",
       " ['Jam Tangan Anak Original Mason 7026 Digital Strap Rubber'],\n",
       " ['AGE FREE Tya Bag Mini Sling Bag',\n",
       "  'SHOEBALI Heels 021-218',\n",
       "  'Sepatu Anak Laki Laki Perempuan Sneakers Kids'],\n",
       " ['Jaket Puffer Polos Anak Laki laki dan Perempuan'],\n",
       " ['Geoff Kids - Ethan Kids Black Gum'],\n",
       " ['Tas Sekolah Tas Anak Tk Paud Cartoon Excavator',\n",
       "  'Sepatu Anak Laki Laki Perempuan Sneakers Kids',\n",
       "  'Sepatu Sneakers Wanita'],\n",
       " ['Lozy Hijab - Polly Cotton Square'],\n",
       " ['Dress Bunny Anak',\n",
       "  'DUSHI Jonah flat - Sandal wanita teplek',\n",
       "  'Gaun Pesta Anak Perempuan Premium Dress'],\n",
       " ['Sora Plaid Blazer Lengan Panjang / Blazer Casual Wanita',\n",
       "  'This Is April Atasan Kemeja Lengan Panjang',\n",
       "  'This Is April Rok Midi Crochet Wanita'],\n",
       " ['This Is April Rok Midi Crochet Wanita'],\n",
       " ['Arabian Voile (Hijab Voal) | MINIMSLM',\n",
       "  'Tunik Aruna-Seri Ice',\n",
       "  'Voal Motif Printing Sublim Segiempat Premium',\n",
       "  'Structured Ball Cap Cream'],\n",
       " ['Setelan Jas Dan Celana Pria Formal'],\n",
       " ['BAGSMART Travel Toiletry Bag',\n",
       "  'HEELSADDICT Mini Amber Laser Cut Sling Bag',\n",
       "  'Jaket Jeans Wanita'],\n",
       " ['Sepatu wanita sneakers', 'Modern', 'Moly Bag TGIF'],\n",
       " ['BAGSMART Travel Toiletry Bag',\n",
       "  'Geoff Kids - Ethan Kids Black Gum',\n",
       "  'Kahla Gamis Premium Dress Wanita - Teman Serumpun - Edisi Kamboja'],\n",
       " ['Kaos Wanita Oversize',\n",
       "  'Kebaya Encim A-Line Bordir',\n",
       "  'Midi Dress Tropical Flowers'],\n",
       " ['Celana Cargo Pendek Anak Laki-Laki Bahan Dusky Crinkle/Parasut',\n",
       "  'Lozy Hijab - Polly Cotton Square',\n",
       "  'Midi Dress Tropical Flowers',\n",
       "  'Moly Bag TGIF'],\n",
       " ['Jas Blazer Wisuda Pria Formal Polos Warna Hitam Navy',\n",
       "  'Jam Tangan Pria Analog'],\n",
       " ['Celana import polos pinggang tali serut pinkdose',\n",
       "  'Sora Plaid Blazer Lengan Panjang / Blazer Casual Wanita',\n",
       "  'This Is April Atasan Kemeja Lengan Panjang'],\n",
       " ['AMOENE [MADE] Long Strap Dress Navy'],\n",
       " ['Sora Plaid Blazer Lengan Panjang / Blazer Casual Wanita',\n",
       "  'This Is April Atasan Kemeja Lengan Panjang'],\n",
       " ['Atasan Knit Wanita', 'Baju Kaos Roblox anak Laki-laki cowok'],\n",
       " ['Compass Velocity Black'],\n",
       " ['HEELSADDICT Mini Amber Laser Cut Sling Bag'],\n",
       " ['Jam Tangan Wanita JT 8151'],\n",
       " ['Lafiye Skiv Rou Scarf'],\n",
       " ['SHOEBALI Heels 021-218'],\n",
       " ['URBAN&CO BASIC Sandal Wanita Sendal Teplek Casual - Demi'],\n",
       " ['Voal Motif Printing Sublim Segiempat Premium'],\n",
       " ['ECINOS - Philia Oversized Linen Shirt'],\n",
       " ['Hosofshopaholic - Darel Skirt']]"
      ]
     },
     "execution_count": 36,
     "metadata": {},
     "output_type": "execute_result"
    }
   ],
   "source": [
    "# Group produk per transaksi\n",
    "transactions = df_asosiasi.groupby('order_id')['order_item_name'].apply(list).values.tolist()\n",
    "transactions"
   ]
  },
  {
   "cell_type": "code",
   "execution_count": 37,
   "id": "0022e37a",
   "metadata": {},
   "outputs": [
    {
     "data": {
      "text/html": [
       "<div>\n",
       "<style scoped>\n",
       "    .dataframe tbody tr th:only-of-type {\n",
       "        vertical-align: middle;\n",
       "    }\n",
       "\n",
       "    .dataframe tbody tr th {\n",
       "        vertical-align: top;\n",
       "    }\n",
       "\n",
       "    .dataframe thead th {\n",
       "        text-align: right;\n",
       "    }\n",
       "</style>\n",
       "<table border=\"1\" class=\"dataframe\">\n",
       "  <thead>\n",
       "    <tr style=\"text-align: right;\">\n",
       "      <th></th>\n",
       "      <th>AGE FREE Tya Bag Mini Sling Bag</th>\n",
       "      <th>AMOENE [MADE] Long Strap Dress Navy</th>\n",
       "      <th>Arabian Voile (Hijab Voal) | MINIMSLM</th>\n",
       "      <th>Atasan Basic Wanita</th>\n",
       "      <th>Atasan Knit Wanita</th>\n",
       "      <th>BAGSMART Travel Toiletry Bag</th>\n",
       "      <th>Baju Atasan Lengan Pendek Wanita</th>\n",
       "      <th>Baju Kaos Roblox anak Laki-laki cowok</th>\n",
       "      <th>Baju Kemeja Hawaiian Pantai Anak Unisex</th>\n",
       "      <th>Breakside Polo Shirt Gavriel - Darkgrey Polo Shirt Pria</th>\n",
       "      <th>...</th>\n",
       "      <th>URBAN&amp;CO BASIC Sandal Wanita Sendal Teplek Casual - Demi</th>\n",
       "      <th>Varsity Hoodie Kupluk BEAR X Anak</th>\n",
       "      <th>Vintage Casual Premium Zipper</th>\n",
       "      <th>Voal Motif Printing Sublim Segiempat Premium</th>\n",
       "      <th>WiZi Anti UV Sport Jacket</th>\n",
       "      <th>Wide High Jeans</th>\n",
       "      <th>Wispie Money Magnet Fitted Shirt</th>\n",
       "      <th>Workout Stretwear x Scribbles Tshirt Oversize Basic Dreamer pakaian pria dan wanita</th>\n",
       "      <th>Zerotwentytwo T-Shirt Danane Raquat White | Kaos Pria Parodi Plesetan Lucu</th>\n",
       "      <th>Zipper Hoodie Dewasa Polos</th>\n",
       "    </tr>\n",
       "  </thead>\n",
       "  <tbody>\n",
       "    <tr>\n",
       "      <th>0</th>\n",
       "      <td>False</td>\n",
       "      <td>False</td>\n",
       "      <td>False</td>\n",
       "      <td>True</td>\n",
       "      <td>False</td>\n",
       "      <td>False</td>\n",
       "      <td>False</td>\n",
       "      <td>False</td>\n",
       "      <td>False</td>\n",
       "      <td>False</td>\n",
       "      <td>...</td>\n",
       "      <td>False</td>\n",
       "      <td>False</td>\n",
       "      <td>False</td>\n",
       "      <td>False</td>\n",
       "      <td>False</td>\n",
       "      <td>False</td>\n",
       "      <td>False</td>\n",
       "      <td>False</td>\n",
       "      <td>False</td>\n",
       "      <td>False</td>\n",
       "    </tr>\n",
       "    <tr>\n",
       "      <th>1</th>\n",
       "      <td>False</td>\n",
       "      <td>False</td>\n",
       "      <td>False</td>\n",
       "      <td>False</td>\n",
       "      <td>False</td>\n",
       "      <td>False</td>\n",
       "      <td>False</td>\n",
       "      <td>False</td>\n",
       "      <td>False</td>\n",
       "      <td>False</td>\n",
       "      <td>...</td>\n",
       "      <td>False</td>\n",
       "      <td>False</td>\n",
       "      <td>False</td>\n",
       "      <td>False</td>\n",
       "      <td>False</td>\n",
       "      <td>False</td>\n",
       "      <td>False</td>\n",
       "      <td>False</td>\n",
       "      <td>False</td>\n",
       "      <td>False</td>\n",
       "    </tr>\n",
       "    <tr>\n",
       "      <th>2</th>\n",
       "      <td>False</td>\n",
       "      <td>True</td>\n",
       "      <td>False</td>\n",
       "      <td>False</td>\n",
       "      <td>False</td>\n",
       "      <td>False</td>\n",
       "      <td>False</td>\n",
       "      <td>False</td>\n",
       "      <td>False</td>\n",
       "      <td>False</td>\n",
       "      <td>...</td>\n",
       "      <td>False</td>\n",
       "      <td>False</td>\n",
       "      <td>False</td>\n",
       "      <td>False</td>\n",
       "      <td>False</td>\n",
       "      <td>False</td>\n",
       "      <td>False</td>\n",
       "      <td>False</td>\n",
       "      <td>False</td>\n",
       "      <td>False</td>\n",
       "    </tr>\n",
       "    <tr>\n",
       "      <th>3</th>\n",
       "      <td>False</td>\n",
       "      <td>False</td>\n",
       "      <td>False</td>\n",
       "      <td>False</td>\n",
       "      <td>False</td>\n",
       "      <td>False</td>\n",
       "      <td>False</td>\n",
       "      <td>False</td>\n",
       "      <td>False</td>\n",
       "      <td>False</td>\n",
       "      <td>...</td>\n",
       "      <td>False</td>\n",
       "      <td>False</td>\n",
       "      <td>False</td>\n",
       "      <td>False</td>\n",
       "      <td>False</td>\n",
       "      <td>False</td>\n",
       "      <td>False</td>\n",
       "      <td>False</td>\n",
       "      <td>False</td>\n",
       "      <td>False</td>\n",
       "    </tr>\n",
       "    <tr>\n",
       "      <th>4</th>\n",
       "      <td>False</td>\n",
       "      <td>False</td>\n",
       "      <td>False</td>\n",
       "      <td>False</td>\n",
       "      <td>False</td>\n",
       "      <td>False</td>\n",
       "      <td>False</td>\n",
       "      <td>False</td>\n",
       "      <td>False</td>\n",
       "      <td>False</td>\n",
       "      <td>...</td>\n",
       "      <td>False</td>\n",
       "      <td>False</td>\n",
       "      <td>False</td>\n",
       "      <td>False</td>\n",
       "      <td>False</td>\n",
       "      <td>False</td>\n",
       "      <td>False</td>\n",
       "      <td>False</td>\n",
       "      <td>False</td>\n",
       "      <td>False</td>\n",
       "    </tr>\n",
       "  </tbody>\n",
       "</table>\n",
       "<p>5 rows × 79 columns</p>\n",
       "</div>"
      ],
      "text/plain": [
       "   AGE FREE Tya Bag Mini Sling Bag  AMOENE [MADE] Long Strap Dress Navy  \\\n",
       "0                            False                                False   \n",
       "1                            False                                False   \n",
       "2                            False                                 True   \n",
       "3                            False                                False   \n",
       "4                            False                                False   \n",
       "\n",
       "   Arabian Voile (Hijab Voal) | MINIMSLM  Atasan Basic Wanita  \\\n",
       "0                                  False                 True   \n",
       "1                                  False                False   \n",
       "2                                  False                False   \n",
       "3                                  False                False   \n",
       "4                                  False                False   \n",
       "\n",
       "   Atasan Knit Wanita  BAGSMART Travel Toiletry Bag  \\\n",
       "0               False                         False   \n",
       "1               False                         False   \n",
       "2               False                         False   \n",
       "3               False                         False   \n",
       "4               False                         False   \n",
       "\n",
       "   Baju Atasan Lengan Pendek Wanita  Baju Kaos Roblox anak Laki-laki cowok  \\\n",
       "0                             False                                  False   \n",
       "1                             False                                  False   \n",
       "2                             False                                  False   \n",
       "3                             False                                  False   \n",
       "4                             False                                  False   \n",
       "\n",
       "   Baju Kemeja Hawaiian Pantai Anak Unisex  \\\n",
       "0                                    False   \n",
       "1                                    False   \n",
       "2                                    False   \n",
       "3                                    False   \n",
       "4                                    False   \n",
       "\n",
       "   Breakside Polo Shirt Gavriel - Darkgrey Polo Shirt Pria  ...  \\\n",
       "0                                              False        ...   \n",
       "1                                              False        ...   \n",
       "2                                              False        ...   \n",
       "3                                              False        ...   \n",
       "4                                              False        ...   \n",
       "\n",
       "   URBAN&CO BASIC Sandal Wanita Sendal Teplek Casual - Demi  \\\n",
       "0                                              False          \n",
       "1                                              False          \n",
       "2                                              False          \n",
       "3                                              False          \n",
       "4                                              False          \n",
       "\n",
       "   Varsity Hoodie Kupluk BEAR X Anak  Vintage Casual Premium Zipper  \\\n",
       "0                              False                          False   \n",
       "1                              False                          False   \n",
       "2                              False                          False   \n",
       "3                              False                          False   \n",
       "4                              False                          False   \n",
       "\n",
       "   Voal Motif Printing Sublim Segiempat Premium  WiZi Anti UV Sport Jacket  \\\n",
       "0                                         False                      False   \n",
       "1                                         False                      False   \n",
       "2                                         False                      False   \n",
       "3                                         False                      False   \n",
       "4                                         False                      False   \n",
       "\n",
       "   Wide High Jeans  Wispie Money Magnet Fitted Shirt  \\\n",
       "0            False                             False   \n",
       "1            False                             False   \n",
       "2            False                             False   \n",
       "3            False                             False   \n",
       "4            False                             False   \n",
       "\n",
       "   Workout Stretwear x Scribbles Tshirt Oversize Basic Dreamer pakaian pria dan wanita  \\\n",
       "0                                              False                                     \n",
       "1                                              False                                     \n",
       "2                                              False                                     \n",
       "3                                              False                                     \n",
       "4                                              False                                     \n",
       "\n",
       "   Zerotwentytwo T-Shirt Danane Raquat White | Kaos Pria Parodi Plesetan Lucu  \\\n",
       "0                                              False                            \n",
       "1                                              False                            \n",
       "2                                              False                            \n",
       "3                                              False                            \n",
       "4                                              False                            \n",
       "\n",
       "   Zipper Hoodie Dewasa Polos  \n",
       "0                       False  \n",
       "1                       False  \n",
       "2                       False  \n",
       "3                       False  \n",
       "4                       False  \n",
       "\n",
       "[5 rows x 79 columns]"
      ]
     },
     "execution_count": 37,
     "metadata": {},
     "output_type": "execute_result"
    }
   ],
   "source": [
    "# Inisialisasi TransactionEncoder\n",
    "te = TransactionEncoder()  \n",
    "\n",
    "# Encode daftar transaksi ke bentuk array biner\n",
    "te_ary = te.fit(transactions).transform(transactions)\n",
    "\n",
    "# Konversi array ke DataFrame dengan nama kolom sesuai item transaksi\n",
    "df_encoded = pd.DataFrame(te_ary, columns=te.columns_)\n",
    "df_encoded.head() "
   ]
  },
  {
   "cell_type": "code",
   "execution_count": 38,
   "id": "6400c882",
   "metadata": {},
   "outputs": [
    {
     "data": {
      "text/html": [
       "<div>\n",
       "<style scoped>\n",
       "    .dataframe tbody tr th:only-of-type {\n",
       "        vertical-align: middle;\n",
       "    }\n",
       "\n",
       "    .dataframe tbody tr th {\n",
       "        vertical-align: top;\n",
       "    }\n",
       "\n",
       "    .dataframe thead th {\n",
       "        text-align: right;\n",
       "    }\n",
       "</style>\n",
       "<table border=\"1\" class=\"dataframe\">\n",
       "  <thead>\n",
       "    <tr style=\"text-align: right;\">\n",
       "      <th></th>\n",
       "      <th>support</th>\n",
       "      <th>itemsets</th>\n",
       "    </tr>\n",
       "  </thead>\n",
       "  <tbody>\n",
       "    <tr>\n",
       "      <th>3</th>\n",
       "      <td>0.018182</td>\n",
       "      <td>(Atasan Basic Wanita)</td>\n",
       "    </tr>\n",
       "    <tr>\n",
       "      <th>6</th>\n",
       "      <td>0.018182</td>\n",
       "      <td>(Baju Atasan Lengan Pendek Wanita)</td>\n",
       "    </tr>\n",
       "    <tr>\n",
       "      <th>11</th>\n",
       "      <td>0.018182</td>\n",
       "      <td>(Celana Kulot Uniqllo Pants)</td>\n",
       "    </tr>\n",
       "    <tr>\n",
       "      <th>15</th>\n",
       "      <td>0.018182</td>\n",
       "      <td>(Celana korduroi pinggang tinggi)</td>\n",
       "    </tr>\n",
       "    <tr>\n",
       "      <th>12</th>\n",
       "      <td>0.018182</td>\n",
       "      <td>(Celana Panjang Highwaist Wanita)</td>\n",
       "    </tr>\n",
       "    <tr>\n",
       "      <th>14</th>\n",
       "      <td>0.018182</td>\n",
       "      <td>(Celana import polos pinggang tali serut pinkd...</td>\n",
       "    </tr>\n",
       "    <tr>\n",
       "      <th>8</th>\n",
       "      <td>0.018182</td>\n",
       "      <td>(Baju Kemeja Hawaiian Pantai Anak Unisex)</td>\n",
       "    </tr>\n",
       "    <tr>\n",
       "      <th>28</th>\n",
       "      <td>0.018182</td>\n",
       "      <td>(Kaos Wanita Oversize)</td>\n",
       "    </tr>\n",
       "    <tr>\n",
       "      <th>24</th>\n",
       "      <td>0.018182</td>\n",
       "      <td>(Jam Tangan Anak Original Mason 7026 Digital S...</td>\n",
       "    </tr>\n",
       "    <tr>\n",
       "      <th>25</th>\n",
       "      <td>0.018182</td>\n",
       "      <td>(Jam Tangan Pria Analog)</td>\n",
       "    </tr>\n",
       "    <tr>\n",
       "      <th>26</th>\n",
       "      <td>0.018182</td>\n",
       "      <td>(Jam Tangan Wanita JT 8151)</td>\n",
       "    </tr>\n",
       "    <tr>\n",
       "      <th>27</th>\n",
       "      <td>0.018182</td>\n",
       "      <td>(Jas Blazer Wisuda Pria Formal Polos Warna Hit...</td>\n",
       "    </tr>\n",
       "    <tr>\n",
       "      <th>20</th>\n",
       "      <td>0.018182</td>\n",
       "      <td>(Geoff Kids - Ethan Kids Black Gum)</td>\n",
       "    </tr>\n",
       "    <tr>\n",
       "      <th>23</th>\n",
       "      <td>0.018182</td>\n",
       "      <td>(Jaket Jeans Wanita)</td>\n",
       "    </tr>\n",
       "    <tr>\n",
       "      <th>18</th>\n",
       "      <td>0.018182</td>\n",
       "      <td>(Dress Bunny Anak)</td>\n",
       "    </tr>\n",
       "    <tr>\n",
       "      <th>19</th>\n",
       "      <td>0.018182</td>\n",
       "      <td>(ECINOS - Philia Oversized Linen Shirt)</td>\n",
       "    </tr>\n",
       "    <tr>\n",
       "      <th>31</th>\n",
       "      <td>0.018182</td>\n",
       "      <td>(LOOKBOUTIQUESTORE - Glyn Lace Shirt)</td>\n",
       "    </tr>\n",
       "    <tr>\n",
       "      <th>29</th>\n",
       "      <td>0.018182</td>\n",
       "      <td>(Kaos anak distro bahan katun premium)</td>\n",
       "    </tr>\n",
       "    <tr>\n",
       "      <th>50</th>\n",
       "      <td>0.018182</td>\n",
       "      <td>(Tas Sekolah Tas Anak Tk Paud Cartoon Excavator)</td>\n",
       "    </tr>\n",
       "    <tr>\n",
       "      <th>55</th>\n",
       "      <td>0.018182</td>\n",
       "      <td>(Vintage Casual Premium Zipper)</td>\n",
       "    </tr>\n",
       "  </tbody>\n",
       "</table>\n",
       "</div>"
      ],
      "text/plain": [
       "     support                                           itemsets\n",
       "3   0.018182                              (Atasan Basic Wanita)\n",
       "6   0.018182                 (Baju Atasan Lengan Pendek Wanita)\n",
       "11  0.018182                       (Celana Kulot Uniqllo Pants)\n",
       "15  0.018182                  (Celana korduroi pinggang tinggi)\n",
       "12  0.018182                  (Celana Panjang Highwaist Wanita)\n",
       "14  0.018182  (Celana import polos pinggang tali serut pinkd...\n",
       "8   0.018182          (Baju Kemeja Hawaiian Pantai Anak Unisex)\n",
       "28  0.018182                             (Kaos Wanita Oversize)\n",
       "24  0.018182  (Jam Tangan Anak Original Mason 7026 Digital S...\n",
       "25  0.018182                           (Jam Tangan Pria Analog)\n",
       "26  0.018182                        (Jam Tangan Wanita JT 8151)\n",
       "27  0.018182  (Jas Blazer Wisuda Pria Formal Polos Warna Hit...\n",
       "20  0.018182                (Geoff Kids - Ethan Kids Black Gum)\n",
       "23  0.018182                               (Jaket Jeans Wanita)\n",
       "18  0.018182                                 (Dress Bunny Anak)\n",
       "19  0.018182            (ECINOS - Philia Oversized Linen Shirt)\n",
       "31  0.018182              (LOOKBOUTIQUESTORE - Glyn Lace Shirt)\n",
       "29  0.018182             (Kaos anak distro bahan katun premium)\n",
       "50  0.018182   (Tas Sekolah Tas Anak Tk Paud Cartoon Excavator)\n",
       "55  0.018182                    (Vintage Casual Premium Zipper)"
      ]
     },
     "execution_count": 38,
     "metadata": {},
     "output_type": "execute_result"
    }
   ],
   "source": [
    "# Menjalankan algoritma Apriori untuk menemukan itemset yang sering muncul\n",
    "frequent_itemsets = apriori(df_encoded, min_support=0.01, use_colnames=True)  \n",
    "\n",
    "# Parameter penjelasan:\n",
    "# - df_encoded: DataFrame yang sudah dikonversi ke format transaksi biner\n",
    "# - min_support=0.01: Menentukan batas frekuensi relatif kemunculan itemset dalam data\n",
    "# - use_colnames=True: Menggunakan nama kolom asli dari DataFrame, bukan indeks numerik\n",
    "\n",
    "frequent_itemsets.sort_values(by='support').head(20)"
   ]
  },
  {
   "cell_type": "code",
   "execution_count": null,
   "id": "80750b09",
   "metadata": {},
   "outputs": [
    {
     "data": {
      "text/html": [
       "<div>\n",
       "<style scoped>\n",
       "    .dataframe tbody tr th:only-of-type {\n",
       "        vertical-align: middle;\n",
       "    }\n",
       "\n",
       "    .dataframe tbody tr th {\n",
       "        vertical-align: top;\n",
       "    }\n",
       "\n",
       "    .dataframe thead th {\n",
       "        text-align: right;\n",
       "    }\n",
       "</style>\n",
       "<table border=\"1\" class=\"dataframe\">\n",
       "  <thead>\n",
       "    <tr style=\"text-align: right;\">\n",
       "      <th></th>\n",
       "      <th>antecedents</th>\n",
       "      <th>consequents</th>\n",
       "      <th>antecedent support</th>\n",
       "      <th>consequent support</th>\n",
       "      <th>support</th>\n",
       "      <th>confidence</th>\n",
       "      <th>lift</th>\n",
       "      <th>representativity</th>\n",
       "      <th>leverage</th>\n",
       "      <th>conviction</th>\n",
       "      <th>zhangs_metric</th>\n",
       "      <th>jaccard</th>\n",
       "      <th>certainty</th>\n",
       "      <th>kulczynski</th>\n",
       "    </tr>\n",
       "  </thead>\n",
       "  <tbody>\n",
       "    <tr>\n",
       "      <th>0</th>\n",
       "      <td>(Sora Plaid Blazer Lengan Panjang / Blazer Cas...</td>\n",
       "      <td>(This Is April Atasan Kemeja Lengan Panjang)</td>\n",
       "      <td>0.045455</td>\n",
       "      <td>0.063636</td>\n",
       "      <td>0.027273</td>\n",
       "      <td>0.600000</td>\n",
       "      <td>9.428571</td>\n",
       "      <td>1.0</td>\n",
       "      <td>0.024380</td>\n",
       "      <td>2.340909</td>\n",
       "      <td>0.936508</td>\n",
       "      <td>0.333333</td>\n",
       "      <td>0.572816</td>\n",
       "      <td>0.514286</td>\n",
       "    </tr>\n",
       "    <tr>\n",
       "      <th>1</th>\n",
       "      <td>(This Is April Atasan Kemeja Lengan Panjang)</td>\n",
       "      <td>(Sora Plaid Blazer Lengan Panjang / Blazer Cas...</td>\n",
       "      <td>0.063636</td>\n",
       "      <td>0.045455</td>\n",
       "      <td>0.027273</td>\n",
       "      <td>0.428571</td>\n",
       "      <td>9.428571</td>\n",
       "      <td>1.0</td>\n",
       "      <td>0.024380</td>\n",
       "      <td>1.670455</td>\n",
       "      <td>0.954693</td>\n",
       "      <td>0.333333</td>\n",
       "      <td>0.401361</td>\n",
       "      <td>0.514286</td>\n",
       "    </tr>\n",
       "    <tr>\n",
       "      <th>2</th>\n",
       "      <td>(MaruKids - Dexter Shirt)</td>\n",
       "      <td>(Celana Cargo Pendek Anak Laki-Laki Bahan Dusk...</td>\n",
       "      <td>0.018182</td>\n",
       "      <td>0.045455</td>\n",
       "      <td>0.018182</td>\n",
       "      <td>1.000000</td>\n",
       "      <td>22.000000</td>\n",
       "      <td>1.0</td>\n",
       "      <td>0.017355</td>\n",
       "      <td>inf</td>\n",
       "      <td>0.972222</td>\n",
       "      <td>0.400000</td>\n",
       "      <td>1.000000</td>\n",
       "      <td>0.700000</td>\n",
       "    </tr>\n",
       "    <tr>\n",
       "      <th>3</th>\n",
       "      <td>(Kaos anak distro bahan katun premium)</td>\n",
       "      <td>(Kebaya Encim A-Line Bordir)</td>\n",
       "      <td>0.018182</td>\n",
       "      <td>0.027273</td>\n",
       "      <td>0.018182</td>\n",
       "      <td>1.000000</td>\n",
       "      <td>36.666667</td>\n",
       "      <td>1.0</td>\n",
       "      <td>0.017686</td>\n",
       "      <td>inf</td>\n",
       "      <td>0.990741</td>\n",
       "      <td>0.666667</td>\n",
       "      <td>1.000000</td>\n",
       "      <td>0.833333</td>\n",
       "    </tr>\n",
       "    <tr>\n",
       "      <th>4</th>\n",
       "      <td>(Vintage Casual Premium Zipper)</td>\n",
       "      <td>(Workout Stretwear x Scribbles Tshirt Oversize...</td>\n",
       "      <td>0.018182</td>\n",
       "      <td>0.027273</td>\n",
       "      <td>0.018182</td>\n",
       "      <td>1.000000</td>\n",
       "      <td>36.666667</td>\n",
       "      <td>1.0</td>\n",
       "      <td>0.017686</td>\n",
       "      <td>inf</td>\n",
       "      <td>0.990741</td>\n",
       "      <td>0.666667</td>\n",
       "      <td>1.000000</td>\n",
       "      <td>0.833333</td>\n",
       "    </tr>\n",
       "  </tbody>\n",
       "</table>\n",
       "</div>"
      ],
      "text/plain": [
       "                                         antecedents  \\\n",
       "0  (Sora Plaid Blazer Lengan Panjang / Blazer Cas...   \n",
       "1       (This Is April Atasan Kemeja Lengan Panjang)   \n",
       "2                          (MaruKids - Dexter Shirt)   \n",
       "3             (Kaos anak distro bahan katun premium)   \n",
       "4                    (Vintage Casual Premium Zipper)   \n",
       "\n",
       "                                         consequents  antecedent support  \\\n",
       "0       (This Is April Atasan Kemeja Lengan Panjang)            0.045455   \n",
       "1  (Sora Plaid Blazer Lengan Panjang / Blazer Cas...            0.063636   \n",
       "2  (Celana Cargo Pendek Anak Laki-Laki Bahan Dusk...            0.018182   \n",
       "3                       (Kebaya Encim A-Line Bordir)            0.018182   \n",
       "4  (Workout Stretwear x Scribbles Tshirt Oversize...            0.018182   \n",
       "\n",
       "   consequent support   support  confidence       lift  representativity  \\\n",
       "0            0.063636  0.027273    0.600000   9.428571               1.0   \n",
       "1            0.045455  0.027273    0.428571   9.428571               1.0   \n",
       "2            0.045455  0.018182    1.000000  22.000000               1.0   \n",
       "3            0.027273  0.018182    1.000000  36.666667               1.0   \n",
       "4            0.027273  0.018182    1.000000  36.666667               1.0   \n",
       "\n",
       "   leverage  conviction  zhangs_metric   jaccard  certainty  kulczynski  \n",
       "0  0.024380    2.340909       0.936508  0.333333   0.572816    0.514286  \n",
       "1  0.024380    1.670455       0.954693  0.333333   0.401361    0.514286  \n",
       "2  0.017355         inf       0.972222  0.400000   1.000000    0.700000  \n",
       "3  0.017686         inf       0.990741  0.666667   1.000000    0.833333  \n",
       "4  0.017686         inf       0.990741  0.666667   1.000000    0.833333  "
      ]
     },
     "execution_count": 39,
     "metadata": {},
     "output_type": "execute_result"
    }
   ],
   "source": [
    "rules = association_rules(frequent_itemsets, metric=\"lift\", min_threshold=1) \n",
    "# lift = confidence / expected_confidence\n",
    "# Hanya aturan dengan lift >= 1 yang akan dimasukkan ke dalam hasil.\n",
    "rules.sort_values(['support','confidence'], ascending=[False,False]).reset_index(drop=True).head()"
   ]
  },
  {
   "cell_type": "markdown",
   "id": "3ef9921f",
   "metadata": {},
   "source": [
    "# Evaluation"
   ]
  },
  {
   "cell_type": "markdown",
   "id": "b416223d",
   "metadata": {},
   "source": [
    "## Diagram Visualisasi"
   ]
  },
  {
   "cell_type": "markdown",
   "id": "3396d152",
   "metadata": {},
   "source": [
    "### 2 Chart: Customer Spend Distribution (by Leo)"
   ]
  },
  {
   "cell_type": "code",
   "execution_count": 136,
   "id": "529a8092",
   "metadata": {},
   "outputs": [
    {
     "data": {
      "image/png": "[encoded data removed]",
      "text/plain": [
       "<Figure size 800x500 with 1 Axes>"
      ]
     },
     "metadata": {},
     "output_type": "display_data"
    }
   ],
   "source": [
    "# Buat figure dan plot\n",
    "plt.figure(figsize=(8, 5))\n",
    "ax = sns.barplot(x=spend_distribution.index, y=spend_distribution.values, palette=\"coolwarm\", hue=spend_distribution.index)\n",
    "\n",
    "# Tambahkan label nominal pada masing-masing batang\n",
    "for p in ax.patches:\n",
    "    ax.annotate(f'{int(p.get_height())}', \n",
    "                (p.get_x() + p.get_width() / 2, p.get_height()), \n",
    "                ha='center', va='bottom', fontsize=12, fontweight='bold', color='black')\n",
    "\n",
    "# Konfigurasi tampilan\n",
    "plt.xlabel(\"Range Total Spend (IDR)\")\n",
    "plt.ylabel(\"Jumlah Customer\")\n",
    "plt.title(\"Distribusi Customer Berdasarkan Total Spend\")\n",
    "plt.xticks(rotation=45)\n",
    "plt.show()"
   ]
  },
  {
   "cell_type": "code",
   "execution_count": 137,
   "id": "a5d24765",
   "metadata": {},
   "outputs": [
    {
     "data": {
      "image/png": "[encoded data removed]",
      "text/plain": [
       "<Figure size 600x600 with 1 Axes>"
      ]
     },
     "metadata": {},
     "output_type": "display_data"
    }
   ],
   "source": [
    "plt.figure(figsize=(6, 6))\n",
    "\n",
    "# Buat pie chart dengan penyesuaian posisi label\n",
    "plt.pie(\n",
    "    spend_distribution, \n",
    "    labels=spend_distribution.index, \n",
    "    autopct=\"%1.1f%%\",\n",
    "    colors=sns.color_palette(\"coolwarm\"),\n",
    "    labeldistance=1.2,  # Memindahkan label lebih jauh dari lingkaran\n",
    "    pctdistance=0.8  # Memindahkan persentase ke bagian dalam\n",
    ")\n",
    "\n",
    "plt.title(\"Persentase Customer Berdasarkan Total Spend\")\n",
    "\n",
    "# Tambahkan legend agar label tidak saling berdekatan\n",
    "plt.legend(spend_distribution.index, loc=\"best\", bbox_to_anchor=(1, 1))\n",
    "\n",
    "plt.show()"
   ]
  },
  {
   "cell_type": "markdown",
   "id": "a1e74344",
   "metadata": {},
   "source": [
    "### Bubble Chart: Top Produk by Penjualan (by Matthew)"
   ]
  },
  {
   "cell_type": "code",
   "execution_count": 65,
   "id": "349b067a",
   "metadata": {},
   "outputs": [
    {
     "data": {
      "application/vnd.plotly.v1+json": {
       "config": {
        "plotlyServerURL": "https://plot.ly"
       },
       "data": [
        {
         "hoverinfo": "text",
         "hovertext": [
          "DUSHI Jonah flat - Sandal wanita teplek<br>Total Sales: 25",
          "Atasan Knit Wanita<br>Total Sales: 10",
          "Celana Cargo Pendek Anak Laki-Laki Bahan Dusky Crinkle/Parasut<br>Total Sales: 9",
          "This Is April Atasan Kemeja Lengan Panjang<br>Total Sales: 8",
          "AMOENE [MADE] Long Strap Dress Navy<br>Total Sales: 8"
         ],
         "marker": {
          "color": {
           "bdata": "AAAAAAAAOUAAAAAAAAAkQAAAAAAAACJAAAAAAAAAIEAAAAAAAAAgQA==",
           "dtype": "f8"
          },
          "colorscale": [
           [
            0,
            "#440154"
           ],
           [
            0.1111111111111111,
            "#482878"
           ],
           [
            0.2222222222222222,
            "#3e4989"
           ],
           [
            0.3333333333333333,
            "#31688e"
           ],
           [
            0.4444444444444444,
            "#26828e"
           ],
           [
            0.5555555555555556,
            "#1f9e89"
           ],
           [
            0.6666666666666666,
            "#35b779"
           ],
           [
            0.7777777777777778,
            "#6ece58"
           ],
           [
            0.8888888888888888,
            "#b5de2b"
           ],
           [
            1,
            "#fde725"
           ]
          ],
          "line": {
           "color": "DarkSlateGrey",
           "width": 2
          },
          "opacity": 0.7,
          "showscale": true,
          "size": {
           "bdata": "AAAAAACAYUAAAAAAAABUQAAAAAAAAFNAAAAAAAAAUkAAAAAAAABSQA==",
           "dtype": "f8"
          },
          "sizemode": "diameter"
         },
         "mode": "markers+text",
         "textposition": "middle center",
         "type": "scatter",
         "x": [
          -0.14943468953412403,
          0.7806808888271141,
          -0.44776964880332176,
          -0.9851287589745311,
          0.801652208484863
         ],
         "y": [
          0.9557774427776483,
          -0.6069043910388772,
          -1,
          0.18887273398885188,
          0.462254214272377
         ]
        }
       ],
       "layout": {
        "annotations": [
         {
          "align": "center",
          "bgcolor": "white",
          "bordercolor": "gray",
          "borderpad": 4,
          "borderwidth": 1,
          "font": {
           "color": "black",
           "family": "Arial",
           "size": 12
          },
          "opacity": 0.8,
          "showarrow": false,
          "text": "DUSHI Jonah flat -<br>Sandal wanita teplek<br><b>25</b>",
          "x": -0.14943468953412403,
          "xanchor": "center",
          "y": 0.9557774427776483,
          "yanchor": "middle"
         },
         {
          "align": "center",
          "bgcolor": "white",
          "bordercolor": "gray",
          "borderpad": 4,
          "borderwidth": 1,
          "font": {
           "color": "black",
           "family": "Arial",
           "size": 12
          },
          "opacity": 0.8,
          "showarrow": false,
          "text": "Atasan Knit Wanita<br><b>10</b>",
          "x": 0.7806808888271141,
          "xanchor": "center",
          "y": -0.6069043910388772,
          "yanchor": "middle"
         },
         {
          "align": "center",
          "bgcolor": "white",
          "bordercolor": "gray",
          "borderpad": 4,
          "borderwidth": 1,
          "font": {
           "color": "black",
           "family": "Arial",
           "size": 12
          },
          "opacity": 0.8,
          "showarrow": false,
          "text": "Celana Cargo Pendek Anak<br>Laki-Laki Bahan Dusky Crinkle/Parasut<br><b>9</b>",
          "x": -0.44776964880332176,
          "xanchor": "center",
          "y": -1,
          "yanchor": "middle"
         },
         {
          "align": "center",
          "bgcolor": "white",
          "bordercolor": "gray",
          "borderpad": 4,
          "borderwidth": 1,
          "font": {
           "color": "black",
           "family": "Arial",
           "size": 12
          },
          "opacity": 0.8,
          "showarrow": false,
          "text": "This Is April Atasan<br>Kemeja Lengan Panjang<br><b>8</b>",
          "x": -0.9851287589745311,
          "xanchor": "center",
          "y": 0.18887273398885188,
          "yanchor": "middle"
         },
         {
          "align": "center",
          "bgcolor": "white",
          "bordercolor": "gray",
          "borderpad": 4,
          "borderwidth": 1,
          "font": {
           "color": "black",
           "family": "Arial",
           "size": 12
          },
          "opacity": 0.8,
          "showarrow": false,
          "text": "AMOENE [MADE] Long Strap<br>Dress Navy<br><b>8</b>",
          "x": 0.801652208484863,
          "xanchor": "center",
          "y": 0.462254214272377,
          "yanchor": "middle"
         }
        ],
        "height": 600,
        "margin": {
         "b": 20,
         "l": 20,
         "r": 20,
         "t": 60
        },
        "plot_bgcolor": "white",
        "template": {
         "data": {
          "bar": [
           {
            "error_x": {
             "color": "#2a3f5f"
            },
            "error_y": {
             "color": "#2a3f5f"
            },
            "marker": {
             "line": {
              "color": "#E5ECF6",
              "width": 0.5
             },
             "pattern": {
              "fillmode": "overlay",
              "size": 10,
              "solidity": 0.2
             }
            },
            "type": "bar"
           }
          ],
          "barpolar": [
           {
            "marker": {
             "line": {
              "color": "#E5ECF6",
              "width": 0.5
             },
             "pattern": {
              "fillmode": "overlay",
              "size": 10,
              "solidity": 0.2
             }
            },
            "type": "barpolar"
           }
          ],
          "carpet": [
           {
            "aaxis": {
             "endlinecolor": "#2a3f5f",
             "gridcolor": "white",
             "linecolor": "white",
             "minorgridcolor": "white",
             "startlinecolor": "#2a3f5f"
            },
            "baxis": {
             "endlinecolor": "#2a3f5f",
             "gridcolor": "white",
             "linecolor": "white",
             "minorgridcolor": "white",
             "startlinecolor": "#2a3f5f"
            },
            "type": "carpet"
           }
          ],
          "choropleth": [
           {
            "colorbar": {
             "outlinewidth": 0,
             "ticks": ""
            },
            "type": "choropleth"
           }
          ],
          "contour": [
           {
            "colorbar": {
             "outlinewidth": 0,
             "ticks": ""
            },
            "colorscale": [
             [
              0,
              "#0d0887"
             ],
             [
              0.1111111111111111,
              "#46039f"
             ],
             [
              0.2222222222222222,
              "#7201a8"
             ],
             [
              0.3333333333333333,
              "#9c179e"
             ],
             [
              0.4444444444444444,
              "#bd3786"
             ],
             [
              0.5555555555555556,
              "#d8576b"
             ],
             [
              0.6666666666666666,
              "#ed7953"
             ],
             [
              0.7777777777777778,
              "#fb9f3a"
             ],
             [
              0.8888888888888888,
              "#fdca26"
             ],
             [
              1,
              "#f0f921"
             ]
            ],
            "type": "contour"
           }
          ],
          "contourcarpet": [
           {
            "colorbar": {
             "outlinewidth": 0,
             "ticks": ""
            },
            "type": "contourcarpet"
           }
          ],
          "heatmap": [
           {
            "colorbar": {
             "outlinewidth": 0,
             "ticks": ""
            },
            "colorscale": [
             [
              0,
              "#0d0887"
             ],
             [
              0.1111111111111111,
              "#46039f"
             ],
             [
              0.2222222222222222,
              "#7201a8"
             ],
             [
              0.3333333333333333,
              "#9c179e"
             ],
             [
              0.4444444444444444,
              "#bd3786"
             ],
             [
              0.5555555555555556,
              "#d8576b"
             ],
             [
              0.6666666666666666,
              "#ed7953"
             ],
             [
              0.7777777777777778,
              "#fb9f3a"
             ],
             [
              0.8888888888888888,
              "#fdca26"
             ],
             [
              1,
              "#f0f921"
             ]
            ],
            "type": "heatmap"
           }
          ],
          "histogram": [
           {
            "marker": {
             "pattern": {
              "fillmode": "overlay",
              "size": 10,
              "solidity": 0.2
             }
            },
            "type": "histogram"
           }
          ],
          "histogram2d": [
           {
            "colorbar": {
             "outlinewidth": 0,
             "ticks": ""
            },
            "colorscale": [
             [
              0,
              "#0d0887"
             ],
             [
              0.1111111111111111,
              "#46039f"
             ],
             [
              0.2222222222222222,
              "#7201a8"
             ],
             [
              0.3333333333333333,
              "#9c179e"
             ],
             [
              0.4444444444444444,
              "#bd3786"
             ],
             [
              0.5555555555555556,
              "#d8576b"
             ],
             [
              0.6666666666666666,
              "#ed7953"
             ],
             [
              0.7777777777777778,
              "#fb9f3a"
             ],
             [
              0.8888888888888888,
              "#fdca26"
             ],
             [
              1,
              "#f0f921"
             ]
            ],
            "type": "histogram2d"
           }
          ],
          "histogram2dcontour": [
           {
            "colorbar": {
             "outlinewidth": 0,
             "ticks": ""
            },
            "colorscale": [
             [
              0,
              "#0d0887"
             ],
             [
              0.1111111111111111,
              "#46039f"
             ],
             [
              0.2222222222222222,
              "#7201a8"
             ],
             [
              0.3333333333333333,
              "#9c179e"
             ],
             [
              0.4444444444444444,
              "#bd3786"
             ],
             [
              0.5555555555555556,
              "#d8576b"
             ],
             [
              0.6666666666666666,
              "#ed7953"
             ],
             [
              0.7777777777777778,
              "#fb9f3a"
             ],
             [
              0.8888888888888888,
              "#fdca26"
             ],
             [
              1,
              "#f0f921"
             ]
            ],
            "type": "histogram2dcontour"
           }
          ],
          "mesh3d": [
           {
            "colorbar": {
             "outlinewidth": 0,
             "ticks": ""
            },
            "type": "mesh3d"
           }
          ],
          "parcoords": [
           {
            "line": {
             "colorbar": {
              "outlinewidth": 0,
              "ticks": ""
             }
            },
            "type": "parcoords"
           }
          ],
          "pie": [
           {
            "automargin": true,
            "type": "pie"
           }
          ],
          "scatter": [
           {
            "fillpattern": {
             "fillmode": "overlay",
             "size": 10,
             "solidity": 0.2
            },
            "type": "scatter"
           }
          ],
          "scatter3d": [
           {
            "line": {
             "colorbar": {
              "outlinewidth": 0,
              "ticks": ""
             }
            },
            "marker": {
             "colorbar": {
              "outlinewidth": 0,
              "ticks": ""
             }
            },
            "type": "scatter3d"
           }
          ],
          "scattercarpet": [
           {
            "marker": {
             "colorbar": {
              "outlinewidth": 0,
              "ticks": ""
             }
            },
            "type": "scattercarpet"
           }
          ],
          "scattergeo": [
           {
            "marker": {
             "colorbar": {
              "outlinewidth": 0,
              "ticks": ""
             }
            },
            "type": "scattergeo"
           }
          ],
          "scattergl": [
           {
            "marker": {
             "colorbar": {
              "outlinewidth": 0,
              "ticks": ""
             }
            },
            "type": "scattergl"
           }
          ],
          "scattermap": [
           {
            "marker": {
             "colorbar": {
              "outlinewidth": 0,
              "ticks": ""
             }
            },
            "type": "scattermap"
           }
          ],
          "scattermapbox": [
           {
            "marker": {
             "colorbar": {
              "outlinewidth": 0,
              "ticks": ""
             }
            },
            "type": "scattermapbox"
           }
          ],
          "scatterpolar": [
           {
            "marker": {
             "colorbar": {
              "outlinewidth": 0,
              "ticks": ""
             }
            },
            "type": "scatterpolar"
           }
          ],
          "scatterpolargl": [
           {
            "marker": {
             "colorbar": {
              "outlinewidth": 0,
              "ticks": ""
             }
            },
            "type": "scatterpolargl"
           }
          ],
          "scatterternary": [
           {
            "marker": {
             "colorbar": {
              "outlinewidth": 0,
              "ticks": ""
             }
            },
            "type": "scatterternary"
           }
          ],
          "surface": [
           {
            "colorbar": {
             "outlinewidth": 0,
             "ticks": ""
            },
            "colorscale": [
             [
              0,
              "#0d0887"
             ],
             [
              0.1111111111111111,
              "#46039f"
             ],
             [
              0.2222222222222222,
              "#7201a8"
             ],
             [
              0.3333333333333333,
              "#9c179e"
             ],
             [
              0.4444444444444444,
              "#bd3786"
             ],
             [
              0.5555555555555556,
              "#d8576b"
             ],
             [
              0.6666666666666666,
              "#ed7953"
             ],
             [
              0.7777777777777778,
              "#fb9f3a"
             ],
             [
              0.8888888888888888,
              "#fdca26"
             ],
             [
              1,
              "#f0f921"
             ]
            ],
            "type": "surface"
           }
          ],
          "table": [
           {
            "cells": {
             "fill": {
              "color": "#EBF0F8"
             },
             "line": {
              "color": "white"
             }
            },
            "header": {
             "fill": {
              "color": "#C8D4E3"
             },
             "line": {
              "color": "white"
             }
            },
            "type": "table"
           }
          ]
         },
         "layout": {
          "annotationdefaults": {
           "arrowcolor": "#2a3f5f",
           "arrowhead": 0,
           "arrowwidth": 1
          },
          "autotypenumbers": "strict",
          "coloraxis": {
           "colorbar": {
            "outlinewidth": 0,
            "ticks": ""
           }
          },
          "colorscale": {
           "diverging": [
            [
             0,
             "#8e0152"
            ],
            [
             0.1,
             "#c51b7d"
            ],
            [
             0.2,
             "#de77ae"
            ],
            [
             0.3,
             "#f1b6da"
            ],
            [
             0.4,
             "#fde0ef"
            ],
            [
             0.5,
             "#f7f7f7"
            ],
            [
             0.6,
             "#e6f5d0"
            ],
            [
             0.7,
             "#b8e186"
            ],
            [
             0.8,
             "#7fbc41"
            ],
            [
             0.9,
             "#4d9221"
            ],
            [
             1,
             "#276419"
            ]
           ],
           "sequential": [
            [
             0,
             "#0d0887"
            ],
            [
             0.1111111111111111,
             "#46039f"
            ],
            [
             0.2222222222222222,
             "#7201a8"
            ],
            [
             0.3333333333333333,
             "#9c179e"
            ],
            [
             0.4444444444444444,
             "#bd3786"
            ],
            [
             0.5555555555555556,
             "#d8576b"
            ],
            [
             0.6666666666666666,
             "#ed7953"
            ],
            [
             0.7777777777777778,
             "#fb9f3a"
            ],
            [
             0.8888888888888888,
             "#fdca26"
            ],
            [
             1,
             "#f0f921"
            ]
           ],
           "sequentialminus": [
            [
             0,
             "#0d0887"
            ],
            [
             0.1111111111111111,
             "#46039f"
            ],
            [
             0.2222222222222222,
             "#7201a8"
            ],
            [
             0.3333333333333333,
             "#9c179e"
            ],
            [
             0.4444444444444444,
             "#bd3786"
            ],
            [
             0.5555555555555556,
             "#d8576b"
            ],
            [
             0.6666666666666666,
             "#ed7953"
            ],
            [
             0.7777777777777778,
             "#fb9f3a"
            ],
            [
             0.8888888888888888,
             "#fdca26"
            ],
            [
             1,
             "#f0f921"
            ]
           ]
          },
          "colorway": [
           "#636efa",
           "#EF553B",
           "#00cc96",
           "#ab63fa",
           "#FFA15A",
           "#19d3f3",
           "#FF6692",
           "#B6E880",
           "#FF97FF",
           "#FECB52"
          ],
          "font": {
           "color": "#2a3f5f"
          },
          "geo": {
           "bgcolor": "white",
           "lakecolor": "white",
           "landcolor": "#E5ECF6",
           "showlakes": true,
           "showland": true,
           "subunitcolor": "white"
          },
          "hoverlabel": {
           "align": "left"
          },
          "hovermode": "closest",
          "mapbox": {
           "style": "light"
          },
          "paper_bgcolor": "white",
          "plot_bgcolor": "#E5ECF6",
          "polar": {
           "angularaxis": {
            "gridcolor": "white",
            "linecolor": "white",
            "ticks": ""
           },
           "bgcolor": "#E5ECF6",
           "radialaxis": {
            "gridcolor": "white",
            "linecolor": "white",
            "ticks": ""
           }
          },
          "scene": {
           "xaxis": {
            "backgroundcolor": "#E5ECF6",
            "gridcolor": "white",
            "gridwidth": 2,
            "linecolor": "white",
            "showbackground": true,
            "ticks": "",
            "zerolinecolor": "white"
           },
           "yaxis": {
            "backgroundcolor": "#E5ECF6",
            "gridcolor": "white",
            "gridwidth": 2,
            "linecolor": "white",
            "showbackground": true,
            "ticks": "",
            "zerolinecolor": "white"
           },
           "zaxis": {
            "backgroundcolor": "#E5ECF6",
            "gridcolor": "white",
            "gridwidth": 2,
            "linecolor": "white",
            "showbackground": true,
            "ticks": "",
            "zerolinecolor": "white"
           }
          },
          "shapedefaults": {
           "line": {
            "color": "#2a3f5f"
           }
          },
          "ternary": {
           "aaxis": {
            "gridcolor": "white",
            "linecolor": "white",
            "ticks": ""
           },
           "baxis": {
            "gridcolor": "white",
            "linecolor": "white",
            "ticks": ""
           },
           "bgcolor": "#E5ECF6",
           "caxis": {
            "gridcolor": "white",
            "linecolor": "white",
            "ticks": ""
           }
          },
          "title": {
           "x": 0.05
          },
          "xaxis": {
           "automargin": true,
           "gridcolor": "white",
           "linecolor": "white",
           "ticks": "",
           "title": {
            "standoff": 15
           },
           "zerolinecolor": "white",
           "zerolinewidth": 2
          },
          "yaxis": {
           "automargin": true,
           "gridcolor": "white",
           "linecolor": "white",
           "ticks": "",
           "title": {
            "standoff": 15
           },
           "zerolinecolor": "white",
           "zerolinewidth": 2
          }
         }
        },
        "title": {
         "text": "Bubble Cloud Chart: Top 5 Produk by Total Penjualan"
        },
        "width": 800,
        "xaxis": {
         "showgrid": false,
         "showticklabels": false,
         "zeroline": false
        },
        "yaxis": {
         "showgrid": false,
         "showticklabels": false,
         "zeroline": false
        }
       }
      }
     },
     "metadata": {},
     "output_type": "display_data"
    }
   ],
   "source": [
    "# Ambil 5 produk teratas\n",
    "df_top5 = merge_bubble.sort_values('total_sales', ascending=False).head(5)\n",
    "\n",
    "# Scaling ukuran bubble\n",
    "sizes = (df_top5['total_sales'] / df_top5['total_sales'].max()) * 100 + 40  \n",
    "\n",
    "# Atur posisi bubble: Buat graph kosong dan layout spring (bubble cloud)\n",
    "G = nx.Graph()\n",
    "for i in range(len(df_top5)):\n",
    "    G.add_node(i)\n",
    "\n",
    "pos = nx.spring_layout(G, k=0.5, seed=42)  # posisi node dengan spring layout\n",
    "\n",
    "x_pos = [pos[i][0] for i in range(len(df_top5))]\n",
    "y_pos = [pos[i][1] for i in range(len(df_top5))]\n",
    "\n",
    "# Fungsi untuk memformat teks agar setiap baris memiliki maksimal `max_words` kata\n",
    "def wrap_text(text, max_words=4): \n",
    "    words = text.split()\n",
    "    return \"<br>\".join([\" \".join(words[i:i+max_words]) for i in range(0, len(words), max_words)])\n",
    "\n",
    "# Buat figure Plotly\n",
    "fig = go.Figure()\n",
    "\n",
    "fig.add_trace(go.Scatter(\n",
    "    x=x_pos,\n",
    "    y=y_pos,\n",
    "    mode='markers+text',\n",
    "    textposition='middle center',\n",
    "    marker=dict(\n",
    "        size=sizes,\n",
    "        color=df_top5['total_sales'],\n",
    "        colorscale='Viridis',\n",
    "        showscale=True,\n",
    "        line=dict(width=2, color='DarkSlateGrey'),\n",
    "        sizemode='diameter',\n",
    "        opacity=0.7,\n",
    "    ),\n",
    "    hoverinfo='text',\n",
    "    hovertext=[f\"{name}<br>Total Sales: {total:,.0f}\" for name, total in zip(df_top5['order_item_name'], df_top5['total_sales'])]\n",
    "))\n",
    "\n",
    "annotations = []\n",
    "for x, y, name, total in zip(x_pos, y_pos, df_top5['order_item_name'], df_top5['total_sales']):\n",
    "    wrapped_text = wrap_text(name)\n",
    "    full_text = f\"{wrapped_text}<br><b>{int(total):,}</b>\"\n",
    "    annotations.append(dict(\n",
    "        x=x,\n",
    "        y=y,\n",
    "        text=full_text,\n",
    "        showarrow=False, # Tidak menampilkan panah anotasi\n",
    "        font=dict(\n",
    "            color=\"black\",\n",
    "            size=12,\n",
    "            family=\"Arial\"\n",
    "        ),\n",
    "        align=\"center\",\n",
    "        xanchor=\"center\",\n",
    "        yanchor=\"middle\",\n",
    "        bgcolor=\"white\",\n",
    "        bordercolor=\"gray\",\n",
    "        borderwidth=1,\n",
    "        borderpad=4,\n",
    "        opacity=0.8\n",
    "    ))\n",
    "\n",
    "fig.update_layout(annotations=annotations) # Menambahkan anotasi ke dalam layout grafik\n",
    "\n",
    "fig.update_layout(\n",
    "    title=\"Bubble Cloud Chart: Top 5 Produk by Total Penjualan\",\n",
    "    xaxis=dict(showgrid=False, zeroline=False, showticklabels=False),\n",
    "    yaxis=dict(showgrid=False, zeroline=False, showticklabels=False),\n",
    "    plot_bgcolor='white',\n",
    "    height=600,\n",
    "    width=800,\n",
    "    margin=dict(l=20, r=20, t=60, b=20)\n",
    ")\n",
    "\n",
    "fig.show()"
   ]
  },
  {
   "cell_type": "markdown",
   "id": "135378c4",
   "metadata": {},
   "source": [
    "### Donut Chart: Page dengan interaksi tertinggi (by Hanif)"
   ]
  },
  {
   "cell_type": "code",
   "execution_count": 104,
   "id": "d45ae920",
   "metadata": {},
   "outputs": [
    {
     "data": {
      "image/png": "[encoded data removed]",
      "text/plain": [
       "<Figure size 600x600 with 1 Axes>"
      ]
     },
     "metadata": {},
     "output_type": "display_data"
    }
   ],
   "source": [
    "# Buat donut chart\n",
    "fig, ax = plt.subplots(figsize=(6, 6))\n",
    "wedges, texts, autotexts = ax.pie(\n",
    "    top_pages[\"percentage\"],\n",
    "    labels=top_pages[\"page\"],\n",
    "    autopct='%1.1f%%',\n",
    "    startangle=140,\n",
    "    pctdistance=0.85\n",
    ")\n",
    "\n",
    "# Tambahkan lubang di tengah (donut hole)\n",
    "centre_circle = plt.Circle((0, 0), 0.70, fc='white')\n",
    "ax.add_artist(centre_circle)\n",
    "plt.tight_layout() # menyesuaikan letak subplot: tidak bertumpuk atau terlalu rapat"
   ]
  },
  {
   "cell_type": "markdown",
   "id": "10d8640d",
   "metadata": {},
   "source": [
    "### Line Chart: Frekuensi Transaksi by Date (by Nashya)"
   ]
  },
  {
   "cell_type": "code",
   "execution_count": 169,
   "id": "e63bc32e",
   "metadata": {},
   "outputs": [
    {
     "data": {
      "image/png": "[encoded data removed]",
      "text/plain": [
       "<Figure size 1800x800 with 1 Axes>"
      ]
     },
     "metadata": {},
     "output_type": "display_data"
    }
   ],
   "source": [
    "# Plotting\n",
    "fig, ax = plt.subplots(figsize=(18, 8))\n",
    "pivot_df.plot(ax=ax, marker='o', markersize=8, linewidth=1.5)\n",
    "ax.set_title('Frekuensi Pembelian per Jam Berdasarkan IP Address')\n",
    "ax.set_xlabel('Waktu Pemesanan')\n",
    "ax.set_ylabel('Frekuensi Transaksi')\n",
    "ax.legend(title='IP Address', bbox_to_anchor=(1.05, 1), loc='upper left', fontsize='small')\n",
    "ax.grid(True)\n",
    "plt.tight_layout()"
   ]
  },
  {
   "cell_type": "markdown",
   "id": "d7896e42",
   "metadata": {},
   "source": [
    "### Bar Chart: Top 10 Produk by Interaksi (by Carsen)"
   ]
  },
  {
   "cell_type": "code",
   "execution_count": 175,
   "id": "29ca11be",
   "metadata": {},
   "outputs": [
    {
     "data": {
      "image/png": "[encoded data removed]",
      "text/plain": [
       "<Figure size 1200x600 with 1 Axes>"
      ]
     },
     "metadata": {},
     "output_type": "display_data"
    }
   ],
   "source": [
    "# Visualisasi bar chart horizontal\n",
    "fig, ax = plt.subplots(figsize=(12, 6))\n",
    "plot = sns.barplot(\n",
    "    data=top_products,\n",
    "    x=\"interaction_count\",\n",
    "    y=\"product_name\",\n",
    "    palette=\"crest\",\n",
    "    hue=\"product_name\",\n",
    "    legend=False,\n",
    "    ax=ax\n",
    ")\n",
    "\n",
    "for bar in plot.containers:\n",
    "    plot.bar_label(bar, fmt='%d', label_type='edge', padding=3)\n",
    "\n",
    "ax.set_title(\"Produk dengan Interaksi Terbanyak (Top 10)\", fontsize=14, fontweight=\"bold\")\n",
    "ax.set_xlabel(\"Jumlah Interaksi\")\n",
    "ax.set_ylabel(\"Nama Produk\")\n",
    "plt.tight_layout()"
   ]
  },
  {
   "cell_type": "markdown",
   "id": "7bda801f",
   "metadata": {},
   "source": [
    "### Stacked Bar: Frekuensi Order (by Naila)"
   ]
  },
  {
   "cell_type": "code",
   "execution_count": 7,
   "id": "12374bc7",
   "metadata": {},
   "outputs": [
    {
     "data": {
      "image/png": "[encoded data removed]",
      "text/plain": [
       "<Figure size 1200x900 with 1 Axes>"
      ]
     },
     "metadata": {},
     "output_type": "display_data"
    }
   ],
   "source": [
    "# Plot stacked bar chart (tetap pakai jumlah order)\n",
    "ax = order_freq.plot(kind='bar', stacked=True, figsize=(12, 9), legend=False)\n",
    "\n",
    "# Hitung jumlah customer unik per IP\n",
    "unique_cust = order_freq.gt(0).sum(axis=1)\n",
    "\n",
    "# Tambahkan jumlah customer di atas setiap bar\n",
    "totals = order_freq.sum(axis=1)  # untuk tahu tinggi bar\n",
    "for i, (cust, total) in enumerate(zip(unique_cust, totals)):\n",
    "    ax.text(i, total + 0.3, f\"{cust} cust\", ha='center', va='bottom', fontsize=10, fontweight='bold')\n",
    "\n",
    "plt.ylabel('Frekuensi Order')\n",
    "plt.xlabel('IP Address')\n",
    "plt.title('Frekuensi Order berdasarkan IP Address dan Customer')\n",
    "plt.xticks(rotation=45)\n",
    "plt.tight_layout()\n",
    "plt.show()"
   ]
  },
  {
   "cell_type": "markdown",
   "id": "864d3ae1",
   "metadata": {},
   "source": [
    "### Geomap: Pembelian per Kota (by Shafa)"
   ]
  },
  {
   "cell_type": "code",
   "execution_count": 8,
   "id": "176567e7",
   "metadata": {},
   "outputs": [
    {
     "data": {
      "application/vnd.plotly.v1+json": {
       "config": {
        "plotlyServerURL": "https://plot.ly"
       },
       "data": [
        {
         "customdata": [
          [
           58,
           "AMOENE [MADE] Long Strap Dress Navy",
           -0.0226903,
           109.3447488
          ],
          [
           5,
           "Jam Tangan Wanita JT 8151",
           3.5896654,
           98.6738261
          ],
          [
           5,
           "Arabian Voile (Hijab Voal) | MINIMSLM",
           -7.8012646,
           110.3646857
          ],
          [
           5,
           "Breakside Polo Shirt Gavriel - Darkgrey Polo Shirt Pria",
           -6.9215529,
           107.6110212
          ],
          [
           4,
           "Baju Kaos Roblox anak Laki-laki cowok",
           -6.1754049,
           106.827168
          ],
          [
           3,
           "AMOENE [MADE] Long Strap Dress Navy",
           0.9069861,
           108.9889657
          ],
          [
           3,
           "CHARLOTTE 01 28 MM",
           -7.9771308,
           112.6340265
          ],
          [
           2,
           "Geoff Kids - Ethan Kids Black Gum",
           -7.4770747,
           110.2182164
          ],
          [
           2,
           "Jam Tangan Pria Kulit",
           -8.6524973,
           115.2191175
          ],
          [
           2,
           "Voal Motif Printing Sublim Segiempat Premium",
           -5.1342962,
           119.4124282
          ],
          [
           2,
           "Atasan Knit Wanita",
           -6.2838694,
           106.8048297
          ],
          [
           2,
           "Point One NINDY Khaki Tunik Dress",
           0.3440181,
           109.1019761
          ],
          [
           2,
           "Compass Velocity Black",
           -6.2349858,
           106.9945444
          ],
          [
           2,
           "Baju Kaos Roblox anak Laki-laki cowok",
           -3.3187496,
           114.5925828
          ],
          [
           1,
           "Jam Tangan Anak Original Mason 7026 Digital Strap Rubber",
           -7.5692489,
           110.828448
          ],
          [
           1,
           "Hosofshopaholic - Darel Skirt",
           1.8231285,
           98.2797677
          ],
          [
           1,
           "Lafiye Skiv Rou Scarf",
           -10.1632209,
           123.6017755
          ],
          [
           1,
           "URBAN&CO BASIC Sandal Wanita Sendal Teplek Casual - Demi",
           -2.9888243,
           104.7568507
          ],
          [
           1,
           "ECINOS - Philia Oversized Linen Shirt",
           -0.270885,
           103.3284566
          ],
          [
           1,
           "Celana Pendek Anak Polos fashion Santai",
           -6.3227016,
           106.7085737
          ],
          [
           1,
           "Lafiye Skiv Rou Scarf",
           1.4900578,
           124.8408708
          ],
          [
           1,
           "Atasan Knit Wanita",
           -6.40719,
           106.8158371
          ],
          [
           1,
           "This Is April Rok Midi Crochet Wanita",
           -6.9903988,
           110.4229104
          ],
          [
           1,
           "Oversize tshirt Wanita",
           -6.18234,
           106.8428715
          ],
          [
           1,
           "Structured Ball Cap Cream",
           -7.2462836,
           112.7377674
          ],
          [
           1,
           "Baju Atasan Lengan Pendek Wanita",
           -6.161569,
           106.7438905
          ],
          [
           1,
           "Hosofshopaholic - Darel Skirt",
           0.1927001,
           111.5598118
          ]
         ],
         "geo": "geo",
         "hovertemplate": "<b>%{hovertext}</b><br><br>transaction_count=%{customdata[0]}<br>most_bought_product=%{customdata[1]}<extra></extra>",
         "hovertext": [
          "Pontianak",
          "Medan",
          "Yogyakarta",
          "Bandung",
          "Jakarta",
          "Singkawang",
          "Malang",
          "Magelang",
          "Denpasar",
          "Makassar",
          "Jakarta Selatan",
          "Mempawah",
          "Bekasi",
          "Banjarmasin",
          "Solo",
          "Tapanuli Tengah",
          "Kupang",
          "Palembang",
          "Indragiri Hilir",
          "Tangerang Selatan",
          "Manado",
          "Depok",
          "Semarang",
          "Jakarta Pusat",
          "Surabaya",
          "Jakarta Barat",
          "Sintang"
         ],
         "lat": {
          "bdata": "Mee+QSA8l799qUR+orcMQCTFEbV+NB/AxiI8kKuvG8CMO5RXnbMYwJemrbYHBu0/Q6j3+ZToH8D9/ihFhugdwOR0SCAUTiHAhuhr8YSJFMAwV/WoriIZwAjaLn5kBNY/+xgYHqDwGMCX5xyXzIwKwMoiAy/pRh7AE30+yogr/T8hDJewkVMkwLbr77Yc6QfAg4b+CS5W0b+ud8lJckoZwDVlAtlG1/c/cAhVavagGcCX/V8aK/YbwLQCQ1a3uhjAIiqexDH8HMCQMAxYcqUYwIvMt5llqsg/",
          "dtype": "f8"
         },
         "legendgroup": "",
         "lon": {
          "bdata": "dVVFXRBWW0A9rIH3H6tYQGi0sAJXl1tAacqp+BrnWkAOEw1S8LRaQGiXyjZLP1tACJPi45MoXEDbXOtB941bQM0eaAUGzlxArrw/OWXaXUBeFm5UgrNaQFCew8aGRltA4BqOnaa/WkAEi2jg7KVcQPGbwkoFtVtAiX7ItueRWEAuAmN9g+ZeQBod6z1wMFpA8cnUbgXVWUCRE4FFWa1aQFSKwtPQNV9AQ9fPrDa0WkDaSMj2EJtbQMDOTZvxtVpAhMPBlDcvXECHU+bmm69aQI463/TT41tA",
          "dtype": "f8"
         },
         "marker": {
          "color": "red",
          "size": {
           "bdata": "OgUFBQQDAwICAgICAgIBAQEBAQEBAQEBAQEB",
           "dtype": "i1"
          },
          "sizemode": "area",
          "sizeref": 0.145,
          "symbol": "circle"
         },
         "mode": "markers",
         "name": "",
         "showlegend": false,
         "type": "scattergeo"
        }
       ],
       "layout": {
        "geo": {
         "center": {},
         "countrycolor": "Black",
         "domain": {
          "x": [
           0,
           1
          ],
          "y": [
           0,
           1
          ]
         },
         "lataxis": {
          "range": [
           -11,
           6
          ]
         },
         "lonaxis": {
          "range": [
           95,
           141
          ]
         },
         "projection": {
          "type": "mercator"
         },
         "showcountries": true,
         "visible": true
        },
        "legend": {
         "itemsizing": "constant",
         "title": {
          "text": "Jumlah Transaksi"
         },
         "tracegroupgap": 0
        },
        "margin": {
         "b": 0,
         "l": 0,
         "r": 0,
         "t": 30
        },
        "template": {
         "data": {
          "bar": [
           {
            "error_x": {
             "color": "#2a3f5f"
            },
            "error_y": {
             "color": "#2a3f5f"
            },
            "marker": {
             "line": {
              "color": "#E5ECF6",
              "width": 0.5
             },
             "pattern": {
              "fillmode": "overlay",
              "size": 10,
              "solidity": 0.2
             }
            },
            "type": "bar"
           }
          ],
          "barpolar": [
           {
            "marker": {
             "line": {
              "color": "#E5ECF6",
              "width": 0.5
             },
             "pattern": {
              "fillmode": "overlay",
              "size": 10,
              "solidity": 0.2
             }
            },
            "type": "barpolar"
           }
          ],
          "carpet": [
           {
            "aaxis": {
             "endlinecolor": "#2a3f5f",
             "gridcolor": "white",
             "linecolor": "white",
             "minorgridcolor": "white",
             "startlinecolor": "#2a3f5f"
            },
            "baxis": {
             "endlinecolor": "#2a3f5f",
             "gridcolor": "white",
             "linecolor": "white",
             "minorgridcolor": "white",
             "startlinecolor": "#2a3f5f"
            },
            "type": "carpet"
           }
          ],
          "choropleth": [
           {
            "colorbar": {
             "outlinewidth": 0,
             "ticks": ""
            },
            "type": "choropleth"
           }
          ],
          "contour": [
           {
            "colorbar": {
             "outlinewidth": 0,
             "ticks": ""
            },
            "colorscale": [
             [
              0,
              "#0d0887"
             ],
             [
              0.1111111111111111,
              "#46039f"
             ],
             [
              0.2222222222222222,
              "#7201a8"
             ],
             [
              0.3333333333333333,
              "#9c179e"
             ],
             [
              0.4444444444444444,
              "#bd3786"
             ],
             [
              0.5555555555555556,
              "#d8576b"
             ],
             [
              0.6666666666666666,
              "#ed7953"
             ],
             [
              0.7777777777777778,
              "#fb9f3a"
             ],
             [
              0.8888888888888888,
              "#fdca26"
             ],
             [
              1,
              "#f0f921"
             ]
            ],
            "type": "contour"
           }
          ],
          "contourcarpet": [
           {
            "colorbar": {
             "outlinewidth": 0,
             "ticks": ""
            },
            "type": "contourcarpet"
           }
          ],
          "heatmap": [
           {
            "colorbar": {
             "outlinewidth": 0,
             "ticks": ""
            },
            "colorscale": [
             [
              0,
              "#0d0887"
             ],
             [
              0.1111111111111111,
              "#46039f"
             ],
             [
              0.2222222222222222,
              "#7201a8"
             ],
             [
              0.3333333333333333,
              "#9c179e"
             ],
             [
              0.4444444444444444,
              "#bd3786"
             ],
             [
              0.5555555555555556,
              "#d8576b"
             ],
             [
              0.6666666666666666,
              "#ed7953"
             ],
             [
              0.7777777777777778,
              "#fb9f3a"
             ],
             [
              0.8888888888888888,
              "#fdca26"
             ],
             [
              1,
              "#f0f921"
             ]
            ],
            "type": "heatmap"
           }
          ],
          "histogram": [
           {
            "marker": {
             "pattern": {
              "fillmode": "overlay",
              "size": 10,
              "solidity": 0.2
             }
            },
            "type": "histogram"
           }
          ],
          "histogram2d": [
           {
            "colorbar": {
             "outlinewidth": 0,
             "ticks": ""
            },
            "colorscale": [
             [
              0,
              "#0d0887"
             ],
             [
              0.1111111111111111,
              "#46039f"
             ],
             [
              0.2222222222222222,
              "#7201a8"
             ],
             [
              0.3333333333333333,
              "#9c179e"
             ],
             [
              0.4444444444444444,
              "#bd3786"
             ],
             [
              0.5555555555555556,
              "#d8576b"
             ],
             [
              0.6666666666666666,
              "#ed7953"
             ],
             [
              0.7777777777777778,
              "#fb9f3a"
             ],
             [
              0.8888888888888888,
              "#fdca26"
             ],
             [
              1,
              "#f0f921"
             ]
            ],
            "type": "histogram2d"
           }
          ],
          "histogram2dcontour": [
           {
            "colorbar": {
             "outlinewidth": 0,
             "ticks": ""
            },
            "colorscale": [
             [
              0,
              "#0d0887"
             ],
             [
              0.1111111111111111,
              "#46039f"
             ],
             [
              0.2222222222222222,
              "#7201a8"
             ],
             [
              0.3333333333333333,
              "#9c179e"
             ],
             [
              0.4444444444444444,
              "#bd3786"
             ],
             [
              0.5555555555555556,
              "#d8576b"
             ],
             [
              0.6666666666666666,
              "#ed7953"
             ],
             [
              0.7777777777777778,
              "#fb9f3a"
             ],
             [
              0.8888888888888888,
              "#fdca26"
             ],
             [
              1,
              "#f0f921"
             ]
            ],
            "type": "histogram2dcontour"
           }
          ],
          "mesh3d": [
           {
            "colorbar": {
             "outlinewidth": 0,
             "ticks": ""
            },
            "type": "mesh3d"
           }
          ],
          "parcoords": [
           {
            "line": {
             "colorbar": {
              "outlinewidth": 0,
              "ticks": ""
             }
            },
            "type": "parcoords"
           }
          ],
          "pie": [
           {
            "automargin": true,
            "type": "pie"
           }
          ],
          "scatter": [
           {
            "fillpattern": {
             "fillmode": "overlay",
             "size": 10,
             "solidity": 0.2
            },
            "type": "scatter"
           }
          ],
          "scatter3d": [
           {
            "line": {
             "colorbar": {
              "outlinewidth": 0,
              "ticks": ""
             }
            },
            "marker": {
             "colorbar": {
              "outlinewidth": 0,
              "ticks": ""
             }
            },
            "type": "scatter3d"
           }
          ],
          "scattercarpet": [
           {
            "marker": {
             "colorbar": {
              "outlinewidth": 0,
              "ticks": ""
             }
            },
            "type": "scattercarpet"
           }
          ],
          "scattergeo": [
           {
            "marker": {
             "colorbar": {
              "outlinewidth": 0,
              "ticks": ""
             }
            },
            "type": "scattergeo"
           }
          ],
          "scattergl": [
           {
            "marker": {
             "colorbar": {
              "outlinewidth": 0,
              "ticks": ""
             }
            },
            "type": "scattergl"
           }
          ],
          "scattermap": [
           {
            "marker": {
             "colorbar": {
              "outlinewidth": 0,
              "ticks": ""
             }
            },
            "type": "scattermap"
           }
          ],
          "scattermapbox": [
           {
            "marker": {
             "colorbar": {
              "outlinewidth": 0,
              "ticks": ""
             }
            },
            "type": "scattermapbox"
           }
          ],
          "scatterpolar": [
           {
            "marker": {
             "colorbar": {
              "outlinewidth": 0,
              "ticks": ""
             }
            },
            "type": "scatterpolar"
           }
          ],
          "scatterpolargl": [
           {
            "marker": {
             "colorbar": {
              "outlinewidth": 0,
              "ticks": ""
             }
            },
            "type": "scatterpolargl"
           }
          ],
          "scatterternary": [
           {
            "marker": {
             "colorbar": {
              "outlinewidth": 0,
              "ticks": ""
             }
            },
            "type": "scatterternary"
           }
          ],
          "surface": [
           {
            "colorbar": {
             "outlinewidth": 0,
             "ticks": ""
            },
            "colorscale": [
             [
              0,
              "#0d0887"
             ],
             [
              0.1111111111111111,
              "#46039f"
             ],
             [
              0.2222222222222222,
              "#7201a8"
             ],
             [
              0.3333333333333333,
              "#9c179e"
             ],
             [
              0.4444444444444444,
              "#bd3786"
             ],
             [
              0.5555555555555556,
              "#d8576b"
             ],
             [
              0.6666666666666666,
              "#ed7953"
             ],
             [
              0.7777777777777778,
              "#fb9f3a"
             ],
             [
              0.8888888888888888,
              "#fdca26"
             ],
             [
              1,
              "#f0f921"
             ]
            ],
            "type": "surface"
           }
          ],
          "table": [
           {
            "cells": {
             "fill": {
              "color": "#EBF0F8"
             },
             "line": {
              "color": "white"
             }
            },
            "header": {
             "fill": {
              "color": "#C8D4E3"
             },
             "line": {
              "color": "white"
             }
            },
            "type": "table"
           }
          ]
         },
         "layout": {
          "annotationdefaults": {
           "arrowcolor": "#2a3f5f",
           "arrowhead": 0,
           "arrowwidth": 1
          },
          "autotypenumbers": "strict",
          "coloraxis": {
           "colorbar": {
            "outlinewidth": 0,
            "ticks": ""
           }
          },
          "colorscale": {
           "diverging": [
            [
             0,
             "#8e0152"
            ],
            [
             0.1,
             "#c51b7d"
            ],
            [
             0.2,
             "#de77ae"
            ],
            [
             0.3,
             "#f1b6da"
            ],
            [
             0.4,
             "#fde0ef"
            ],
            [
             0.5,
             "#f7f7f7"
            ],
            [
             0.6,
             "#e6f5d0"
            ],
            [
             0.7,
             "#b8e186"
            ],
            [
             0.8,
             "#7fbc41"
            ],
            [
             0.9,
             "#4d9221"
            ],
            [
             1,
             "#276419"
            ]
           ],
           "sequential": [
            [
             0,
             "#0d0887"
            ],
            [
             0.1111111111111111,
             "#46039f"
            ],
            [
             0.2222222222222222,
             "#7201a8"
            ],
            [
             0.3333333333333333,
             "#9c179e"
            ],
            [
             0.4444444444444444,
             "#bd3786"
            ],
            [
             0.5555555555555556,
             "#d8576b"
            ],
            [
             0.6666666666666666,
             "#ed7953"
            ],
            [
             0.7777777777777778,
             "#fb9f3a"
            ],
            [
             0.8888888888888888,
             "#fdca26"
            ],
            [
             1,
             "#f0f921"
            ]
           ],
           "sequentialminus": [
            [
             0,
             "#0d0887"
            ],
            [
             0.1111111111111111,
             "#46039f"
            ],
            [
             0.2222222222222222,
             "#7201a8"
            ],
            [
             0.3333333333333333,
             "#9c179e"
            ],
            [
             0.4444444444444444,
             "#bd3786"
            ],
            [
             0.5555555555555556,
             "#d8576b"
            ],
            [
             0.6666666666666666,
             "#ed7953"
            ],
            [
             0.7777777777777778,
             "#fb9f3a"
            ],
            [
             0.8888888888888888,
             "#fdca26"
            ],
            [
             1,
             "#f0f921"
            ]
           ]
          },
          "colorway": [
           "#636efa",
           "#EF553B",
           "#00cc96",
           "#ab63fa",
           "#FFA15A",
           "#19d3f3",
           "#FF6692",
           "#B6E880",
           "#FF97FF",
           "#FECB52"
          ],
          "font": {
           "color": "#2a3f5f"
          },
          "geo": {
           "bgcolor": "white",
           "lakecolor": "white",
           "landcolor": "#E5ECF6",
           "showlakes": true,
           "showland": true,
           "subunitcolor": "white"
          },
          "hoverlabel": {
           "align": "left"
          },
          "hovermode": "closest",
          "mapbox": {
           "style": "light"
          },
          "paper_bgcolor": "white",
          "plot_bgcolor": "#E5ECF6",
          "polar": {
           "angularaxis": {
            "gridcolor": "white",
            "linecolor": "white",
            "ticks": ""
           },
           "bgcolor": "#E5ECF6",
           "radialaxis": {
            "gridcolor": "white",
            "linecolor": "white",
            "ticks": ""
           }
          },
          "scene": {
           "xaxis": {
            "backgroundcolor": "#E5ECF6",
            "gridcolor": "white",
            "gridwidth": 2,
            "linecolor": "white",
            "showbackground": true,
            "ticks": "",
            "zerolinecolor": "white"
           },
           "yaxis": {
            "backgroundcolor": "#E5ECF6",
            "gridcolor": "white",
            "gridwidth": 2,
            "linecolor": "white",
            "showbackground": true,
            "ticks": "",
            "zerolinecolor": "white"
           },
           "zaxis": {
            "backgroundcolor": "#E5ECF6",
            "gridcolor": "white",
            "gridwidth": 2,
            "linecolor": "white",
            "showbackground": true,
            "ticks": "",
            "zerolinecolor": "white"
           }
          },
          "shapedefaults": {
           "line": {
            "color": "#2a3f5f"
           }
          },
          "ternary": {
           "aaxis": {
            "gridcolor": "white",
            "linecolor": "white",
            "ticks": ""
           },
           "baxis": {
            "gridcolor": "white",
            "linecolor": "white",
            "ticks": ""
           },
           "bgcolor": "#E5ECF6",
           "caxis": {
            "gridcolor": "white",
            "linecolor": "white",
            "ticks": ""
           }
          },
          "title": {
           "x": 0.05
          },
          "xaxis": {
           "automargin": true,
           "gridcolor": "white",
           "linecolor": "white",
           "ticks": "",
           "title": {
            "standoff": 15
           },
           "zerolinecolor": "white",
           "zerolinewidth": 2
          },
          "yaxis": {
           "automargin": true,
           "gridcolor": "white",
           "linecolor": "white",
           "ticks": "",
           "title": {
            "standoff": 15
           },
           "zerolinecolor": "white",
           "zerolinewidth": 2
          }
         }
        },
        "title": {
         "text": "Sebaran Transaksi per Kota"
        }
       }
      }
     },
     "metadata": {},
     "output_type": "display_data"
    }
   ],
   "source": [
    "# === PLOT ===\n",
    "fig = px.scatter_geo(\n",
    "    city_sales,\n",
    "    lat='latitude',\n",
    "    lon='longitude',\n",
    "    size='transaction_count',\n",
    "    color_discrete_sequence=['red'],  # Titik warna merah\n",
    "    hover_name='city',\n",
    "    hover_data={\n",
    "        'transaction_count': True,\n",
    "        'most_bought_product': True,\n",
    "        'latitude': False,\n",
    "        'longitude': False\n",
    "    },\n",
    "    title='Sebaran Transaksi per Kota',\n",
    "    projection='mercator'\n",
    ")\n",
    "\n",
    "fig.update_geos(\n",
    "    visible=True,\n",
    "    lataxis_range=[-11, 6],\n",
    "    lonaxis_range=[95, 141],\n",
    "    showcountries=True,\n",
    "    countrycolor=\"Black\"\n",
    ")\n",
    "\n",
    "fig.update_layout(\n",
    "    margin={\"r\": 0, \"t\": 30, \"l\": 0, \"b\": 0},\n",
    "    legend_title_text='Jumlah Transaksi'\n",
    ")\n",
    "\n",
    "fig.show()"
   ]
  },
  {
   "cell_type": "markdown",
   "id": "4e0ed021",
   "metadata": {},
   "source": [
    "## Model Asosiasi"
   ]
  },
  {
   "cell_type": "markdown",
   "id": "a604a1df",
   "metadata": {},
   "source": [
    "### Test Inferensi"
   ]
  },
  {
   "cell_type": "code",
   "execution_count": 59,
   "id": "ace72ae9",
   "metadata": {},
   "outputs": [
    {
     "data": {
      "text/html": [
       "<div>\n",
       "<style scoped>\n",
       "    .dataframe tbody tr th:only-of-type {\n",
       "        vertical-align: middle;\n",
       "    }\n",
       "\n",
       "    .dataframe tbody tr th {\n",
       "        vertical-align: top;\n",
       "    }\n",
       "\n",
       "    .dataframe thead th {\n",
       "        text-align: right;\n",
       "    }\n",
       "</style>\n",
       "<table border=\"1\" class=\"dataframe\">\n",
       "  <thead>\n",
       "    <tr style=\"text-align: right;\">\n",
       "      <th></th>\n",
       "      <th>antecedents</th>\n",
       "      <th>consequents</th>\n",
       "      <th>antecedent support</th>\n",
       "      <th>consequent support</th>\n",
       "      <th>support</th>\n",
       "      <th>confidence</th>\n",
       "      <th>lift</th>\n",
       "      <th>representativity</th>\n",
       "      <th>leverage</th>\n",
       "      <th>conviction</th>\n",
       "      <th>zhangs_metric</th>\n",
       "      <th>jaccard</th>\n",
       "      <th>certainty</th>\n",
       "      <th>kulczynski</th>\n",
       "    </tr>\n",
       "  </thead>\n",
       "  <tbody>\n",
       "    <tr>\n",
       "      <th>12</th>\n",
       "      <td>(SHOEBALI Heels 021-218)</td>\n",
       "      <td>(Sepatu wanita sneakers)</td>\n",
       "      <td>0.036364</td>\n",
       "      <td>0.027273</td>\n",
       "      <td>0.018182</td>\n",
       "      <td>0.500000</td>\n",
       "      <td>18.333333</td>\n",
       "      <td>1.0</td>\n",
       "      <td>0.017190</td>\n",
       "      <td>1.945455</td>\n",
       "      <td>0.981132</td>\n",
       "      <td>0.400000</td>\n",
       "      <td>0.485981</td>\n",
       "      <td>0.583333</td>\n",
       "    </tr>\n",
       "    <tr>\n",
       "      <th>13</th>\n",
       "      <td>(Sepatu wanita sneakers)</td>\n",
       "      <td>(SHOEBALI Heels 021-218)</td>\n",
       "      <td>0.027273</td>\n",
       "      <td>0.036364</td>\n",
       "      <td>0.018182</td>\n",
       "      <td>0.666667</td>\n",
       "      <td>18.333333</td>\n",
       "      <td>1.0</td>\n",
       "      <td>0.017190</td>\n",
       "      <td>2.890909</td>\n",
       "      <td>0.971963</td>\n",
       "      <td>0.400000</td>\n",
       "      <td>0.654088</td>\n",
       "      <td>0.583333</td>\n",
       "    </tr>\n",
       "    <tr>\n",
       "      <th>14</th>\n",
       "      <td>(SHOEBALI Heels 021-218)</td>\n",
       "      <td>(Setelan Jas Dan Celana Pria Formal)</td>\n",
       "      <td>0.036364</td>\n",
       "      <td>0.027273</td>\n",
       "      <td>0.018182</td>\n",
       "      <td>0.500000</td>\n",
       "      <td>18.333333</td>\n",
       "      <td>1.0</td>\n",
       "      <td>0.017190</td>\n",
       "      <td>1.945455</td>\n",
       "      <td>0.981132</td>\n",
       "      <td>0.400000</td>\n",
       "      <td>0.485981</td>\n",
       "      <td>0.583333</td>\n",
       "    </tr>\n",
       "    <tr>\n",
       "      <th>17</th>\n",
       "      <td>(Sepatu wanita sneakers)</td>\n",
       "      <td>(Setelan Jas Dan Celana Pria Formal)</td>\n",
       "      <td>0.027273</td>\n",
       "      <td>0.027273</td>\n",
       "      <td>0.018182</td>\n",
       "      <td>0.666667</td>\n",
       "      <td>24.444444</td>\n",
       "      <td>1.0</td>\n",
       "      <td>0.017438</td>\n",
       "      <td>2.918182</td>\n",
       "      <td>0.985981</td>\n",
       "      <td>0.500000</td>\n",
       "      <td>0.657321</td>\n",
       "      <td>0.666667</td>\n",
       "    </tr>\n",
       "    <tr>\n",
       "      <th>23</th>\n",
       "      <td>(SHOEBALI Heels 021-218, Sepatu wanita sneakers)</td>\n",
       "      <td>(Setelan Jas Dan Celana Pria Formal)</td>\n",
       "      <td>0.018182</td>\n",
       "      <td>0.027273</td>\n",
       "      <td>0.018182</td>\n",
       "      <td>1.000000</td>\n",
       "      <td>36.666667</td>\n",
       "      <td>1.0</td>\n",
       "      <td>0.017686</td>\n",
       "      <td>inf</td>\n",
       "      <td>0.990741</td>\n",
       "      <td>0.666667</td>\n",
       "      <td>1.000000</td>\n",
       "      <td>0.833333</td>\n",
       "    </tr>\n",
       "  </tbody>\n",
       "</table>\n",
       "</div>"
      ],
      "text/plain": [
       "                                         antecedents  \\\n",
       "12                          (SHOEBALI Heels 021-218)   \n",
       "13                          (Sepatu wanita sneakers)   \n",
       "14                          (SHOEBALI Heels 021-218)   \n",
       "17                          (Sepatu wanita sneakers)   \n",
       "23  (SHOEBALI Heels 021-218, Sepatu wanita sneakers)   \n",
       "\n",
       "                             consequents  antecedent support  \\\n",
       "12              (Sepatu wanita sneakers)            0.036364   \n",
       "13              (SHOEBALI Heels 021-218)            0.027273   \n",
       "14  (Setelan Jas Dan Celana Pria Formal)            0.036364   \n",
       "17  (Setelan Jas Dan Celana Pria Formal)            0.027273   \n",
       "23  (Setelan Jas Dan Celana Pria Formal)            0.018182   \n",
       "\n",
       "    consequent support   support  confidence       lift  representativity  \\\n",
       "12            0.027273  0.018182    0.500000  18.333333               1.0   \n",
       "13            0.036364  0.018182    0.666667  18.333333               1.0   \n",
       "14            0.027273  0.018182    0.500000  18.333333               1.0   \n",
       "17            0.027273  0.018182    0.666667  24.444444               1.0   \n",
       "23            0.027273  0.018182    1.000000  36.666667               1.0   \n",
       "\n",
       "    leverage  conviction  zhangs_metric   jaccard  certainty  kulczynski  \n",
       "12  0.017190    1.945455       0.981132  0.400000   0.485981    0.583333  \n",
       "13  0.017190    2.890909       0.971963  0.400000   0.654088    0.583333  \n",
       "14  0.017190    1.945455       0.981132  0.400000   0.485981    0.583333  \n",
       "17  0.017438    2.918182       0.985981  0.500000   0.657321    0.666667  \n",
       "23  0.017686         inf       0.990741  0.666667   1.000000    0.833333  "
      ]
     },
     "execution_count": 59,
     "metadata": {},
     "output_type": "execute_result"
    }
   ],
   "source": [
    "product_list = sorted(set(rules[\"antecedents\"].astype(str).apply(eval).explode()))  # Mendapatkan daftar produk unik\n",
    "selected_products = ['SHOEBALI Heels 021-218', 'Sepatu wanita sneakers']\n",
    "\n",
    "# # **Inferensi Aturan Asosiasi**\n",
    "new_transaction = set(selected_products)\n",
    "matched_rules = rules[rules[\"antecedents\"].astype(str).apply(lambda x: set(eval(x)).issubset(new_transaction))]\n",
    "\n",
    "# product_list\n",
    "matched_rules.head()"
   ]
  },
  {
   "cell_type": "code",
   "execution_count": 61,
   "id": "7875b078",
   "metadata": {},
   "outputs": [
    {
     "data": {
      "text/html": [
       "<div>\n",
       "<style scoped>\n",
       "    .dataframe tbody tr th:only-of-type {\n",
       "        vertical-align: middle;\n",
       "    }\n",
       "\n",
       "    .dataframe tbody tr th {\n",
       "        vertical-align: top;\n",
       "    }\n",
       "\n",
       "    .dataframe thead th {\n",
       "        text-align: right;\n",
       "    }\n",
       "</style>\n",
       "<table border=\"1\" class=\"dataframe\">\n",
       "  <thead>\n",
       "    <tr style=\"text-align: right;\">\n",
       "      <th></th>\n",
       "      <th>antecedents</th>\n",
       "      <th>consequents</th>\n",
       "      <th>antecedent support</th>\n",
       "      <th>consequent support</th>\n",
       "      <th>support</th>\n",
       "      <th>confidence</th>\n",
       "      <th>lift</th>\n",
       "      <th>representativity</th>\n",
       "      <th>leverage</th>\n",
       "      <th>conviction</th>\n",
       "      <th>zhangs_metric</th>\n",
       "      <th>jaccard</th>\n",
       "      <th>certainty</th>\n",
       "      <th>kulczynski</th>\n",
       "    </tr>\n",
       "  </thead>\n",
       "  <tbody>\n",
       "    <tr>\n",
       "      <th>12</th>\n",
       "      <td>[\"SHOEBALI Heels 021-218\"]</td>\n",
       "      <td>[\"Sepatu wanita sneakers\"]</td>\n",
       "      <td>0.036364</td>\n",
       "      <td>0.027273</td>\n",
       "      <td>0.018182</td>\n",
       "      <td>0.500000</td>\n",
       "      <td>18.333333</td>\n",
       "      <td>1.0</td>\n",
       "      <td>0.017190</td>\n",
       "      <td>1.945455</td>\n",
       "      <td>0.981132</td>\n",
       "      <td>0.400000</td>\n",
       "      <td>0.485981</td>\n",
       "      <td>0.583333</td>\n",
       "    </tr>\n",
       "    <tr>\n",
       "      <th>13</th>\n",
       "      <td>[\"Sepatu wanita sneakers\"]</td>\n",
       "      <td>[\"SHOEBALI Heels 021-218\"]</td>\n",
       "      <td>0.027273</td>\n",
       "      <td>0.036364</td>\n",
       "      <td>0.018182</td>\n",
       "      <td>0.666667</td>\n",
       "      <td>18.333333</td>\n",
       "      <td>1.0</td>\n",
       "      <td>0.017190</td>\n",
       "      <td>2.890909</td>\n",
       "      <td>0.971963</td>\n",
       "      <td>0.400000</td>\n",
       "      <td>0.654088</td>\n",
       "      <td>0.583333</td>\n",
       "    </tr>\n",
       "    <tr>\n",
       "      <th>14</th>\n",
       "      <td>[\"SHOEBALI Heels 021-218\"]</td>\n",
       "      <td>[\"Setelan Jas Dan Celana Pria Formal\"]</td>\n",
       "      <td>0.036364</td>\n",
       "      <td>0.027273</td>\n",
       "      <td>0.018182</td>\n",
       "      <td>0.500000</td>\n",
       "      <td>18.333333</td>\n",
       "      <td>1.0</td>\n",
       "      <td>0.017190</td>\n",
       "      <td>1.945455</td>\n",
       "      <td>0.981132</td>\n",
       "      <td>0.400000</td>\n",
       "      <td>0.485981</td>\n",
       "      <td>0.583333</td>\n",
       "    </tr>\n",
       "    <tr>\n",
       "      <th>17</th>\n",
       "      <td>[\"Sepatu wanita sneakers\"]</td>\n",
       "      <td>[\"Setelan Jas Dan Celana Pria Formal\"]</td>\n",
       "      <td>0.027273</td>\n",
       "      <td>0.027273</td>\n",
       "      <td>0.018182</td>\n",
       "      <td>0.666667</td>\n",
       "      <td>24.444444</td>\n",
       "      <td>1.0</td>\n",
       "      <td>0.017438</td>\n",
       "      <td>2.918182</td>\n",
       "      <td>0.985981</td>\n",
       "      <td>0.500000</td>\n",
       "      <td>0.657321</td>\n",
       "      <td>0.666667</td>\n",
       "    </tr>\n",
       "    <tr>\n",
       "      <th>23</th>\n",
       "      <td>[\"SHOEBALI Heels 021-218\", \"Sepatu wanita snea...</td>\n",
       "      <td>[\"Setelan Jas Dan Celana Pria Formal\"]</td>\n",
       "      <td>0.018182</td>\n",
       "      <td>0.027273</td>\n",
       "      <td>0.018182</td>\n",
       "      <td>1.000000</td>\n",
       "      <td>36.666667</td>\n",
       "      <td>1.0</td>\n",
       "      <td>0.017686</td>\n",
       "      <td>inf</td>\n",
       "      <td>0.990741</td>\n",
       "      <td>0.666667</td>\n",
       "      <td>1.000000</td>\n",
       "      <td>0.833333</td>\n",
       "    </tr>\n",
       "  </tbody>\n",
       "</table>\n",
       "</div>"
      ],
      "text/plain": [
       "                                          antecedents  \\\n",
       "12                         [\"SHOEBALI Heels 021-218\"]   \n",
       "13                         [\"Sepatu wanita sneakers\"]   \n",
       "14                         [\"SHOEBALI Heels 021-218\"]   \n",
       "17                         [\"Sepatu wanita sneakers\"]   \n",
       "23  [\"SHOEBALI Heels 021-218\", \"Sepatu wanita snea...   \n",
       "\n",
       "                               consequents  antecedent support  \\\n",
       "12              [\"Sepatu wanita sneakers\"]            0.036364   \n",
       "13              [\"SHOEBALI Heels 021-218\"]            0.027273   \n",
       "14  [\"Setelan Jas Dan Celana Pria Formal\"]            0.036364   \n",
       "17  [\"Setelan Jas Dan Celana Pria Formal\"]            0.027273   \n",
       "23  [\"Setelan Jas Dan Celana Pria Formal\"]            0.018182   \n",
       "\n",
       "    consequent support   support  confidence       lift  representativity  \\\n",
       "12            0.027273  0.018182    0.500000  18.333333               1.0   \n",
       "13            0.036364  0.018182    0.666667  18.333333               1.0   \n",
       "14            0.027273  0.018182    0.500000  18.333333               1.0   \n",
       "17            0.027273  0.018182    0.666667  24.444444               1.0   \n",
       "23            0.027273  0.018182    1.000000  36.666667               1.0   \n",
       "\n",
       "    leverage  conviction  zhangs_metric   jaccard  certainty  kulczynski  \n",
       "12  0.017190    1.945455       0.981132  0.400000   0.485981    0.583333  \n",
       "13  0.017190    2.890909       0.971963  0.400000   0.654088    0.583333  \n",
       "14  0.017190    1.945455       0.981132  0.400000   0.485981    0.583333  \n",
       "17  0.017438    2.918182       0.985981  0.500000   0.657321    0.666667  \n",
       "23  0.017686         inf       0.990741  0.666667   1.000000    0.833333  "
      ]
     },
     "execution_count": 61,
     "metadata": {},
     "output_type": "execute_result"
    }
   ],
   "source": [
    "matched_rules_v2 = matched_rules.copy()\n",
    "import re # regex\n",
    "# Fungsi regex untuk menghapus 'frozenset({...})' dan mengonversi ke format list\n",
    "def clean_frozenset(text):\n",
    "    cleaned_text = re.sub(r\"frozenset\\(\\{(.*?)\\}\\)\", r\"[\\1]\", text)  # Ubah ke list format string\n",
    "    return cleaned_text.replace(\"'\", '\"')  # Ganti kutip tunggal ke kutip ganda\n",
    "\n",
    "matched_rules_v2[\"antecedents\"] = matched_rules_v2[\"antecedents\"].apply(lambda x: clean_frozenset(str(x)))\n",
    "matched_rules_v2[\"consequents\"] = matched_rules_v2[\"consequents\"].apply(lambda x: clean_frozenset(str(x)))\n",
    "\n",
    "matched_rules_v2.head()"
   ]
  },
  {
   "cell_type": "markdown",
   "id": "90ddbf8b",
   "metadata": {},
   "source": [
    "- Jika aturan ditemukan, produk dalam \"consequents\" bisa direkomendasikan kepada pengguna.\n",
    "- **Confidence** menunjukkan seberapa besar peluang bahwa orang yang membeli antecedent juga akan membeli consequent.\n",
    "- **Lift** menunjukkan seberapa kuat hubungan antara antecedent dan consequent dibandingkan pembelian acak."
   ]
  },
  {
   "cell_type": "markdown",
   "id": "0ca7db82",
   "metadata": {},
   "source": [
    "### Visualisasi Model Asosiasi"
   ]
  },
  {
   "cell_type": "code",
   "execution_count": 40,
   "id": "d623f7c7",
   "metadata": {},
   "outputs": [
    {
     "data": {
      "image/png": "[encoded data removed]",
      "text/plain": [
       "<Figure size 1200x600 with 1 Axes>"
      ]
     },
     "metadata": {},
     "output_type": "display_data"
    }
   ],
   "source": [
    "# Jika aturan tidak kosong, lanjut ke visualisasi\n",
    "if not rules.empty:\n",
    "    # Ambil top 10 aturan berdasarkan lift\n",
    "    top_rules = rules.sort_values(by=\"confidence\", ascending=False).head(10).copy()\n",
    "    top_rules['antecedents_str'] = top_rules['antecedents'].apply(lambda x: ', '.join(list(x)))\n",
    "    top_rules['consequents_str'] = top_rules['consequents'].apply(lambda x: ', '.join(list(x)))\n",
    "\n",
    "    # Buat visualisasi: barplot lift dari 10 aturan teratas\n",
    "    plt.figure(figsize=(12, 6))\n",
    "    sns.barplot(\n",
    "    x=\"lift\",\n",
    "    y=\"rule_label\",\n",
    "    hue=\"rule_label\",          # gunakan sebagai hue\n",
    "    data=top_rules.assign(rule_label=top_rules['antecedents_str'] + \" → \" + top_rules['consequents_str']),\n",
    "    palette=\"viridis\",\n",
    "    dodge=False,\n",
    "    legend=False\n",
    ")\n",
    "plt.title(\"Top 10 Aturan Asosiasi Berdasarkan Lift\")\n",
    "plt.xlabel(\"Lift\")\n",
    "plt.ylabel(\"Aturan (A → B)\")\n",
    "plt.tight_layout()\n",
    "plt.show()"
   ]
  },
  {
   "cell_type": "code",
   "execution_count": 42,
   "id": "e9ea2786",
   "metadata": {},
   "outputs": [
    {
     "data": {
      "image/png": "[encoded data removed]",
      "text/plain": [
       "<Figure size 1600x1000 with 1 Axes>"
      ]
     },
     "metadata": {},
     "output_type": "display_data"
    }
   ],
   "source": [
    "G = nx.from_pandas_edgelist(rules, 'antecedents', 'consequents')\n",
    "plt.figure(figsize=(16, 10))\n",
    "nx.draw(G, with_labels=True, node_size=3000, node_color='lightblue', font_size=10)\n",
    "plt.title('Association Rules Graph')\n",
    "plt.show()"
   ]
  },
  {
   "cell_type": "markdown",
   "id": "7d0a7fdb",
   "metadata": {},
   "source": [
    "# Deployment"
   ]
  },
  {
   "cell_type": "code",
   "execution_count": null,
   "id": "323c85b6",
   "metadata": {},
   "outputs": [],
   "source": [
    "# Dataset KPI\n",
    "\n",
    "# Dataset Spend Distribution Chart\n",
    "# df_spend.to_csv(\"spend_chart.csv\", index=False)\n",
    "\n",
    "\n",
    "# Dataset Bubble Chart\n",
    "# merge_bubble.to_csv('bubble_chart.csv', index=False)\n",
    "\n",
    "# Dataset Donut Chart\n",
    "# df_page.to_csv(\"page.csv\", index=False)\n",
    "\n",
    "# Dataset Line Chart\n",
    "# df_line.to_csv('line_chart.csv', index=False)\n",
    "\n",
    "# Dataset Interact Chart\n",
    "# df_interact.to_csv('interact_chart.csv', index=False)\n",
    "\n",
    "\n",
    "# Dataset Stacked Bar Chart\n",
    "# stacked_chart.to_csv('stacked_chart.csv', index=False)\n",
    "\n",
    "\n",
    "# Dataset Geomap\n",
    "\n",
    "\n",
    "# Dataset Model Asosiasi\n",
    "# rules.to_csv('association_rules.csv', index=False)\n",
    "\n",
    "# Dataset Model Cluster\n",
    "\n",
    "\n",
    "# df = pd.read_csv(\"chart.csv\")\n",
    "# df"
   ]
  },
  {
   "cell_type": "code",
   "execution_count": null,
   "id": "828b9d50",
   "metadata": {},
   "outputs": [],
   "source": [
    "# Buat dictionary untuk menyimpan data\n",
    "# data_to_save = {\n",
    "#     \"ip_options\": ip_options,\n",
    "#     \"min_date\": str(min_date),  # Konversi datetime.date ke string agar bisa disimpan\n",
    "#     \"max_date\": str(max_date)   # Konversi datetime.date ke string\n",
    "# }\n",
    "\n",
    "# # Simpan sebagai JSON\n",
    "# with open(\"setup_filter.json\", \"w\") as f:\n",
    "#     json.dump(data_to_save, f, indent=4)"
   ]
  }
 ],
 "metadata": {
  "kernelspec": {
   "display_name": "mlp_env",
   "language": "python",
   "name": "python3"
  },
  "language_info": {
   "codemirror_mode": {
    "name": "ipython",
    "version": 3
   },
   "file_extension": ".py",
   "mimetype": "text/x-python",
   "name": "python",
   "nbconvert_exporter": "python",
   "pygments_lexer": "ipython3",
   "version": "3.12.9"
  }
 },
 "nbformat": 4,
 "nbformat_minor": 5
}
