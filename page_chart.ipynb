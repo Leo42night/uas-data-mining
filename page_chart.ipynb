{
 "cells": [
  {
   "cell_type": "code",
   "execution_count": 7,
   "id": "3422ae91",
   "metadata": {},
   "outputs": [
    {
     "data": {
      "text/html": [
       "<div>\n",
       "<style scoped>\n",
       "    .dataframe tbody tr th:only-of-type {\n",
       "        vertical-align: middle;\n",
       "    }\n",
       "\n",
       "    .dataframe tbody tr th {\n",
       "        vertical-align: top;\n",
       "    }\n",
       "\n",
       "    .dataframe thead th {\n",
       "        text-align: right;\n",
       "    }\n",
       "</style>\n",
       "<table border=\"1\" class=\"dataframe\">\n",
       "  <thead>\n",
       "    <tr style=\"text-align: right;\">\n",
       "      <th></th>\n",
       "      <th>id</th>\n",
       "      <th>order_id</th>\n",
       "      <th>meta_key</th>\n",
       "      <th>meta_value</th>\n",
       "    </tr>\n",
       "  </thead>\n",
       "  <tbody>\n",
       "    <tr>\n",
       "      <th>0</th>\n",
       "      <td>79</td>\n",
       "      <td>1036</td>\n",
       "      <td>is_vat_exempt</td>\n",
       "      <td>no</td>\n",
       "    </tr>\n",
       "    <tr>\n",
       "      <th>1</th>\n",
       "      <td>80</td>\n",
       "      <td>1036</td>\n",
       "      <td>_billing_address_index</td>\n",
       "      <td>Marlene mgreallyo@quantcast.com  Kota Pontiana...</td>\n",
       "    </tr>\n",
       "    <tr>\n",
       "      <th>2</th>\n",
       "      <td>81</td>\n",
       "      <td>1036</td>\n",
       "      <td>_shipping_address_index</td>\n",
       "      <td>Marlene mgreallyo@quantcast.com  Kota Pontiana...</td>\n",
       "    </tr>\n",
       "    <tr>\n",
       "      <th>3</th>\n",
       "      <td>82</td>\n",
       "      <td>1036</td>\n",
       "      <td>_wc_order_attribution_source_type</td>\n",
       "      <td>typein</td>\n",
       "    </tr>\n",
       "    <tr>\n",
       "      <th>4</th>\n",
       "      <td>83</td>\n",
       "      <td>1036</td>\n",
       "      <td>_wc_order_attribution_utm_source</td>\n",
       "      <td>(direct)</td>\n",
       "    </tr>\n",
       "  </tbody>\n",
       "</table>\n",
       "</div>"
      ],
      "text/plain": [
       "   id  order_id                           meta_key  \\\n",
       "0  79      1036                      is_vat_exempt   \n",
       "1  80      1036             _billing_address_index   \n",
       "2  81      1036            _shipping_address_index   \n",
       "3  82      1036  _wc_order_attribution_source_type   \n",
       "4  83      1036   _wc_order_attribution_utm_source   \n",
       "\n",
       "                                          meta_value  \n",
       "0                                                 no  \n",
       "1  Marlene mgreallyo@quantcast.com  Kota Pontiana...  \n",
       "2  Marlene mgreallyo@quantcast.com  Kota Pontiana...  \n",
       "3                                             typein  \n",
       "4                                           (direct)  "
      ]
     },
     "metadata": {},
     "output_type": "display_data"
    },
    {
     "data": {
      "text/plain": [
       "(1302, 4)"
      ]
     },
     "execution_count": 7,
     "metadata": {},
     "output_type": "execute_result"
    }
   ],
   "source": [
    "import pandas as pd\n",
    "import matplotlib.pyplot as plt\n",
    "\n",
    "order_meta = pd.read_csv(\"csv/order_meta.csv\", sep=\";\")\n",
    "\n",
    "display(order_meta.head())\n",
    "order_meta.shape"
   ]
  },
  {
   "cell_type": "code",
   "execution_count": 30,
   "id": "ec3124e8",
   "metadata": {},
   "outputs": [
    {
     "data": {
      "text/html": [
       "<div>\n",
       "<style scoped>\n",
       "    .dataframe tbody tr th:only-of-type {\n",
       "        vertical-align: middle;\n",
       "    }\n",
       "\n",
       "    .dataframe tbody tr th {\n",
       "        vertical-align: top;\n",
       "    }\n",
       "\n",
       "    .dataframe thead th {\n",
       "        text-align: right;\n",
       "    }\n",
       "</style>\n",
       "<table border=\"1\" class=\"dataframe\">\n",
       "  <thead>\n",
       "    <tr style=\"text-align: right;\">\n",
       "      <th></th>\n",
       "      <th>order_id</th>\n",
       "      <th>order_date</th>\n",
       "      <th>ip_address</th>\n",
       "    </tr>\n",
       "  </thead>\n",
       "  <tbody>\n",
       "    <tr>\n",
       "      <th>0</th>\n",
       "      <td>1036</td>\n",
       "      <td>2025-05-08 22:36:36</td>\n",
       "      <td>118.99.118.196</td>\n",
       "    </tr>\n",
       "    <tr>\n",
       "      <th>2</th>\n",
       "      <td>1037</td>\n",
       "      <td>2025-05-08 22:53:26</td>\n",
       "      <td>118.99.118.196</td>\n",
       "    </tr>\n",
       "    <tr>\n",
       "      <th>4</th>\n",
       "      <td>1038</td>\n",
       "      <td>2025-05-08 22:56:25</td>\n",
       "      <td>118.99.118.196</td>\n",
       "    </tr>\n",
       "    <tr>\n",
       "      <th>6</th>\n",
       "      <td>1039</td>\n",
       "      <td>2025-05-08 22:59:51</td>\n",
       "      <td>118.99.118.196</td>\n",
       "    </tr>\n",
       "    <tr>\n",
       "      <th>8</th>\n",
       "      <td>1040</td>\n",
       "      <td>2025-05-08 23:02:06</td>\n",
       "      <td>118.99.118.196</td>\n",
       "    </tr>\n",
       "  </tbody>\n",
       "</table>\n",
       "</div>"
      ],
      "text/plain": [
       "   order_id           order_date      ip_address\n",
       "0      1036  2025-05-08 22:36:36  118.99.118.196\n",
       "2      1037  2025-05-08 22:53:26  118.99.118.196\n",
       "4      1038  2025-05-08 22:56:25  118.99.118.196\n",
       "6      1039  2025-05-08 22:59:51  118.99.118.196\n",
       "8      1040  2025-05-08 23:02:06  118.99.118.196"
      ]
     },
     "metadata": {},
     "output_type": "display_data"
    },
    {
     "data": {
      "text/plain": [
       "(110, 3)"
      ]
     },
     "execution_count": 30,
     "metadata": {},
     "output_type": "execute_result"
    }
   ],
   "source": [
    "# Tambahkan ip address dan tanggal\n",
    "df_fact = pd.read_csv(\"csv/fact_sales_v1.csv\", sep=\";\")\n",
    "df_fact = df_fact[df_fact['order_item_type'] == 'line_item']\n",
    "df_fact = df_fact[[\"order_id\", \"order_date\", \"ip_address\"]]\n",
    "df_fact = df_fact.drop_duplicates()\n",
    "display(df_fact.head())\n",
    "df_fact.shape"
   ]
  },
  {
   "cell_type": "code",
   "execution_count": 32,
   "id": "90d88664",
   "metadata": {},
   "outputs": [
    {
     "data": {
      "text/html": [
       "<div>\n",
       "<style scoped>\n",
       "    .dataframe tbody tr th:only-of-type {\n",
       "        vertical-align: middle;\n",
       "    }\n",
       "\n",
       "    .dataframe tbody tr th {\n",
       "        vertical-align: top;\n",
       "    }\n",
       "\n",
       "    .dataframe thead th {\n",
       "        text-align: right;\n",
       "    }\n",
       "</style>\n",
       "<table border=\"1\" class=\"dataframe\">\n",
       "  <thead>\n",
       "    <tr style=\"text-align: right;\">\n",
       "      <th></th>\n",
       "      <th>id</th>\n",
       "      <th>order_id</th>\n",
       "      <th>meta_key</th>\n",
       "      <th>meta_value</th>\n",
       "    </tr>\n",
       "  </thead>\n",
       "  <tbody>\n",
       "    <tr>\n",
       "      <th>7</th>\n",
       "      <td>86</td>\n",
       "      <td>1036</td>\n",
       "      <td>_wc_order_attribution_session_pages</td>\n",
       "      <td>9</td>\n",
       "    </tr>\n",
       "    <tr>\n",
       "      <th>18</th>\n",
       "      <td>97</td>\n",
       "      <td>1037</td>\n",
       "      <td>_wc_order_attribution_session_pages</td>\n",
       "      <td>20</td>\n",
       "    </tr>\n",
       "    <tr>\n",
       "      <th>29</th>\n",
       "      <td>108</td>\n",
       "      <td>1038</td>\n",
       "      <td>_wc_order_attribution_session_pages</td>\n",
       "      <td>31</td>\n",
       "    </tr>\n",
       "    <tr>\n",
       "      <th>40</th>\n",
       "      <td>119</td>\n",
       "      <td>1039</td>\n",
       "      <td>_wc_order_attribution_session_pages</td>\n",
       "      <td>40</td>\n",
       "    </tr>\n",
       "    <tr>\n",
       "      <th>51</th>\n",
       "      <td>130</td>\n",
       "      <td>1040</td>\n",
       "      <td>_wc_order_attribution_session_pages</td>\n",
       "      <td>50</td>\n",
       "    </tr>\n",
       "  </tbody>\n",
       "</table>\n",
       "</div>"
      ],
      "text/plain": [
       "     id  order_id                             meta_key meta_value\n",
       "7    86      1036  _wc_order_attribution_session_pages          9\n",
       "18   97      1037  _wc_order_attribution_session_pages         20\n",
       "29  108      1038  _wc_order_attribution_session_pages         31\n",
       "40  119      1039  _wc_order_attribution_session_pages         40\n",
       "51  130      1040  _wc_order_attribution_session_pages         50"
      ]
     },
     "metadata": {},
     "output_type": "display_data"
    },
    {
     "data": {
      "text/plain": [
       "(110, 4)"
      ]
     },
     "execution_count": 32,
     "metadata": {},
     "output_type": "execute_result"
    }
   ],
   "source": [
    "# Filter baris dengan meta_key '_wc_order_attribution_session_pages'\n",
    "page_data = order_meta[order_meta[\"meta_key\"] == \"_wc_order_attribution_session_pages\"]\n",
    "display(page_data.head())\n",
    "page_data.shape"
   ]
  },
  {
   "cell_type": "code",
   "execution_count": 34,
   "id": "107ce3fc",
   "metadata": {},
   "outputs": [
    {
     "data": {
      "text/html": [
       "<div>\n",
       "<style scoped>\n",
       "    .dataframe tbody tr th:only-of-type {\n",
       "        vertical-align: middle;\n",
       "    }\n",
       "\n",
       "    .dataframe tbody tr th {\n",
       "        vertical-align: top;\n",
       "    }\n",
       "\n",
       "    .dataframe thead th {\n",
       "        text-align: right;\n",
       "    }\n",
       "</style>\n",
       "<table border=\"1\" class=\"dataframe\">\n",
       "  <thead>\n",
       "    <tr style=\"text-align: right;\">\n",
       "      <th></th>\n",
       "      <th>order_date</th>\n",
       "      <th>ip_address</th>\n",
       "      <th>meta_value</th>\n",
       "    </tr>\n",
       "  </thead>\n",
       "  <tbody>\n",
       "    <tr>\n",
       "      <th>0</th>\n",
       "      <td>2025-05-08 22:36:36</td>\n",
       "      <td>118.99.118.196</td>\n",
       "      <td>9</td>\n",
       "    </tr>\n",
       "    <tr>\n",
       "      <th>1</th>\n",
       "      <td>2025-05-08 22:53:26</td>\n",
       "      <td>118.99.118.196</td>\n",
       "      <td>20</td>\n",
       "    </tr>\n",
       "    <tr>\n",
       "      <th>2</th>\n",
       "      <td>2025-05-08 22:56:25</td>\n",
       "      <td>118.99.118.196</td>\n",
       "      <td>31</td>\n",
       "    </tr>\n",
       "    <tr>\n",
       "      <th>3</th>\n",
       "      <td>2025-05-08 22:59:51</td>\n",
       "      <td>118.99.118.196</td>\n",
       "      <td>40</td>\n",
       "    </tr>\n",
       "    <tr>\n",
       "      <th>4</th>\n",
       "      <td>2025-05-08 23:02:06</td>\n",
       "      <td>118.99.118.196</td>\n",
       "      <td>50</td>\n",
       "    </tr>\n",
       "  </tbody>\n",
       "</table>\n",
       "</div>"
      ],
      "text/plain": [
       "            order_date      ip_address meta_value\n",
       "0  2025-05-08 22:36:36  118.99.118.196          9\n",
       "1  2025-05-08 22:53:26  118.99.118.196         20\n",
       "2  2025-05-08 22:56:25  118.99.118.196         31\n",
       "3  2025-05-08 22:59:51  118.99.118.196         40\n",
       "4  2025-05-08 23:02:06  118.99.118.196         50"
      ]
     },
     "metadata": {},
     "output_type": "display_data"
    },
    {
     "data": {
      "text/plain": [
       "(110, 3)"
      ]
     },
     "execution_count": 34,
     "metadata": {},
     "output_type": "execute_result"
    }
   ],
   "source": [
    "df_page = page_data.merge(df_fact, how=\"left\", on=\"order_id\")[['order_date', 'ip_address', 'meta_value']]\n",
    "display(df_page.head())\n",
    "df_page.shape"
   ]
  },
  {
   "cell_type": "code",
   "execution_count": null,
   "id": "a20b9503",
   "metadata": {},
   "outputs": [],
   "source": [
    "# df_page.to_csv(\"page_chart.csv\", index=False)\n",
    "# df = pd.read_csv(\"page_chart.csv\")\n",
    "# df.head()"
   ]
  },
  {
   "cell_type": "code",
   "execution_count": 35,
   "id": "2ea540df",
   "metadata": {},
   "outputs": [
    {
     "data": {
      "text/html": [
       "<div>\n",
       "<style scoped>\n",
       "    .dataframe tbody tr th:only-of-type {\n",
       "        vertical-align: middle;\n",
       "    }\n",
       "\n",
       "    .dataframe tbody tr th {\n",
       "        vertical-align: top;\n",
       "    }\n",
       "\n",
       "    .dataframe thead th {\n",
       "        text-align: right;\n",
       "    }\n",
       "</style>\n",
       "<table border=\"1\" class=\"dataframe\">\n",
       "  <thead>\n",
       "    <tr style=\"text-align: right;\">\n",
       "      <th></th>\n",
       "      <th>page</th>\n",
       "      <th>interaction_count</th>\n",
       "    </tr>\n",
       "  </thead>\n",
       "  <tbody>\n",
       "    <tr>\n",
       "      <th>0</th>\n",
       "      <td>79</td>\n",
       "      <td>5</td>\n",
       "    </tr>\n",
       "    <tr>\n",
       "      <th>1</th>\n",
       "      <td>43</td>\n",
       "      <td>4</td>\n",
       "    </tr>\n",
       "    <tr>\n",
       "      <th>2</th>\n",
       "      <td>10</td>\n",
       "      <td>3</td>\n",
       "    </tr>\n",
       "    <tr>\n",
       "      <th>3</th>\n",
       "      <td>25</td>\n",
       "      <td>3</td>\n",
       "    </tr>\n",
       "    <tr>\n",
       "      <th>4</th>\n",
       "      <td>70</td>\n",
       "      <td>3</td>\n",
       "    </tr>\n",
       "  </tbody>\n",
       "</table>\n",
       "</div>"
      ],
      "text/plain": [
       "  page  interaction_count\n",
       "0   79                  5\n",
       "1   43                  4\n",
       "2   10                  3\n",
       "3   25                  3\n",
       "4   70                  3"
      ]
     },
     "metadata": {},
     "output_type": "display_data"
    },
    {
     "data": {
      "text/plain": [
       "(82, 2)"
      ]
     },
     "execution_count": 35,
     "metadata": {},
     "output_type": "execute_result"
    }
   ],
   "source": [
    "# Hitung jumlah interaksi tiap halaman\n",
    "page_counts = page_data[\"meta_value\"].value_counts().reset_index()\n",
    "page_counts.columns = [\"page\", \"interaction_count\"]\n",
    "page_counts.sort_values(\"interaction_count\", ascending=False)\n",
    "display(page_counts.head())\n",
    "page_counts.shape"
   ]
  },
  {
   "cell_type": "code",
   "execution_count": 36,
   "id": "eab9a4c4",
   "metadata": {},
   "outputs": [],
   "source": [
    "# Ambil 10 page teratas\n",
    "top_pages = page_counts.head(10).copy()\n",
    "\n",
    "# Hitung total interaksi untuk persentase\n",
    "total_interactions = top_pages[\"interaction_count\"].sum()\n",
    "top_pages[\"percentage\"] = (top_pages[\"interaction_count\"] / total_interactions) * 100"
   ]
  },
  {
   "cell_type": "code",
   "execution_count": 24,
   "id": "f5929f0c",
   "metadata": {},
   "outputs": [
    {
     "data": {
      "image/png": "[encoded data removed]",
      "text/plain": [
       "<Figure size 600x600 with 1 Axes>"
      ]
     },
     "metadata": {},
     "output_type": "display_data"
    }
   ],
   "source": [
    "# Buat donut chart\n",
    "fig, ax = plt.subplots(figsize=(6, 6))\n",
    "wedges, texts, autotexts = ax.pie(\n",
    "    top_pages[\"percentage\"],\n",
    "    labels=top_pages[\"page\"],\n",
    "    autopct='%1.1f%%',\n",
    "    startangle=140,\n",
    "    pctdistance=0.85\n",
    ")\n",
    "\n",
    "# Tambahkan lubang di tengah (donut hole)\n",
    "centre_circle = plt.Circle((0, 0), 0.70, fc='white')\n",
    "ax.add_artist(centre_circle)\n",
    "plt.tight_layout() # menyesuaikan letak subplot: tidak bertumpuk atau terlalu rapat"
   ]
  }
 ],
 "metadata": {
  "kernelspec": {
   "display_name": "mlp_env",
   "language": "python",
   "name": "python3"
  },
  "language_info": {
   "codemirror_mode": {
    "name": "ipython",
    "version": 3
   },
   "file_extension": ".py",
   "mimetype": "text/x-python",
   "name": "python",
   "nbconvert_exporter": "python",
   "pygments_lexer": "ipython3",
   "version": "3.12.9"
  }
 },
 "nbformat": 4,
 "nbformat_minor": 5
}
