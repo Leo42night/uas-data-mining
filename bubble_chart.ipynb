{
 "cells": [
  {
   "cell_type": "markdown",
   "id": "ab67e152",
   "metadata": {},
   "source": [
    "# Bubble (by Matthew)"
   ]
  },
  {
   "cell_type": "code",
   "execution_count": 138,
   "id": "b187dbad",
   "metadata": {},
   "outputs": [
    {
     "data": {
      "text/html": [
       "<div>\n",
       "<style scoped>\n",
       "    .dataframe tbody tr th:only-of-type {\n",
       "        vertical-align: middle;\n",
       "    }\n",
       "\n",
       "    .dataframe tbody tr th {\n",
       "        vertical-align: top;\n",
       "    }\n",
       "\n",
       "    .dataframe thead th {\n",
       "        text-align: right;\n",
       "    }\n",
       "</style>\n",
       "<table border=\"1\" class=\"dataframe\">\n",
       "  <thead>\n",
       "    <tr style=\"text-align: right;\">\n",
       "      <th></th>\n",
       "      <th>order_id</th>\n",
       "      <th>order_date</th>\n",
       "      <th>product_id</th>\n",
       "      <th>order_item_name</th>\n",
       "      <th>total_sales</th>\n",
       "      <th>order_item_type</th>\n",
       "      <th>product_qty</th>\n",
       "      <th>product_net_revenue</th>\n",
       "      <th>customer_id</th>\n",
       "      <th>first_name</th>\n",
       "      <th>last_name</th>\n",
       "      <th>email</th>\n",
       "      <th>city</th>\n",
       "      <th>state</th>\n",
       "    </tr>\n",
       "  </thead>\n",
       "  <tbody>\n",
       "    <tr>\n",
       "      <th>196</th>\n",
       "      <td>1036</td>\n",
       "      <td>2025-05-08 22:36:36</td>\n",
       "      <td>565</td>\n",
       "      <td>Atasan Basic Wanita</td>\n",
       "      <td>2</td>\n",
       "      <td>line_item</td>\n",
       "      <td>1</td>\n",
       "      <td>62700</td>\n",
       "      <td>19</td>\n",
       "      <td>Marlene</td>\n",
       "      <td>Greally</td>\n",
       "      <td>mgreallyo@quantcast.com</td>\n",
       "      <td>Pontianak</td>\n",
       "      <td>KB</td>\n",
       "    </tr>\n",
       "    <tr>\n",
       "      <th>195</th>\n",
       "      <td>1037</td>\n",
       "      <td>2025-05-08 22:53:26</td>\n",
       "      <td>1020</td>\n",
       "      <td>This Is April Atasan Kemeja Lengan Panjang</td>\n",
       "      <td>8</td>\n",
       "      <td>line_item</td>\n",
       "      <td>1</td>\n",
       "      <td>329000</td>\n",
       "      <td>24</td>\n",
       "      <td>Eberto</td>\n",
       "      <td>Nern</td>\n",
       "      <td>enernp@weibo.com</td>\n",
       "      <td>Pontianak</td>\n",
       "      <td>KB</td>\n",
       "    </tr>\n",
       "    <tr>\n",
       "      <th>194</th>\n",
       "      <td>1038</td>\n",
       "      <td>2025-05-08 22:56:25</td>\n",
       "      <td>1019</td>\n",
       "      <td>AMOENE [MADE] Long Strap Dress Navy</td>\n",
       "      <td>8</td>\n",
       "      <td>line_item</td>\n",
       "      <td>1</td>\n",
       "      <td>550000</td>\n",
       "      <td>20</td>\n",
       "      <td>Roma</td>\n",
       "      <td>Langfat</td>\n",
       "      <td>rlangfatq@istockphoto.com</td>\n",
       "      <td>Kota Singkawang</td>\n",
       "      <td>KB</td>\n",
       "    </tr>\n",
       "    <tr>\n",
       "      <th>193</th>\n",
       "      <td>1039</td>\n",
       "      <td>2025-05-08 22:59:51</td>\n",
       "      <td>1015</td>\n",
       "      <td>Point One NINDY Khaki Tunik Dress</td>\n",
       "      <td>1</td>\n",
       "      <td>line_item</td>\n",
       "      <td>1</td>\n",
       "      <td>159000</td>\n",
       "      <td>25</td>\n",
       "      <td>Alexandros</td>\n",
       "      <td>Korneichik</td>\n",
       "      <td>akorneichikr@quantcast.com</td>\n",
       "      <td>Kota Mempawah</td>\n",
       "      <td>KB</td>\n",
       "    </tr>\n",
       "    <tr>\n",
       "      <th>192</th>\n",
       "      <td>1040</td>\n",
       "      <td>2025-05-08 23:02:06</td>\n",
       "      <td>1010</td>\n",
       "      <td>Hosofshopaholic - Darel Skirt</td>\n",
       "      <td>7</td>\n",
       "      <td>line_item</td>\n",
       "      <td>1</td>\n",
       "      <td>160000</td>\n",
       "      <td>26</td>\n",
       "      <td>Giuseppe</td>\n",
       "      <td>Gerard</td>\n",
       "      <td>ggerards@instagram.com</td>\n",
       "      <td>Kabupaten Sintang</td>\n",
       "      <td>KB</td>\n",
       "    </tr>\n",
       "  </tbody>\n",
       "</table>\n",
       "</div>"
      ],
      "text/plain": [
       "     order_id           order_date  product_id  \\\n",
       "196      1036  2025-05-08 22:36:36         565   \n",
       "195      1037  2025-05-08 22:53:26        1020   \n",
       "194      1038  2025-05-08 22:56:25        1019   \n",
       "193      1039  2025-05-08 22:59:51        1015   \n",
       "192      1040  2025-05-08 23:02:06        1010   \n",
       "\n",
       "                                order_item_name total_sales order_item_type  \\\n",
       "196                         Atasan Basic Wanita           2       line_item   \n",
       "195  This Is April Atasan Kemeja Lengan Panjang           8       line_item   \n",
       "194         AMOENE [MADE] Long Strap Dress Navy           8       line_item   \n",
       "193           Point One NINDY Khaki Tunik Dress           1       line_item   \n",
       "192               Hosofshopaholic - Darel Skirt           7       line_item   \n",
       "\n",
       "     product_qty  product_net_revenue  customer_id  first_name   last_name  \\\n",
       "196            1                62700           19     Marlene     Greally   \n",
       "195            1               329000           24      Eberto        Nern   \n",
       "194            1               550000           20        Roma     Langfat   \n",
       "193            1               159000           25  Alexandros  Korneichik   \n",
       "192            1               160000           26    Giuseppe      Gerard   \n",
       "\n",
       "                          email               city state  \n",
       "196     mgreallyo@quantcast.com          Pontianak    KB  \n",
       "195            enernp@weibo.com          Pontianak    KB  \n",
       "194   rlangfatq@istockphoto.com    Kota Singkawang    KB  \n",
       "193  akorneichikr@quantcast.com      Kota Mempawah    KB  \n",
       "192      ggerards@instagram.com  Kabupaten Sintang    KB  "
      ]
     },
     "metadata": {},
     "output_type": "display_data"
    },
    {
     "data": {
      "text/html": [
       "<div>\n",
       "<style scoped>\n",
       "    .dataframe tbody tr th:only-of-type {\n",
       "        vertical-align: middle;\n",
       "    }\n",
       "\n",
       "    .dataframe tbody tr th {\n",
       "        vertical-align: top;\n",
       "    }\n",
       "\n",
       "    .dataframe thead th {\n",
       "        text-align: right;\n",
       "    }\n",
       "</style>\n",
       "<table border=\"1\" class=\"dataframe\">\n",
       "  <thead>\n",
       "    <tr style=\"text-align: right;\">\n",
       "      <th></th>\n",
       "      <th>order_id</th>\n",
       "      <th>order_date</th>\n",
       "      <th>product_id</th>\n",
       "      <th>order_item_name</th>\n",
       "      <th>total_sales</th>\n",
       "    </tr>\n",
       "  </thead>\n",
       "  <tbody>\n",
       "    <tr>\n",
       "      <th>196</th>\n",
       "      <td>1036</td>\n",
       "      <td>2025-05-08 22:36:36</td>\n",
       "      <td>565</td>\n",
       "      <td>Atasan Basic Wanita</td>\n",
       "      <td>2.0</td>\n",
       "    </tr>\n",
       "    <tr>\n",
       "      <th>195</th>\n",
       "      <td>1037</td>\n",
       "      <td>2025-05-08 22:53:26</td>\n",
       "      <td>1020</td>\n",
       "      <td>This Is April Atasan Kemeja Lengan Panjang</td>\n",
       "      <td>8.0</td>\n",
       "    </tr>\n",
       "    <tr>\n",
       "      <th>194</th>\n",
       "      <td>1038</td>\n",
       "      <td>2025-05-08 22:56:25</td>\n",
       "      <td>1019</td>\n",
       "      <td>AMOENE [MADE] Long Strap Dress Navy</td>\n",
       "      <td>8.0</td>\n",
       "    </tr>\n",
       "    <tr>\n",
       "      <th>193</th>\n",
       "      <td>1039</td>\n",
       "      <td>2025-05-08 22:59:51</td>\n",
       "      <td>1015</td>\n",
       "      <td>Point One NINDY Khaki Tunik Dress</td>\n",
       "      <td>1.0</td>\n",
       "    </tr>\n",
       "    <tr>\n",
       "      <th>192</th>\n",
       "      <td>1040</td>\n",
       "      <td>2025-05-08 23:02:06</td>\n",
       "      <td>1010</td>\n",
       "      <td>Hosofshopaholic - Darel Skirt</td>\n",
       "      <td>7.0</td>\n",
       "    </tr>\n",
       "    <tr>\n",
       "      <th>191</th>\n",
       "      <td>1041</td>\n",
       "      <td>2025-05-08 23:10:21</td>\n",
       "      <td>983</td>\n",
       "      <td>ORO PANTS</td>\n",
       "      <td>4.0</td>\n",
       "    </tr>\n",
       "    <tr>\n",
       "      <th>190</th>\n",
       "      <td>1042</td>\n",
       "      <td>2025-05-08 23:12:14</td>\n",
       "      <td>1010</td>\n",
       "      <td>Hosofshopaholic - Darel Skirt</td>\n",
       "      <td>7.0</td>\n",
       "    </tr>\n",
       "    <tr>\n",
       "      <th>189</th>\n",
       "      <td>1043</td>\n",
       "      <td>2025-05-08 23:19:30</td>\n",
       "      <td>1002</td>\n",
       "      <td>This Is April Rok Midi Crochet Wanita</td>\n",
       "      <td>7.0</td>\n",
       "    </tr>\n",
       "    <tr>\n",
       "      <th>188</th>\n",
       "      <td>1044</td>\n",
       "      <td>2025-05-08 23:23:15</td>\n",
       "      <td>1002</td>\n",
       "      <td>This Is April Rok Midi Crochet Wanita</td>\n",
       "      <td>7.0</td>\n",
       "    </tr>\n",
       "    <tr>\n",
       "      <th>187</th>\n",
       "      <td>1045</td>\n",
       "      <td>2025-05-08 23:25:58</td>\n",
       "      <td>586</td>\n",
       "      <td>Baju Atasan Lengan Pendek Wanita</td>\n",
       "      <td>3.0</td>\n",
       "    </tr>\n",
       "    <tr>\n",
       "      <th>186</th>\n",
       "      <td>1046</td>\n",
       "      <td>2025-05-08 23:28:35</td>\n",
       "      <td>983</td>\n",
       "      <td>ORO PANTS</td>\n",
       "      <td>4.0</td>\n",
       "    </tr>\n",
       "    <tr>\n",
       "      <th>185</th>\n",
       "      <td>1047</td>\n",
       "      <td>2025-05-08 23:30:49</td>\n",
       "      <td>1020</td>\n",
       "      <td>This Is April Atasan Kemeja Lengan Panjang</td>\n",
       "      <td>8.0</td>\n",
       "    </tr>\n",
       "    <tr>\n",
       "      <th>184</th>\n",
       "      <td>1049</td>\n",
       "      <td>2025-05-09 14:08:55</td>\n",
       "      <td>1019</td>\n",
       "      <td>AMOENE [MADE] Long Strap Dress Navy</td>\n",
       "      <td>8.0</td>\n",
       "    </tr>\n",
       "    <tr>\n",
       "      <th>183</th>\n",
       "      <td>1050</td>\n",
       "      <td>2025-05-09 14:14:17</td>\n",
       "      <td>983</td>\n",
       "      <td>ORO PANTS</td>\n",
       "      <td>4.0</td>\n",
       "    </tr>\n",
       "    <tr>\n",
       "      <th>182</th>\n",
       "      <td>1051</td>\n",
       "      <td>2025-05-09 14:17:37</td>\n",
       "      <td>565</td>\n",
       "      <td>Atasan Basic Wanita</td>\n",
       "      <td>2.0</td>\n",
       "    </tr>\n",
       "    <tr>\n",
       "      <th>181</th>\n",
       "      <td>1052</td>\n",
       "      <td>2025-05-09 14:20:17</td>\n",
       "      <td>586</td>\n",
       "      <td>Baju Atasan Lengan Pendek Wanita</td>\n",
       "      <td>3.0</td>\n",
       "    </tr>\n",
       "    <tr>\n",
       "      <th>180</th>\n",
       "      <td>1053</td>\n",
       "      <td>2025-05-09 14:23:08</td>\n",
       "      <td>954</td>\n",
       "      <td>Celana korduroi pinggang tinggi</td>\n",
       "      <td>3.0</td>\n",
       "    </tr>\n",
       "    <tr>\n",
       "      <th>179</th>\n",
       "      <td>1054</td>\n",
       "      <td>2025-05-09 14:26:15</td>\n",
       "      <td>966</td>\n",
       "      <td>Celana Kulot Uniqllo Pants</td>\n",
       "      <td>3.0</td>\n",
       "    </tr>\n",
       "    <tr>\n",
       "      <th>178</th>\n",
       "      <td>1055</td>\n",
       "      <td>2025-05-09 14:28:54</td>\n",
       "      <td>975</td>\n",
       "      <td>Celana Panjang Highwaist Wanita</td>\n",
       "      <td>2.0</td>\n",
       "    </tr>\n",
       "    <tr>\n",
       "      <th>177</th>\n",
       "      <td>1056</td>\n",
       "      <td>2025-05-09 14:31:28</td>\n",
       "      <td>602</td>\n",
       "      <td>Jaket Baseball Fleece Big Size</td>\n",
       "      <td>2.0</td>\n",
       "    </tr>\n",
       "    <tr>\n",
       "      <th>176</th>\n",
       "      <td>1057</td>\n",
       "      <td>2025-05-09 14:34:08</td>\n",
       "      <td>590</td>\n",
       "      <td>Jaket Jeans Wanita</td>\n",
       "      <td>3.0</td>\n",
       "    </tr>\n",
       "    <tr>\n",
       "      <th>175</th>\n",
       "      <td>1058</td>\n",
       "      <td>2025-05-09 14:36:31</td>\n",
       "      <td>613</td>\n",
       "      <td>Jaket Wanita Parasut Kekinian Zipper Anti Air ...</td>\n",
       "      <td>1.0</td>\n",
       "    </tr>\n",
       "    <tr>\n",
       "      <th>174</th>\n",
       "      <td>1059</td>\n",
       "      <td>2025-05-09 14:39:27</td>\n",
       "      <td>990</td>\n",
       "      <td>MOSSDOOM Tas Wanita Kattie Bag Slingbag</td>\n",
       "      <td>1.0</td>\n",
       "    </tr>\n",
       "    <tr>\n",
       "      <th>173</th>\n",
       "      <td>1060</td>\n",
       "      <td>2025-05-09 14:41:49</td>\n",
       "      <td>580</td>\n",
       "      <td>Atasan Knit Wanita</td>\n",
       "      <td>10.0</td>\n",
       "    </tr>\n",
       "    <tr>\n",
       "      <th>172</th>\n",
       "      <td>1068</td>\n",
       "      <td>2025-05-09 15:25:46</td>\n",
       "      <td>856</td>\n",
       "      <td>URBAN&amp;CO BASIC Sandal Wanita Sendal Teplek Cas...</td>\n",
       "      <td>3.0</td>\n",
       "    </tr>\n",
       "    <tr>\n",
       "      <th>171</th>\n",
       "      <td>1069</td>\n",
       "      <td>2025-05-09 15:34:35</td>\n",
       "      <td>1020</td>\n",
       "      <td>This Is April Atasan Kemeja Lengan Panjang</td>\n",
       "      <td>8.0</td>\n",
       "    </tr>\n",
       "    <tr>\n",
       "      <th>170</th>\n",
       "      <td>1070</td>\n",
       "      <td>2025-05-09 15:37:30</td>\n",
       "      <td>527</td>\n",
       "      <td>Oversize tshirt Wanita</td>\n",
       "      <td>3.0</td>\n",
       "    </tr>\n",
       "    <tr>\n",
       "      <th>169</th>\n",
       "      <td>1071</td>\n",
       "      <td>2025-05-09 15:39:17</td>\n",
       "      <td>706</td>\n",
       "      <td>Compass Velocity Black</td>\n",
       "      <td>4.0</td>\n",
       "    </tr>\n",
       "    <tr>\n",
       "      <th>168</th>\n",
       "      <td>1072</td>\n",
       "      <td>2025-05-09 15:41:10</td>\n",
       "      <td>702</td>\n",
       "      <td>Structured Ball Cap Cream</td>\n",
       "      <td>3.0</td>\n",
       "    </tr>\n",
       "    <tr>\n",
       "      <th>167</th>\n",
       "      <td>1073</td>\n",
       "      <td>2025-05-09 15:42:53</td>\n",
       "      <td>609</td>\n",
       "      <td>Lafiye Skiv Rou Scarf</td>\n",
       "      <td>2.0</td>\n",
       "    </tr>\n",
       "  </tbody>\n",
       "</table>\n",
       "</div>"
      ],
      "text/plain": [
       "     order_id           order_date  product_id  \\\n",
       "196      1036  2025-05-08 22:36:36         565   \n",
       "195      1037  2025-05-08 22:53:26        1020   \n",
       "194      1038  2025-05-08 22:56:25        1019   \n",
       "193      1039  2025-05-08 22:59:51        1015   \n",
       "192      1040  2025-05-08 23:02:06        1010   \n",
       "191      1041  2025-05-08 23:10:21         983   \n",
       "190      1042  2025-05-08 23:12:14        1010   \n",
       "189      1043  2025-05-08 23:19:30        1002   \n",
       "188      1044  2025-05-08 23:23:15        1002   \n",
       "187      1045  2025-05-08 23:25:58         586   \n",
       "186      1046  2025-05-08 23:28:35         983   \n",
       "185      1047  2025-05-08 23:30:49        1020   \n",
       "184      1049  2025-05-09 14:08:55        1019   \n",
       "183      1050  2025-05-09 14:14:17         983   \n",
       "182      1051  2025-05-09 14:17:37         565   \n",
       "181      1052  2025-05-09 14:20:17         586   \n",
       "180      1053  2025-05-09 14:23:08         954   \n",
       "179      1054  2025-05-09 14:26:15         966   \n",
       "178      1055  2025-05-09 14:28:54         975   \n",
       "177      1056  2025-05-09 14:31:28         602   \n",
       "176      1057  2025-05-09 14:34:08         590   \n",
       "175      1058  2025-05-09 14:36:31         613   \n",
       "174      1059  2025-05-09 14:39:27         990   \n",
       "173      1060  2025-05-09 14:41:49         580   \n",
       "172      1068  2025-05-09 15:25:46         856   \n",
       "171      1069  2025-05-09 15:34:35        1020   \n",
       "170      1070  2025-05-09 15:37:30         527   \n",
       "169      1071  2025-05-09 15:39:17         706   \n",
       "168      1072  2025-05-09 15:41:10         702   \n",
       "167      1073  2025-05-09 15:42:53         609   \n",
       "\n",
       "                                       order_item_name  total_sales  \n",
       "196                                Atasan Basic Wanita          2.0  \n",
       "195         This Is April Atasan Kemeja Lengan Panjang          8.0  \n",
       "194                AMOENE [MADE] Long Strap Dress Navy          8.0  \n",
       "193                  Point One NINDY Khaki Tunik Dress          1.0  \n",
       "192                      Hosofshopaholic - Darel Skirt          7.0  \n",
       "191                                          ORO PANTS          4.0  \n",
       "190                      Hosofshopaholic - Darel Skirt          7.0  \n",
       "189              This Is April Rok Midi Crochet Wanita          7.0  \n",
       "188              This Is April Rok Midi Crochet Wanita          7.0  \n",
       "187                   Baju Atasan Lengan Pendek Wanita          3.0  \n",
       "186                                          ORO PANTS          4.0  \n",
       "185         This Is April Atasan Kemeja Lengan Panjang          8.0  \n",
       "184                AMOENE [MADE] Long Strap Dress Navy          8.0  \n",
       "183                                          ORO PANTS          4.0  \n",
       "182                                Atasan Basic Wanita          2.0  \n",
       "181                   Baju Atasan Lengan Pendek Wanita          3.0  \n",
       "180                    Celana korduroi pinggang tinggi          3.0  \n",
       "179                         Celana Kulot Uniqllo Pants          3.0  \n",
       "178                    Celana Panjang Highwaist Wanita          2.0  \n",
       "177                     Jaket Baseball Fleece Big Size          2.0  \n",
       "176                                 Jaket Jeans Wanita          3.0  \n",
       "175  Jaket Wanita Parasut Kekinian Zipper Anti Air ...          1.0  \n",
       "174            MOSSDOOM Tas Wanita Kattie Bag Slingbag          1.0  \n",
       "173                                 Atasan Knit Wanita         10.0  \n",
       "172  URBAN&CO BASIC Sandal Wanita Sendal Teplek Cas...          3.0  \n",
       "171         This Is April Atasan Kemeja Lengan Panjang          8.0  \n",
       "170                             Oversize tshirt Wanita          3.0  \n",
       "169                             Compass Velocity Black          4.0  \n",
       "168                          Structured Ball Cap Cream          3.0  \n",
       "167                              Lafiye Skiv Rou Scarf          2.0  "
      ]
     },
     "metadata": {},
     "output_type": "display_data"
    },
    {
     "data": {
      "text/plain": [
       "(197, 5)"
      ]
     },
     "execution_count": 138,
     "metadata": {},
     "output_type": "execute_result"
    }
   ],
   "source": [
    "import pandas as pd\n",
    "import plotly.graph_objects as go\n",
    "import networkx as nx\n",
    "\n",
    "# Load dan preprocess data\n",
    "df_salesv2 = pd.read_csv('csv/fact_sales_v2.csv', sep=';')\n",
    "display(df_salesv2.sort_values(by='order_id').head())\n",
    "df_salesv2 = df_salesv2[['order_id', 'order_date', 'product_id', 'order_item_name', 'total_sales']].sort_values(by='order_id')\n",
    "df_salesv2['total_sales'] = df_salesv2['total_sales'].str.replace('\\\\0','0')\n",
    "if df_salesv2['total_sales'].dtype == object:\n",
    "    df_salesv2['total_sales'] = (\n",
    "        df_salesv2['total_sales']\n",
    "        .str.replace('.', '', regex=False)\n",
    "        .str.replace(',', '.', regex=False)\n",
    "        .astype(float)\n",
    ")\n",
    "    \n",
    "display(df_salesv2.head(30))\n",
    "df_salesv2.shape"
   ]
  },
  {
   "cell_type": "code",
   "execution_count": 139,
   "id": "770953ea",
   "metadata": {},
   "outputs": [
    {
     "data": {
      "text/html": [
       "<div>\n",
       "<style scoped>\n",
       "    .dataframe tbody tr th:only-of-type {\n",
       "        vertical-align: middle;\n",
       "    }\n",
       "\n",
       "    .dataframe tbody tr th {\n",
       "        vertical-align: top;\n",
       "    }\n",
       "\n",
       "    .dataframe thead th {\n",
       "        text-align: right;\n",
       "    }\n",
       "</style>\n",
       "<table border=\"1\" class=\"dataframe\">\n",
       "  <thead>\n",
       "    <tr style=\"text-align: right;\">\n",
       "      <th></th>\n",
       "      <th>order_id</th>\n",
       "      <th>order_date</th>\n",
       "      <th>ip_address</th>\n",
       "      <th>total_amount</th>\n",
       "      <th>customer_id</th>\n",
       "      <th>first_name</th>\n",
       "      <th>last_name</th>\n",
       "      <th>email</th>\n",
       "      <th>country</th>\n",
       "      <th>city</th>\n",
       "      <th>state</th>\n",
       "      <th>order_item_name</th>\n",
       "      <th>order_item_type</th>\n",
       "      <th>product_qty</th>\n",
       "    </tr>\n",
       "  </thead>\n",
       "  <tbody>\n",
       "    <tr>\n",
       "      <th>0</th>\n",
       "      <td>1036</td>\n",
       "      <td>2025-05-08 22:36:36</td>\n",
       "      <td>118.99.118.196</td>\n",
       "      <td>62700,00000000</td>\n",
       "      <td>62</td>\n",
       "      <td>Vaclav</td>\n",
       "      <td>Wedge</td>\n",
       "      <td>vwedge1s@typepad.com</td>\n",
       "      <td>ID</td>\n",
       "      <td>Malang</td>\n",
       "      <td>JI</td>\n",
       "      <td>Atasan Basic Wanita</td>\n",
       "      <td>line_item</td>\n",
       "      <td>1</td>\n",
       "    </tr>\n",
       "    <tr>\n",
       "      <th>1</th>\n",
       "      <td>1036</td>\n",
       "      <td>2025-05-08 22:36:36</td>\n",
       "      <td>118.99.118.196</td>\n",
       "      <td>62700,00000000</td>\n",
       "      <td>62</td>\n",
       "      <td>Vaclav</td>\n",
       "      <td>Wedge</td>\n",
       "      <td>vwedge1s@typepad.com</td>\n",
       "      <td>ID</td>\n",
       "      <td>Malang</td>\n",
       "      <td>JI</td>\n",
       "      <td>Free shipping</td>\n",
       "      <td>shipping</td>\n",
       "      <td>1</td>\n",
       "    </tr>\n",
       "    <tr>\n",
       "      <th>2</th>\n",
       "      <td>1037</td>\n",
       "      <td>2025-05-08 22:53:26</td>\n",
       "      <td>118.99.118.196</td>\n",
       "      <td>329000,00000000</td>\n",
       "      <td>63</td>\n",
       "      <td>Ysabel</td>\n",
       "      <td>Grimster</td>\n",
       "      <td>ygrimster1h@timesonline.co.uk</td>\n",
       "      <td>ID</td>\n",
       "      <td>Samarinda</td>\n",
       "      <td>KI</td>\n",
       "      <td>This Is April Atasan Kemeja Lengan Panjang</td>\n",
       "      <td>line_item</td>\n",
       "      <td>1</td>\n",
       "    </tr>\n",
       "    <tr>\n",
       "      <th>3</th>\n",
       "      <td>1037</td>\n",
       "      <td>2025-05-08 22:53:26</td>\n",
       "      <td>118.99.118.196</td>\n",
       "      <td>329000,00000000</td>\n",
       "      <td>63</td>\n",
       "      <td>Ysabel</td>\n",
       "      <td>Grimster</td>\n",
       "      <td>ygrimster1h@timesonline.co.uk</td>\n",
       "      <td>ID</td>\n",
       "      <td>Samarinda</td>\n",
       "      <td>KI</td>\n",
       "      <td>Free shipping</td>\n",
       "      <td>shipping</td>\n",
       "      <td>1</td>\n",
       "    </tr>\n",
       "    <tr>\n",
       "      <th>4</th>\n",
       "      <td>1038</td>\n",
       "      <td>2025-05-08 22:56:25</td>\n",
       "      <td>118.99.118.196</td>\n",
       "      <td>550000,00000000</td>\n",
       "      <td>64</td>\n",
       "      <td>Olive</td>\n",
       "      <td>O'Logan</td>\n",
       "      <td>oologanc@imgur.com</td>\n",
       "      <td>ID</td>\n",
       "      <td>Kota Pontianak</td>\n",
       "      <td>KB</td>\n",
       "      <td>AMOENE [MADE] Long Strap Dress Navy</td>\n",
       "      <td>line_item</td>\n",
       "      <td>1</td>\n",
       "    </tr>\n",
       "  </tbody>\n",
       "</table>\n",
       "</div>"
      ],
      "text/plain": [
       "   order_id           order_date      ip_address     total_amount  \\\n",
       "0      1036  2025-05-08 22:36:36  118.99.118.196   62700,00000000   \n",
       "1      1036  2025-05-08 22:36:36  118.99.118.196   62700,00000000   \n",
       "2      1037  2025-05-08 22:53:26  118.99.118.196  329000,00000000   \n",
       "3      1037  2025-05-08 22:53:26  118.99.118.196  329000,00000000   \n",
       "4      1038  2025-05-08 22:56:25  118.99.118.196  550000,00000000   \n",
       "\n",
       "   customer_id first_name last_name                          email country  \\\n",
       "0           62     Vaclav     Wedge           vwedge1s@typepad.com      ID   \n",
       "1           62     Vaclav     Wedge           vwedge1s@typepad.com      ID   \n",
       "2           63     Ysabel  Grimster  ygrimster1h@timesonline.co.uk      ID   \n",
       "3           63     Ysabel  Grimster  ygrimster1h@timesonline.co.uk      ID   \n",
       "4           64      Olive   O'Logan             oologanc@imgur.com      ID   \n",
       "\n",
       "             city state                             order_item_name  \\\n",
       "0          Malang    JI                         Atasan Basic Wanita   \n",
       "1          Malang    JI                               Free shipping   \n",
       "2       Samarinda    KI  This Is April Atasan Kemeja Lengan Panjang   \n",
       "3       Samarinda    KI                               Free shipping   \n",
       "4  Kota Pontianak    KB         AMOENE [MADE] Long Strap Dress Navy   \n",
       "\n",
       "  order_item_type  product_qty  \n",
       "0       line_item            1  \n",
       "1        shipping            1  \n",
       "2       line_item            1  \n",
       "3        shipping            1  \n",
       "4       line_item            1  "
      ]
     },
     "metadata": {},
     "output_type": "display_data"
    },
    {
     "data": {
      "text/plain": [
       "(752, 14)"
      ]
     },
     "metadata": {},
     "output_type": "display_data"
    },
    {
     "data": {
      "text/html": [
       "<div>\n",
       "<style scoped>\n",
       "    .dataframe tbody tr th:only-of-type {\n",
       "        vertical-align: middle;\n",
       "    }\n",
       "\n",
       "    .dataframe tbody tr th {\n",
       "        vertical-align: top;\n",
       "    }\n",
       "\n",
       "    .dataframe thead th {\n",
       "        text-align: right;\n",
       "    }\n",
       "</style>\n",
       "<table border=\"1\" class=\"dataframe\">\n",
       "  <thead>\n",
       "    <tr style=\"text-align: right;\">\n",
       "      <th></th>\n",
       "      <th>order_id</th>\n",
       "      <th>ip_address</th>\n",
       "    </tr>\n",
       "  </thead>\n",
       "  <tbody>\n",
       "    <tr>\n",
       "      <th>0</th>\n",
       "      <td>1036</td>\n",
       "      <td>118.99.118.196</td>\n",
       "    </tr>\n",
       "    <tr>\n",
       "      <th>2</th>\n",
       "      <td>1037</td>\n",
       "      <td>118.99.118.196</td>\n",
       "    </tr>\n",
       "    <tr>\n",
       "      <th>4</th>\n",
       "      <td>1038</td>\n",
       "      <td>118.99.118.196</td>\n",
       "    </tr>\n",
       "    <tr>\n",
       "      <th>6</th>\n",
       "      <td>1039</td>\n",
       "      <td>118.99.118.196</td>\n",
       "    </tr>\n",
       "    <tr>\n",
       "      <th>8</th>\n",
       "      <td>1040</td>\n",
       "      <td>118.99.118.196</td>\n",
       "    </tr>\n",
       "  </tbody>\n",
       "</table>\n",
       "</div>"
      ],
      "text/plain": [
       "   order_id      ip_address\n",
       "0      1036  118.99.118.196\n",
       "2      1037  118.99.118.196\n",
       "4      1038  118.99.118.196\n",
       "6      1039  118.99.118.196\n",
       "8      1040  118.99.118.196"
      ]
     },
     "metadata": {},
     "output_type": "display_data"
    },
    {
     "data": {
      "text/plain": [
       "(555, 2)"
      ]
     },
     "execution_count": 139,
     "metadata": {},
     "output_type": "execute_result"
    }
   ],
   "source": [
    "# Load dan preprocess data\n",
    "df_salesv1 = pd.read_csv('csv/fact_sales_v1.csv', sep=';')\n",
    "display(df_salesv1.head())\n",
    "display(df_salesv1.shape)\n",
    "df_salesv1 = df_salesv1[df_salesv1['order_item_type'] != 'shipping']\n",
    "df_salesv1 = df_salesv1[['order_id','ip_address']]\n",
    "display(df_salesv1.head())\n",
    "df_salesv1.shape"
   ]
  },
  {
   "cell_type": "code",
   "execution_count": 140,
   "id": "16d0883b",
   "metadata": {},
   "outputs": [
    {
     "data": {
      "text/html": [
       "<div>\n",
       "<style scoped>\n",
       "    .dataframe tbody tr th:only-of-type {\n",
       "        vertical-align: middle;\n",
       "    }\n",
       "\n",
       "    .dataframe tbody tr th {\n",
       "        vertical-align: top;\n",
       "    }\n",
       "\n",
       "    .dataframe thead th {\n",
       "        text-align: right;\n",
       "    }\n",
       "</style>\n",
       "<table border=\"1\" class=\"dataframe\">\n",
       "  <thead>\n",
       "    <tr style=\"text-align: right;\">\n",
       "      <th></th>\n",
       "      <th>order_id</th>\n",
       "      <th>order_date</th>\n",
       "      <th>product_id</th>\n",
       "      <th>order_item_name</th>\n",
       "      <th>total_sales</th>\n",
       "      <th>ip_address</th>\n",
       "    </tr>\n",
       "  </thead>\n",
       "  <tbody>\n",
       "    <tr>\n",
       "      <th>0</th>\n",
       "      <td>1036</td>\n",
       "      <td>2025-05-08 22:36:36</td>\n",
       "      <td>565</td>\n",
       "      <td>Atasan Basic Wanita</td>\n",
       "      <td>2.0</td>\n",
       "      <td>118.99.118.196</td>\n",
       "    </tr>\n",
       "    <tr>\n",
       "      <th>1</th>\n",
       "      <td>1037</td>\n",
       "      <td>2025-05-08 22:53:26</td>\n",
       "      <td>1020</td>\n",
       "      <td>This Is April Atasan Kemeja Lengan Panjang</td>\n",
       "      <td>8.0</td>\n",
       "      <td>118.99.118.196</td>\n",
       "    </tr>\n",
       "    <tr>\n",
       "      <th>2</th>\n",
       "      <td>1038</td>\n",
       "      <td>2025-05-08 22:56:25</td>\n",
       "      <td>1019</td>\n",
       "      <td>AMOENE [MADE] Long Strap Dress Navy</td>\n",
       "      <td>8.0</td>\n",
       "      <td>118.99.118.196</td>\n",
       "    </tr>\n",
       "    <tr>\n",
       "      <th>3</th>\n",
       "      <td>1039</td>\n",
       "      <td>2025-05-08 22:59:51</td>\n",
       "      <td>1015</td>\n",
       "      <td>Point One NINDY Khaki Tunik Dress</td>\n",
       "      <td>1.0</td>\n",
       "      <td>118.99.118.196</td>\n",
       "    </tr>\n",
       "    <tr>\n",
       "      <th>4</th>\n",
       "      <td>1040</td>\n",
       "      <td>2025-05-08 23:02:06</td>\n",
       "      <td>1010</td>\n",
       "      <td>Hosofshopaholic - Darel Skirt</td>\n",
       "      <td>7.0</td>\n",
       "      <td>118.99.118.196</td>\n",
       "    </tr>\n",
       "    <tr>\n",
       "      <th>5</th>\n",
       "      <td>1041</td>\n",
       "      <td>2025-05-08 23:10:21</td>\n",
       "      <td>983</td>\n",
       "      <td>ORO PANTS</td>\n",
       "      <td>4.0</td>\n",
       "      <td>118.99.118.196</td>\n",
       "    </tr>\n",
       "    <tr>\n",
       "      <th>6</th>\n",
       "      <td>1042</td>\n",
       "      <td>2025-05-08 23:12:14</td>\n",
       "      <td>1010</td>\n",
       "      <td>Hosofshopaholic - Darel Skirt</td>\n",
       "      <td>7.0</td>\n",
       "      <td>118.99.118.196</td>\n",
       "    </tr>\n",
       "    <tr>\n",
       "      <th>7</th>\n",
       "      <td>1043</td>\n",
       "      <td>2025-05-08 23:19:30</td>\n",
       "      <td>1002</td>\n",
       "      <td>This Is April Rok Midi Crochet Wanita</td>\n",
       "      <td>7.0</td>\n",
       "      <td>118.99.118.196</td>\n",
       "    </tr>\n",
       "    <tr>\n",
       "      <th>8</th>\n",
       "      <td>1044</td>\n",
       "      <td>2025-05-08 23:23:15</td>\n",
       "      <td>1002</td>\n",
       "      <td>This Is April Rok Midi Crochet Wanita</td>\n",
       "      <td>7.0</td>\n",
       "      <td>118.99.118.196</td>\n",
       "    </tr>\n",
       "    <tr>\n",
       "      <th>9</th>\n",
       "      <td>1045</td>\n",
       "      <td>2025-05-08 23:25:58</td>\n",
       "      <td>586</td>\n",
       "      <td>Baju Atasan Lengan Pendek Wanita</td>\n",
       "      <td>3.0</td>\n",
       "      <td>118.99.118.196</td>\n",
       "    </tr>\n",
       "    <tr>\n",
       "      <th>10</th>\n",
       "      <td>1046</td>\n",
       "      <td>2025-05-08 23:28:35</td>\n",
       "      <td>983</td>\n",
       "      <td>ORO PANTS</td>\n",
       "      <td>4.0</td>\n",
       "      <td>118.99.118.196</td>\n",
       "    </tr>\n",
       "    <tr>\n",
       "      <th>11</th>\n",
       "      <td>1047</td>\n",
       "      <td>2025-05-08 23:30:49</td>\n",
       "      <td>1020</td>\n",
       "      <td>This Is April Atasan Kemeja Lengan Panjang</td>\n",
       "      <td>8.0</td>\n",
       "      <td>118.99.118.196</td>\n",
       "    </tr>\n",
       "    <tr>\n",
       "      <th>12</th>\n",
       "      <td>1049</td>\n",
       "      <td>2025-05-09 14:08:55</td>\n",
       "      <td>1019</td>\n",
       "      <td>AMOENE [MADE] Long Strap Dress Navy</td>\n",
       "      <td>8.0</td>\n",
       "      <td>114.10.137.72</td>\n",
       "    </tr>\n",
       "    <tr>\n",
       "      <th>13</th>\n",
       "      <td>1050</td>\n",
       "      <td>2025-05-09 14:14:17</td>\n",
       "      <td>983</td>\n",
       "      <td>ORO PANTS</td>\n",
       "      <td>4.0</td>\n",
       "      <td>114.10.137.72</td>\n",
       "    </tr>\n",
       "    <tr>\n",
       "      <th>14</th>\n",
       "      <td>1051</td>\n",
       "      <td>2025-05-09 14:17:37</td>\n",
       "      <td>565</td>\n",
       "      <td>Atasan Basic Wanita</td>\n",
       "      <td>2.0</td>\n",
       "      <td>114.10.137.72</td>\n",
       "    </tr>\n",
       "    <tr>\n",
       "      <th>15</th>\n",
       "      <td>1052</td>\n",
       "      <td>2025-05-09 14:20:17</td>\n",
       "      <td>586</td>\n",
       "      <td>Baju Atasan Lengan Pendek Wanita</td>\n",
       "      <td>3.0</td>\n",
       "      <td>114.10.137.72</td>\n",
       "    </tr>\n",
       "    <tr>\n",
       "      <th>16</th>\n",
       "      <td>1053</td>\n",
       "      <td>2025-05-09 14:23:08</td>\n",
       "      <td>954</td>\n",
       "      <td>Celana korduroi pinggang tinggi</td>\n",
       "      <td>3.0</td>\n",
       "      <td>114.10.137.72</td>\n",
       "    </tr>\n",
       "    <tr>\n",
       "      <th>17</th>\n",
       "      <td>1054</td>\n",
       "      <td>2025-05-09 14:26:15</td>\n",
       "      <td>966</td>\n",
       "      <td>Celana Kulot Uniqllo Pants</td>\n",
       "      <td>3.0</td>\n",
       "      <td>114.10.137.72</td>\n",
       "    </tr>\n",
       "    <tr>\n",
       "      <th>18</th>\n",
       "      <td>1055</td>\n",
       "      <td>2025-05-09 14:28:54</td>\n",
       "      <td>975</td>\n",
       "      <td>Celana Panjang Highwaist Wanita</td>\n",
       "      <td>2.0</td>\n",
       "      <td>114.10.137.72</td>\n",
       "    </tr>\n",
       "    <tr>\n",
       "      <th>19</th>\n",
       "      <td>1056</td>\n",
       "      <td>2025-05-09 14:31:28</td>\n",
       "      <td>602</td>\n",
       "      <td>Jaket Baseball Fleece Big Size</td>\n",
       "      <td>2.0</td>\n",
       "      <td>114.10.137.72</td>\n",
       "    </tr>\n",
       "    <tr>\n",
       "      <th>20</th>\n",
       "      <td>1057</td>\n",
       "      <td>2025-05-09 14:34:08</td>\n",
       "      <td>590</td>\n",
       "      <td>Jaket Jeans Wanita</td>\n",
       "      <td>3.0</td>\n",
       "      <td>114.10.137.72</td>\n",
       "    </tr>\n",
       "    <tr>\n",
       "      <th>21</th>\n",
       "      <td>1058</td>\n",
       "      <td>2025-05-09 14:36:31</td>\n",
       "      <td>613</td>\n",
       "      <td>Jaket Wanita Parasut Kekinian Zipper Anti Air ...</td>\n",
       "      <td>1.0</td>\n",
       "      <td>114.10.137.72</td>\n",
       "    </tr>\n",
       "    <tr>\n",
       "      <th>22</th>\n",
       "      <td>1059</td>\n",
       "      <td>2025-05-09 14:39:27</td>\n",
       "      <td>990</td>\n",
       "      <td>MOSSDOOM Tas Wanita Kattie Bag Slingbag</td>\n",
       "      <td>1.0</td>\n",
       "      <td>114.10.137.72</td>\n",
       "    </tr>\n",
       "    <tr>\n",
       "      <th>23</th>\n",
       "      <td>1060</td>\n",
       "      <td>2025-05-09 14:41:49</td>\n",
       "      <td>580</td>\n",
       "      <td>Atasan Knit Wanita</td>\n",
       "      <td>10.0</td>\n",
       "      <td>114.10.137.72</td>\n",
       "    </tr>\n",
       "    <tr>\n",
       "      <th>24</th>\n",
       "      <td>1068</td>\n",
       "      <td>2025-05-09 15:25:46</td>\n",
       "      <td>856</td>\n",
       "      <td>URBAN&amp;CO BASIC Sandal Wanita Sendal Teplek Cas...</td>\n",
       "      <td>3.0</td>\n",
       "      <td>118.99.64.211</td>\n",
       "    </tr>\n",
       "    <tr>\n",
       "      <th>25</th>\n",
       "      <td>1069</td>\n",
       "      <td>2025-05-09 15:34:35</td>\n",
       "      <td>1020</td>\n",
       "      <td>This Is April Atasan Kemeja Lengan Panjang</td>\n",
       "      <td>8.0</td>\n",
       "      <td>118.99.64.211</td>\n",
       "    </tr>\n",
       "    <tr>\n",
       "      <th>26</th>\n",
       "      <td>1070</td>\n",
       "      <td>2025-05-09 15:37:30</td>\n",
       "      <td>527</td>\n",
       "      <td>Oversize tshirt Wanita</td>\n",
       "      <td>3.0</td>\n",
       "      <td>118.99.64.211</td>\n",
       "    </tr>\n",
       "    <tr>\n",
       "      <th>27</th>\n",
       "      <td>1071</td>\n",
       "      <td>2025-05-09 15:39:17</td>\n",
       "      <td>706</td>\n",
       "      <td>Compass Velocity Black</td>\n",
       "      <td>4.0</td>\n",
       "      <td>118.99.64.211</td>\n",
       "    </tr>\n",
       "    <tr>\n",
       "      <th>28</th>\n",
       "      <td>1072</td>\n",
       "      <td>2025-05-09 15:41:10</td>\n",
       "      <td>702</td>\n",
       "      <td>Structured Ball Cap Cream</td>\n",
       "      <td>3.0</td>\n",
       "      <td>118.99.64.211</td>\n",
       "    </tr>\n",
       "    <tr>\n",
       "      <th>29</th>\n",
       "      <td>1073</td>\n",
       "      <td>2025-05-09 15:42:53</td>\n",
       "      <td>609</td>\n",
       "      <td>Lafiye Skiv Rou Scarf</td>\n",
       "      <td>2.0</td>\n",
       "      <td>118.99.64.211</td>\n",
       "    </tr>\n",
       "    <tr>\n",
       "      <th>30</th>\n",
       "      <td>1074</td>\n",
       "      <td>2025-05-09 15:44:29</td>\n",
       "      <td>1002</td>\n",
       "      <td>This Is April Rok Midi Crochet Wanita</td>\n",
       "      <td>7.0</td>\n",
       "      <td>118.99.64.211</td>\n",
       "    </tr>\n",
       "    <tr>\n",
       "      <th>31</th>\n",
       "      <td>1075</td>\n",
       "      <td>2025-05-09 15:46:05</td>\n",
       "      <td>580</td>\n",
       "      <td>Atasan Knit Wanita</td>\n",
       "      <td>10.0</td>\n",
       "      <td>118.99.64.211</td>\n",
       "    </tr>\n",
       "    <tr>\n",
       "      <th>32</th>\n",
       "      <td>1076</td>\n",
       "      <td>2025-05-09 15:48:01</td>\n",
       "      <td>978</td>\n",
       "      <td>Wispie Money Magnet Fitted Shirt</td>\n",
       "      <td>2.0</td>\n",
       "      <td>118.99.64.211</td>\n",
       "    </tr>\n",
       "    <tr>\n",
       "      <th>33</th>\n",
       "      <td>1077</td>\n",
       "      <td>2025-05-09 15:49:50</td>\n",
       "      <td>536</td>\n",
       "      <td>Celana Pendek Anak Polos fashion Santai</td>\n",
       "      <td>3.0</td>\n",
       "      <td>118.99.64.211</td>\n",
       "    </tr>\n",
       "    <tr>\n",
       "      <th>34</th>\n",
       "      <td>1078</td>\n",
       "      <td>2025-05-09 15:51:23</td>\n",
       "      <td>594</td>\n",
       "      <td>Zipper Hoodie Dewasa Polos</td>\n",
       "      <td>3.0</td>\n",
       "      <td>118.99.64.211</td>\n",
       "    </tr>\n",
       "    <tr>\n",
       "      <th>35</th>\n",
       "      <td>1079</td>\n",
       "      <td>2025-05-09 15:53:50</td>\n",
       "      <td>998</td>\n",
       "      <td>BAGSMART Travel Toiletry Bag</td>\n",
       "      <td>6.0</td>\n",
       "      <td>118.99.64.211</td>\n",
       "    </tr>\n",
       "    <tr>\n",
       "      <th>36</th>\n",
       "      <td>1081</td>\n",
       "      <td>2025-05-09 16:31:12</td>\n",
       "      <td>688</td>\n",
       "      <td>LOOKBOUTIQUESTORE - Glyn Lace Shirt</td>\n",
       "      <td>3.0</td>\n",
       "      <td>180.242.232.29</td>\n",
       "    </tr>\n",
       "    <tr>\n",
       "      <th>62</th>\n",
       "      <td>1082</td>\n",
       "      <td>2025-05-09 16:34:01</td>\n",
       "      <td>569</td>\n",
       "      <td>Kaos Wanita Oversize</td>\n",
       "      <td>3.0</td>\n",
       "      <td>180.242.232.29</td>\n",
       "    </tr>\n",
       "    <tr>\n",
       "      <th>53</th>\n",
       "      <td>1082</td>\n",
       "      <td>2025-05-09 16:34:01</td>\n",
       "      <td>915</td>\n",
       "      <td>Zerotwentytwo T-Shirt Danane Raquat White | Ka...</td>\n",
       "      <td>4.0</td>\n",
       "      <td>180.242.232.29</td>\n",
       "    </tr>\n",
       "    <tr>\n",
       "      <th>45</th>\n",
       "      <td>1082</td>\n",
       "      <td>2025-05-09 16:34:01</td>\n",
       "      <td>907</td>\n",
       "      <td>Breakside Polo Shirt Gavriel - Darkgrey Polo S...</td>\n",
       "      <td>8.0</td>\n",
       "      <td>180.242.232.29</td>\n",
       "    </tr>\n",
       "    <tr>\n",
       "      <th>64</th>\n",
       "      <td>1083</td>\n",
       "      <td>2025-05-09 16:38:41</td>\n",
       "      <td>922</td>\n",
       "      <td>Jam Tangan Wanita Casio General LTP-V007L-7B1 ...</td>\n",
       "      <td>3.0</td>\n",
       "      <td>180.242.232.29</td>\n",
       "    </tr>\n",
       "    <tr>\n",
       "      <th>65</th>\n",
       "      <td>1084</td>\n",
       "      <td>2025-05-09 16:48:14</td>\n",
       "      <td>994</td>\n",
       "      <td>AGE FREE Tya Bag Mini Sling Bag</td>\n",
       "      <td>5.0</td>\n",
       "      <td>180.242.232.29</td>\n",
       "    </tr>\n",
       "    <tr>\n",
       "      <th>66</th>\n",
       "      <td>1085</td>\n",
       "      <td>2025-05-09 16:50:32</td>\n",
       "      <td>726</td>\n",
       "      <td>Jam Tangan Pria Kulit</td>\n",
       "      <td>3.0</td>\n",
       "      <td>180.242.232.29</td>\n",
       "    </tr>\n",
       "    <tr>\n",
       "      <th>70</th>\n",
       "      <td>1086</td>\n",
       "      <td>2025-05-09 16:53:57</td>\n",
       "      <td>734</td>\n",
       "      <td>Sweater New Suls</td>\n",
       "      <td>2.0</td>\n",
       "      <td>180.242.232.29</td>\n",
       "    </tr>\n",
       "    <tr>\n",
       "      <th>71</th>\n",
       "      <td>1086</td>\n",
       "      <td>2025-05-09 16:53:57</td>\n",
       "      <td>738</td>\n",
       "      <td>Sweater Hoodie Pria Oldskull Misty</td>\n",
       "      <td>2.0</td>\n",
       "      <td>180.242.232.29</td>\n",
       "    </tr>\n",
       "    <tr>\n",
       "      <th>75</th>\n",
       "      <td>1087</td>\n",
       "      <td>2025-05-09 16:55:54</td>\n",
       "      <td>694</td>\n",
       "      <td>Onitsuka original mexico 66 ultimate 81 ex cre...</td>\n",
       "      <td>2.0</td>\n",
       "      <td>180.242.232.29</td>\n",
       "    </tr>\n",
       "    <tr>\n",
       "      <th>96</th>\n",
       "      <td>1088</td>\n",
       "      <td>2025-05-09 16:59:00</td>\n",
       "      <td>741</td>\n",
       "      <td>Celana Cargo Pendek Anak Laki-Laki Bahan Dusky...</td>\n",
       "      <td>9.0</td>\n",
       "      <td>180.242.232.29</td>\n",
       "    </tr>\n",
       "    <tr>\n",
       "      <th>136</th>\n",
       "      <td>1088</td>\n",
       "      <td>2025-05-09 16:59:00</td>\n",
       "      <td>762</td>\n",
       "      <td>Baju Kaos Roblox anak Laki-laki cowok</td>\n",
       "      <td>6.0</td>\n",
       "      <td>180.242.232.29</td>\n",
       "    </tr>\n",
       "    <tr>\n",
       "      <th>232</th>\n",
       "      <td>1088</td>\n",
       "      <td>2025-05-09 16:59:00</td>\n",
       "      <td>754</td>\n",
       "      <td>Varsity Hoodie Kupluk BEAR X Anak</td>\n",
       "      <td>2.0</td>\n",
       "      <td>180.242.232.29</td>\n",
       "    </tr>\n",
       "    <tr>\n",
       "      <th>216</th>\n",
       "      <td>1088</td>\n",
       "      <td>2025-05-09 16:59:00</td>\n",
       "      <td>817</td>\n",
       "      <td>MaruKids - Dexter Shirt</td>\n",
       "      <td>3.0</td>\n",
       "      <td>180.242.232.29</td>\n",
       "    </tr>\n",
       "  </tbody>\n",
       "</table>\n",
       "</div>"
      ],
      "text/plain": [
       "     order_id           order_date  product_id  \\\n",
       "0        1036  2025-05-08 22:36:36         565   \n",
       "1        1037  2025-05-08 22:53:26        1020   \n",
       "2        1038  2025-05-08 22:56:25        1019   \n",
       "3        1039  2025-05-08 22:59:51        1015   \n",
       "4        1040  2025-05-08 23:02:06        1010   \n",
       "5        1041  2025-05-08 23:10:21         983   \n",
       "6        1042  2025-05-08 23:12:14        1010   \n",
       "7        1043  2025-05-08 23:19:30        1002   \n",
       "8        1044  2025-05-08 23:23:15        1002   \n",
       "9        1045  2025-05-08 23:25:58         586   \n",
       "10       1046  2025-05-08 23:28:35         983   \n",
       "11       1047  2025-05-08 23:30:49        1020   \n",
       "12       1049  2025-05-09 14:08:55        1019   \n",
       "13       1050  2025-05-09 14:14:17         983   \n",
       "14       1051  2025-05-09 14:17:37         565   \n",
       "15       1052  2025-05-09 14:20:17         586   \n",
       "16       1053  2025-05-09 14:23:08         954   \n",
       "17       1054  2025-05-09 14:26:15         966   \n",
       "18       1055  2025-05-09 14:28:54         975   \n",
       "19       1056  2025-05-09 14:31:28         602   \n",
       "20       1057  2025-05-09 14:34:08         590   \n",
       "21       1058  2025-05-09 14:36:31         613   \n",
       "22       1059  2025-05-09 14:39:27         990   \n",
       "23       1060  2025-05-09 14:41:49         580   \n",
       "24       1068  2025-05-09 15:25:46         856   \n",
       "25       1069  2025-05-09 15:34:35        1020   \n",
       "26       1070  2025-05-09 15:37:30         527   \n",
       "27       1071  2025-05-09 15:39:17         706   \n",
       "28       1072  2025-05-09 15:41:10         702   \n",
       "29       1073  2025-05-09 15:42:53         609   \n",
       "30       1074  2025-05-09 15:44:29        1002   \n",
       "31       1075  2025-05-09 15:46:05         580   \n",
       "32       1076  2025-05-09 15:48:01         978   \n",
       "33       1077  2025-05-09 15:49:50         536   \n",
       "34       1078  2025-05-09 15:51:23         594   \n",
       "35       1079  2025-05-09 15:53:50         998   \n",
       "36       1081  2025-05-09 16:31:12         688   \n",
       "62       1082  2025-05-09 16:34:01         569   \n",
       "53       1082  2025-05-09 16:34:01         915   \n",
       "45       1082  2025-05-09 16:34:01         907   \n",
       "64       1083  2025-05-09 16:38:41         922   \n",
       "65       1084  2025-05-09 16:48:14         994   \n",
       "66       1085  2025-05-09 16:50:32         726   \n",
       "70       1086  2025-05-09 16:53:57         734   \n",
       "71       1086  2025-05-09 16:53:57         738   \n",
       "75       1087  2025-05-09 16:55:54         694   \n",
       "96       1088  2025-05-09 16:59:00         741   \n",
       "136      1088  2025-05-09 16:59:00         762   \n",
       "232      1088  2025-05-09 16:59:00         754   \n",
       "216      1088  2025-05-09 16:59:00         817   \n",
       "\n",
       "                                       order_item_name  total_sales  \\\n",
       "0                                  Atasan Basic Wanita          2.0   \n",
       "1           This Is April Atasan Kemeja Lengan Panjang          8.0   \n",
       "2                  AMOENE [MADE] Long Strap Dress Navy          8.0   \n",
       "3                    Point One NINDY Khaki Tunik Dress          1.0   \n",
       "4                        Hosofshopaholic - Darel Skirt          7.0   \n",
       "5                                            ORO PANTS          4.0   \n",
       "6                        Hosofshopaholic - Darel Skirt          7.0   \n",
       "7                This Is April Rok Midi Crochet Wanita          7.0   \n",
       "8                This Is April Rok Midi Crochet Wanita          7.0   \n",
       "9                     Baju Atasan Lengan Pendek Wanita          3.0   \n",
       "10                                           ORO PANTS          4.0   \n",
       "11          This Is April Atasan Kemeja Lengan Panjang          8.0   \n",
       "12                 AMOENE [MADE] Long Strap Dress Navy          8.0   \n",
       "13                                           ORO PANTS          4.0   \n",
       "14                                 Atasan Basic Wanita          2.0   \n",
       "15                    Baju Atasan Lengan Pendek Wanita          3.0   \n",
       "16                     Celana korduroi pinggang tinggi          3.0   \n",
       "17                          Celana Kulot Uniqllo Pants          3.0   \n",
       "18                     Celana Panjang Highwaist Wanita          2.0   \n",
       "19                      Jaket Baseball Fleece Big Size          2.0   \n",
       "20                                  Jaket Jeans Wanita          3.0   \n",
       "21   Jaket Wanita Parasut Kekinian Zipper Anti Air ...          1.0   \n",
       "22             MOSSDOOM Tas Wanita Kattie Bag Slingbag          1.0   \n",
       "23                                  Atasan Knit Wanita         10.0   \n",
       "24   URBAN&CO BASIC Sandal Wanita Sendal Teplek Cas...          3.0   \n",
       "25          This Is April Atasan Kemeja Lengan Panjang          8.0   \n",
       "26                              Oversize tshirt Wanita          3.0   \n",
       "27                              Compass Velocity Black          4.0   \n",
       "28                           Structured Ball Cap Cream          3.0   \n",
       "29                               Lafiye Skiv Rou Scarf          2.0   \n",
       "30               This Is April Rok Midi Crochet Wanita          7.0   \n",
       "31                                  Atasan Knit Wanita         10.0   \n",
       "32                    Wispie Money Magnet Fitted Shirt          2.0   \n",
       "33             Celana Pendek Anak Polos fashion Santai          3.0   \n",
       "34                          Zipper Hoodie Dewasa Polos          3.0   \n",
       "35                        BAGSMART Travel Toiletry Bag          6.0   \n",
       "36                 LOOKBOUTIQUESTORE - Glyn Lace Shirt          3.0   \n",
       "62                                Kaos Wanita Oversize          3.0   \n",
       "53   Zerotwentytwo T-Shirt Danane Raquat White | Ka...          4.0   \n",
       "45   Breakside Polo Shirt Gavriel - Darkgrey Polo S...          8.0   \n",
       "64   Jam Tangan Wanita Casio General LTP-V007L-7B1 ...          3.0   \n",
       "65                     AGE FREE Tya Bag Mini Sling Bag          5.0   \n",
       "66                               Jam Tangan Pria Kulit          3.0   \n",
       "70                                    Sweater New Suls          2.0   \n",
       "71                  Sweater Hoodie Pria Oldskull Misty          2.0   \n",
       "75   Onitsuka original mexico 66 ultimate 81 ex cre...          2.0   \n",
       "96   Celana Cargo Pendek Anak Laki-Laki Bahan Dusky...          9.0   \n",
       "136              Baju Kaos Roblox anak Laki-laki cowok          6.0   \n",
       "232                  Varsity Hoodie Kupluk BEAR X Anak          2.0   \n",
       "216                            MaruKids - Dexter Shirt          3.0   \n",
       "\n",
       "         ip_address  \n",
       "0    118.99.118.196  \n",
       "1    118.99.118.196  \n",
       "2    118.99.118.196  \n",
       "3    118.99.118.196  \n",
       "4    118.99.118.196  \n",
       "5    118.99.118.196  \n",
       "6    118.99.118.196  \n",
       "7    118.99.118.196  \n",
       "8    118.99.118.196  \n",
       "9    118.99.118.196  \n",
       "10   118.99.118.196  \n",
       "11   118.99.118.196  \n",
       "12    114.10.137.72  \n",
       "13    114.10.137.72  \n",
       "14    114.10.137.72  \n",
       "15    114.10.137.72  \n",
       "16    114.10.137.72  \n",
       "17    114.10.137.72  \n",
       "18    114.10.137.72  \n",
       "19    114.10.137.72  \n",
       "20    114.10.137.72  \n",
       "21    114.10.137.72  \n",
       "22    114.10.137.72  \n",
       "23    114.10.137.72  \n",
       "24    118.99.64.211  \n",
       "25    118.99.64.211  \n",
       "26    118.99.64.211  \n",
       "27    118.99.64.211  \n",
       "28    118.99.64.211  \n",
       "29    118.99.64.211  \n",
       "30    118.99.64.211  \n",
       "31    118.99.64.211  \n",
       "32    118.99.64.211  \n",
       "33    118.99.64.211  \n",
       "34    118.99.64.211  \n",
       "35    118.99.64.211  \n",
       "36   180.242.232.29  \n",
       "62   180.242.232.29  \n",
       "53   180.242.232.29  \n",
       "45   180.242.232.29  \n",
       "64   180.242.232.29  \n",
       "65   180.242.232.29  \n",
       "66   180.242.232.29  \n",
       "70   180.242.232.29  \n",
       "71   180.242.232.29  \n",
       "75   180.242.232.29  \n",
       "96   180.242.232.29  \n",
       "136  180.242.232.29  \n",
       "232  180.242.232.29  \n",
       "216  180.242.232.29  "
      ]
     },
     "metadata": {},
     "output_type": "display_data"
    },
    {
     "data": {
      "text/plain": [
       "(197, 6)"
      ]
     },
     "execution_count": 140,
     "metadata": {},
     "output_type": "execute_result"
    }
   ],
   "source": [
    "merge_bubble = df_salesv2.merge(df_salesv1, on='order_id', how='inner').sort_values(by='order_id')\n",
    "merge_bubble.drop_duplicates(inplace=True)\n",
    "display(merge_bubble.head(50))\n",
    "merge_bubble.shape"
   ]
  },
  {
   "cell_type": "code",
   "execution_count": 143,
   "id": "8f42ab63",
   "metadata": {},
   "outputs": [
    {
     "data": {
      "application/vnd.plotly.v1+json": {
       "config": {
        "plotlyServerURL": "https://plot.ly"
       },
       "data": [
        {
         "hoverinfo": "text",
         "hovertext": [
          "DUSHI Jonah flat - Sandal wanita teplek<br>Total Sales: 25",
          "Atasan Knit Wanita<br>Total Sales: 10",
          "Celana Cargo Pendek Anak Laki-Laki Bahan Dusky Crinkle/Parasut<br>Total Sales: 9",
          "This Is April Atasan Kemeja Lengan Panjang<br>Total Sales: 8",
          "AMOENE [MADE] Long Strap Dress Navy<br>Total Sales: 8"
         ],
         "marker": {
          "color": {
           "bdata": "AAAAAAAAOUAAAAAAAAAkQAAAAAAAACJAAAAAAAAAIEAAAAAAAAAgQA==",
           "dtype": "f8"
          },
          "colorscale": [
           [
            0,
            "#440154"
           ],
           [
            0.1111111111111111,
            "#482878"
           ],
           [
            0.2222222222222222,
            "#3e4989"
           ],
           [
            0.3333333333333333,
            "#31688e"
           ],
           [
            0.4444444444444444,
            "#26828e"
           ],
           [
            0.5555555555555556,
            "#1f9e89"
           ],
           [
            0.6666666666666666,
            "#35b779"
           ],
           [
            0.7777777777777778,
            "#6ece58"
           ],
           [
            0.8888888888888888,
            "#b5de2b"
           ],
           [
            1,
            "#fde725"
           ]
          ],
          "line": {
           "color": "DarkSlateGrey",
           "width": 2
          },
          "opacity": 0.7,
          "showscale": true,
          "size": {
           "bdata": "AAAAAACAYUAAAAAAAABUQAAAAAAAAFNAAAAAAAAAUkAAAAAAAABSQA==",
           "dtype": "f8"
          },
          "sizemode": "diameter"
         },
         "mode": "markers+text",
         "type": "scatter",
         "x": [
          -0.14943468953412403,
          0.7806808888271141,
          -0.44776964880332176,
          -0.9851287589745311,
          0.801652208484863
         ],
         "y": [
          0.9557774427776483,
          -0.6069043910388772,
          -1,
          0.18887273398885188,
          0.462254214272377
         ]
        }
       ],
       "layout": {
        "annotations": [
         {
          "align": "center",
          "bgcolor": "white",
          "bordercolor": "gray",
          "borderpad": 4,
          "borderwidth": 1,
          "font": {
           "color": "black",
           "family": "Arial",
           "size": 12
          },
          "opacity": 0.8,
          "showarrow": false,
          "text": "DUSHI Jonah flat -<br>Sandal wanita teplek<br><b>25</b>",
          "x": -0.14943468953412403,
          "xanchor": "center",
          "y": 0.9557774427776483,
          "yanchor": "middle"
         },
         {
          "align": "center",
          "bgcolor": "white",
          "bordercolor": "gray",
          "borderpad": 4,
          "borderwidth": 1,
          "font": {
           "color": "black",
           "family": "Arial",
           "size": 12
          },
          "opacity": 0.8,
          "showarrow": false,
          "text": "Atasan Knit Wanita<br><b>10</b>",
          "x": 0.7806808888271141,
          "xanchor": "center",
          "y": -0.6069043910388772,
          "yanchor": "middle"
         },
         {
          "align": "center",
          "bgcolor": "white",
          "bordercolor": "gray",
          "borderpad": 4,
          "borderwidth": 1,
          "font": {
           "color": "black",
           "family": "Arial",
           "size": 12
          },
          "opacity": 0.8,
          "showarrow": false,
          "text": "Celana Cargo Pendek Anak<br>Laki-Laki Bahan Dusky Crinkle/Parasut<br><b>9</b>",
          "x": -0.44776964880332176,
          "xanchor": "center",
          "y": -1,
          "yanchor": "middle"
         },
         {
          "align": "center",
          "bgcolor": "white",
          "bordercolor": "gray",
          "borderpad": 4,
          "borderwidth": 1,
          "font": {
           "color": "black",
           "family": "Arial",
           "size": 12
          },
          "opacity": 0.8,
          "showarrow": false,
          "text": "This Is April Atasan<br>Kemeja Lengan Panjang<br><b>8</b>",
          "x": -0.9851287589745311,
          "xanchor": "center",
          "y": 0.18887273398885188,
          "yanchor": "middle"
         },
         {
          "align": "center",
          "bgcolor": "white",
          "bordercolor": "gray",
          "borderpad": 4,
          "borderwidth": 1,
          "font": {
           "color": "black",
           "family": "Arial",
           "size": 12
          },
          "opacity": 0.8,
          "showarrow": false,
          "text": "AMOENE [MADE] Long Strap<br>Dress Navy<br><b>8</b>",
          "x": 0.801652208484863,
          "xanchor": "center",
          "y": 0.462254214272377,
          "yanchor": "middle"
         }
        ],
        "height": 600,
        "margin": {
         "b": 20,
         "l": 20,
         "r": 20,
         "t": 60
        },
        "plot_bgcolor": "white",
        "template": {
         "data": {
          "bar": [
           {
            "error_x": {
             "color": "#2a3f5f"
            },
            "error_y": {
             "color": "#2a3f5f"
            },
            "marker": {
             "line": {
              "color": "#E5ECF6",
              "width": 0.5
             },
             "pattern": {
              "fillmode": "overlay",
              "size": 10,
              "solidity": 0.2
             }
            },
            "type": "bar"
           }
          ],
          "barpolar": [
           {
            "marker": {
             "line": {
              "color": "#E5ECF6",
              "width": 0.5
             },
             "pattern": {
              "fillmode": "overlay",
              "size": 10,
              "solidity": 0.2
             }
            },
            "type": "barpolar"
           }
          ],
          "carpet": [
           {
            "aaxis": {
             "endlinecolor": "#2a3f5f",
             "gridcolor": "white",
             "linecolor": "white",
             "minorgridcolor": "white",
             "startlinecolor": "#2a3f5f"
            },
            "baxis": {
             "endlinecolor": "#2a3f5f",
             "gridcolor": "white",
             "linecolor": "white",
             "minorgridcolor": "white",
             "startlinecolor": "#2a3f5f"
            },
            "type": "carpet"
           }
          ],
          "choropleth": [
           {
            "colorbar": {
             "outlinewidth": 0,
             "ticks": ""
            },
            "type": "choropleth"
           }
          ],
          "contour": [
           {
            "colorbar": {
             "outlinewidth": 0,
             "ticks": ""
            },
            "colorscale": [
             [
              0,
              "#0d0887"
             ],
             [
              0.1111111111111111,
              "#46039f"
             ],
             [
              0.2222222222222222,
              "#7201a8"
             ],
             [
              0.3333333333333333,
              "#9c179e"
             ],
             [
              0.4444444444444444,
              "#bd3786"
             ],
             [
              0.5555555555555556,
              "#d8576b"
             ],
             [
              0.6666666666666666,
              "#ed7953"
             ],
             [
              0.7777777777777778,
              "#fb9f3a"
             ],
             [
              0.8888888888888888,
              "#fdca26"
             ],
             [
              1,
              "#f0f921"
             ]
            ],
            "type": "contour"
           }
          ],
          "contourcarpet": [
           {
            "colorbar": {
             "outlinewidth": 0,
             "ticks": ""
            },
            "type": "contourcarpet"
           }
          ],
          "heatmap": [
           {
            "colorbar": {
             "outlinewidth": 0,
             "ticks": ""
            },
            "colorscale": [
             [
              0,
              "#0d0887"
             ],
             [
              0.1111111111111111,
              "#46039f"
             ],
             [
              0.2222222222222222,
              "#7201a8"
             ],
             [
              0.3333333333333333,
              "#9c179e"
             ],
             [
              0.4444444444444444,
              "#bd3786"
             ],
             [
              0.5555555555555556,
              "#d8576b"
             ],
             [
              0.6666666666666666,
              "#ed7953"
             ],
             [
              0.7777777777777778,
              "#fb9f3a"
             ],
             [
              0.8888888888888888,
              "#fdca26"
             ],
             [
              1,
              "#f0f921"
             ]
            ],
            "type": "heatmap"
           }
          ],
          "histogram": [
           {
            "marker": {
             "pattern": {
              "fillmode": "overlay",
              "size": 10,
              "solidity": 0.2
             }
            },
            "type": "histogram"
           }
          ],
          "histogram2d": [
           {
            "colorbar": {
             "outlinewidth": 0,
             "ticks": ""
            },
            "colorscale": [
             [
              0,
              "#0d0887"
             ],
             [
              0.1111111111111111,
              "#46039f"
             ],
             [
              0.2222222222222222,
              "#7201a8"
             ],
             [
              0.3333333333333333,
              "#9c179e"
             ],
             [
              0.4444444444444444,
              "#bd3786"
             ],
             [
              0.5555555555555556,
              "#d8576b"
             ],
             [
              0.6666666666666666,
              "#ed7953"
             ],
             [
              0.7777777777777778,
              "#fb9f3a"
             ],
             [
              0.8888888888888888,
              "#fdca26"
             ],
             [
              1,
              "#f0f921"
             ]
            ],
            "type": "histogram2d"
           }
          ],
          "histogram2dcontour": [
           {
            "colorbar": {
             "outlinewidth": 0,
             "ticks": ""
            },
            "colorscale": [
             [
              0,
              "#0d0887"
             ],
             [
              0.1111111111111111,
              "#46039f"
             ],
             [
              0.2222222222222222,
              "#7201a8"
             ],
             [
              0.3333333333333333,
              "#9c179e"
             ],
             [
              0.4444444444444444,
              "#bd3786"
             ],
             [
              0.5555555555555556,
              "#d8576b"
             ],
             [
              0.6666666666666666,
              "#ed7953"
             ],
             [
              0.7777777777777778,
              "#fb9f3a"
             ],
             [
              0.8888888888888888,
              "#fdca26"
             ],
             [
              1,
              "#f0f921"
             ]
            ],
            "type": "histogram2dcontour"
           }
          ],
          "mesh3d": [
           {
            "colorbar": {
             "outlinewidth": 0,
             "ticks": ""
            },
            "type": "mesh3d"
           }
          ],
          "parcoords": [
           {
            "line": {
             "colorbar": {
              "outlinewidth": 0,
              "ticks": ""
             }
            },
            "type": "parcoords"
           }
          ],
          "pie": [
           {
            "automargin": true,
            "type": "pie"
           }
          ],
          "scatter": [
           {
            "fillpattern": {
             "fillmode": "overlay",
             "size": 10,
             "solidity": 0.2
            },
            "type": "scatter"
           }
          ],
          "scatter3d": [
           {
            "line": {
             "colorbar": {
              "outlinewidth": 0,
              "ticks": ""
             }
            },
            "marker": {
             "colorbar": {
              "outlinewidth": 0,
              "ticks": ""
             }
            },
            "type": "scatter3d"
           }
          ],
          "scattercarpet": [
           {
            "marker": {
             "colorbar": {
              "outlinewidth": 0,
              "ticks": ""
             }
            },
            "type": "scattercarpet"
           }
          ],
          "scattergeo": [
           {
            "marker": {
             "colorbar": {
              "outlinewidth": 0,
              "ticks": ""
             }
            },
            "type": "scattergeo"
           }
          ],
          "scattergl": [
           {
            "marker": {
             "colorbar": {
              "outlinewidth": 0,
              "ticks": ""
             }
            },
            "type": "scattergl"
           }
          ],
          "scattermap": [
           {
            "marker": {
             "colorbar": {
              "outlinewidth": 0,
              "ticks": ""
             }
            },
            "type": "scattermap"
           }
          ],
          "scattermapbox": [
           {
            "marker": {
             "colorbar": {
              "outlinewidth": 0,
              "ticks": ""
             }
            },
            "type": "scattermapbox"
           }
          ],
          "scatterpolar": [
           {
            "marker": {
             "colorbar": {
              "outlinewidth": 0,
              "ticks": ""
             }
            },
            "type": "scatterpolar"
           }
          ],
          "scatterpolargl": [
           {
            "marker": {
             "colorbar": {
              "outlinewidth": 0,
              "ticks": ""
             }
            },
            "type": "scatterpolargl"
           }
          ],
          "scatterternary": [
           {
            "marker": {
             "colorbar": {
              "outlinewidth": 0,
              "ticks": ""
             }
            },
            "type": "scatterternary"
           }
          ],
          "surface": [
           {
            "colorbar": {
             "outlinewidth": 0,
             "ticks": ""
            },
            "colorscale": [
             [
              0,
              "#0d0887"
             ],
             [
              0.1111111111111111,
              "#46039f"
             ],
             [
              0.2222222222222222,
              "#7201a8"
             ],
             [
              0.3333333333333333,
              "#9c179e"
             ],
             [
              0.4444444444444444,
              "#bd3786"
             ],
             [
              0.5555555555555556,
              "#d8576b"
             ],
             [
              0.6666666666666666,
              "#ed7953"
             ],
             [
              0.7777777777777778,
              "#fb9f3a"
             ],
             [
              0.8888888888888888,
              "#fdca26"
             ],
             [
              1,
              "#f0f921"
             ]
            ],
            "type": "surface"
           }
          ],
          "table": [
           {
            "cells": {
             "fill": {
              "color": "#EBF0F8"
             },
             "line": {
              "color": "white"
             }
            },
            "header": {
             "fill": {
              "color": "#C8D4E3"
             },
             "line": {
              "color": "white"
             }
            },
            "type": "table"
           }
          ]
         },
         "layout": {
          "annotationdefaults": {
           "arrowcolor": "#2a3f5f",
           "arrowhead": 0,
           "arrowwidth": 1
          },
          "autotypenumbers": "strict",
          "coloraxis": {
           "colorbar": {
            "outlinewidth": 0,
            "ticks": ""
           }
          },
          "colorscale": {
           "diverging": [
            [
             0,
             "#8e0152"
            ],
            [
             0.1,
             "#c51b7d"
            ],
            [
             0.2,
             "#de77ae"
            ],
            [
             0.3,
             "#f1b6da"
            ],
            [
             0.4,
             "#fde0ef"
            ],
            [
             0.5,
             "#f7f7f7"
            ],
            [
             0.6,
             "#e6f5d0"
            ],
            [
             0.7,
             "#b8e186"
            ],
            [
             0.8,
             "#7fbc41"
            ],
            [
             0.9,
             "#4d9221"
            ],
            [
             1,
             "#276419"
            ]
           ],
           "sequential": [
            [
             0,
             "#0d0887"
            ],
            [
             0.1111111111111111,
             "#46039f"
            ],
            [
             0.2222222222222222,
             "#7201a8"
            ],
            [
             0.3333333333333333,
             "#9c179e"
            ],
            [
             0.4444444444444444,
             "#bd3786"
            ],
            [
             0.5555555555555556,
             "#d8576b"
            ],
            [
             0.6666666666666666,
             "#ed7953"
            ],
            [
             0.7777777777777778,
             "#fb9f3a"
            ],
            [
             0.8888888888888888,
             "#fdca26"
            ],
            [
             1,
             "#f0f921"
            ]
           ],
           "sequentialminus": [
            [
             0,
             "#0d0887"
            ],
            [
             0.1111111111111111,
             "#46039f"
            ],
            [
             0.2222222222222222,
             "#7201a8"
            ],
            [
             0.3333333333333333,
             "#9c179e"
            ],
            [
             0.4444444444444444,
             "#bd3786"
            ],
            [
             0.5555555555555556,
             "#d8576b"
            ],
            [
             0.6666666666666666,
             "#ed7953"
            ],
            [
             0.7777777777777778,
             "#fb9f3a"
            ],
            [
             0.8888888888888888,
             "#fdca26"
            ],
            [
             1,
             "#f0f921"
            ]
           ]
          },
          "colorway": [
           "#636efa",
           "#EF553B",
           "#00cc96",
           "#ab63fa",
           "#FFA15A",
           "#19d3f3",
           "#FF6692",
           "#B6E880",
           "#FF97FF",
           "#FECB52"
          ],
          "font": {
           "color": "#2a3f5f"
          },
          "geo": {
           "bgcolor": "white",
           "lakecolor": "white",
           "landcolor": "#E5ECF6",
           "showlakes": true,
           "showland": true,
           "subunitcolor": "white"
          },
          "hoverlabel": {
           "align": "left"
          },
          "hovermode": "closest",
          "mapbox": {
           "style": "light"
          },
          "paper_bgcolor": "white",
          "plot_bgcolor": "#E5ECF6",
          "polar": {
           "angularaxis": {
            "gridcolor": "white",
            "linecolor": "white",
            "ticks": ""
           },
           "bgcolor": "#E5ECF6",
           "radialaxis": {
            "gridcolor": "white",
            "linecolor": "white",
            "ticks": ""
           }
          },
          "scene": {
           "xaxis": {
            "backgroundcolor": "#E5ECF6",
            "gridcolor": "white",
            "gridwidth": 2,
            "linecolor": "white",
            "showbackground": true,
            "ticks": "",
            "zerolinecolor": "white"
           },
           "yaxis": {
            "backgroundcolor": "#E5ECF6",
            "gridcolor": "white",
            "gridwidth": 2,
            "linecolor": "white",
            "showbackground": true,
            "ticks": "",
            "zerolinecolor": "white"
           },
           "zaxis": {
            "backgroundcolor": "#E5ECF6",
            "gridcolor": "white",
            "gridwidth": 2,
            "linecolor": "white",
            "showbackground": true,
            "ticks": "",
            "zerolinecolor": "white"
           }
          },
          "shapedefaults": {
           "line": {
            "color": "#2a3f5f"
           }
          },
          "ternary": {
           "aaxis": {
            "gridcolor": "white",
            "linecolor": "white",
            "ticks": ""
           },
           "baxis": {
            "gridcolor": "white",
            "linecolor": "white",
            "ticks": ""
           },
           "bgcolor": "#E5ECF6",
           "caxis": {
            "gridcolor": "white",
            "linecolor": "white",
            "ticks": ""
           }
          },
          "title": {
           "x": 0.05
          },
          "xaxis": {
           "automargin": true,
           "gridcolor": "white",
           "linecolor": "white",
           "ticks": "",
           "title": {
            "standoff": 15
           },
           "zerolinecolor": "white",
           "zerolinewidth": 2
          },
          "yaxis": {
           "automargin": true,
           "gridcolor": "white",
           "linecolor": "white",
           "ticks": "",
           "title": {
            "standoff": 15
           },
           "zerolinecolor": "white",
           "zerolinewidth": 2
          }
         }
        },
        "title": {
         "text": "Bubble Cloud Chart: Top 5 Produk by Total Penjualan"
        },
        "width": 800,
        "xaxis": {
         "showgrid": false,
         "showticklabels": false,
         "zeroline": false
        },
        "yaxis": {
         "showgrid": false,
         "showticklabels": false,
         "zeroline": false
        }
       }
      }
     },
     "metadata": {},
     "output_type": "display_data"
    }
   ],
   "source": [
    "df_final = merge_bubble[['product_id', 'order_item_name', 'total_sales']].copy()\n",
    "df_final.columns = ['id', 'order_item_name', 'total_sales']\n",
    "df_final = df_final.drop_duplicates(subset=['id'], keep='first')\n",
    "\n",
    "# Ambil 5 produk teratas\n",
    "df_top5 = df_final.sort_values('total_sales', ascending=False).head(5)\n",
    "\n",
    "# Scaling ukuran bubble\n",
    "sizes = (df_top5['total_sales'] / df_top5['total_sales'].max()) * 100 + 40  \n",
    "\n",
    "# Atur posisi bubble: Buat graph kosong dan layout spring (bubble cloud)\n",
    "G = nx.Graph()\n",
    "for i in range(len(df_top5)):\n",
    "    G.add_node(i)\n",
    "\n",
    "pos = nx.spring_layout(G, k=0.5, seed=42)  # posisi node dengan spring layout\n",
    "\n",
    "x_pos = [pos[i][0] for i in range(len(df_top5))]\n",
    "y_pos = [pos[i][1] for i in range(len(df_top5))]\n",
    "\n",
    "# Fungsi untuk memformat teks agar setiap baris memiliki maksimal `max_words` kata\n",
    "def wrap_text(text, max_words=4): \n",
    "    words = text.split()\n",
    "    return \"<br>\".join([\" \".join(words[i:i+max_words]) for i in range(0, len(words), max_words)])\n",
    "\n",
    "# Buat figure Plotly\n",
    "fig = go.Figure()\n",
    "\n",
    "fig.add_trace(go.Scatter(\n",
    "    x=x_pos,\n",
    "    y=y_pos,\n",
    "    mode='markers+text',\n",
    "    marker=dict(\n",
    "        size=sizes,\n",
    "        color=df_top5['total_sales'],\n",
    "        colorscale='Viridis',\n",
    "        showscale=True,\n",
    "        line=dict(width=2, color='DarkSlateGrey'),\n",
    "        sizemode='diameter',\n",
    "        opacity=0.7,\n",
    "    ),\n",
    "    hoverinfo='text',\n",
    "    hovertext=[f\"{name}<br>Total Sales: {total:,.0f}\" for name, total in zip(df_top5['order_item_name'], df_top5['total_sales'])]\n",
    "))\n",
    "\n",
    "annotations = []\n",
    "for x, y, name, total in zip(x_pos, y_pos, df_top5['order_item_name'], df_top5['total_sales']):\n",
    "    wrapped_text = wrap_text(name)\n",
    "    full_text = f\"{wrapped_text}<br><b>{int(total):,}</b>\"\n",
    "    annotations.append(dict(\n",
    "        x=x,\n",
    "        y=y,\n",
    "        text=full_text,\n",
    "        showarrow=False, # Tidak menampilkan panah anotasi\n",
    "        font=dict(\n",
    "            color=\"black\",\n",
    "            size=12,\n",
    "            family=\"Arial\"\n",
    "        ),\n",
    "        align=\"center\",\n",
    "        xanchor=\"center\",\n",
    "        yanchor=\"middle\",\n",
    "        bgcolor=\"white\",\n",
    "        bordercolor=\"gray\",\n",
    "        borderwidth=1,\n",
    "        borderpad=4,\n",
    "        opacity=0.8\n",
    "    ))\n",
    "\n",
    "fig.update_layout(annotations=annotations) # Menambahkan anotasi ke dalam layout grafik\n",
    "\n",
    "fig.update_layout(\n",
    "    title=\"Bubble Cloud Chart: Top 5 Produk by Total Penjualan\",\n",
    "    xaxis=dict(showgrid=False, zeroline=False, showticklabels=False),\n",
    "    yaxis=dict(showgrid=False, zeroline=False, showticklabels=False),\n",
    "    plot_bgcolor='white',\n",
    "    height=600,\n",
    "    width=800,\n",
    "    margin=dict(l=20, r=20, t=60, b=20)\n",
    ")\n",
    "\n",
    "fig.show()"
   ]
  }
 ],
 "metadata": {
  "kernelspec": {
   "display_name": "mlp_env",
   "language": "python",
   "name": "python3"
  },
  "language_info": {
   "codemirror_mode": {
    "name": "ipython",
    "version": 3
   },
   "file_extension": ".py",
   "mimetype": "text/x-python",
   "name": "python",
   "nbconvert_exporter": "python",
   "pygments_lexer": "ipython3",
   "version": "3.12.9"
  }
 },
 "nbformat": 4,
 "nbformat_minor": 5
}
